{
 "cells": [
  {
   "cell_type": "markdown",
   "source": [
    "В этом ноутбуке я сделал все шаги пайплайна в ручную что бы узнать какие есть ошибки и оценить модель в целом"
   ],
   "metadata": {
    "collapsed": false
   }
  },
  {
   "cell_type": "code",
   "outputs": [],
   "source": [
    "import dill\n",
    "import pandas as pd\n",
    "import hashlib\n",
    "import math\n",
    "\n",
    "from datetime import datetime\n",
    "from sklearn.ensemble import RandomForestClassifier\n",
    "from sklearn.linear_model import LogisticRegression\n",
    "from sklearn.model_selection import cross_val_score\n",
    "from sklearn.preprocessing import OneHotEncoder\n",
    "from sklearn.preprocessing import StandardScaler"
   ],
   "metadata": {
    "collapsed": false,
    "ExecuteTime": {
     "end_time": "2024-02-25T11:38:31.937600300Z",
     "start_time": "2024-02-25T11:38:28.982333700Z"
    }
   },
   "execution_count": 1
  },
  {
   "cell_type": "code",
   "outputs": [],
   "source": [
    "df = pd.read_csv('final_data', low_memory=False)\n",
    "df = pd.DataFrame(df)"
   ],
   "metadata": {
    "collapsed": false,
    "ExecuteTime": {
     "end_time": "2024-02-25T11:38:34.524112600Z",
     "start_time": "2024-02-25T11:38:31.938602900Z"
    }
   },
   "execution_count": 2
  },
  {
   "cell_type": "markdown",
   "source": [
    "Работа с колонками"
   ],
   "metadata": {
    "collapsed": false
   }
  },
  {
   "cell_type": "code",
   "outputs": [],
   "source": [
    "def process_screen_resolution(df, resolution_column='device_screen_resolution'):\n",
    "    # Делим разрешение экрана на x и y\n",
    "    df[['x_pixel', 'y_pixel']] = df[resolution_column].str.split('x', expand=True)\n",
    "    df['x_pixel'] = pd.to_numeric(df['x_pixel'])\n",
    "    df['y_pixel'] = pd.to_numeric(df['y_pixel'])\n",
    "\n",
    "    # Логарифмируем значения\n",
    "    df['log_pixel'] = df['x_pixel'] * df['y_pixel']\n",
    "    df['log_pixel'] = df['log_pixel'].apply(lambda x: math.log(x))\n",
    "    df['x_pixel'] = df['x_pixel'].apply(lambda x: min(x, 2500))\n",
    "    df['y_pixel'] = df['y_pixel'].apply(lambda x: min(x, 2000))\n",
    "\n",
    "    # Обработка выбросов\n",
    "    mx = df['x_pixel'].median()\n",
    "    my = df['y_pixel'].median()\n",
    "    zero_pixel_rows = df['log_pixel'] == 0\n",
    "    df.loc[zero_pixel_rows, 'log_pixel'] = math.log(mx * my)\n",
    "    df.loc[zero_pixel_rows, 'x_pixel'] = mx\n",
    "    df.loc[zero_pixel_rows, 'y_pixel'] = my\n",
    "\n",
    "    # Умножаем x на y и заменяем значения в 'device_screen_resolution'\n",
    "    df[resolution_column] = df['x_pixel'].astype(str) + 'x' + df['y_pixel'].astype(str)\n",
    "\n",
    "    return df"
   ],
   "metadata": {
    "collapsed": false,
    "ExecuteTime": {
     "end_time": "2024-02-25T11:45:28.025566500Z",
     "start_time": "2024-02-25T11:45:28.004799500Z"
    }
   },
   "execution_count": 6
  },
  {
   "cell_type": "code",
   "outputs": [],
   "source": [
    "df = process_screen_resolution(df)"
   ],
   "metadata": {
    "collapsed": false,
    "ExecuteTime": {
     "end_time": "2024-02-25T11:45:30.688136600Z",
     "start_time": "2024-02-25T11:45:28.753766300Z"
    }
   },
   "execution_count": 7
  },
  {
   "cell_type": "code",
   "outputs": [
    {
     "data": {
      "text/plain": "                                       session_id     client_id  visit_date  \\\n0        861567602239642895.1635425553.1635425553  2.005993e+08  2021-10-28   \n1       8703059496721564670.1630389395.1630389395  2.026339e+09  2021-08-31   \n2       5366140572278903224.1635701148.1635701148  1.249402e+09  2021-10-31   \n3       5354870681162512304.1624802278.1624802278  1.246778e+09  2021-06-27   \n4        325238689346041728.1638872959.1638872959  7.572553e+07  2021-12-07   \n...                                           ...           ...         ...   \n434912  6944657193759066052.1625213471.1625213471  1.616929e+09  2021-07-02   \n434913   998273288816685235.1622012085.1622012085  2.324286e+08  2021-05-26   \n434914  5699137684613566500.1634668580.1634668678  1.326934e+09  2021-10-19   \n434915  8680929029191131182.1632657455.1632657455  2.021186e+09  2021-09-26   \n434916  4140795078561295087.1632955121.1632955121  9.641040e+08  2021-09-30   \n\n       visit_time  visit_number            utm_source utm_medium  \\\n0        15:52:33             1  BHcvLfOaCWvWTykYqHVe        cpc   \n1        08:00:00             1  MvfHsxITijuriZxsqZqt        cpm   \n2        20:25:48             1  ZpYIoDJMcFzVoPFsHGJL     banner   \n3        16:00:00             2  fDLlAcSmythWSCVMvqvL     (none)   \n4        13:29:19             1  ZpYIoDJMcFzVoPFsHGJL     banner   \n...           ...           ...                   ...        ...   \n434912   11:00:00             4  kjsLglQLzykiRbcDiGcD        cpc   \n434913   09:00:00             1  fDLlAcSmythWSCVMvqvL     (none)   \n434914   21:00:00             1  bByPQxmDaMXgpHeypKSM   referral   \n434915   14:00:00             1  RmEBuqrriAfAVsLQQmhk        cpc   \n434916   01:00:00             1  ZpYIoDJMcFzVoPFsHGJL     banner   \n\n                utm_campaign         utm_adcontent           utm_keyword  ...  \\\n0       LTuZkdKfxRGVceoWkVyg  JNHcPlZPxEMWDnRiyoBf  UbQpozKfTgYxQovHjkQM  ...   \n1       FTjNLDyTrXaWYgZymFkV  dUuXlWzvmhDSyclWRhNP  pHqgLcdBQPSLcrTpLkdr  ...   \n2       gecBYcKZCPMcVYdSSzKP  JNHcPlZPxEMWDnRiyoBf  puhZPIYqKXeFPaUviSjo  ...   \n3       LTuZkdKfxRGVceoWkVyg  JNHcPlZPxEMWDnRiyoBf  puhZPIYqKXeFPaUviSjo  ...   \n4       LEoPHuyFvzoNfnzGgfcd  vCIpmpaGBnIQhyYNkXqp  puhZPIYqKXeFPaUviSjo  ...   \n...                      ...                   ...                   ...  ...   \n434912  XHNUiSKKGTEpSAlaVMFQ  JNHcPlZPxEMWDnRiyoBf  hAmNSZmQkKQKAjZEGlgb  ...   \n434913  LTuZkdKfxRGVceoWkVyg  JNHcPlZPxEMWDnRiyoBf  puhZPIYqKXeFPaUviSjo  ...   \n434914  LTuZkdKfxRGVceoWkVyg  JNHcPlZPxEMWDnRiyoBf  puhZPIYqKXeFPaUviSjo  ...   \n434915  KgicpPxiEQfzPlPwQZJq  JNHcPlZPxEMWDnRiyoBf  puhZPIYqKXeFPaUviSjo  ...   \n434916  gecBYcKZCPMcVYdSSzKP  JNHcPlZPxEMWDnRiyoBf  puhZPIYqKXeFPaUviSjo  ...   \n\n       device_brand          device_model device_screen_resolution  \\\n0           Samsung  AuMdmADEIoPXiWpTsBEj                  412x915   \n1           Samsung  AuMdmADEIoPXiWpTsBEj                  360x640   \n2           Samsung  AuMdmADEIoPXiWpTsBEj                  360x640   \n3           Samsung  AuMdmADEIoPXiWpTsBEj                1920x1080   \n4            Huawei  AuMdmADEIoPXiWpTsBEj                  360x720   \n...             ...                   ...                      ...   \n434912        Apple  AuMdmADEIoPXiWpTsBEj                  390x844   \n434913      Samsung  ZkRlaMsFhSBPslXBtfiG                  412x869   \n434914       Xiaomi  AuMdmADEIoPXiWpTsBEj                  393x873   \n434915         Vivo  AuMdmADEIoPXiWpTsBEj                  393x876   \n434916       Huawei  AuMdmADEIoPXiWpTsBEj                  427x939   \n\n          device_browser geo_country          geo_city target x_pixel  \\\n0                 Chrome      Russia            Moscow      1     412   \n1       Samsung Internet      Russia           Kubinka      1     360   \n2                 Chrome      Russia   Veliky Novgorod      0     360   \n3                 Chrome      Russia             Kirov      0    1920   \n4                 Chrome      Russia           Saransk      0     360   \n...                  ...         ...               ...    ...     ...   \n434912            Chrome      Russia            Khimki      0     390   \n434913            Chrome      Russia            Moscow      0     412   \n434914            Chrome      Russia         Volgograd      0     393   \n434915            Chrome      Russia  Saint Petersburg      0     393   \n434916            Chrome      Russia       Birobidzhan      0     427   \n\n        y_pixel  log_pixel  \n0           915  12.839947  \n1           640  12.347572  \n2           640  12.347572  \n3          1080  14.544797  \n4           720  12.465355  \n...         ...        ...  \n434912      844  12.704299  \n434913      869  12.788366  \n434914      873  12.745745  \n434915      876  12.749176  \n434916      939  12.901599  \n\n[434917 rows x 22 columns]",
      "text/html": "<div>\n<style scoped>\n    .dataframe tbody tr th:only-of-type {\n        vertical-align: middle;\n    }\n\n    .dataframe tbody tr th {\n        vertical-align: top;\n    }\n\n    .dataframe thead th {\n        text-align: right;\n    }\n</style>\n<table border=\"1\" class=\"dataframe\">\n  <thead>\n    <tr style=\"text-align: right;\">\n      <th></th>\n      <th>session_id</th>\n      <th>client_id</th>\n      <th>visit_date</th>\n      <th>visit_time</th>\n      <th>visit_number</th>\n      <th>utm_source</th>\n      <th>utm_medium</th>\n      <th>utm_campaign</th>\n      <th>utm_adcontent</th>\n      <th>utm_keyword</th>\n      <th>...</th>\n      <th>device_brand</th>\n      <th>device_model</th>\n      <th>device_screen_resolution</th>\n      <th>device_browser</th>\n      <th>geo_country</th>\n      <th>geo_city</th>\n      <th>target</th>\n      <th>x_pixel</th>\n      <th>y_pixel</th>\n      <th>log_pixel</th>\n    </tr>\n  </thead>\n  <tbody>\n    <tr>\n      <th>0</th>\n      <td>861567602239642895.1635425553.1635425553</td>\n      <td>2.005993e+08</td>\n      <td>2021-10-28</td>\n      <td>15:52:33</td>\n      <td>1</td>\n      <td>BHcvLfOaCWvWTykYqHVe</td>\n      <td>cpc</td>\n      <td>LTuZkdKfxRGVceoWkVyg</td>\n      <td>JNHcPlZPxEMWDnRiyoBf</td>\n      <td>UbQpozKfTgYxQovHjkQM</td>\n      <td>...</td>\n      <td>Samsung</td>\n      <td>AuMdmADEIoPXiWpTsBEj</td>\n      <td>412x915</td>\n      <td>Chrome</td>\n      <td>Russia</td>\n      <td>Moscow</td>\n      <td>1</td>\n      <td>412</td>\n      <td>915</td>\n      <td>12.839947</td>\n    </tr>\n    <tr>\n      <th>1</th>\n      <td>8703059496721564670.1630389395.1630389395</td>\n      <td>2.026339e+09</td>\n      <td>2021-08-31</td>\n      <td>08:00:00</td>\n      <td>1</td>\n      <td>MvfHsxITijuriZxsqZqt</td>\n      <td>cpm</td>\n      <td>FTjNLDyTrXaWYgZymFkV</td>\n      <td>dUuXlWzvmhDSyclWRhNP</td>\n      <td>pHqgLcdBQPSLcrTpLkdr</td>\n      <td>...</td>\n      <td>Samsung</td>\n      <td>AuMdmADEIoPXiWpTsBEj</td>\n      <td>360x640</td>\n      <td>Samsung Internet</td>\n      <td>Russia</td>\n      <td>Kubinka</td>\n      <td>1</td>\n      <td>360</td>\n      <td>640</td>\n      <td>12.347572</td>\n    </tr>\n    <tr>\n      <th>2</th>\n      <td>5366140572278903224.1635701148.1635701148</td>\n      <td>1.249402e+09</td>\n      <td>2021-10-31</td>\n      <td>20:25:48</td>\n      <td>1</td>\n      <td>ZpYIoDJMcFzVoPFsHGJL</td>\n      <td>banner</td>\n      <td>gecBYcKZCPMcVYdSSzKP</td>\n      <td>JNHcPlZPxEMWDnRiyoBf</td>\n      <td>puhZPIYqKXeFPaUviSjo</td>\n      <td>...</td>\n      <td>Samsung</td>\n      <td>AuMdmADEIoPXiWpTsBEj</td>\n      <td>360x640</td>\n      <td>Chrome</td>\n      <td>Russia</td>\n      <td>Veliky Novgorod</td>\n      <td>0</td>\n      <td>360</td>\n      <td>640</td>\n      <td>12.347572</td>\n    </tr>\n    <tr>\n      <th>3</th>\n      <td>5354870681162512304.1624802278.1624802278</td>\n      <td>1.246778e+09</td>\n      <td>2021-06-27</td>\n      <td>16:00:00</td>\n      <td>2</td>\n      <td>fDLlAcSmythWSCVMvqvL</td>\n      <td>(none)</td>\n      <td>LTuZkdKfxRGVceoWkVyg</td>\n      <td>JNHcPlZPxEMWDnRiyoBf</td>\n      <td>puhZPIYqKXeFPaUviSjo</td>\n      <td>...</td>\n      <td>Samsung</td>\n      <td>AuMdmADEIoPXiWpTsBEj</td>\n      <td>1920x1080</td>\n      <td>Chrome</td>\n      <td>Russia</td>\n      <td>Kirov</td>\n      <td>0</td>\n      <td>1920</td>\n      <td>1080</td>\n      <td>14.544797</td>\n    </tr>\n    <tr>\n      <th>4</th>\n      <td>325238689346041728.1638872959.1638872959</td>\n      <td>7.572553e+07</td>\n      <td>2021-12-07</td>\n      <td>13:29:19</td>\n      <td>1</td>\n      <td>ZpYIoDJMcFzVoPFsHGJL</td>\n      <td>banner</td>\n      <td>LEoPHuyFvzoNfnzGgfcd</td>\n      <td>vCIpmpaGBnIQhyYNkXqp</td>\n      <td>puhZPIYqKXeFPaUviSjo</td>\n      <td>...</td>\n      <td>Huawei</td>\n      <td>AuMdmADEIoPXiWpTsBEj</td>\n      <td>360x720</td>\n      <td>Chrome</td>\n      <td>Russia</td>\n      <td>Saransk</td>\n      <td>0</td>\n      <td>360</td>\n      <td>720</td>\n      <td>12.465355</td>\n    </tr>\n    <tr>\n      <th>...</th>\n      <td>...</td>\n      <td>...</td>\n      <td>...</td>\n      <td>...</td>\n      <td>...</td>\n      <td>...</td>\n      <td>...</td>\n      <td>...</td>\n      <td>...</td>\n      <td>...</td>\n      <td>...</td>\n      <td>...</td>\n      <td>...</td>\n      <td>...</td>\n      <td>...</td>\n      <td>...</td>\n      <td>...</td>\n      <td>...</td>\n      <td>...</td>\n      <td>...</td>\n      <td>...</td>\n    </tr>\n    <tr>\n      <th>434912</th>\n      <td>6944657193759066052.1625213471.1625213471</td>\n      <td>1.616929e+09</td>\n      <td>2021-07-02</td>\n      <td>11:00:00</td>\n      <td>4</td>\n      <td>kjsLglQLzykiRbcDiGcD</td>\n      <td>cpc</td>\n      <td>XHNUiSKKGTEpSAlaVMFQ</td>\n      <td>JNHcPlZPxEMWDnRiyoBf</td>\n      <td>hAmNSZmQkKQKAjZEGlgb</td>\n      <td>...</td>\n      <td>Apple</td>\n      <td>AuMdmADEIoPXiWpTsBEj</td>\n      <td>390x844</td>\n      <td>Chrome</td>\n      <td>Russia</td>\n      <td>Khimki</td>\n      <td>0</td>\n      <td>390</td>\n      <td>844</td>\n      <td>12.704299</td>\n    </tr>\n    <tr>\n      <th>434913</th>\n      <td>998273288816685235.1622012085.1622012085</td>\n      <td>2.324286e+08</td>\n      <td>2021-05-26</td>\n      <td>09:00:00</td>\n      <td>1</td>\n      <td>fDLlAcSmythWSCVMvqvL</td>\n      <td>(none)</td>\n      <td>LTuZkdKfxRGVceoWkVyg</td>\n      <td>JNHcPlZPxEMWDnRiyoBf</td>\n      <td>puhZPIYqKXeFPaUviSjo</td>\n      <td>...</td>\n      <td>Samsung</td>\n      <td>ZkRlaMsFhSBPslXBtfiG</td>\n      <td>412x869</td>\n      <td>Chrome</td>\n      <td>Russia</td>\n      <td>Moscow</td>\n      <td>0</td>\n      <td>412</td>\n      <td>869</td>\n      <td>12.788366</td>\n    </tr>\n    <tr>\n      <th>434914</th>\n      <td>5699137684613566500.1634668580.1634668678</td>\n      <td>1.326934e+09</td>\n      <td>2021-10-19</td>\n      <td>21:00:00</td>\n      <td>1</td>\n      <td>bByPQxmDaMXgpHeypKSM</td>\n      <td>referral</td>\n      <td>LTuZkdKfxRGVceoWkVyg</td>\n      <td>JNHcPlZPxEMWDnRiyoBf</td>\n      <td>puhZPIYqKXeFPaUviSjo</td>\n      <td>...</td>\n      <td>Xiaomi</td>\n      <td>AuMdmADEIoPXiWpTsBEj</td>\n      <td>393x873</td>\n      <td>Chrome</td>\n      <td>Russia</td>\n      <td>Volgograd</td>\n      <td>0</td>\n      <td>393</td>\n      <td>873</td>\n      <td>12.745745</td>\n    </tr>\n    <tr>\n      <th>434915</th>\n      <td>8680929029191131182.1632657455.1632657455</td>\n      <td>2.021186e+09</td>\n      <td>2021-09-26</td>\n      <td>14:00:00</td>\n      <td>1</td>\n      <td>RmEBuqrriAfAVsLQQmhk</td>\n      <td>cpc</td>\n      <td>KgicpPxiEQfzPlPwQZJq</td>\n      <td>JNHcPlZPxEMWDnRiyoBf</td>\n      <td>puhZPIYqKXeFPaUviSjo</td>\n      <td>...</td>\n      <td>Vivo</td>\n      <td>AuMdmADEIoPXiWpTsBEj</td>\n      <td>393x876</td>\n      <td>Chrome</td>\n      <td>Russia</td>\n      <td>Saint Petersburg</td>\n      <td>0</td>\n      <td>393</td>\n      <td>876</td>\n      <td>12.749176</td>\n    </tr>\n    <tr>\n      <th>434916</th>\n      <td>4140795078561295087.1632955121.1632955121</td>\n      <td>9.641040e+08</td>\n      <td>2021-09-30</td>\n      <td>01:00:00</td>\n      <td>1</td>\n      <td>ZpYIoDJMcFzVoPFsHGJL</td>\n      <td>banner</td>\n      <td>gecBYcKZCPMcVYdSSzKP</td>\n      <td>JNHcPlZPxEMWDnRiyoBf</td>\n      <td>puhZPIYqKXeFPaUviSjo</td>\n      <td>...</td>\n      <td>Huawei</td>\n      <td>AuMdmADEIoPXiWpTsBEj</td>\n      <td>427x939</td>\n      <td>Chrome</td>\n      <td>Russia</td>\n      <td>Birobidzhan</td>\n      <td>0</td>\n      <td>427</td>\n      <td>939</td>\n      <td>12.901599</td>\n    </tr>\n  </tbody>\n</table>\n<p>434917 rows × 22 columns</p>\n</div>"
     },
     "execution_count": 8,
     "metadata": {},
     "output_type": "execute_result"
    }
   ],
   "source": [
    "df"
   ],
   "metadata": {
    "collapsed": false,
    "ExecuteTime": {
     "end_time": "2024-02-25T11:45:36.240135400Z",
     "start_time": "2024-02-25T11:45:35.576373500Z"
    }
   },
   "execution_count": 8
  },
  {
   "cell_type": "code",
   "outputs": [],
   "source": [
    "# На всякий случай создаем копию и работаем с ней\n",
    "df_copy = df.copy()\n",
    "\n",
    "# Разделяем колонку device_screen_resolution на длину и ширину\n",
    "df_copy['width'] = pd.to_numeric(df_copy['device_screen_resolution'].str.split('x').str[0])\n",
    "df_copy['height'] = pd.to_numeric(df_copy['device_screen_resolution'].str.split('x').str[1])\n",
    "\n",
    "# Работаем с колонками visit_date и visit_time и создаем переменные основанные на каждом из цифр(год, месяц, день, час, и минуты) \n",
    "df_copy['datetime'] = pd.to_datetime(df_copy['visit_date'], format='%Y-%m-%d') + \\\n",
    "                 pd.to_timedelta(df_copy['visit_time'])\n",
    "df_copy['year'] = df_copy['datetime'].dt.year\n",
    "df_copy['month'] = df_copy['datetime'].dt.month\n",
    "df_copy['day'] = df_copy['datetime'].dt.day\n",
    "df_copy['hour'] = df_copy['datetime'].dt.hour\n",
    "df_copy['minute'] = df_copy['datetime'].dt.minute\n",
    "\n",
    "# Решаю объеденить колонки Страну и Город через \"/\"\n",
    "df_copy['geo'] = df_copy['geo_country'] + '/' + df_copy['geo_city']\n",
    "\n",
    "# Удаляю ненужные колонки\n",
    "drop_col = ['session_id', 'client_id', 'device_screen_resolution', 'visit_date', 'visit_time', 'datetime', 'geo_country', 'geo_city']\n",
    "\n",
    "df_copy = df_copy.drop(drop_col, axis=1)"
   ],
   "metadata": {
    "collapsed": false,
    "ExecuteTime": {
     "end_time": "2024-02-20T20:59:24.603026Z",
     "start_time": "2024-02-20T20:59:13.972573900Z"
    }
   },
   "execution_count": 25
  },
  {
   "cell_type": "markdown",
   "source": [
    "Разделяю на фичи и целевую переменную"
   ],
   "metadata": {
    "collapsed": false
   }
  },
  {
   "cell_type": "code",
   "outputs": [],
   "source": [
    "X = df_copy.drop('target', axis=1)\n",
    "y = df_copy['target']"
   ],
   "metadata": {
    "collapsed": false,
    "ExecuteTime": {
     "end_time": "2024-02-20T20:59:24.745764200Z",
     "start_time": "2024-02-20T20:59:24.605768500Z"
    }
   },
   "execution_count": 26
  },
  {
   "cell_type": "markdown",
   "source": [
    "Создаю листы с названиями колонок которые нужно преоброзовать"
   ],
   "metadata": {
    "collapsed": false
   }
  },
  {
   "cell_type": "code",
   "outputs": [],
   "source": [
    "scal_columns = ['visit_number', 'width', 'height', 'year', 'month', 'day', 'hour', 'minute']\n",
    "encod_columns = ['utm_medium', 'device_category', 'device_os', 'device_brand', 'device_browser', 'geo']\n",
    "hash_columns = ['utm_source', 'utm_campaign', 'utm_adcontent', 'utm_keyword', 'device_model']"
   ],
   "metadata": {
    "collapsed": false,
    "ExecuteTime": {
     "end_time": "2024-02-20T20:59:24.824996500Z",
     "start_time": "2024-02-20T20:59:24.816729700Z"
    }
   },
   "execution_count": 27
  },
  {
   "cell_type": "markdown",
   "source": [
    "Колонки scal_columns преобразовываю с помощью StandardScaler"
   ],
   "metadata": {
    "collapsed": false
   }
  },
  {
   "cell_type": "code",
   "outputs": [],
   "source": [
    "scaler = StandardScaler()\n",
    "X[scal_columns] = scaler.fit_transform(X[scal_columns])"
   ],
   "metadata": {
    "collapsed": false,
    "ExecuteTime": {
     "end_time": "2024-02-20T20:59:25.329227700Z",
     "start_time": "2024-02-20T20:59:24.824996500Z"
    }
   },
   "execution_count": 28
  },
  {
   "cell_type": "markdown",
   "source": [
    "Колонки hash_columns решаю хешировать, потому что уникальных значении слишком много, и создав дамми я чисто физический не смогу обработать и обучить датафрейм"
   ],
   "metadata": {
    "collapsed": false
   }
  },
  {
   "cell_type": "code",
   "outputs": [
    {
     "name": "stderr",
     "output_type": "stream",
     "text": [
      "C:\\Users\\Акти\\AppData\\Local\\Temp\\ipykernel_13196\\4261181228.py:1: FutureWarning: DataFrame.applymap has been deprecated. Use DataFrame.map instead.\n",
      "  X[hash_columns] = X[hash_columns].applymap(lambda x: hashlib.sha256(x.encode('utf-8')).hexdigest())\n"
     ]
    }
   ],
   "source": [
    "X[hash_columns] = X[hash_columns].applymap(lambda x: hashlib.sha256(x.encode('utf-8')).hexdigest())"
   ],
   "metadata": {
    "collapsed": false,
    "ExecuteTime": {
     "end_time": "2024-02-20T20:59:30.980880Z",
     "start_time": "2024-02-20T20:59:25.330195200Z"
    }
   },
   "execution_count": 29
  },
  {
   "cell_type": "markdown",
   "source": [
    "Колонки encod_columns обрабатываю с помощью OneHotEncoder"
   ],
   "metadata": {
    "collapsed": false
   }
  },
  {
   "cell_type": "code",
   "outputs": [],
   "source": [
    "encoder = OneHotEncoder()\n",
    "X = encoder.fit_transform(X[encod_columns])"
   ],
   "metadata": {
    "collapsed": false,
    "ExecuteTime": {
     "end_time": "2024-02-20T20:59:32.590913800Z",
     "start_time": "2024-02-20T20:59:30.983041500Z"
    }
   },
   "execution_count": 30
  },
  {
   "cell_type": "markdown",
   "source": [
    "Создаю модели машинного обучения Логистической регрессии и Случайных лесов"
   ],
   "metadata": {
    "collapsed": false
   }
  },
  {
   "cell_type": "code",
   "outputs": [],
   "source": [
    "log_reg = LogisticRegression(n_jobs=-1)\n",
    "rfc = RandomForestClassifier(n_jobs=-1)"
   ],
   "metadata": {
    "collapsed": false,
    "ExecuteTime": {
     "end_time": "2024-02-20T20:59:33.006330900Z",
     "start_time": "2024-02-20T20:59:32.760100500Z"
    }
   },
   "execution_count": 31
  },
  {
   "cell_type": "code",
   "outputs": [],
   "source": [
    "log_reg_cvs = cross_val_score(log_reg, X, y, cv=4, scoring='roc_auc')"
   ],
   "metadata": {
    "collapsed": false,
    "ExecuteTime": {
     "end_time": "2024-02-20T20:59:56.814491Z",
     "start_time": "2024-02-20T20:59:33.006330900Z"
    }
   },
   "execution_count": 32
  },
  {
   "cell_type": "code",
   "outputs": [
    {
     "data": {
      "text/plain": "0.6858957058069366"
     },
     "execution_count": 33,
     "metadata": {},
     "output_type": "execute_result"
    }
   ],
   "source": [
    "log_reg_cvs.mean()"
   ],
   "metadata": {
    "collapsed": false,
    "ExecuteTime": {
     "end_time": "2024-02-20T20:59:56.825361400Z",
     "start_time": "2024-02-20T20:59:56.816489200Z"
    }
   },
   "execution_count": 33
  },
  {
   "cell_type": "code",
   "outputs": [],
   "source": [
    "rfc_cvs = cross_val_score(rfc, X, y, cv=4, scoring='roc_auc')"
   ],
   "metadata": {
    "collapsed": false,
    "ExecuteTime": {
     "end_time": "2024-02-20T21:28:54.257016700Z",
     "start_time": "2024-02-20T20:59:56.822360300Z"
    }
   },
   "execution_count": 34
  },
  {
   "cell_type": "code",
   "outputs": [
    {
     "data": {
      "text/plain": "0.748781057137502"
     },
     "execution_count": 35,
     "metadata": {},
     "output_type": "execute_result"
    }
   ],
   "source": [
    "rfc_cvs.mean()"
   ],
   "metadata": {
    "collapsed": false,
    "ExecuteTime": {
     "end_time": "2024-02-20T21:28:54.280076600Z",
     "start_time": "2024-02-20T21:28:54.271741Z"
    }
   },
   "execution_count": 35
  },
  {
   "cell_type": "markdown",
   "source": [
    "В целом показатели не плохие, и время обучения в пределах часа"
   ],
   "metadata": {
    "collapsed": false
   }
  },
  {
   "cell_type": "code",
   "outputs": [],
   "source": [],
   "metadata": {
    "collapsed": false
   }
  }
 ],
 "metadata": {
  "colab": {
   "collapsed_sections": [],
   "name": "13.9 Практическая работа.ipynb",
   "provenance": [
    {
     "file_id": "1tbHQ8255v7HprXiSgWMn8PzOjW7vXUa7",
     "timestamp": 1636358961126
    }
   ]
  },
  "kernelspec": {
   "display_name": "Python 3 (ipykernel)",
   "language": "python",
   "name": "python3"
  },
  "language_info": {
   "codemirror_mode": {
    "name": "ipython",
    "version": 3
   },
   "file_extension": ".py",
   "mimetype": "text/x-python",
   "name": "python",
   "nbconvert_exporter": "python",
   "pygments_lexer": "ipython3",
   "version": "3.11.5"
  },
  "toc": {
   "base_numbering": 1,
   "nav_menu": {},
   "number_sections": true,
   "sideBar": true,
   "skip_h1_title": false,
   "title_cell": "Table of Contents",
   "title_sidebar": "Contents",
   "toc_cell": false,
   "toc_position": {},
   "toc_section_display": true,
   "toc_window_display": false
  }
 },
 "nbformat": 4,
 "nbformat_minor": 1
}
