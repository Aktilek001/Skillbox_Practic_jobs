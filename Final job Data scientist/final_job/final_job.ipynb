{
 "cells": [
  {
   "cell_type": "markdown",
   "source": [
    "План по работе над проектом:\n",
    "* Ознакомление с датафреймом ga_hits и описаниями представленных атрибутов.\n",
    "* Создание целевой переменной.\n",
    "\n",
    "* Ознакомление с датафреймом ga_sessions и описаниями представленных атрибутов.\n",
    "* оценка чистоты и полноты данных.\n",
    "* Оброботка пустых значении.\n",
    "* Проведение базовой чистки (дубликаты, пустые значения, типизация данных, ненужные атрибуты).\n",
    "* Объеденение датафреймов\n",
    "\n",
    "* Создание пайплайна с нужными шагами для корректного обучения модели.\n",
    "* Обучение моделей.\n",
    "* Сравнение моделей."
   ],
   "metadata": {
    "collapsed": false
   },
   "id": "6e53bff2f48f42b4"
  },
  {
   "cell_type": "raw",
   "source": [
    "GA_HITS\n",
    "\n",
    "Описание атрибутов:\n",
    "session_id — ID визита;\n",
    "hit_date — дата события;\n",
    "hit_time — время события;\n",
    "hit_number — порядковый номер события в рамках сессии;\n",
    "hit_type — тип события;\n",
    "hit_referer — источник события;\n",
    "hit_page_path — страница события;\n",
    "event_category — тип действия;\n",
    "event_action — действие;\n",
    "event_label — тег действия;\n",
    "event_value — значение результата действияv"
   ],
   "metadata": {
    "collapsed": false
   },
   "id": "a94068d71613ae99"
  },
  {
   "cell_type": "markdown",
   "source": [
    "Импорт нужных библеотек"
   ],
   "metadata": {
    "collapsed": false
   },
   "id": "f982e0ae1cbfb360"
  },
  {
   "cell_type": "code",
   "outputs": [],
   "source": [
    "import pandas as pd\n",
    "from sklearn.impute import SimpleImputer"
   ],
   "metadata": {
    "collapsed": false,
    "ExecuteTime": {
     "end_time": "2024-02-26T19:10:58.796376600Z",
     "start_time": "2024-02-26T19:10:56.698081300Z"
    }
   },
   "id": "initial_id",
   "execution_count": 1
  },
  {
   "cell_type": "markdown",
   "source": [
    "Первым делом разберемся с целевой переменной, которую нужно взять из файла ga_hits. Напоминание - целевое действие это любое совершенное событие типа \"Оставить заявку\" и \"Заказать звонок\""
   ],
   "metadata": {
    "collapsed": false
   },
   "id": "2e1b1be16c1eb58b"
  },
  {
   "cell_type": "code",
   "outputs": [],
   "source": [
    "data1 = pd.read_csv('ga_hits.csv')"
   ],
   "metadata": {
    "collapsed": false,
    "ExecuteTime": {
     "end_time": "2024-02-26T19:13:05.717135300Z",
     "start_time": "2024-02-26T19:11:00.355067300Z"
    }
   },
   "id": "51af5e08327dc2e2",
   "execution_count": 2
  },
  {
   "cell_type": "code",
   "outputs": [],
   "source": [
    "data1 = pd.DataFrame(data1)\n",
    "df=data1.copy()"
   ],
   "metadata": {
    "collapsed": false,
    "ExecuteTime": {
     "end_time": "2024-02-26T19:13:39.029569400Z",
     "start_time": "2024-02-26T19:13:29.460616600Z"
    }
   },
   "id": "78e3aa18d0ae2b3a",
   "execution_count": 3
  },
  {
   "cell_type": "code",
   "outputs": [
    {
     "name": "stdout",
     "output_type": "stream",
     "text": [
      "<class 'pandas.core.frame.DataFrame'>\n",
      "RangeIndex: 15726470 entries, 0 to 15726469\n",
      "Data columns (total 11 columns):\n",
      " #   Column          Dtype  \n",
      "---  ------          -----  \n",
      " 0   session_id      object \n",
      " 1   hit_date        object \n",
      " 2   hit_time        float64\n",
      " 3   hit_number      int64  \n",
      " 4   hit_type        object \n",
      " 5   hit_referer     object \n",
      " 6   hit_page_path   object \n",
      " 7   event_category  object \n",
      " 8   event_action    object \n",
      " 9   event_label     object \n",
      " 10  event_value     float64\n",
      "dtypes: float64(2), int64(1), object(8)\n",
      "memory usage: 1.3+ GB\n"
     ]
    }
   ],
   "source": [
    "df.info()"
   ],
   "metadata": {
    "collapsed": false
   },
   "id": "e0f2e7ec0bf29deb",
   "execution_count": 4
  },
  {
   "cell_type": "code",
   "outputs": [
    {
     "data": {
      "text/plain": "(15726470, 11)"
     },
     "execution_count": 5,
     "metadata": {},
     "output_type": "execute_result"
    }
   ],
   "source": [
    "df.shape"
   ],
   "metadata": {
    "collapsed": false,
    "ExecuteTime": {
     "end_time": "2024-02-18T12:49:50.693155200Z",
     "start_time": "2024-02-18T12:49:50.568551600Z"
    }
   },
   "id": "d81769401bf10b7f",
   "execution_count": 5
  },
  {
   "cell_type": "code",
   "outputs": [
    {
     "data": {
      "text/plain": "                                         session_id    hit_date   hit_time  \\\n0         5639623078712724064.1640254056.1640254056  2021-12-23   597864.0   \n1         7750352294969115059.1640271109.1640271109  2021-12-23   597331.0   \n2          885342191847998240.1640235807.1640235807  2021-12-23   796252.0   \n3          142526202120934167.1640211014.1640211014  2021-12-23   934292.0   \n4         3450086108837475701.1640265078.1640265078  2021-12-23   768741.0   \n...                                             ...         ...        ...   \n15726465  6866159858916559617.1640270865.1640270865  2021-12-23   810589.0   \n15726466  7310304587364460692.1640261783.1640261783  2021-12-23   904927.0   \n15726467  8013702685784312179.1640270195.1640270195  2021-12-23  2172865.0   \n15726468  8021505554734405918.1640257821.1640257821  2021-12-23   713325.0   \n15726469  1569014437485249865.1640269129.1640269129  2021-12-23   742820.0   \n\n          hit_number hit_type hit_referer  \\\n0                 30    event         NaN   \n1                 41    event         NaN   \n2                 49    event         NaN   \n3                 46    event         NaN   \n4                 79    event         NaN   \n...              ...      ...         ...   \n15726465          43    event         NaN   \n15726466          40    event         NaN   \n15726467          43    event         NaN   \n15726468          45    event         NaN   \n15726469          46    event         NaN   \n\n                                              hit_page_path event_category  \\\n0         sberauto.com/cars?utm_source_initial=google&ut...           quiz   \n1         sberauto.com/cars/fiat?city=1&city=18&rental_c...           quiz   \n2         sberauto.com/cars/all/volkswagen/polo/e994838f...           quiz   \n3         sberauto.com/cars?utm_source_initial=yandex&ut...           quiz   \n4         sberauto.com/cars/all/mercedes-benz/cla-klasse...           quiz   \n...                                                     ...            ...   \n15726465  sberauto.com/cars/all/toyota/fortuner/24cb5af2...           quiz   \n15726466  sberauto.com/cars/all/mercedes-benz/gla-klasse...           quiz   \n15726467  sberauto.com/cars/all/toyota/alphard/2ebe4871?...           quiz   \n15726468  sberauto.com/cars/all/bmw/x3/6a660f0a?rental_p...           quiz   \n15726469  sberauto.com/cars/all/bmw/7-serii/399ac530?utm...           quiz   \n\n         event_action event_label  event_value  \n0           quiz_show         NaN          NaN  \n1           quiz_show         NaN          NaN  \n2           quiz_show         NaN          NaN  \n3           quiz_show         NaN          NaN  \n4           quiz_show         NaN          NaN  \n...               ...         ...          ...  \n15726465    quiz_show         NaN          NaN  \n15726466    quiz_show         NaN          NaN  \n15726467    quiz_show         NaN          NaN  \n15726468    quiz_show         NaN          NaN  \n15726469    quiz_show         NaN          NaN  \n\n[15726470 rows x 11 columns]",
      "text/html": "<div>\n<style scoped>\n    .dataframe tbody tr th:only-of-type {\n        vertical-align: middle;\n    }\n\n    .dataframe tbody tr th {\n        vertical-align: top;\n    }\n\n    .dataframe thead th {\n        text-align: right;\n    }\n</style>\n<table border=\"1\" class=\"dataframe\">\n  <thead>\n    <tr style=\"text-align: right;\">\n      <th></th>\n      <th>session_id</th>\n      <th>hit_date</th>\n      <th>hit_time</th>\n      <th>hit_number</th>\n      <th>hit_type</th>\n      <th>hit_referer</th>\n      <th>hit_page_path</th>\n      <th>event_category</th>\n      <th>event_action</th>\n      <th>event_label</th>\n      <th>event_value</th>\n    </tr>\n  </thead>\n  <tbody>\n    <tr>\n      <th>0</th>\n      <td>5639623078712724064.1640254056.1640254056</td>\n      <td>2021-12-23</td>\n      <td>597864.0</td>\n      <td>30</td>\n      <td>event</td>\n      <td>NaN</td>\n      <td>sberauto.com/cars?utm_source_initial=google&amp;ut...</td>\n      <td>quiz</td>\n      <td>quiz_show</td>\n      <td>NaN</td>\n      <td>NaN</td>\n    </tr>\n    <tr>\n      <th>1</th>\n      <td>7750352294969115059.1640271109.1640271109</td>\n      <td>2021-12-23</td>\n      <td>597331.0</td>\n      <td>41</td>\n      <td>event</td>\n      <td>NaN</td>\n      <td>sberauto.com/cars/fiat?city=1&amp;city=18&amp;rental_c...</td>\n      <td>quiz</td>\n      <td>quiz_show</td>\n      <td>NaN</td>\n      <td>NaN</td>\n    </tr>\n    <tr>\n      <th>2</th>\n      <td>885342191847998240.1640235807.1640235807</td>\n      <td>2021-12-23</td>\n      <td>796252.0</td>\n      <td>49</td>\n      <td>event</td>\n      <td>NaN</td>\n      <td>sberauto.com/cars/all/volkswagen/polo/e994838f...</td>\n      <td>quiz</td>\n      <td>quiz_show</td>\n      <td>NaN</td>\n      <td>NaN</td>\n    </tr>\n    <tr>\n      <th>3</th>\n      <td>142526202120934167.1640211014.1640211014</td>\n      <td>2021-12-23</td>\n      <td>934292.0</td>\n      <td>46</td>\n      <td>event</td>\n      <td>NaN</td>\n      <td>sberauto.com/cars?utm_source_initial=yandex&amp;ut...</td>\n      <td>quiz</td>\n      <td>quiz_show</td>\n      <td>NaN</td>\n      <td>NaN</td>\n    </tr>\n    <tr>\n      <th>4</th>\n      <td>3450086108837475701.1640265078.1640265078</td>\n      <td>2021-12-23</td>\n      <td>768741.0</td>\n      <td>79</td>\n      <td>event</td>\n      <td>NaN</td>\n      <td>sberauto.com/cars/all/mercedes-benz/cla-klasse...</td>\n      <td>quiz</td>\n      <td>quiz_show</td>\n      <td>NaN</td>\n      <td>NaN</td>\n    </tr>\n    <tr>\n      <th>...</th>\n      <td>...</td>\n      <td>...</td>\n      <td>...</td>\n      <td>...</td>\n      <td>...</td>\n      <td>...</td>\n      <td>...</td>\n      <td>...</td>\n      <td>...</td>\n      <td>...</td>\n      <td>...</td>\n    </tr>\n    <tr>\n      <th>15726465</th>\n      <td>6866159858916559617.1640270865.1640270865</td>\n      <td>2021-12-23</td>\n      <td>810589.0</td>\n      <td>43</td>\n      <td>event</td>\n      <td>NaN</td>\n      <td>sberauto.com/cars/all/toyota/fortuner/24cb5af2...</td>\n      <td>quiz</td>\n      <td>quiz_show</td>\n      <td>NaN</td>\n      <td>NaN</td>\n    </tr>\n    <tr>\n      <th>15726466</th>\n      <td>7310304587364460692.1640261783.1640261783</td>\n      <td>2021-12-23</td>\n      <td>904927.0</td>\n      <td>40</td>\n      <td>event</td>\n      <td>NaN</td>\n      <td>sberauto.com/cars/all/mercedes-benz/gla-klasse...</td>\n      <td>quiz</td>\n      <td>quiz_show</td>\n      <td>NaN</td>\n      <td>NaN</td>\n    </tr>\n    <tr>\n      <th>15726467</th>\n      <td>8013702685784312179.1640270195.1640270195</td>\n      <td>2021-12-23</td>\n      <td>2172865.0</td>\n      <td>43</td>\n      <td>event</td>\n      <td>NaN</td>\n      <td>sberauto.com/cars/all/toyota/alphard/2ebe4871?...</td>\n      <td>quiz</td>\n      <td>quiz_show</td>\n      <td>NaN</td>\n      <td>NaN</td>\n    </tr>\n    <tr>\n      <th>15726468</th>\n      <td>8021505554734405918.1640257821.1640257821</td>\n      <td>2021-12-23</td>\n      <td>713325.0</td>\n      <td>45</td>\n      <td>event</td>\n      <td>NaN</td>\n      <td>sberauto.com/cars/all/bmw/x3/6a660f0a?rental_p...</td>\n      <td>quiz</td>\n      <td>quiz_show</td>\n      <td>NaN</td>\n      <td>NaN</td>\n    </tr>\n    <tr>\n      <th>15726469</th>\n      <td>1569014437485249865.1640269129.1640269129</td>\n      <td>2021-12-23</td>\n      <td>742820.0</td>\n      <td>46</td>\n      <td>event</td>\n      <td>NaN</td>\n      <td>sberauto.com/cars/all/bmw/7-serii/399ac530?utm...</td>\n      <td>quiz</td>\n      <td>quiz_show</td>\n      <td>NaN</td>\n      <td>NaN</td>\n    </tr>\n  </tbody>\n</table>\n<p>15726470 rows × 11 columns</p>\n</div>"
     },
     "execution_count": 6,
     "metadata": {},
     "output_type": "execute_result"
    }
   ],
   "source": [
    "df  "
   ],
   "metadata": {
    "collapsed": false,
    "ExecuteTime": {
     "end_time": "2024-02-26T19:22:55.215205500Z",
     "start_time": "2024-02-26T19:22:55.098633400Z"
    }
   },
   "id": "6ac7845ddd49fdc5",
   "execution_count": 6
  },
  {
   "cell_type": "markdown",
   "source": [
    "Анализируем действия. Видим что просмотров карточки больше всего. (оно и логично для этого и заходят на сайт скорее всего)"
   ],
   "metadata": {
    "collapsed": false
   },
   "id": "eee8d87a2d4f5092"
  },
  {
   "cell_type": "code",
   "outputs": [
    {
     "data": {
      "text/plain": "event_action\nview_card                     3558985\nview_new_card                 3551009\nsub_landing                   1798117\ngo_to_car_card                 973666\nsub_view_cars_click            791515\n                               ...   \nclick_on_android                    1\nnew_year_road_help_btn              1\ntitul_page_view                     1\nshow_pos_status_declined            1\nsurvey_buy_after_sell_when          1\nName: count, Length: 230, dtype: int64"
     },
     "execution_count": 7,
     "metadata": {},
     "output_type": "execute_result"
    }
   ],
   "source": [
    "df['event_action'].value_counts().sort_values(ascending=False)"
   ],
   "metadata": {
    "collapsed": false,
    "ExecuteTime": {
     "end_time": "2024-02-18T12:49:52.144231400Z",
     "start_time": "2024-02-18T12:49:50.918498400Z"
    }
   },
   "id": "782913a346e678ab",
   "execution_count": 7
  },
  {
   "cell_type": "markdown",
   "source": [
    "Создаем сначала колонку таргет который принимает 1 если присудствует целевое действие, и 0 если целевого действия нет. Затем создаем новый датафрейм сгрупированный по уникальным значениям session_id, с колонкой таргет который принимает максимальное значение оставляя лишь уникальные. Далее используем ресет индекс что бы сбросить индексы"
   ],
   "metadata": {
    "collapsed": false
   },
   "id": "20586b259afa5b21"
  },
  {
   "cell_type": "code",
   "outputs": [],
   "source": [
    "df['target'] = df['event_action'].isin(['sub_car_claim_click', 'sub_car_claim_submit_click', 'sub_open_dialog_click', 'sub_custom_question_submit_click', 'sub_call_number_click', 'sub_callback_submit_click', 'sub_submit_success', 'sub_car_request_submit_click']).astype(int)\n",
    "\n",
    "df_target = df.groupby('session_id')['target'].max().reset_index()"
   ],
   "metadata": {
    "collapsed": false,
    "ExecuteTime": {
     "end_time": "2024-02-18T12:50:01.683623400Z",
     "start_time": "2024-02-18T12:49:52.282235Z"
    }
   },
   "id": "f1b8c8c49c962595",
   "execution_count": 8
  },
  {
   "cell_type": "markdown",
   "source": [
    "Проверяем нет ли ошибок"
   ],
   "metadata": {
    "collapsed": false
   },
   "id": "3496c4aed8efb84a"
  },
  {
   "cell_type": "code",
   "outputs": [
    {
     "data": {
      "text/plain": "                                         session_id    hit_date  hit_time  \\\n4016      2744563715298057088.1640258436.1640258436  2021-12-23  843092.0   \n4045      3087297479839089634.1640268774.1640268774  2021-12-23  194144.0   \n4046      3156966333326004302.1640206419.1640206800  2021-12-23  327223.0   \n4047      3750243879753098158.1640272208.1640272208  2021-12-23  156992.0   \n4048      7518333712042258254.1640258901.1640258901  2021-12-23  170616.0   \n...                                             ...         ...       ...   \n15725025  1277864870843199549.1636773954.1636773954  2021-11-13  354017.0   \n15725133   965861352491898977.1636751459.1636751459  2021-11-13  172590.0   \n15725134  4727705172767122620.1636818847.1636818847  2021-11-13  356120.0   \n15725135  4727705172767122620.1636818847.1636818847  2021-11-13  312303.0   \n15725136   116562085450617659.1636832061.1636832061  2021-11-13  124047.0   \n\n          hit_number hit_type hit_referer  \\\n4016              81    event         NaN   \n4045              22    event         NaN   \n4046              63    event         NaN   \n4047              20    event         NaN   \n4048              16    event         NaN   \n...              ...      ...         ...   \n15725025          30    event         NaN   \n15725133          18    event         NaN   \n15725134          43    event         NaN   \n15725135          41    event         NaN   \n15725136          26    event         NaN   \n\n                                              hit_page_path    event_category  \\\n4016      sberauto.com/cars/all/kia/rio/fee33fe6?utm_sou...        sub_submit   \n4045      sberauto.com/cars/all/skoda/rapid/bf24b977?utm...        sub_submit   \n4046      sberauto.com/cars/all/skoda/rapid/bf24b977?utm...        sub_submit   \n4047      sberauto.com/cars/all/nissan/x-trail/0744675f?...        sub_submit   \n4048      sberauto.com/cars/all/mercedes-benz/gla-klasse...        sub_submit   \n...                                                     ...               ...   \n15725025  sberauto.com/cars/all/lada-vaz/vesta/2fc745ed?...  sub_button_click   \n15725133  sberauto.com/cars/all/volkswagen/polo/e994838f...        sub_submit   \n15725134  sberauto.com/cars/all/volkswagen/polo/e994838f...        sub_submit   \n15725135  sberauto.com/cars/all/volkswagen/polo/e994838f...  sub_button_click   \n15725136  sberauto.com/cars/all/volkswagen/polo/e994838f...  sub_button_click   \n\n                        event_action           event_label  event_value  \\\n4016              sub_submit_success  nsPPIRqjxBefONGPpnsF          NaN   \n4045              sub_submit_success  nsPPIRqjxBefONGPpnsF          NaN   \n4046              sub_submit_success  nsPPIRqjxBefONGPpnsF          NaN   \n4047              sub_submit_success  nsPPIRqjxBefONGPpnsF          NaN   \n4048              sub_submit_success  KuMiABMMbspIDDhiCNVS          NaN   \n...                              ...                   ...          ...   \n15725025  sub_car_claim_submit_click                   NaN          NaN   \n15725133          sub_submit_success  nsPPIRqjxBefONGPpnsF          NaN   \n15725134          sub_submit_success  uimgZZmhfLQwbKAZZfCk          NaN   \n15725135       sub_open_dialog_click  ZaZuwAXOKlbzyhUqtnmk          NaN   \n15725136  sub_car_claim_submit_click                   NaN          NaN   \n\n          target  \n4016           1  \n4045           1  \n4046           1  \n4047           1  \n4048           1  \n...          ...  \n15725025       1  \n15725133       1  \n15725134       1  \n15725135       1  \n15725136       1  \n\n[104908 rows x 12 columns]",
      "text/html": "<div>\n<style scoped>\n    .dataframe tbody tr th:only-of-type {\n        vertical-align: middle;\n    }\n\n    .dataframe tbody tr th {\n        vertical-align: top;\n    }\n\n    .dataframe thead th {\n        text-align: right;\n    }\n</style>\n<table border=\"1\" class=\"dataframe\">\n  <thead>\n    <tr style=\"text-align: right;\">\n      <th></th>\n      <th>session_id</th>\n      <th>hit_date</th>\n      <th>hit_time</th>\n      <th>hit_number</th>\n      <th>hit_type</th>\n      <th>hit_referer</th>\n      <th>hit_page_path</th>\n      <th>event_category</th>\n      <th>event_action</th>\n      <th>event_label</th>\n      <th>event_value</th>\n      <th>target</th>\n    </tr>\n  </thead>\n  <tbody>\n    <tr>\n      <th>4016</th>\n      <td>2744563715298057088.1640258436.1640258436</td>\n      <td>2021-12-23</td>\n      <td>843092.0</td>\n      <td>81</td>\n      <td>event</td>\n      <td>NaN</td>\n      <td>sberauto.com/cars/all/kia/rio/fee33fe6?utm_sou...</td>\n      <td>sub_submit</td>\n      <td>sub_submit_success</td>\n      <td>nsPPIRqjxBefONGPpnsF</td>\n      <td>NaN</td>\n      <td>1</td>\n    </tr>\n    <tr>\n      <th>4045</th>\n      <td>3087297479839089634.1640268774.1640268774</td>\n      <td>2021-12-23</td>\n      <td>194144.0</td>\n      <td>22</td>\n      <td>event</td>\n      <td>NaN</td>\n      <td>sberauto.com/cars/all/skoda/rapid/bf24b977?utm...</td>\n      <td>sub_submit</td>\n      <td>sub_submit_success</td>\n      <td>nsPPIRqjxBefONGPpnsF</td>\n      <td>NaN</td>\n      <td>1</td>\n    </tr>\n    <tr>\n      <th>4046</th>\n      <td>3156966333326004302.1640206419.1640206800</td>\n      <td>2021-12-23</td>\n      <td>327223.0</td>\n      <td>63</td>\n      <td>event</td>\n      <td>NaN</td>\n      <td>sberauto.com/cars/all/skoda/rapid/bf24b977?utm...</td>\n      <td>sub_submit</td>\n      <td>sub_submit_success</td>\n      <td>nsPPIRqjxBefONGPpnsF</td>\n      <td>NaN</td>\n      <td>1</td>\n    </tr>\n    <tr>\n      <th>4047</th>\n      <td>3750243879753098158.1640272208.1640272208</td>\n      <td>2021-12-23</td>\n      <td>156992.0</td>\n      <td>20</td>\n      <td>event</td>\n      <td>NaN</td>\n      <td>sberauto.com/cars/all/nissan/x-trail/0744675f?...</td>\n      <td>sub_submit</td>\n      <td>sub_submit_success</td>\n      <td>nsPPIRqjxBefONGPpnsF</td>\n      <td>NaN</td>\n      <td>1</td>\n    </tr>\n    <tr>\n      <th>4048</th>\n      <td>7518333712042258254.1640258901.1640258901</td>\n      <td>2021-12-23</td>\n      <td>170616.0</td>\n      <td>16</td>\n      <td>event</td>\n      <td>NaN</td>\n      <td>sberauto.com/cars/all/mercedes-benz/gla-klasse...</td>\n      <td>sub_submit</td>\n      <td>sub_submit_success</td>\n      <td>KuMiABMMbspIDDhiCNVS</td>\n      <td>NaN</td>\n      <td>1</td>\n    </tr>\n    <tr>\n      <th>...</th>\n      <td>...</td>\n      <td>...</td>\n      <td>...</td>\n      <td>...</td>\n      <td>...</td>\n      <td>...</td>\n      <td>...</td>\n      <td>...</td>\n      <td>...</td>\n      <td>...</td>\n      <td>...</td>\n      <td>...</td>\n    </tr>\n    <tr>\n      <th>15725025</th>\n      <td>1277864870843199549.1636773954.1636773954</td>\n      <td>2021-11-13</td>\n      <td>354017.0</td>\n      <td>30</td>\n      <td>event</td>\n      <td>NaN</td>\n      <td>sberauto.com/cars/all/lada-vaz/vesta/2fc745ed?...</td>\n      <td>sub_button_click</td>\n      <td>sub_car_claim_submit_click</td>\n      <td>NaN</td>\n      <td>NaN</td>\n      <td>1</td>\n    </tr>\n    <tr>\n      <th>15725133</th>\n      <td>965861352491898977.1636751459.1636751459</td>\n      <td>2021-11-13</td>\n      <td>172590.0</td>\n      <td>18</td>\n      <td>event</td>\n      <td>NaN</td>\n      <td>sberauto.com/cars/all/volkswagen/polo/e994838f...</td>\n      <td>sub_submit</td>\n      <td>sub_submit_success</td>\n      <td>nsPPIRqjxBefONGPpnsF</td>\n      <td>NaN</td>\n      <td>1</td>\n    </tr>\n    <tr>\n      <th>15725134</th>\n      <td>4727705172767122620.1636818847.1636818847</td>\n      <td>2021-11-13</td>\n      <td>356120.0</td>\n      <td>43</td>\n      <td>event</td>\n      <td>NaN</td>\n      <td>sberauto.com/cars/all/volkswagen/polo/e994838f...</td>\n      <td>sub_submit</td>\n      <td>sub_submit_success</td>\n      <td>uimgZZmhfLQwbKAZZfCk</td>\n      <td>NaN</td>\n      <td>1</td>\n    </tr>\n    <tr>\n      <th>15725135</th>\n      <td>4727705172767122620.1636818847.1636818847</td>\n      <td>2021-11-13</td>\n      <td>312303.0</td>\n      <td>41</td>\n      <td>event</td>\n      <td>NaN</td>\n      <td>sberauto.com/cars/all/volkswagen/polo/e994838f...</td>\n      <td>sub_button_click</td>\n      <td>sub_open_dialog_click</td>\n      <td>ZaZuwAXOKlbzyhUqtnmk</td>\n      <td>NaN</td>\n      <td>1</td>\n    </tr>\n    <tr>\n      <th>15725136</th>\n      <td>116562085450617659.1636832061.1636832061</td>\n      <td>2021-11-13</td>\n      <td>124047.0</td>\n      <td>26</td>\n      <td>event</td>\n      <td>NaN</td>\n      <td>sberauto.com/cars/all/volkswagen/polo/e994838f...</td>\n      <td>sub_button_click</td>\n      <td>sub_car_claim_submit_click</td>\n      <td>NaN</td>\n      <td>NaN</td>\n      <td>1</td>\n    </tr>\n  </tbody>\n</table>\n<p>104908 rows × 12 columns</p>\n</div>"
     },
     "execution_count": 9,
     "metadata": {},
     "output_type": "execute_result"
    }
   ],
   "source": [
    "df[df['event_action'].isin(['sub_car_claim_click', 'sub_car_claim_submit_click', 'sub_open_dialog_click', 'sub_custom_question_submit_click', 'sub_call_number_click', 'sub_callback_submit_click', 'sub_submit_success', 'sub_car_request_submit_click'])]"
   ],
   "metadata": {
    "collapsed": false,
    "ExecuteTime": {
     "end_time": "2024-02-18T12:50:02.310804700Z",
     "start_time": "2024-02-18T12:50:01.685625100Z"
    }
   },
   "id": "e3325a8567880cee",
   "execution_count": 9
  },
  {
   "cell_type": "code",
   "outputs": [
    {
     "data": {
      "text/plain": "                                        session_id  target\n0        1000009318903347362.1632663668.1632663668       0\n1        1000010177899156286.1635013443.1635013443       0\n2        1000013386240115915.1635402956.1635402956       0\n3        1000017303238376207.1623489300.1623489300       0\n4        1000020580299877109.1624943350.1624943350       0\n...                                            ...     ...\n1734605   999960188766601545.1626816843.1626816843       0\n1734606    99996598443387715.1626811203.1626811203       0\n1734607   999966717128502952.1638428330.1638428330       0\n1734608   999988617151873171.1623556243.1623556243       0\n1734609   999989480451054428.1634311006.1634311006       0\n\n[1734610 rows x 2 columns]",
      "text/html": "<div>\n<style scoped>\n    .dataframe tbody tr th:only-of-type {\n        vertical-align: middle;\n    }\n\n    .dataframe tbody tr th {\n        vertical-align: top;\n    }\n\n    .dataframe thead th {\n        text-align: right;\n    }\n</style>\n<table border=\"1\" class=\"dataframe\">\n  <thead>\n    <tr style=\"text-align: right;\">\n      <th></th>\n      <th>session_id</th>\n      <th>target</th>\n    </tr>\n  </thead>\n  <tbody>\n    <tr>\n      <th>0</th>\n      <td>1000009318903347362.1632663668.1632663668</td>\n      <td>0</td>\n    </tr>\n    <tr>\n      <th>1</th>\n      <td>1000010177899156286.1635013443.1635013443</td>\n      <td>0</td>\n    </tr>\n    <tr>\n      <th>2</th>\n      <td>1000013386240115915.1635402956.1635402956</td>\n      <td>0</td>\n    </tr>\n    <tr>\n      <th>3</th>\n      <td>1000017303238376207.1623489300.1623489300</td>\n      <td>0</td>\n    </tr>\n    <tr>\n      <th>4</th>\n      <td>1000020580299877109.1624943350.1624943350</td>\n      <td>0</td>\n    </tr>\n    <tr>\n      <th>...</th>\n      <td>...</td>\n      <td>...</td>\n    </tr>\n    <tr>\n      <th>1734605</th>\n      <td>999960188766601545.1626816843.1626816843</td>\n      <td>0</td>\n    </tr>\n    <tr>\n      <th>1734606</th>\n      <td>99996598443387715.1626811203.1626811203</td>\n      <td>0</td>\n    </tr>\n    <tr>\n      <th>1734607</th>\n      <td>999966717128502952.1638428330.1638428330</td>\n      <td>0</td>\n    </tr>\n    <tr>\n      <th>1734608</th>\n      <td>999988617151873171.1623556243.1623556243</td>\n      <td>0</td>\n    </tr>\n    <tr>\n      <th>1734609</th>\n      <td>999989480451054428.1634311006.1634311006</td>\n      <td>0</td>\n    </tr>\n  </tbody>\n</table>\n<p>1734610 rows × 2 columns</p>\n</div>"
     },
     "execution_count": 10,
     "metadata": {},
     "output_type": "execute_result"
    }
   ],
   "source": [
    "df_target"
   ],
   "metadata": {
    "collapsed": false,
    "ExecuteTime": {
     "end_time": "2024-02-18T12:50:02.327815900Z",
     "start_time": "2024-02-18T12:50:02.306924900Z"
    }
   },
   "id": "6255426f504ecf03",
   "execution_count": 10
  },
  {
   "cell_type": "code",
   "outputs": [
    {
     "data": {
      "text/plain": "session_id\n5442565791571325612.1632449195.1632449195    768\n6568868914238486437.1632270313.1632270313    678\n5959671972744778783.1632490527.1632490600    548\n7452598043578978502.1632358598.1632358598    514\n3070792010704358528.1629752408.1629752408    498\n                                            ... \n160826705592749328.1631620368.1631620368       1\n1855401207506421650.1631602579.1631602579      1\n1481604624575304990.1633883424.1633883424      1\n3751290052173382050.1631601058.1631601058      1\n5381267721977892188.1640271196.1640271196      1\nName: count, Length: 1734610, dtype: int64"
     },
     "execution_count": 11,
     "metadata": {},
     "output_type": "execute_result"
    }
   ],
   "source": [
    "df['session_id'].value_counts().sort_values(ascending=False)"
   ],
   "metadata": {
    "collapsed": false,
    "ExecuteTime": {
     "end_time": "2024-02-18T12:50:08.101752300Z",
     "start_time": "2024-02-18T12:50:06.948943400Z"
    }
   },
   "id": "63b30a1bfd38f605",
   "execution_count": 11
  },
  {
   "cell_type": "code",
   "outputs": [],
   "source": [],
   "metadata": {
    "collapsed": false,
    "ExecuteTime": {
     "end_time": "2024-02-18T12:50:08.107027900Z",
     "start_time": "2024-02-18T12:50:08.100495800Z"
    }
   },
   "id": "a9387af7188475dc",
   "execution_count": 11
  },
  {
   "cell_type": "code",
   "outputs": [],
   "source": [],
   "metadata": {
    "collapsed": false,
    "ExecuteTime": {
     "end_time": "2024-02-18T12:50:08.109691800Z",
     "start_time": "2024-02-18T12:50:08.105512900Z"
    }
   },
   "id": "4e0f9ea4f0dbe7c2",
   "execution_count": 11
  },
  {
   "cell_type": "markdown",
   "source": [
    "Далее работаем со вторым файлом, по которому нужно будет предсказывать целевую переменную"
   ],
   "metadata": {
    "collapsed": false
   },
   "id": "691c38a6c4dc0b3f"
  },
  {
   "cell_type": "raw",
   "source": [
    "GA_SESSIONS\n",
    "\n",
    "Описание атрибутов:\n",
    "~ session_id — ID визита;\n",
    "~ client_id — ID посетителя;\n",
    "~ visit_date — дата визита;\n",
    "~ visit_time — время визита;\n",
    "~ visit_number — порядковый номер визита клиента;\n",
    "~ utm_source — канал привлечения;\n",
    "~ utm_medium — тип привлечения;\n",
    "~ utm_campaign — рекламная кампания;\n",
    "~ utm_keyword — ключевое слово;\n",
    "~ device_category — тип устройства;\n",
    "~ device_os — ОС устройства;\n",
    "~ device_brand — марка устройства;\n",
    "~ device_model — модель устройства;\n",
    "~ device_screen_resolution — разрешение экрана;"
   ],
   "metadata": {
    "collapsed": false
   },
   "id": "14203e724b137122"
  },
  {
   "cell_type": "code",
   "outputs": [],
   "source": [],
   "metadata": {
    "collapsed": false,
    "ExecuteTime": {
     "end_time": "2024-02-18T12:50:08.126235100Z",
     "start_time": "2024-02-18T12:50:08.114222Z"
    }
   },
   "id": "641c3c0cdda7ab7b",
   "execution_count": 11
  },
  {
   "cell_type": "code",
   "outputs": [],
   "source": [
    "data2 = pd.read_csv('ga_sessions.csv', low_memory=False)"
   ],
   "metadata": {
    "collapsed": false,
    "ExecuteTime": {
     "end_time": "2024-02-26T19:31:01.362710300Z",
     "start_time": "2024-02-26T19:30:51.389487200Z"
    }
   },
   "id": "9e343e77e3afb",
   "execution_count": 7
  },
  {
   "cell_type": "code",
   "outputs": [],
   "source": [
    "data2 = pd.DataFrame(data2)\n",
    "df2 = data2.copy()"
   ],
   "metadata": {
    "collapsed": false,
    "ExecuteTime": {
     "end_time": "2024-02-26T19:31:06.829414500Z",
     "start_time": "2024-02-26T19:31:06.466580500Z"
    }
   },
   "id": "c9b812dc2ac0f629",
   "execution_count": 8
  },
  {
   "cell_type": "markdown",
   "source": [
    "DataSpell показывает все пропуски и соотношения данных(но так как я в первые им пользуюсь дальше я хочу удостовериться что показывается все как надо)"
   ],
   "metadata": {
    "collapsed": false
   },
   "id": "7a259005e7010a2f"
  },
  {
   "cell_type": "code",
   "outputs": [
    {
     "data": {
      "text/plain": "                                        session_id              client_id  \\\n0        9055434745589932991.1637753792.1637753792  2108382700.1637753791   \n1         905544597018549464.1636867290.1636867290   210838531.1636867288   \n2        9055446045651783499.1640648526.1640648526  2108385331.1640648523   \n3        9055447046360770272.1622255328.1622255328  2108385564.1622255328   \n4        9055447046360770272.1622255345.1622255345  2108385564.1622255328   \n...                                            ...                    ...   \n1860037  9055415581448263752.1640159305.1640159305  2108378238.1640159304   \n1860038  9055421130527858185.1622007305.1622007305  2108379530.1622007305   \n1860039  9055422955903931195.1636979515.1636979515  2108379955.1636979515   \n1860040   905543020766873816.1638189404.1638189404   210838164.1638189272   \n1860041  9055430416266113553.1640968742.1640968742  2108381692.1640968721   \n\n         visit_date visit_time  visit_number            utm_source utm_medium  \\\n0        2021-11-24   14:36:32             1  ZpYIoDJMcFzVoPFsHGJL     banner   \n1        2021-11-14   08:21:30             1  MvfHsxITijuriZxsqZqt        cpm   \n2        2021-12-28   02:42:06             1  ZpYIoDJMcFzVoPFsHGJL     banner   \n3        2021-05-29   05:00:00             1  kjsLglQLzykiRbcDiGcD        cpc   \n4        2021-05-29   05:00:00             2  kjsLglQLzykiRbcDiGcD        cpc   \n...             ...        ...           ...                   ...        ...   \n1860037  2021-12-22   10:48:25             1  BHcvLfOaCWvWTykYqHVe        cpc   \n1860038  2021-05-26   08:00:00             1  fDLlAcSmythWSCVMvqvL     (none)   \n1860039  2021-11-15   15:31:55             1  fDLlAcSmythWSCVMvqvL     (none)   \n1860040  2021-11-29   15:36:44             1  ZpYIoDJMcFzVoPFsHGJL     banner   \n1860041  2021-12-31   19:39:02             1  fgymSoTvjKPEgaIJqsiH        cpm   \n\n                 utm_campaign         utm_adcontent           utm_keyword  \\\n0        LEoPHuyFvzoNfnzGgfcd  vCIpmpaGBnIQhyYNkXqp  puhZPIYqKXeFPaUviSjo   \n1        FTjNLDyTrXaWYgZymFkV  xhoenQgDQsgfEPYNPwKO  IGUCNvHlhfHpROGclCit   \n2        LEoPHuyFvzoNfnzGgfcd  vCIpmpaGBnIQhyYNkXqp  puhZPIYqKXeFPaUviSjo   \n3                         NaN  NOBKLgtuvqYWkXQHeYWM                   NaN   \n4                         NaN                   NaN                   NaN   \n...                       ...                   ...                   ...   \n1860037                   NaN                   NaN  VlqBmecIOXWjCWUmQkLd   \n1860038  LTuZkdKfxRGVceoWkVyg  JNHcPlZPxEMWDnRiyoBf                   NaN   \n1860039  LTuZkdKfxRGVceoWkVyg  JNHcPlZPxEMWDnRiyoBf  puhZPIYqKXeFPaUviSjo   \n1860040  LEoPHuyFvzoNfnzGgfcd  JNHcPlZPxEMWDnRiyoBf  puhZPIYqKXeFPaUviSjo   \n1860041  FTjNLDyTrXaWYgZymFkV  yYdBRbPmBMUZHXwqGxNx  oKjXDUsycmahkgMhGdAR   \n\n        device_category device_os device_brand device_model  \\\n0                mobile   Android       Huawei          NaN   \n1                mobile   Android      Samsung          NaN   \n2                mobile   Android       Huawei          NaN   \n3                mobile       NaN       Xiaomi          NaN   \n4                mobile       NaN       Xiaomi          NaN   \n...                 ...       ...          ...          ...   \n1860037         desktop   Windows          NaN          NaN   \n1860038          mobile       NaN        Apple          NaN   \n1860039          mobile       iOS        Apple          NaN   \n1860040          mobile   Android       Xiaomi          NaN   \n1860041         desktop     Linux          NaN          NaN   \n\n        device_screen_resolution    device_browser geo_country     geo_city  \n0                        360x720            Chrome      Russia     Zlatoust  \n1                        385x854  Samsung Internet      Russia       Moscow  \n2                        360x720            Chrome      Russia  Krasnoyarsk  \n3                        393x786            Chrome      Russia       Moscow  \n4                        393x786            Chrome      Russia       Moscow  \n...                          ...               ...         ...          ...  \n1860037                1920x1080            Chrome      Russia       Moscow  \n1860038                  390x844            Safari      Russia    Stavropol  \n1860039                  375x667            Safari      Russia       Moscow  \n1860040                  393x851            Chrome      Russia  Chelyabinsk  \n1860041                 1366x768            Chrome      Russia       Moscow  \n\n[1860042 rows x 18 columns]",
      "text/html": "<div>\n<style scoped>\n    .dataframe tbody tr th:only-of-type {\n        vertical-align: middle;\n    }\n\n    .dataframe tbody tr th {\n        vertical-align: top;\n    }\n\n    .dataframe thead th {\n        text-align: right;\n    }\n</style>\n<table border=\"1\" class=\"dataframe\">\n  <thead>\n    <tr style=\"text-align: right;\">\n      <th></th>\n      <th>session_id</th>\n      <th>client_id</th>\n      <th>visit_date</th>\n      <th>visit_time</th>\n      <th>visit_number</th>\n      <th>utm_source</th>\n      <th>utm_medium</th>\n      <th>utm_campaign</th>\n      <th>utm_adcontent</th>\n      <th>utm_keyword</th>\n      <th>device_category</th>\n      <th>device_os</th>\n      <th>device_brand</th>\n      <th>device_model</th>\n      <th>device_screen_resolution</th>\n      <th>device_browser</th>\n      <th>geo_country</th>\n      <th>geo_city</th>\n    </tr>\n  </thead>\n  <tbody>\n    <tr>\n      <th>0</th>\n      <td>9055434745589932991.1637753792.1637753792</td>\n      <td>2108382700.1637753791</td>\n      <td>2021-11-24</td>\n      <td>14:36:32</td>\n      <td>1</td>\n      <td>ZpYIoDJMcFzVoPFsHGJL</td>\n      <td>banner</td>\n      <td>LEoPHuyFvzoNfnzGgfcd</td>\n      <td>vCIpmpaGBnIQhyYNkXqp</td>\n      <td>puhZPIYqKXeFPaUviSjo</td>\n      <td>mobile</td>\n      <td>Android</td>\n      <td>Huawei</td>\n      <td>NaN</td>\n      <td>360x720</td>\n      <td>Chrome</td>\n      <td>Russia</td>\n      <td>Zlatoust</td>\n    </tr>\n    <tr>\n      <th>1</th>\n      <td>905544597018549464.1636867290.1636867290</td>\n      <td>210838531.1636867288</td>\n      <td>2021-11-14</td>\n      <td>08:21:30</td>\n      <td>1</td>\n      <td>MvfHsxITijuriZxsqZqt</td>\n      <td>cpm</td>\n      <td>FTjNLDyTrXaWYgZymFkV</td>\n      <td>xhoenQgDQsgfEPYNPwKO</td>\n      <td>IGUCNvHlhfHpROGclCit</td>\n      <td>mobile</td>\n      <td>Android</td>\n      <td>Samsung</td>\n      <td>NaN</td>\n      <td>385x854</td>\n      <td>Samsung Internet</td>\n      <td>Russia</td>\n      <td>Moscow</td>\n    </tr>\n    <tr>\n      <th>2</th>\n      <td>9055446045651783499.1640648526.1640648526</td>\n      <td>2108385331.1640648523</td>\n      <td>2021-12-28</td>\n      <td>02:42:06</td>\n      <td>1</td>\n      <td>ZpYIoDJMcFzVoPFsHGJL</td>\n      <td>banner</td>\n      <td>LEoPHuyFvzoNfnzGgfcd</td>\n      <td>vCIpmpaGBnIQhyYNkXqp</td>\n      <td>puhZPIYqKXeFPaUviSjo</td>\n      <td>mobile</td>\n      <td>Android</td>\n      <td>Huawei</td>\n      <td>NaN</td>\n      <td>360x720</td>\n      <td>Chrome</td>\n      <td>Russia</td>\n      <td>Krasnoyarsk</td>\n    </tr>\n    <tr>\n      <th>3</th>\n      <td>9055447046360770272.1622255328.1622255328</td>\n      <td>2108385564.1622255328</td>\n      <td>2021-05-29</td>\n      <td>05:00:00</td>\n      <td>1</td>\n      <td>kjsLglQLzykiRbcDiGcD</td>\n      <td>cpc</td>\n      <td>NaN</td>\n      <td>NOBKLgtuvqYWkXQHeYWM</td>\n      <td>NaN</td>\n      <td>mobile</td>\n      <td>NaN</td>\n      <td>Xiaomi</td>\n      <td>NaN</td>\n      <td>393x786</td>\n      <td>Chrome</td>\n      <td>Russia</td>\n      <td>Moscow</td>\n    </tr>\n    <tr>\n      <th>4</th>\n      <td>9055447046360770272.1622255345.1622255345</td>\n      <td>2108385564.1622255328</td>\n      <td>2021-05-29</td>\n      <td>05:00:00</td>\n      <td>2</td>\n      <td>kjsLglQLzykiRbcDiGcD</td>\n      <td>cpc</td>\n      <td>NaN</td>\n      <td>NaN</td>\n      <td>NaN</td>\n      <td>mobile</td>\n      <td>NaN</td>\n      <td>Xiaomi</td>\n      <td>NaN</td>\n      <td>393x786</td>\n      <td>Chrome</td>\n      <td>Russia</td>\n      <td>Moscow</td>\n    </tr>\n    <tr>\n      <th>...</th>\n      <td>...</td>\n      <td>...</td>\n      <td>...</td>\n      <td>...</td>\n      <td>...</td>\n      <td>...</td>\n      <td>...</td>\n      <td>...</td>\n      <td>...</td>\n      <td>...</td>\n      <td>...</td>\n      <td>...</td>\n      <td>...</td>\n      <td>...</td>\n      <td>...</td>\n      <td>...</td>\n      <td>...</td>\n      <td>...</td>\n    </tr>\n    <tr>\n      <th>1860037</th>\n      <td>9055415581448263752.1640159305.1640159305</td>\n      <td>2108378238.1640159304</td>\n      <td>2021-12-22</td>\n      <td>10:48:25</td>\n      <td>1</td>\n      <td>BHcvLfOaCWvWTykYqHVe</td>\n      <td>cpc</td>\n      <td>NaN</td>\n      <td>NaN</td>\n      <td>VlqBmecIOXWjCWUmQkLd</td>\n      <td>desktop</td>\n      <td>Windows</td>\n      <td>NaN</td>\n      <td>NaN</td>\n      <td>1920x1080</td>\n      <td>Chrome</td>\n      <td>Russia</td>\n      <td>Moscow</td>\n    </tr>\n    <tr>\n      <th>1860038</th>\n      <td>9055421130527858185.1622007305.1622007305</td>\n      <td>2108379530.1622007305</td>\n      <td>2021-05-26</td>\n      <td>08:00:00</td>\n      <td>1</td>\n      <td>fDLlAcSmythWSCVMvqvL</td>\n      <td>(none)</td>\n      <td>LTuZkdKfxRGVceoWkVyg</td>\n      <td>JNHcPlZPxEMWDnRiyoBf</td>\n      <td>NaN</td>\n      <td>mobile</td>\n      <td>NaN</td>\n      <td>Apple</td>\n      <td>NaN</td>\n      <td>390x844</td>\n      <td>Safari</td>\n      <td>Russia</td>\n      <td>Stavropol</td>\n    </tr>\n    <tr>\n      <th>1860039</th>\n      <td>9055422955903931195.1636979515.1636979515</td>\n      <td>2108379955.1636979515</td>\n      <td>2021-11-15</td>\n      <td>15:31:55</td>\n      <td>1</td>\n      <td>fDLlAcSmythWSCVMvqvL</td>\n      <td>(none)</td>\n      <td>LTuZkdKfxRGVceoWkVyg</td>\n      <td>JNHcPlZPxEMWDnRiyoBf</td>\n      <td>puhZPIYqKXeFPaUviSjo</td>\n      <td>mobile</td>\n      <td>iOS</td>\n      <td>Apple</td>\n      <td>NaN</td>\n      <td>375x667</td>\n      <td>Safari</td>\n      <td>Russia</td>\n      <td>Moscow</td>\n    </tr>\n    <tr>\n      <th>1860040</th>\n      <td>905543020766873816.1638189404.1638189404</td>\n      <td>210838164.1638189272</td>\n      <td>2021-11-29</td>\n      <td>15:36:44</td>\n      <td>1</td>\n      <td>ZpYIoDJMcFzVoPFsHGJL</td>\n      <td>banner</td>\n      <td>LEoPHuyFvzoNfnzGgfcd</td>\n      <td>JNHcPlZPxEMWDnRiyoBf</td>\n      <td>puhZPIYqKXeFPaUviSjo</td>\n      <td>mobile</td>\n      <td>Android</td>\n      <td>Xiaomi</td>\n      <td>NaN</td>\n      <td>393x851</td>\n      <td>Chrome</td>\n      <td>Russia</td>\n      <td>Chelyabinsk</td>\n    </tr>\n    <tr>\n      <th>1860041</th>\n      <td>9055430416266113553.1640968742.1640968742</td>\n      <td>2108381692.1640968721</td>\n      <td>2021-12-31</td>\n      <td>19:39:02</td>\n      <td>1</td>\n      <td>fgymSoTvjKPEgaIJqsiH</td>\n      <td>cpm</td>\n      <td>FTjNLDyTrXaWYgZymFkV</td>\n      <td>yYdBRbPmBMUZHXwqGxNx</td>\n      <td>oKjXDUsycmahkgMhGdAR</td>\n      <td>desktop</td>\n      <td>Linux</td>\n      <td>NaN</td>\n      <td>NaN</td>\n      <td>1366x768</td>\n      <td>Chrome</td>\n      <td>Russia</td>\n      <td>Moscow</td>\n    </tr>\n  </tbody>\n</table>\n<p>1860042 rows × 18 columns</p>\n</div>"
     },
     "execution_count": 9,
     "metadata": {},
     "output_type": "execute_result"
    }
   ],
   "source": [
    "df2"
   ],
   "metadata": {
    "collapsed": false,
    "ExecuteTime": {
     "end_time": "2024-02-26T19:31:10.741579500Z",
     "start_time": "2024-02-26T19:31:10.554926600Z"
    }
   },
   "id": "b3f8cb08a9ad4fbd",
   "execution_count": 9
  },
  {
   "cell_type": "code",
   "outputs": [
    {
     "data": {
      "text/plain": "                                        session_id              client_id  \\\n77652    1100240274910044288.1640728207.1640728207   256169651.1637310592   \n122841   1303431342277938317.1637250145.1637250145   303478758.1637239949   \n136220   1364914954463538089.1637595059.1637595059   317794027.1634397097   \n136221   1364914954463538089.1638478637.1638478637   317794027.1634397097   \n139706   1380043242326371104.1637518268.1637518268   321316356.1636477728   \n...                                            ...                    ...   \n1629120  8025307339522195714.1638678933.1638678933  1868537473.1636712706   \n1629121  8025307339522195714.1638688249.1638688249  1868537473.1636712706   \n1629122  8025307339522195714.1638954236.1638954236  1868537473.1636712706   \n1732460   848873006059532776.1637459623.1637459623   197643648.1637396968   \n1772156  8663363699581084869.1636806863.1636806863  2017096546.1636525253   \n\n         visit_date visit_time  visit_number utm_source    utm_medium  \\\n77652    2021-12-29   00:50:07             2        NaN     (not set)   \n122841   2021-11-18   18:42:25             3        NaN  Sbol_catalog   \n136220   2021-11-22   18:30:59             8        NaN     (not set)   \n136221   2021-12-02   23:57:17             9        NaN     (not set)   \n139706   2021-11-21   21:11:08             4        NaN     (not set)   \n...             ...        ...           ...        ...           ...   \n1629120  2021-12-05   07:35:33            13        NaN     (not set)   \n1629121  2021-12-05   10:10:49            14        NaN     (not set)   \n1629122  2021-12-08   12:03:56            15        NaN     (not set)   \n1732460  2021-11-21   04:53:43             2        NaN     (not set)   \n1772156  2021-11-13   15:34:23             4        NaN     (not set)   \n\n                 utm_campaign         utm_adcontent           utm_keyword  \\\n77652    LTuZkdKfxRGVceoWkVyg  JNHcPlZPxEMWDnRiyoBf  puhZPIYqKXeFPaUviSjo   \n122841   cccMlyVfjXspfaCSrMsO  JNHcPlZPxEMWDnRiyoBf  puhZPIYqKXeFPaUviSjo   \n136220   LTuZkdKfxRGVceoWkVyg  JNHcPlZPxEMWDnRiyoBf  puhZPIYqKXeFPaUviSjo   \n136221   LTuZkdKfxRGVceoWkVyg  JNHcPlZPxEMWDnRiyoBf  puhZPIYqKXeFPaUviSjo   \n139706   LTuZkdKfxRGVceoWkVyg  JNHcPlZPxEMWDnRiyoBf  puhZPIYqKXeFPaUviSjo   \n...                       ...                   ...                   ...   \n1629120  LTuZkdKfxRGVceoWkVyg  JNHcPlZPxEMWDnRiyoBf  puhZPIYqKXeFPaUviSjo   \n1629121  LTuZkdKfxRGVceoWkVyg  JNHcPlZPxEMWDnRiyoBf  puhZPIYqKXeFPaUviSjo   \n1629122  LTuZkdKfxRGVceoWkVyg  JNHcPlZPxEMWDnRiyoBf  puhZPIYqKXeFPaUviSjo   \n1732460  LTuZkdKfxRGVceoWkVyg  JNHcPlZPxEMWDnRiyoBf  puhZPIYqKXeFPaUviSjo   \n1772156  LTuZkdKfxRGVceoWkVyg  JNHcPlZPxEMWDnRiyoBf  puhZPIYqKXeFPaUviSjo   \n\n        device_category device_os device_brand device_model  \\\n77652            mobile   Android      OnePlus          NaN   \n122841           mobile       iOS        Apple          NaN   \n136220           mobile   Android       Xiaomi          NaN   \n136221           mobile   Android       Xiaomi          NaN   \n139706           mobile   Android      Samsung          NaN   \n...                 ...       ...          ...          ...   \n1629120          mobile   Android       Huawei          NaN   \n1629121          mobile   Android       Huawei          NaN   \n1629122          mobile   Android       Huawei          NaN   \n1732460          mobile   Android       Xiaomi          NaN   \n1772156          mobile       iOS        Apple          NaN   \n\n        device_screen_resolution device_browser geo_country           geo_city  \n77652                    412x892         Chrome      Russia   Saint Petersburg  \n122841                   375x667         Safari      Russia         Balashikha  \n136220                   393x851      YaBrowser      Russia             Moscow  \n136221                   393x851      YaBrowser      Russia             Moscow  \n139706                   360x740         Chrome      Russia            Izhevsk  \n...                          ...            ...         ...                ...  \n1629120                  360x780         Chrome      Russia              Sochi  \n1629121                  360x780         Chrome      Russia          Krasnodar  \n1629122                  360x780         Chrome     Ukraine        Pereval's'k  \n1732460                  360x800         Chrome      Russia        Novosibirsk  \n1772156                  390x844         Safari      Russia  Yuzhno-Sakhalinsk  \n\n[97 rows x 18 columns]",
      "text/html": "<div>\n<style scoped>\n    .dataframe tbody tr th:only-of-type {\n        vertical-align: middle;\n    }\n\n    .dataframe tbody tr th {\n        vertical-align: top;\n    }\n\n    .dataframe thead th {\n        text-align: right;\n    }\n</style>\n<table border=\"1\" class=\"dataframe\">\n  <thead>\n    <tr style=\"text-align: right;\">\n      <th></th>\n      <th>session_id</th>\n      <th>client_id</th>\n      <th>visit_date</th>\n      <th>visit_time</th>\n      <th>visit_number</th>\n      <th>utm_source</th>\n      <th>utm_medium</th>\n      <th>utm_campaign</th>\n      <th>utm_adcontent</th>\n      <th>utm_keyword</th>\n      <th>device_category</th>\n      <th>device_os</th>\n      <th>device_brand</th>\n      <th>device_model</th>\n      <th>device_screen_resolution</th>\n      <th>device_browser</th>\n      <th>geo_country</th>\n      <th>geo_city</th>\n    </tr>\n  </thead>\n  <tbody>\n    <tr>\n      <th>77652</th>\n      <td>1100240274910044288.1640728207.1640728207</td>\n      <td>256169651.1637310592</td>\n      <td>2021-12-29</td>\n      <td>00:50:07</td>\n      <td>2</td>\n      <td>NaN</td>\n      <td>(not set)</td>\n      <td>LTuZkdKfxRGVceoWkVyg</td>\n      <td>JNHcPlZPxEMWDnRiyoBf</td>\n      <td>puhZPIYqKXeFPaUviSjo</td>\n      <td>mobile</td>\n      <td>Android</td>\n      <td>OnePlus</td>\n      <td>NaN</td>\n      <td>412x892</td>\n      <td>Chrome</td>\n      <td>Russia</td>\n      <td>Saint Petersburg</td>\n    </tr>\n    <tr>\n      <th>122841</th>\n      <td>1303431342277938317.1637250145.1637250145</td>\n      <td>303478758.1637239949</td>\n      <td>2021-11-18</td>\n      <td>18:42:25</td>\n      <td>3</td>\n      <td>NaN</td>\n      <td>Sbol_catalog</td>\n      <td>cccMlyVfjXspfaCSrMsO</td>\n      <td>JNHcPlZPxEMWDnRiyoBf</td>\n      <td>puhZPIYqKXeFPaUviSjo</td>\n      <td>mobile</td>\n      <td>iOS</td>\n      <td>Apple</td>\n      <td>NaN</td>\n      <td>375x667</td>\n      <td>Safari</td>\n      <td>Russia</td>\n      <td>Balashikha</td>\n    </tr>\n    <tr>\n      <th>136220</th>\n      <td>1364914954463538089.1637595059.1637595059</td>\n      <td>317794027.1634397097</td>\n      <td>2021-11-22</td>\n      <td>18:30:59</td>\n      <td>8</td>\n      <td>NaN</td>\n      <td>(not set)</td>\n      <td>LTuZkdKfxRGVceoWkVyg</td>\n      <td>JNHcPlZPxEMWDnRiyoBf</td>\n      <td>puhZPIYqKXeFPaUviSjo</td>\n      <td>mobile</td>\n      <td>Android</td>\n      <td>Xiaomi</td>\n      <td>NaN</td>\n      <td>393x851</td>\n      <td>YaBrowser</td>\n      <td>Russia</td>\n      <td>Moscow</td>\n    </tr>\n    <tr>\n      <th>136221</th>\n      <td>1364914954463538089.1638478637.1638478637</td>\n      <td>317794027.1634397097</td>\n      <td>2021-12-02</td>\n      <td>23:57:17</td>\n      <td>9</td>\n      <td>NaN</td>\n      <td>(not set)</td>\n      <td>LTuZkdKfxRGVceoWkVyg</td>\n      <td>JNHcPlZPxEMWDnRiyoBf</td>\n      <td>puhZPIYqKXeFPaUviSjo</td>\n      <td>mobile</td>\n      <td>Android</td>\n      <td>Xiaomi</td>\n      <td>NaN</td>\n      <td>393x851</td>\n      <td>YaBrowser</td>\n      <td>Russia</td>\n      <td>Moscow</td>\n    </tr>\n    <tr>\n      <th>139706</th>\n      <td>1380043242326371104.1637518268.1637518268</td>\n      <td>321316356.1636477728</td>\n      <td>2021-11-21</td>\n      <td>21:11:08</td>\n      <td>4</td>\n      <td>NaN</td>\n      <td>(not set)</td>\n      <td>LTuZkdKfxRGVceoWkVyg</td>\n      <td>JNHcPlZPxEMWDnRiyoBf</td>\n      <td>puhZPIYqKXeFPaUviSjo</td>\n      <td>mobile</td>\n      <td>Android</td>\n      <td>Samsung</td>\n      <td>NaN</td>\n      <td>360x740</td>\n      <td>Chrome</td>\n      <td>Russia</td>\n      <td>Izhevsk</td>\n    </tr>\n    <tr>\n      <th>...</th>\n      <td>...</td>\n      <td>...</td>\n      <td>...</td>\n      <td>...</td>\n      <td>...</td>\n      <td>...</td>\n      <td>...</td>\n      <td>...</td>\n      <td>...</td>\n      <td>...</td>\n      <td>...</td>\n      <td>...</td>\n      <td>...</td>\n      <td>...</td>\n      <td>...</td>\n      <td>...</td>\n      <td>...</td>\n      <td>...</td>\n    </tr>\n    <tr>\n      <th>1629120</th>\n      <td>8025307339522195714.1638678933.1638678933</td>\n      <td>1868537473.1636712706</td>\n      <td>2021-12-05</td>\n      <td>07:35:33</td>\n      <td>13</td>\n      <td>NaN</td>\n      <td>(not set)</td>\n      <td>LTuZkdKfxRGVceoWkVyg</td>\n      <td>JNHcPlZPxEMWDnRiyoBf</td>\n      <td>puhZPIYqKXeFPaUviSjo</td>\n      <td>mobile</td>\n      <td>Android</td>\n      <td>Huawei</td>\n      <td>NaN</td>\n      <td>360x780</td>\n      <td>Chrome</td>\n      <td>Russia</td>\n      <td>Sochi</td>\n    </tr>\n    <tr>\n      <th>1629121</th>\n      <td>8025307339522195714.1638688249.1638688249</td>\n      <td>1868537473.1636712706</td>\n      <td>2021-12-05</td>\n      <td>10:10:49</td>\n      <td>14</td>\n      <td>NaN</td>\n      <td>(not set)</td>\n      <td>LTuZkdKfxRGVceoWkVyg</td>\n      <td>JNHcPlZPxEMWDnRiyoBf</td>\n      <td>puhZPIYqKXeFPaUviSjo</td>\n      <td>mobile</td>\n      <td>Android</td>\n      <td>Huawei</td>\n      <td>NaN</td>\n      <td>360x780</td>\n      <td>Chrome</td>\n      <td>Russia</td>\n      <td>Krasnodar</td>\n    </tr>\n    <tr>\n      <th>1629122</th>\n      <td>8025307339522195714.1638954236.1638954236</td>\n      <td>1868537473.1636712706</td>\n      <td>2021-12-08</td>\n      <td>12:03:56</td>\n      <td>15</td>\n      <td>NaN</td>\n      <td>(not set)</td>\n      <td>LTuZkdKfxRGVceoWkVyg</td>\n      <td>JNHcPlZPxEMWDnRiyoBf</td>\n      <td>puhZPIYqKXeFPaUviSjo</td>\n      <td>mobile</td>\n      <td>Android</td>\n      <td>Huawei</td>\n      <td>NaN</td>\n      <td>360x780</td>\n      <td>Chrome</td>\n      <td>Ukraine</td>\n      <td>Pereval's'k</td>\n    </tr>\n    <tr>\n      <th>1732460</th>\n      <td>848873006059532776.1637459623.1637459623</td>\n      <td>197643648.1637396968</td>\n      <td>2021-11-21</td>\n      <td>04:53:43</td>\n      <td>2</td>\n      <td>NaN</td>\n      <td>(not set)</td>\n      <td>LTuZkdKfxRGVceoWkVyg</td>\n      <td>JNHcPlZPxEMWDnRiyoBf</td>\n      <td>puhZPIYqKXeFPaUviSjo</td>\n      <td>mobile</td>\n      <td>Android</td>\n      <td>Xiaomi</td>\n      <td>NaN</td>\n      <td>360x800</td>\n      <td>Chrome</td>\n      <td>Russia</td>\n      <td>Novosibirsk</td>\n    </tr>\n    <tr>\n      <th>1772156</th>\n      <td>8663363699581084869.1636806863.1636806863</td>\n      <td>2017096546.1636525253</td>\n      <td>2021-11-13</td>\n      <td>15:34:23</td>\n      <td>4</td>\n      <td>NaN</td>\n      <td>(not set)</td>\n      <td>LTuZkdKfxRGVceoWkVyg</td>\n      <td>JNHcPlZPxEMWDnRiyoBf</td>\n      <td>puhZPIYqKXeFPaUviSjo</td>\n      <td>mobile</td>\n      <td>iOS</td>\n      <td>Apple</td>\n      <td>NaN</td>\n      <td>390x844</td>\n      <td>Safari</td>\n      <td>Russia</td>\n      <td>Yuzhno-Sakhalinsk</td>\n    </tr>\n  </tbody>\n</table>\n<p>97 rows × 18 columns</p>\n</div>"
     },
     "execution_count": 15,
     "metadata": {},
     "output_type": "execute_result"
    }
   ],
   "source": [
    "df2[df2['utm_source'].isna()]"
   ],
   "metadata": {
    "collapsed": false,
    "ExecuteTime": {
     "end_time": "2024-02-18T12:50:17.346735800Z",
     "start_time": "2024-02-18T12:50:17.226123400Z"
    }
   },
   "id": "825bd3f7d4259bb3",
   "execution_count": 15
  },
  {
   "cell_type": "markdown",
   "source": [
    "Пишем функцию которая заполняет target_column значениями которые наипопулярны для заполненных строк при тех же комбинациях col1 и col2"
   ],
   "metadata": {
    "collapsed": false
   },
   "id": "4b41063c626c1ee"
  },
  {
   "cell_type": "code",
   "outputs": [],
   "source": [
    "def fill_missing_values_optimized(df, target_column, col1, col2):\n",
    "\n",
    "# Работаем с копией данных на случай ошибок в коде\n",
    "    df_copy = df.copy()\n",
    "\n",
    "# Создаем булевую серию, которая содержит True для NaN значений в целевой колонке\n",
    "    missing_rows = df_copy[target_column].isnull()\n",
    "\n",
    "# Создаем пустой словарь mode_dict, который будет использоваться для хранения рассчитанных значений моды для соответствующих комбинаций значений из столбцов 'col1' и 'col2'\n",
    "    mode_dict = {}\n",
    "\n",
    "# Первый цикл for итерируется по каждой строке DataFrame. Если в текущей строке нет пропущенного значения в 'target_column', а значения в 'col1' и 'col2' не являются NaN, то создается кортеж key из значений в 'col1' и 'col2'. Затем проверяется, есть ли такой ключ в mode_dict, и если нет, то рассчитывается мода для всех строк, у которых значения в 'col1' и 'col2' совпадают с текущей строкой, и результат добавляется в словарь\n",
    "    for i in range(df_copy.shape[0]):\n",
    "        if not missing_rows[i] and not pd.isna(df_copy.loc[i, col1]) and not pd.isna(df_copy.loc[i, col2]):\n",
    "            key = (df_copy.loc[i, col1], df_copy.loc[i, col2])\n",
    "            if key not in mode_dict:\n",
    "                matching_rows = df_copy.loc[(df_copy[col1] == df_copy.loc[i, col1]) &\n",
    "                                            (df_copy[col2] == df_copy.loc[i, col2])]\n",
    "                mode_dict[key] = matching_rows[target_column].mode()\n",
    "\n",
    "\n",
    "# Второй цикл for также итерируется по каждой строке DataFrame. Если в текущей строке есть пропущенное значение в 'target_column', и значения в 'col1' и 'col2' не являются NaN, то создается кортеж key из значений в 'col1' и 'col2'. Затем проверяется, есть ли такой ключ в mode_dict, и если есть, то пропущенное значение в 'target_column' заменяется на рассчитанное значение моды \n",
    "    for i in range(df_copy.shape[0]):\n",
    "        if missing_rows[i] and not pd.isna(df_copy.loc[i, col1]) and not pd.isna(df_copy.loc[i, col2]):\n",
    "            key = (df_copy.loc[i, col1], df_copy.loc[i, col2])\n",
    "            mode = mode_dict.get(key)\n",
    "            if mode is not None and len(mode) > 0:\n",
    "                df_copy.loc[i, target_column] = mode[0]\n",
    "\n",
    "    return df_copy"
   ],
   "metadata": {
    "collapsed": false,
    "ExecuteTime": {
     "end_time": "2024-02-18T20:35:43.651432400Z",
     "start_time": "2024-02-18T20:35:43.582434200Z"
    }
   },
   "id": "bd309c498ada2b6a",
   "execution_count": 17
  },
  {
   "cell_type": "markdown",
   "source": [
    "Далее очень старательно используем созданную функцию, что бы максимально не лишаться данных удалая или просто заменяя NaN значения"
   ],
   "metadata": {
    "collapsed": false
   },
   "id": "79956b040e2263c7"
  },
  {
   "cell_type": "code",
   "outputs": [],
   "source": [
    "df2_copy = df2.copy()"
   ],
   "metadata": {
    "collapsed": false,
    "ExecuteTime": {
     "end_time": "2024-02-18T12:50:17.730654800Z",
     "start_time": "2024-02-18T12:50:17.316736800Z"
    }
   },
   "id": "ab4dbdc56293774f",
   "execution_count": 17
  },
  {
   "cell_type": "code",
   "outputs": [],
   "source": [
    "df2_copy = fill_missing_values_optimized(df2_copy, 'utm_source', 'utm_campaign', 'utm_keyword')"
   ],
   "metadata": {
    "collapsed": false,
    "ExecuteTime": {
     "end_time": "2024-02-18T12:55:28.396633400Z",
     "start_time": "2024-02-18T12:50:17.620654900Z"
    }
   },
   "id": "7467302387e344dd",
   "execution_count": 18
  },
  {
   "cell_type": "code",
   "outputs": [
    {
     "data": {
      "text/plain": "                                        session_id              client_id  \\\n0        9055434745589932991.1637753792.1637753792  2108382700.1637753791   \n1         905544597018549464.1636867290.1636867290   210838531.1636867288   \n2        9055446045651783499.1640648526.1640648526  2108385331.1640648523   \n3        9055447046360770272.1622255328.1622255328  2108385564.1622255328   \n4        9055447046360770272.1622255345.1622255345  2108385564.1622255328   \n...                                            ...                    ...   \n1860037  9055415581448263752.1640159305.1640159305  2108378238.1640159304   \n1860038  9055421130527858185.1622007305.1622007305  2108379530.1622007305   \n1860039  9055422955903931195.1636979515.1636979515  2108379955.1636979515   \n1860040   905543020766873816.1638189404.1638189404   210838164.1638189272   \n1860041  9055430416266113553.1640968742.1640968742  2108381692.1640968721   \n\n         visit_date visit_time  visit_number            utm_source utm_medium  \\\n0        2021-11-24   14:36:32             1  ZpYIoDJMcFzVoPFsHGJL     banner   \n1        2021-11-14   08:21:30             1  MvfHsxITijuriZxsqZqt        cpm   \n2        2021-12-28   02:42:06             1  ZpYIoDJMcFzVoPFsHGJL     banner   \n3        2021-05-29   05:00:00             1  kjsLglQLzykiRbcDiGcD        cpc   \n4        2021-05-29   05:00:00             2  kjsLglQLzykiRbcDiGcD        cpc   \n...             ...        ...           ...                   ...        ...   \n1860037  2021-12-22   10:48:25             1  BHcvLfOaCWvWTykYqHVe        cpc   \n1860038  2021-05-26   08:00:00             1  fDLlAcSmythWSCVMvqvL     (none)   \n1860039  2021-11-15   15:31:55             1  fDLlAcSmythWSCVMvqvL     (none)   \n1860040  2021-11-29   15:36:44             1  ZpYIoDJMcFzVoPFsHGJL     banner   \n1860041  2021-12-31   19:39:02             1  fgymSoTvjKPEgaIJqsiH        cpm   \n\n                 utm_campaign         utm_adcontent           utm_keyword  \\\n0        LEoPHuyFvzoNfnzGgfcd  vCIpmpaGBnIQhyYNkXqp  puhZPIYqKXeFPaUviSjo   \n1        FTjNLDyTrXaWYgZymFkV  xhoenQgDQsgfEPYNPwKO  IGUCNvHlhfHpROGclCit   \n2        LEoPHuyFvzoNfnzGgfcd  vCIpmpaGBnIQhyYNkXqp  puhZPIYqKXeFPaUviSjo   \n3                         NaN  NOBKLgtuvqYWkXQHeYWM                   NaN   \n4                         NaN                   NaN                   NaN   \n...                       ...                   ...                   ...   \n1860037                   NaN                   NaN  VlqBmecIOXWjCWUmQkLd   \n1860038  LTuZkdKfxRGVceoWkVyg  JNHcPlZPxEMWDnRiyoBf                   NaN   \n1860039  LTuZkdKfxRGVceoWkVyg  JNHcPlZPxEMWDnRiyoBf  puhZPIYqKXeFPaUviSjo   \n1860040  LEoPHuyFvzoNfnzGgfcd  JNHcPlZPxEMWDnRiyoBf  puhZPIYqKXeFPaUviSjo   \n1860041  FTjNLDyTrXaWYgZymFkV  yYdBRbPmBMUZHXwqGxNx  oKjXDUsycmahkgMhGdAR   \n\n        device_category device_os device_brand device_model  \\\n0                mobile   Android       Huawei          NaN   \n1                mobile   Android      Samsung          NaN   \n2                mobile   Android       Huawei          NaN   \n3                mobile       NaN       Xiaomi          NaN   \n4                mobile       NaN       Xiaomi          NaN   \n...                 ...       ...          ...          ...   \n1860037         desktop   Windows          NaN          NaN   \n1860038          mobile       NaN        Apple          NaN   \n1860039          mobile       iOS        Apple          NaN   \n1860040          mobile   Android       Xiaomi          NaN   \n1860041         desktop     Linux          NaN          NaN   \n\n        device_screen_resolution    device_browser geo_country     geo_city  \n0                        360x720            Chrome      Russia     Zlatoust  \n1                        385x854  Samsung Internet      Russia       Moscow  \n2                        360x720            Chrome      Russia  Krasnoyarsk  \n3                        393x786            Chrome      Russia       Moscow  \n4                        393x786            Chrome      Russia       Moscow  \n...                          ...               ...         ...          ...  \n1860037                1920x1080            Chrome      Russia       Moscow  \n1860038                  390x844            Safari      Russia    Stavropol  \n1860039                  375x667            Safari      Russia       Moscow  \n1860040                  393x851            Chrome      Russia  Chelyabinsk  \n1860041                 1366x768            Chrome      Russia       Moscow  \n\n[1860042 rows x 18 columns]",
      "text/html": "<div>\n<style scoped>\n    .dataframe tbody tr th:only-of-type {\n        vertical-align: middle;\n    }\n\n    .dataframe tbody tr th {\n        vertical-align: top;\n    }\n\n    .dataframe thead th {\n        text-align: right;\n    }\n</style>\n<table border=\"1\" class=\"dataframe\">\n  <thead>\n    <tr style=\"text-align: right;\">\n      <th></th>\n      <th>session_id</th>\n      <th>client_id</th>\n      <th>visit_date</th>\n      <th>visit_time</th>\n      <th>visit_number</th>\n      <th>utm_source</th>\n      <th>utm_medium</th>\n      <th>utm_campaign</th>\n      <th>utm_adcontent</th>\n      <th>utm_keyword</th>\n      <th>device_category</th>\n      <th>device_os</th>\n      <th>device_brand</th>\n      <th>device_model</th>\n      <th>device_screen_resolution</th>\n      <th>device_browser</th>\n      <th>geo_country</th>\n      <th>geo_city</th>\n    </tr>\n  </thead>\n  <tbody>\n    <tr>\n      <th>0</th>\n      <td>9055434745589932991.1637753792.1637753792</td>\n      <td>2108382700.1637753791</td>\n      <td>2021-11-24</td>\n      <td>14:36:32</td>\n      <td>1</td>\n      <td>ZpYIoDJMcFzVoPFsHGJL</td>\n      <td>banner</td>\n      <td>LEoPHuyFvzoNfnzGgfcd</td>\n      <td>vCIpmpaGBnIQhyYNkXqp</td>\n      <td>puhZPIYqKXeFPaUviSjo</td>\n      <td>mobile</td>\n      <td>Android</td>\n      <td>Huawei</td>\n      <td>NaN</td>\n      <td>360x720</td>\n      <td>Chrome</td>\n      <td>Russia</td>\n      <td>Zlatoust</td>\n    </tr>\n    <tr>\n      <th>1</th>\n      <td>905544597018549464.1636867290.1636867290</td>\n      <td>210838531.1636867288</td>\n      <td>2021-11-14</td>\n      <td>08:21:30</td>\n      <td>1</td>\n      <td>MvfHsxITijuriZxsqZqt</td>\n      <td>cpm</td>\n      <td>FTjNLDyTrXaWYgZymFkV</td>\n      <td>xhoenQgDQsgfEPYNPwKO</td>\n      <td>IGUCNvHlhfHpROGclCit</td>\n      <td>mobile</td>\n      <td>Android</td>\n      <td>Samsung</td>\n      <td>NaN</td>\n      <td>385x854</td>\n      <td>Samsung Internet</td>\n      <td>Russia</td>\n      <td>Moscow</td>\n    </tr>\n    <tr>\n      <th>2</th>\n      <td>9055446045651783499.1640648526.1640648526</td>\n      <td>2108385331.1640648523</td>\n      <td>2021-12-28</td>\n      <td>02:42:06</td>\n      <td>1</td>\n      <td>ZpYIoDJMcFzVoPFsHGJL</td>\n      <td>banner</td>\n      <td>LEoPHuyFvzoNfnzGgfcd</td>\n      <td>vCIpmpaGBnIQhyYNkXqp</td>\n      <td>puhZPIYqKXeFPaUviSjo</td>\n      <td>mobile</td>\n      <td>Android</td>\n      <td>Huawei</td>\n      <td>NaN</td>\n      <td>360x720</td>\n      <td>Chrome</td>\n      <td>Russia</td>\n      <td>Krasnoyarsk</td>\n    </tr>\n    <tr>\n      <th>3</th>\n      <td>9055447046360770272.1622255328.1622255328</td>\n      <td>2108385564.1622255328</td>\n      <td>2021-05-29</td>\n      <td>05:00:00</td>\n      <td>1</td>\n      <td>kjsLglQLzykiRbcDiGcD</td>\n      <td>cpc</td>\n      <td>NaN</td>\n      <td>NOBKLgtuvqYWkXQHeYWM</td>\n      <td>NaN</td>\n      <td>mobile</td>\n      <td>NaN</td>\n      <td>Xiaomi</td>\n      <td>NaN</td>\n      <td>393x786</td>\n      <td>Chrome</td>\n      <td>Russia</td>\n      <td>Moscow</td>\n    </tr>\n    <tr>\n      <th>4</th>\n      <td>9055447046360770272.1622255345.1622255345</td>\n      <td>2108385564.1622255328</td>\n      <td>2021-05-29</td>\n      <td>05:00:00</td>\n      <td>2</td>\n      <td>kjsLglQLzykiRbcDiGcD</td>\n      <td>cpc</td>\n      <td>NaN</td>\n      <td>NaN</td>\n      <td>NaN</td>\n      <td>mobile</td>\n      <td>NaN</td>\n      <td>Xiaomi</td>\n      <td>NaN</td>\n      <td>393x786</td>\n      <td>Chrome</td>\n      <td>Russia</td>\n      <td>Moscow</td>\n    </tr>\n    <tr>\n      <th>...</th>\n      <td>...</td>\n      <td>...</td>\n      <td>...</td>\n      <td>...</td>\n      <td>...</td>\n      <td>...</td>\n      <td>...</td>\n      <td>...</td>\n      <td>...</td>\n      <td>...</td>\n      <td>...</td>\n      <td>...</td>\n      <td>...</td>\n      <td>...</td>\n      <td>...</td>\n      <td>...</td>\n      <td>...</td>\n      <td>...</td>\n    </tr>\n    <tr>\n      <th>1860037</th>\n      <td>9055415581448263752.1640159305.1640159305</td>\n      <td>2108378238.1640159304</td>\n      <td>2021-12-22</td>\n      <td>10:48:25</td>\n      <td>1</td>\n      <td>BHcvLfOaCWvWTykYqHVe</td>\n      <td>cpc</td>\n      <td>NaN</td>\n      <td>NaN</td>\n      <td>VlqBmecIOXWjCWUmQkLd</td>\n      <td>desktop</td>\n      <td>Windows</td>\n      <td>NaN</td>\n      <td>NaN</td>\n      <td>1920x1080</td>\n      <td>Chrome</td>\n      <td>Russia</td>\n      <td>Moscow</td>\n    </tr>\n    <tr>\n      <th>1860038</th>\n      <td>9055421130527858185.1622007305.1622007305</td>\n      <td>2108379530.1622007305</td>\n      <td>2021-05-26</td>\n      <td>08:00:00</td>\n      <td>1</td>\n      <td>fDLlAcSmythWSCVMvqvL</td>\n      <td>(none)</td>\n      <td>LTuZkdKfxRGVceoWkVyg</td>\n      <td>JNHcPlZPxEMWDnRiyoBf</td>\n      <td>NaN</td>\n      <td>mobile</td>\n      <td>NaN</td>\n      <td>Apple</td>\n      <td>NaN</td>\n      <td>390x844</td>\n      <td>Safari</td>\n      <td>Russia</td>\n      <td>Stavropol</td>\n    </tr>\n    <tr>\n      <th>1860039</th>\n      <td>9055422955903931195.1636979515.1636979515</td>\n      <td>2108379955.1636979515</td>\n      <td>2021-11-15</td>\n      <td>15:31:55</td>\n      <td>1</td>\n      <td>fDLlAcSmythWSCVMvqvL</td>\n      <td>(none)</td>\n      <td>LTuZkdKfxRGVceoWkVyg</td>\n      <td>JNHcPlZPxEMWDnRiyoBf</td>\n      <td>puhZPIYqKXeFPaUviSjo</td>\n      <td>mobile</td>\n      <td>iOS</td>\n      <td>Apple</td>\n      <td>NaN</td>\n      <td>375x667</td>\n      <td>Safari</td>\n      <td>Russia</td>\n      <td>Moscow</td>\n    </tr>\n    <tr>\n      <th>1860040</th>\n      <td>905543020766873816.1638189404.1638189404</td>\n      <td>210838164.1638189272</td>\n      <td>2021-11-29</td>\n      <td>15:36:44</td>\n      <td>1</td>\n      <td>ZpYIoDJMcFzVoPFsHGJL</td>\n      <td>banner</td>\n      <td>LEoPHuyFvzoNfnzGgfcd</td>\n      <td>JNHcPlZPxEMWDnRiyoBf</td>\n      <td>puhZPIYqKXeFPaUviSjo</td>\n      <td>mobile</td>\n      <td>Android</td>\n      <td>Xiaomi</td>\n      <td>NaN</td>\n      <td>393x851</td>\n      <td>Chrome</td>\n      <td>Russia</td>\n      <td>Chelyabinsk</td>\n    </tr>\n    <tr>\n      <th>1860041</th>\n      <td>9055430416266113553.1640968742.1640968742</td>\n      <td>2108381692.1640968721</td>\n      <td>2021-12-31</td>\n      <td>19:39:02</td>\n      <td>1</td>\n      <td>fgymSoTvjKPEgaIJqsiH</td>\n      <td>cpm</td>\n      <td>FTjNLDyTrXaWYgZymFkV</td>\n      <td>yYdBRbPmBMUZHXwqGxNx</td>\n      <td>oKjXDUsycmahkgMhGdAR</td>\n      <td>desktop</td>\n      <td>Linux</td>\n      <td>NaN</td>\n      <td>NaN</td>\n      <td>1366x768</td>\n      <td>Chrome</td>\n      <td>Russia</td>\n      <td>Moscow</td>\n    </tr>\n  </tbody>\n</table>\n<p>1860042 rows × 18 columns</p>\n</div>"
     },
     "execution_count": 19,
     "metadata": {},
     "output_type": "execute_result"
    }
   ],
   "source": [
    "df2_copy"
   ],
   "metadata": {
    "collapsed": false,
    "ExecuteTime": {
     "end_time": "2024-02-18T12:55:28.445616700Z",
     "start_time": "2024-02-18T12:55:28.399620900Z"
    }
   },
   "id": "c14a429e61bed6c3",
   "execution_count": 19
  },
  {
   "cell_type": "code",
   "outputs": [],
   "source": [
    "df2_copy = fill_missing_values_optimized(df2_copy, 'utm_campaign', 'utm_source', 'utm_keyword')"
   ],
   "metadata": {
    "collapsed": false,
    "ExecuteTime": {
     "end_time": "2024-02-18T13:01:25.000313400Z",
     "start_time": "2024-02-18T12:55:28.427617500Z"
    }
   },
   "id": "49a7ee658f01f854",
   "execution_count": 20
  },
  {
   "cell_type": "code",
   "outputs": [
    {
     "data": {
      "text/plain": "                                        session_id              client_id  \\\n0        9055434745589932991.1637753792.1637753792  2108382700.1637753791   \n1         905544597018549464.1636867290.1636867290   210838531.1636867288   \n2        9055446045651783499.1640648526.1640648526  2108385331.1640648523   \n3        9055447046360770272.1622255328.1622255328  2108385564.1622255328   \n4        9055447046360770272.1622255345.1622255345  2108385564.1622255328   \n...                                            ...                    ...   \n1860037  9055415581448263752.1640159305.1640159305  2108378238.1640159304   \n1860038  9055421130527858185.1622007305.1622007305  2108379530.1622007305   \n1860039  9055422955903931195.1636979515.1636979515  2108379955.1636979515   \n1860040   905543020766873816.1638189404.1638189404   210838164.1638189272   \n1860041  9055430416266113553.1640968742.1640968742  2108381692.1640968721   \n\n         visit_date visit_time  visit_number            utm_source utm_medium  \\\n0        2021-11-24   14:36:32             1  ZpYIoDJMcFzVoPFsHGJL     banner   \n1        2021-11-14   08:21:30             1  MvfHsxITijuriZxsqZqt        cpm   \n2        2021-12-28   02:42:06             1  ZpYIoDJMcFzVoPFsHGJL     banner   \n3        2021-05-29   05:00:00             1  kjsLglQLzykiRbcDiGcD        cpc   \n4        2021-05-29   05:00:00             2  kjsLglQLzykiRbcDiGcD        cpc   \n...             ...        ...           ...                   ...        ...   \n1860037  2021-12-22   10:48:25             1  BHcvLfOaCWvWTykYqHVe        cpc   \n1860038  2021-05-26   08:00:00             1  fDLlAcSmythWSCVMvqvL     (none)   \n1860039  2021-11-15   15:31:55             1  fDLlAcSmythWSCVMvqvL     (none)   \n1860040  2021-11-29   15:36:44             1  ZpYIoDJMcFzVoPFsHGJL     banner   \n1860041  2021-12-31   19:39:02             1  fgymSoTvjKPEgaIJqsiH        cpm   \n\n                 utm_campaign         utm_adcontent           utm_keyword  \\\n0        LEoPHuyFvzoNfnzGgfcd  vCIpmpaGBnIQhyYNkXqp  puhZPIYqKXeFPaUviSjo   \n1        FTjNLDyTrXaWYgZymFkV  xhoenQgDQsgfEPYNPwKO  IGUCNvHlhfHpROGclCit   \n2        LEoPHuyFvzoNfnzGgfcd  vCIpmpaGBnIQhyYNkXqp  puhZPIYqKXeFPaUviSjo   \n3                         NaN  NOBKLgtuvqYWkXQHeYWM                   NaN   \n4                         NaN                   NaN                   NaN   \n...                       ...                   ...                   ...   \n1860037                   NaN                   NaN  VlqBmecIOXWjCWUmQkLd   \n1860038  LTuZkdKfxRGVceoWkVyg  JNHcPlZPxEMWDnRiyoBf                   NaN   \n1860039  LTuZkdKfxRGVceoWkVyg  JNHcPlZPxEMWDnRiyoBf  puhZPIYqKXeFPaUviSjo   \n1860040  LEoPHuyFvzoNfnzGgfcd  JNHcPlZPxEMWDnRiyoBf  puhZPIYqKXeFPaUviSjo   \n1860041  FTjNLDyTrXaWYgZymFkV  yYdBRbPmBMUZHXwqGxNx  oKjXDUsycmahkgMhGdAR   \n\n        device_category device_os device_brand device_model  \\\n0                mobile   Android       Huawei          NaN   \n1                mobile   Android      Samsung          NaN   \n2                mobile   Android       Huawei          NaN   \n3                mobile       NaN       Xiaomi          NaN   \n4                mobile       NaN       Xiaomi          NaN   \n...                 ...       ...          ...          ...   \n1860037         desktop   Windows          NaN          NaN   \n1860038          mobile       NaN        Apple          NaN   \n1860039          mobile       iOS        Apple          NaN   \n1860040          mobile   Android       Xiaomi          NaN   \n1860041         desktop     Linux          NaN          NaN   \n\n        device_screen_resolution    device_browser geo_country     geo_city  \n0                        360x720            Chrome      Russia     Zlatoust  \n1                        385x854  Samsung Internet      Russia       Moscow  \n2                        360x720            Chrome      Russia  Krasnoyarsk  \n3                        393x786            Chrome      Russia       Moscow  \n4                        393x786            Chrome      Russia       Moscow  \n...                          ...               ...         ...          ...  \n1860037                1920x1080            Chrome      Russia       Moscow  \n1860038                  390x844            Safari      Russia    Stavropol  \n1860039                  375x667            Safari      Russia       Moscow  \n1860040                  393x851            Chrome      Russia  Chelyabinsk  \n1860041                 1366x768            Chrome      Russia       Moscow  \n\n[1860042 rows x 18 columns]",
      "text/html": "<div>\n<style scoped>\n    .dataframe tbody tr th:only-of-type {\n        vertical-align: middle;\n    }\n\n    .dataframe tbody tr th {\n        vertical-align: top;\n    }\n\n    .dataframe thead th {\n        text-align: right;\n    }\n</style>\n<table border=\"1\" class=\"dataframe\">\n  <thead>\n    <tr style=\"text-align: right;\">\n      <th></th>\n      <th>session_id</th>\n      <th>client_id</th>\n      <th>visit_date</th>\n      <th>visit_time</th>\n      <th>visit_number</th>\n      <th>utm_source</th>\n      <th>utm_medium</th>\n      <th>utm_campaign</th>\n      <th>utm_adcontent</th>\n      <th>utm_keyword</th>\n      <th>device_category</th>\n      <th>device_os</th>\n      <th>device_brand</th>\n      <th>device_model</th>\n      <th>device_screen_resolution</th>\n      <th>device_browser</th>\n      <th>geo_country</th>\n      <th>geo_city</th>\n    </tr>\n  </thead>\n  <tbody>\n    <tr>\n      <th>0</th>\n      <td>9055434745589932991.1637753792.1637753792</td>\n      <td>2108382700.1637753791</td>\n      <td>2021-11-24</td>\n      <td>14:36:32</td>\n      <td>1</td>\n      <td>ZpYIoDJMcFzVoPFsHGJL</td>\n      <td>banner</td>\n      <td>LEoPHuyFvzoNfnzGgfcd</td>\n      <td>vCIpmpaGBnIQhyYNkXqp</td>\n      <td>puhZPIYqKXeFPaUviSjo</td>\n      <td>mobile</td>\n      <td>Android</td>\n      <td>Huawei</td>\n      <td>NaN</td>\n      <td>360x720</td>\n      <td>Chrome</td>\n      <td>Russia</td>\n      <td>Zlatoust</td>\n    </tr>\n    <tr>\n      <th>1</th>\n      <td>905544597018549464.1636867290.1636867290</td>\n      <td>210838531.1636867288</td>\n      <td>2021-11-14</td>\n      <td>08:21:30</td>\n      <td>1</td>\n      <td>MvfHsxITijuriZxsqZqt</td>\n      <td>cpm</td>\n      <td>FTjNLDyTrXaWYgZymFkV</td>\n      <td>xhoenQgDQsgfEPYNPwKO</td>\n      <td>IGUCNvHlhfHpROGclCit</td>\n      <td>mobile</td>\n      <td>Android</td>\n      <td>Samsung</td>\n      <td>NaN</td>\n      <td>385x854</td>\n      <td>Samsung Internet</td>\n      <td>Russia</td>\n      <td>Moscow</td>\n    </tr>\n    <tr>\n      <th>2</th>\n      <td>9055446045651783499.1640648526.1640648526</td>\n      <td>2108385331.1640648523</td>\n      <td>2021-12-28</td>\n      <td>02:42:06</td>\n      <td>1</td>\n      <td>ZpYIoDJMcFzVoPFsHGJL</td>\n      <td>banner</td>\n      <td>LEoPHuyFvzoNfnzGgfcd</td>\n      <td>vCIpmpaGBnIQhyYNkXqp</td>\n      <td>puhZPIYqKXeFPaUviSjo</td>\n      <td>mobile</td>\n      <td>Android</td>\n      <td>Huawei</td>\n      <td>NaN</td>\n      <td>360x720</td>\n      <td>Chrome</td>\n      <td>Russia</td>\n      <td>Krasnoyarsk</td>\n    </tr>\n    <tr>\n      <th>3</th>\n      <td>9055447046360770272.1622255328.1622255328</td>\n      <td>2108385564.1622255328</td>\n      <td>2021-05-29</td>\n      <td>05:00:00</td>\n      <td>1</td>\n      <td>kjsLglQLzykiRbcDiGcD</td>\n      <td>cpc</td>\n      <td>NaN</td>\n      <td>NOBKLgtuvqYWkXQHeYWM</td>\n      <td>NaN</td>\n      <td>mobile</td>\n      <td>NaN</td>\n      <td>Xiaomi</td>\n      <td>NaN</td>\n      <td>393x786</td>\n      <td>Chrome</td>\n      <td>Russia</td>\n      <td>Moscow</td>\n    </tr>\n    <tr>\n      <th>4</th>\n      <td>9055447046360770272.1622255345.1622255345</td>\n      <td>2108385564.1622255328</td>\n      <td>2021-05-29</td>\n      <td>05:00:00</td>\n      <td>2</td>\n      <td>kjsLglQLzykiRbcDiGcD</td>\n      <td>cpc</td>\n      <td>NaN</td>\n      <td>NaN</td>\n      <td>NaN</td>\n      <td>mobile</td>\n      <td>NaN</td>\n      <td>Xiaomi</td>\n      <td>NaN</td>\n      <td>393x786</td>\n      <td>Chrome</td>\n      <td>Russia</td>\n      <td>Moscow</td>\n    </tr>\n    <tr>\n      <th>...</th>\n      <td>...</td>\n      <td>...</td>\n      <td>...</td>\n      <td>...</td>\n      <td>...</td>\n      <td>...</td>\n      <td>...</td>\n      <td>...</td>\n      <td>...</td>\n      <td>...</td>\n      <td>...</td>\n      <td>...</td>\n      <td>...</td>\n      <td>...</td>\n      <td>...</td>\n      <td>...</td>\n      <td>...</td>\n      <td>...</td>\n    </tr>\n    <tr>\n      <th>1860037</th>\n      <td>9055415581448263752.1640159305.1640159305</td>\n      <td>2108378238.1640159304</td>\n      <td>2021-12-22</td>\n      <td>10:48:25</td>\n      <td>1</td>\n      <td>BHcvLfOaCWvWTykYqHVe</td>\n      <td>cpc</td>\n      <td>NaN</td>\n      <td>NaN</td>\n      <td>VlqBmecIOXWjCWUmQkLd</td>\n      <td>desktop</td>\n      <td>Windows</td>\n      <td>NaN</td>\n      <td>NaN</td>\n      <td>1920x1080</td>\n      <td>Chrome</td>\n      <td>Russia</td>\n      <td>Moscow</td>\n    </tr>\n    <tr>\n      <th>1860038</th>\n      <td>9055421130527858185.1622007305.1622007305</td>\n      <td>2108379530.1622007305</td>\n      <td>2021-05-26</td>\n      <td>08:00:00</td>\n      <td>1</td>\n      <td>fDLlAcSmythWSCVMvqvL</td>\n      <td>(none)</td>\n      <td>LTuZkdKfxRGVceoWkVyg</td>\n      <td>JNHcPlZPxEMWDnRiyoBf</td>\n      <td>NaN</td>\n      <td>mobile</td>\n      <td>NaN</td>\n      <td>Apple</td>\n      <td>NaN</td>\n      <td>390x844</td>\n      <td>Safari</td>\n      <td>Russia</td>\n      <td>Stavropol</td>\n    </tr>\n    <tr>\n      <th>1860039</th>\n      <td>9055422955903931195.1636979515.1636979515</td>\n      <td>2108379955.1636979515</td>\n      <td>2021-11-15</td>\n      <td>15:31:55</td>\n      <td>1</td>\n      <td>fDLlAcSmythWSCVMvqvL</td>\n      <td>(none)</td>\n      <td>LTuZkdKfxRGVceoWkVyg</td>\n      <td>JNHcPlZPxEMWDnRiyoBf</td>\n      <td>puhZPIYqKXeFPaUviSjo</td>\n      <td>mobile</td>\n      <td>iOS</td>\n      <td>Apple</td>\n      <td>NaN</td>\n      <td>375x667</td>\n      <td>Safari</td>\n      <td>Russia</td>\n      <td>Moscow</td>\n    </tr>\n    <tr>\n      <th>1860040</th>\n      <td>905543020766873816.1638189404.1638189404</td>\n      <td>210838164.1638189272</td>\n      <td>2021-11-29</td>\n      <td>15:36:44</td>\n      <td>1</td>\n      <td>ZpYIoDJMcFzVoPFsHGJL</td>\n      <td>banner</td>\n      <td>LEoPHuyFvzoNfnzGgfcd</td>\n      <td>JNHcPlZPxEMWDnRiyoBf</td>\n      <td>puhZPIYqKXeFPaUviSjo</td>\n      <td>mobile</td>\n      <td>Android</td>\n      <td>Xiaomi</td>\n      <td>NaN</td>\n      <td>393x851</td>\n      <td>Chrome</td>\n      <td>Russia</td>\n      <td>Chelyabinsk</td>\n    </tr>\n    <tr>\n      <th>1860041</th>\n      <td>9055430416266113553.1640968742.1640968742</td>\n      <td>2108381692.1640968721</td>\n      <td>2021-12-31</td>\n      <td>19:39:02</td>\n      <td>1</td>\n      <td>fgymSoTvjKPEgaIJqsiH</td>\n      <td>cpm</td>\n      <td>FTjNLDyTrXaWYgZymFkV</td>\n      <td>yYdBRbPmBMUZHXwqGxNx</td>\n      <td>oKjXDUsycmahkgMhGdAR</td>\n      <td>desktop</td>\n      <td>Linux</td>\n      <td>NaN</td>\n      <td>NaN</td>\n      <td>1366x768</td>\n      <td>Chrome</td>\n      <td>Russia</td>\n      <td>Moscow</td>\n    </tr>\n  </tbody>\n</table>\n<p>1860042 rows × 18 columns</p>\n</div>"
     },
     "execution_count": 21,
     "metadata": {},
     "output_type": "execute_result"
    }
   ],
   "source": [
    "df2_copy"
   ],
   "metadata": {
    "collapsed": false,
    "ExecuteTime": {
     "end_time": "2024-02-18T13:01:25.020512300Z",
     "start_time": "2024-02-18T13:01:25.013314100Z"
    }
   },
   "id": "9b20946cf66722b5",
   "execution_count": 21
  },
  {
   "cell_type": "markdown",
   "source": [],
   "metadata": {
    "collapsed": false
   },
   "id": "5906ecdcb14aea2f"
  },
  {
   "cell_type": "code",
   "outputs": [],
   "source": [
    "df2_copy = fill_missing_values_optimized(df2_copy, 'utm_campaign', 'utm_source', 'utm_adcontent')"
   ],
   "metadata": {
    "collapsed": false,
    "ExecuteTime": {
     "end_time": "2024-02-18T13:04:24.978929700Z",
     "start_time": "2024-02-18T13:01:25.022511700Z"
    }
   },
   "id": "72a35a76d80eac76",
   "execution_count": 22
  },
  {
   "cell_type": "code",
   "outputs": [],
   "source": [
    "df2_copy = fill_missing_values_optimized(df2_copy, 'utm_adcontent', 'utm_source', 'utm_campaign')"
   ],
   "metadata": {
    "collapsed": false,
    "ExecuteTime": {
     "end_time": "2024-02-18T13:14:52.898410Z",
     "start_time": "2024-02-18T13:04:24.980930900Z"
    }
   },
   "id": "a4c58a14a9c09868",
   "execution_count": 23
  },
  {
   "cell_type": "code",
   "outputs": [],
   "source": [
    "df2_copy = fill_missing_values_optimized(df2_copy, 'utm_adcontent', 'utm_source', 'utm_keyword')"
   ],
   "metadata": {
    "collapsed": false,
    "ExecuteTime": {
     "end_time": "2024-02-18T13:18:30.658421800Z",
     "start_time": "2024-02-18T13:14:52.900406200Z"
    }
   },
   "id": "5d7f00450357d0fd",
   "execution_count": 24
  },
  {
   "cell_type": "code",
   "outputs": [],
   "source": [
    "df2_copy = fill_missing_values_optimized(df2_copy, 'utm_keyword', 'utm_source', 'utm_campaign')"
   ],
   "metadata": {
    "collapsed": false,
    "ExecuteTime": {
     "end_time": "2024-02-18T14:13:22.271618900Z",
     "start_time": "2024-02-18T13:18:30.661420600Z"
    }
   },
   "id": "a755e8e12185bef2",
   "execution_count": 25
  },
  {
   "cell_type": "code",
   "outputs": [],
   "source": [
    "df2_copy = fill_missing_values_optimized(df2_copy, 'utm_keyword', 'utm_source', 'utm_adcontent')"
   ],
   "metadata": {
    "collapsed": false,
    "ExecuteTime": {
     "end_time": "2024-02-18T14:16:50.681378100Z",
     "start_time": "2024-02-18T14:13:22.277145300Z"
    }
   },
   "id": "6d43f3308f65e857",
   "execution_count": 26
  },
  {
   "cell_type": "code",
   "outputs": [],
   "source": [
    "df2_copy = fill_missing_values_optimized(df2_copy, 'utm_keyword', 'utm_source', 'utm_medium')"
   ],
   "metadata": {
    "collapsed": false,
    "ExecuteTime": {
     "end_time": "2024-02-18T14:26:07.000548900Z",
     "start_time": "2024-02-18T14:16:50.684378400Z"
    }
   },
   "id": "6e81970834212350",
   "execution_count": 27
  },
  {
   "cell_type": "code",
   "outputs": [],
   "source": [
    "df2_copy = fill_missing_values_optimized(df2_copy, 'utm_adcontent', 'utm_source', 'utm_medium')"
   ],
   "metadata": {
    "collapsed": false,
    "ExecuteTime": {
     "end_time": "2024-02-18T14:39:42.418418300Z",
     "start_time": "2024-02-18T14:26:07.012953500Z"
    }
   },
   "id": "2bbe1bb46def578d",
   "execution_count": 28
  },
  {
   "cell_type": "code",
   "outputs": [],
   "source": [
    "df2_copy = fill_missing_values_optimized(df2_copy, 'utm_campaign', 'utm_source', 'utm_medium')"
   ],
   "metadata": {
    "collapsed": false,
    "ExecuteTime": {
     "end_time": "2024-02-18T14:48:41.300860400Z",
     "start_time": "2024-02-18T14:39:42.424188600Z"
    }
   },
   "id": "e12d9a82a9da16c1",
   "execution_count": 29
  },
  {
   "cell_type": "code",
   "outputs": [],
   "source": [],
   "metadata": {
    "collapsed": false,
    "ExecuteTime": {
     "end_time": "2024-02-18T14:48:41.319782200Z",
     "start_time": "2024-02-18T14:48:41.312787400Z"
    }
   },
   "id": "e763902368830067",
   "execution_count": 29
  },
  {
   "cell_type": "markdown",
   "source": [
    "Что бы работать с колонками device более оптимально добавляем еще одну колонку(потому что видим еще 3 полностью заполненных колонок)"
   ],
   "metadata": {
    "collapsed": false
   },
   "id": "6a3b4e143604bd4a"
  },
  {
   "cell_type": "code",
   "outputs": [],
   "source": [
    "def fill_missing_values_optimized_device(df, target_column, col1, col2, col3):\n",
    "\n",
    "    df_copy = df.copy()\n",
    "\n",
    "    missing_rows = df_copy[target_column].isnull()\n",
    "\n",
    "    mode_dict = {}\n",
    "    for i in range(df_copy.shape[0]):\n",
    "        if not missing_rows[i] and not pd.isna(df_copy.loc[i, col1]) and not pd.isna(df_copy.loc[i, col2]) and not pd.isna(df_copy.loc[i, col3]):\n",
    "            key = (df_copy.loc[i, col1], df_copy.loc[i, col2], df_copy.loc[i, col3])\n",
    "            if key not in mode_dict:\n",
    "                matching_rows = df_copy.loc[(df_copy[col1] == df_copy.loc[i, col1]) &\n",
    "                                            (df_copy[col2] == df_copy.loc[i, col2]) &\n",
    "                                            (df_copy[col3] == df_copy.loc[i, col3])]\n",
    "                mode_dict[key] = matching_rows[target_column].mode()\n",
    "\n",
    "\n",
    "    for i in range(df_copy.shape[0]):\n",
    "                if missing_rows[i] and not pd.isna(df_copy.loc[i, col1]) and not pd.isna(df_copy.loc[i, col2]) and not pd.isna(df_copy.loc[i, col3]):\n",
    "                    key = (df_copy.loc[i, col1], df_copy.loc[i, col2], df_copy.loc[i, col3])\n",
    "                    mode = mode_dict.get(key)\n",
    "                    if mode is not None and len(mode) > 0:\n",
    "                        df_copy.loc[i, target_column] = mode[0]\n",
    "\n",
    "    return df_copy"
   ],
   "metadata": {
    "collapsed": false,
    "ExecuteTime": {
     "end_time": "2024-02-18T20:35:49.274049400Z",
     "start_time": "2024-02-18T20:35:49.243930300Z"
    }
   },
   "id": "d1e4cb5d3c00e18",
   "execution_count": 18
  },
  {
   "cell_type": "code",
   "outputs": [],
   "source": [
    "df2_copy = fill_missing_values_optimized_device(df2_copy, 'device_os', 'device_browser', 'device_category', 'device_screen_resolution')"
   ],
   "metadata": {
    "collapsed": false,
    "ExecuteTime": {
     "end_time": "2024-02-18T16:11:08.669796Z",
     "start_time": "2024-02-18T14:48:41.346212500Z"
    }
   },
   "id": "51ce7d7e0183d94c",
   "execution_count": 31
  },
  {
   "cell_type": "code",
   "outputs": [],
   "source": [
    "df2_copy = fill_missing_values_optimized_device(df2_copy, 'device_brand', 'device_browser', 'device_category', 'device_screen_resolution')"
   ],
   "metadata": {
    "collapsed": false,
    "ExecuteTime": {
     "end_time": "2024-02-18T16:37:10.875745Z",
     "start_time": "2024-02-18T16:11:08.684349800Z"
    }
   },
   "id": "e897af428b694bec",
   "execution_count": 32
  },
  {
   "cell_type": "code",
   "outputs": [],
   "source": [
    "df2_copy = fill_missing_values_optimized_device(df2_copy, 'device_model', 'device_browser', 'device_category', 'device_screen_resolution')"
   ],
   "metadata": {
    "collapsed": false,
    "ExecuteTime": {
     "end_time": "2024-02-18T18:01:34.354191600Z",
     "start_time": "2024-02-18T16:37:10.877750700Z"
    }
   },
   "id": "e79829854c89758b",
   "execution_count": 33
  },
  {
   "cell_type": "code",
   "outputs": [],
   "source": [
    "df2_copy = fill_missing_values_optimized_device(df2_copy, 'device_model', 'device_browser', 'device_os', 'device_screen_resolution')"
   ],
   "metadata": {
    "collapsed": false,
    "ExecuteTime": {
     "end_time": "2024-02-18T18:11:34.160591300Z",
     "start_time": "2024-02-18T18:01:34.358180600Z"
    }
   },
   "id": "27b0dbc013165c52",
   "execution_count": 34
  },
  {
   "cell_type": "code",
   "outputs": [],
   "source": [
    "df2_copy = fill_missing_values_optimized_device(df2_copy, 'device_brand', 'device_browser', 'device_os', 'device_screen_resolution')"
   ],
   "metadata": {
    "collapsed": false,
    "ExecuteTime": {
     "end_time": "2024-02-18T18:38:09.645514500Z",
     "start_time": "2024-02-18T18:11:34.162584Z"
    }
   },
   "id": "66580bbc884cb18",
   "execution_count": 35
  },
  {
   "cell_type": "code",
   "outputs": [],
   "source": [
    "df2_copy = fill_missing_values_optimized_device(df2_copy, 'device_model', 'device_brand', 'device_os', 'device_screen_resolution')"
   ],
   "metadata": {
    "collapsed": false,
    "ExecuteTime": {
     "end_time": "2024-02-18T18:57:43.032856700Z",
     "start_time": "2024-02-18T18:38:09.648516800Z"
    }
   },
   "id": "1a1d0dac59213716",
   "execution_count": 36
  },
  {
   "cell_type": "code",
   "outputs": [],
   "source": [
    "df2_copy = fill_missing_values_optimized(df2_copy, 'utm_keyword', 'utm_adcontent', 'utm_campaign')"
   ],
   "metadata": {
    "collapsed": false,
    "ExecuteTime": {
     "end_time": "2024-02-18T19:01:47.241058Z",
     "start_time": "2024-02-18T18:57:43.045222300Z"
    }
   },
   "id": "336e9a7e309fb991",
   "execution_count": 37
  },
  {
   "cell_type": "code",
   "outputs": [
    {
     "data": {
      "text/plain": "                                        session_id              client_id  \\\n0        9055434745589932991.1637753792.1637753792  2108382700.1637753791   \n1         905544597018549464.1636867290.1636867290   210838531.1636867288   \n2        9055446045651783499.1640648526.1640648526  2108385331.1640648523   \n3        9055447046360770272.1622255328.1622255328  2108385564.1622255328   \n4        9055447046360770272.1622255345.1622255345  2108385564.1622255328   \n...                                            ...                    ...   \n1860037  9055415581448263752.1640159305.1640159305  2108378238.1640159304   \n1860038  9055421130527858185.1622007305.1622007305  2108379530.1622007305   \n1860039  9055422955903931195.1636979515.1636979515  2108379955.1636979515   \n1860040   905543020766873816.1638189404.1638189404   210838164.1638189272   \n1860041  9055430416266113553.1640968742.1640968742  2108381692.1640968721   \n\n         visit_date visit_time  visit_number            utm_source utm_medium  \\\n0        2021-11-24   14:36:32             1  ZpYIoDJMcFzVoPFsHGJL     banner   \n1        2021-11-14   08:21:30             1  MvfHsxITijuriZxsqZqt        cpm   \n2        2021-12-28   02:42:06             1  ZpYIoDJMcFzVoPFsHGJL     banner   \n3        2021-05-29   05:00:00             1  kjsLglQLzykiRbcDiGcD        cpc   \n4        2021-05-29   05:00:00             2  kjsLglQLzykiRbcDiGcD        cpc   \n...             ...        ...           ...                   ...        ...   \n1860037  2021-12-22   10:48:25             1  BHcvLfOaCWvWTykYqHVe        cpc   \n1860038  2021-05-26   08:00:00             1  fDLlAcSmythWSCVMvqvL     (none)   \n1860039  2021-11-15   15:31:55             1  fDLlAcSmythWSCVMvqvL     (none)   \n1860040  2021-11-29   15:36:44             1  ZpYIoDJMcFzVoPFsHGJL     banner   \n1860041  2021-12-31   19:39:02             1  fgymSoTvjKPEgaIJqsiH        cpm   \n\n                 utm_campaign         utm_adcontent           utm_keyword  \\\n0        LEoPHuyFvzoNfnzGgfcd  vCIpmpaGBnIQhyYNkXqp  puhZPIYqKXeFPaUviSjo   \n1        FTjNLDyTrXaWYgZymFkV  xhoenQgDQsgfEPYNPwKO  IGUCNvHlhfHpROGclCit   \n2        LEoPHuyFvzoNfnzGgfcd  vCIpmpaGBnIQhyYNkXqp  puhZPIYqKXeFPaUviSjo   \n3        fJCYsujgSxIHFbOmgDdN  NOBKLgtuvqYWkXQHeYWM  tzIeQUUHahhBuEkJqDVp   \n4        XHNUiSKKGTEpSAlaVMFQ  JNHcPlZPxEMWDnRiyoBf  hAmNSZmQkKQKAjZEGlgb   \n...                       ...                   ...                   ...   \n1860037  LTuZkdKfxRGVceoWkVyg  JNHcPlZPxEMWDnRiyoBf  VlqBmecIOXWjCWUmQkLd   \n1860038  LTuZkdKfxRGVceoWkVyg  JNHcPlZPxEMWDnRiyoBf  puhZPIYqKXeFPaUviSjo   \n1860039  LTuZkdKfxRGVceoWkVyg  JNHcPlZPxEMWDnRiyoBf  puhZPIYqKXeFPaUviSjo   \n1860040  LEoPHuyFvzoNfnzGgfcd  JNHcPlZPxEMWDnRiyoBf  puhZPIYqKXeFPaUviSjo   \n1860041  FTjNLDyTrXaWYgZymFkV  yYdBRbPmBMUZHXwqGxNx  oKjXDUsycmahkgMhGdAR   \n\n        device_category device_os device_brand          device_model  \\\n0                mobile   Android       Huawei  AuMdmADEIoPXiWpTsBEj   \n1                mobile   Android      Samsung  AuMdmADEIoPXiWpTsBEj   \n2                mobile   Android       Huawei  AuMdmADEIoPXiWpTsBEj   \n3                mobile   Android       Xiaomi  AuMdmADEIoPXiWpTsBEj   \n4                mobile   Android       Xiaomi  AuMdmADEIoPXiWpTsBEj   \n...                 ...       ...          ...                   ...   \n1860037         desktop   Windows      Samsung  AuMdmADEIoPXiWpTsBEj   \n1860038          mobile       iOS        Apple  AuMdmADEIoPXiWpTsBEj   \n1860039          mobile       iOS        Apple  AuMdmADEIoPXiWpTsBEj   \n1860040          mobile   Android       Xiaomi  AuMdmADEIoPXiWpTsBEj   \n1860041         desktop     Linux          NaN                   NaN   \n\n        device_screen_resolution    device_browser geo_country     geo_city  \n0                        360x720            Chrome      Russia     Zlatoust  \n1                        385x854  Samsung Internet      Russia       Moscow  \n2                        360x720            Chrome      Russia  Krasnoyarsk  \n3                        393x786            Chrome      Russia       Moscow  \n4                        393x786            Chrome      Russia       Moscow  \n...                          ...               ...         ...          ...  \n1860037                1920x1080            Chrome      Russia       Moscow  \n1860038                  390x844            Safari      Russia    Stavropol  \n1860039                  375x667            Safari      Russia       Moscow  \n1860040                  393x851            Chrome      Russia  Chelyabinsk  \n1860041                 1366x768            Chrome      Russia       Moscow  \n\n[1860042 rows x 18 columns]",
      "text/html": "<div>\n<style scoped>\n    .dataframe tbody tr th:only-of-type {\n        vertical-align: middle;\n    }\n\n    .dataframe tbody tr th {\n        vertical-align: top;\n    }\n\n    .dataframe thead th {\n        text-align: right;\n    }\n</style>\n<table border=\"1\" class=\"dataframe\">\n  <thead>\n    <tr style=\"text-align: right;\">\n      <th></th>\n      <th>session_id</th>\n      <th>client_id</th>\n      <th>visit_date</th>\n      <th>visit_time</th>\n      <th>visit_number</th>\n      <th>utm_source</th>\n      <th>utm_medium</th>\n      <th>utm_campaign</th>\n      <th>utm_adcontent</th>\n      <th>utm_keyword</th>\n      <th>device_category</th>\n      <th>device_os</th>\n      <th>device_brand</th>\n      <th>device_model</th>\n      <th>device_screen_resolution</th>\n      <th>device_browser</th>\n      <th>geo_country</th>\n      <th>geo_city</th>\n    </tr>\n  </thead>\n  <tbody>\n    <tr>\n      <th>0</th>\n      <td>9055434745589932991.1637753792.1637753792</td>\n      <td>2108382700.1637753791</td>\n      <td>2021-11-24</td>\n      <td>14:36:32</td>\n      <td>1</td>\n      <td>ZpYIoDJMcFzVoPFsHGJL</td>\n      <td>banner</td>\n      <td>LEoPHuyFvzoNfnzGgfcd</td>\n      <td>vCIpmpaGBnIQhyYNkXqp</td>\n      <td>puhZPIYqKXeFPaUviSjo</td>\n      <td>mobile</td>\n      <td>Android</td>\n      <td>Huawei</td>\n      <td>AuMdmADEIoPXiWpTsBEj</td>\n      <td>360x720</td>\n      <td>Chrome</td>\n      <td>Russia</td>\n      <td>Zlatoust</td>\n    </tr>\n    <tr>\n      <th>1</th>\n      <td>905544597018549464.1636867290.1636867290</td>\n      <td>210838531.1636867288</td>\n      <td>2021-11-14</td>\n      <td>08:21:30</td>\n      <td>1</td>\n      <td>MvfHsxITijuriZxsqZqt</td>\n      <td>cpm</td>\n      <td>FTjNLDyTrXaWYgZymFkV</td>\n      <td>xhoenQgDQsgfEPYNPwKO</td>\n      <td>IGUCNvHlhfHpROGclCit</td>\n      <td>mobile</td>\n      <td>Android</td>\n      <td>Samsung</td>\n      <td>AuMdmADEIoPXiWpTsBEj</td>\n      <td>385x854</td>\n      <td>Samsung Internet</td>\n      <td>Russia</td>\n      <td>Moscow</td>\n    </tr>\n    <tr>\n      <th>2</th>\n      <td>9055446045651783499.1640648526.1640648526</td>\n      <td>2108385331.1640648523</td>\n      <td>2021-12-28</td>\n      <td>02:42:06</td>\n      <td>1</td>\n      <td>ZpYIoDJMcFzVoPFsHGJL</td>\n      <td>banner</td>\n      <td>LEoPHuyFvzoNfnzGgfcd</td>\n      <td>vCIpmpaGBnIQhyYNkXqp</td>\n      <td>puhZPIYqKXeFPaUviSjo</td>\n      <td>mobile</td>\n      <td>Android</td>\n      <td>Huawei</td>\n      <td>AuMdmADEIoPXiWpTsBEj</td>\n      <td>360x720</td>\n      <td>Chrome</td>\n      <td>Russia</td>\n      <td>Krasnoyarsk</td>\n    </tr>\n    <tr>\n      <th>3</th>\n      <td>9055447046360770272.1622255328.1622255328</td>\n      <td>2108385564.1622255328</td>\n      <td>2021-05-29</td>\n      <td>05:00:00</td>\n      <td>1</td>\n      <td>kjsLglQLzykiRbcDiGcD</td>\n      <td>cpc</td>\n      <td>fJCYsujgSxIHFbOmgDdN</td>\n      <td>NOBKLgtuvqYWkXQHeYWM</td>\n      <td>tzIeQUUHahhBuEkJqDVp</td>\n      <td>mobile</td>\n      <td>Android</td>\n      <td>Xiaomi</td>\n      <td>AuMdmADEIoPXiWpTsBEj</td>\n      <td>393x786</td>\n      <td>Chrome</td>\n      <td>Russia</td>\n      <td>Moscow</td>\n    </tr>\n    <tr>\n      <th>4</th>\n      <td>9055447046360770272.1622255345.1622255345</td>\n      <td>2108385564.1622255328</td>\n      <td>2021-05-29</td>\n      <td>05:00:00</td>\n      <td>2</td>\n      <td>kjsLglQLzykiRbcDiGcD</td>\n      <td>cpc</td>\n      <td>XHNUiSKKGTEpSAlaVMFQ</td>\n      <td>JNHcPlZPxEMWDnRiyoBf</td>\n      <td>hAmNSZmQkKQKAjZEGlgb</td>\n      <td>mobile</td>\n      <td>Android</td>\n      <td>Xiaomi</td>\n      <td>AuMdmADEIoPXiWpTsBEj</td>\n      <td>393x786</td>\n      <td>Chrome</td>\n      <td>Russia</td>\n      <td>Moscow</td>\n    </tr>\n    <tr>\n      <th>...</th>\n      <td>...</td>\n      <td>...</td>\n      <td>...</td>\n      <td>...</td>\n      <td>...</td>\n      <td>...</td>\n      <td>...</td>\n      <td>...</td>\n      <td>...</td>\n      <td>...</td>\n      <td>...</td>\n      <td>...</td>\n      <td>...</td>\n      <td>...</td>\n      <td>...</td>\n      <td>...</td>\n      <td>...</td>\n      <td>...</td>\n    </tr>\n    <tr>\n      <th>1860037</th>\n      <td>9055415581448263752.1640159305.1640159305</td>\n      <td>2108378238.1640159304</td>\n      <td>2021-12-22</td>\n      <td>10:48:25</td>\n      <td>1</td>\n      <td>BHcvLfOaCWvWTykYqHVe</td>\n      <td>cpc</td>\n      <td>LTuZkdKfxRGVceoWkVyg</td>\n      <td>JNHcPlZPxEMWDnRiyoBf</td>\n      <td>VlqBmecIOXWjCWUmQkLd</td>\n      <td>desktop</td>\n      <td>Windows</td>\n      <td>Samsung</td>\n      <td>AuMdmADEIoPXiWpTsBEj</td>\n      <td>1920x1080</td>\n      <td>Chrome</td>\n      <td>Russia</td>\n      <td>Moscow</td>\n    </tr>\n    <tr>\n      <th>1860038</th>\n      <td>9055421130527858185.1622007305.1622007305</td>\n      <td>2108379530.1622007305</td>\n      <td>2021-05-26</td>\n      <td>08:00:00</td>\n      <td>1</td>\n      <td>fDLlAcSmythWSCVMvqvL</td>\n      <td>(none)</td>\n      <td>LTuZkdKfxRGVceoWkVyg</td>\n      <td>JNHcPlZPxEMWDnRiyoBf</td>\n      <td>puhZPIYqKXeFPaUviSjo</td>\n      <td>mobile</td>\n      <td>iOS</td>\n      <td>Apple</td>\n      <td>AuMdmADEIoPXiWpTsBEj</td>\n      <td>390x844</td>\n      <td>Safari</td>\n      <td>Russia</td>\n      <td>Stavropol</td>\n    </tr>\n    <tr>\n      <th>1860039</th>\n      <td>9055422955903931195.1636979515.1636979515</td>\n      <td>2108379955.1636979515</td>\n      <td>2021-11-15</td>\n      <td>15:31:55</td>\n      <td>1</td>\n      <td>fDLlAcSmythWSCVMvqvL</td>\n      <td>(none)</td>\n      <td>LTuZkdKfxRGVceoWkVyg</td>\n      <td>JNHcPlZPxEMWDnRiyoBf</td>\n      <td>puhZPIYqKXeFPaUviSjo</td>\n      <td>mobile</td>\n      <td>iOS</td>\n      <td>Apple</td>\n      <td>AuMdmADEIoPXiWpTsBEj</td>\n      <td>375x667</td>\n      <td>Safari</td>\n      <td>Russia</td>\n      <td>Moscow</td>\n    </tr>\n    <tr>\n      <th>1860040</th>\n      <td>905543020766873816.1638189404.1638189404</td>\n      <td>210838164.1638189272</td>\n      <td>2021-11-29</td>\n      <td>15:36:44</td>\n      <td>1</td>\n      <td>ZpYIoDJMcFzVoPFsHGJL</td>\n      <td>banner</td>\n      <td>LEoPHuyFvzoNfnzGgfcd</td>\n      <td>JNHcPlZPxEMWDnRiyoBf</td>\n      <td>puhZPIYqKXeFPaUviSjo</td>\n      <td>mobile</td>\n      <td>Android</td>\n      <td>Xiaomi</td>\n      <td>AuMdmADEIoPXiWpTsBEj</td>\n      <td>393x851</td>\n      <td>Chrome</td>\n      <td>Russia</td>\n      <td>Chelyabinsk</td>\n    </tr>\n    <tr>\n      <th>1860041</th>\n      <td>9055430416266113553.1640968742.1640968742</td>\n      <td>2108381692.1640968721</td>\n      <td>2021-12-31</td>\n      <td>19:39:02</td>\n      <td>1</td>\n      <td>fgymSoTvjKPEgaIJqsiH</td>\n      <td>cpm</td>\n      <td>FTjNLDyTrXaWYgZymFkV</td>\n      <td>yYdBRbPmBMUZHXwqGxNx</td>\n      <td>oKjXDUsycmahkgMhGdAR</td>\n      <td>desktop</td>\n      <td>Linux</td>\n      <td>NaN</td>\n      <td>NaN</td>\n      <td>1366x768</td>\n      <td>Chrome</td>\n      <td>Russia</td>\n      <td>Moscow</td>\n    </tr>\n  </tbody>\n</table>\n<p>1860042 rows × 18 columns</p>\n</div>"
     },
     "execution_count": 38,
     "metadata": {},
     "output_type": "execute_result"
    }
   ],
   "source": [
    "df2_copy"
   ],
   "metadata": {
    "collapsed": false,
    "ExecuteTime": {
     "end_time": "2024-02-18T19:01:47.264109800Z",
     "start_time": "2024-02-18T19:01:47.243056900Z"
    }
   },
   "id": "8c3b4a6e50a77f5f",
   "execution_count": 38
  },
  {
   "cell_type": "code",
   "outputs": [
    {
     "data": {
      "text/plain": "                                        session_id              client_id  \\\n0        9055434745589932991.1637753792.1637753792  2108382700.1637753791   \n1         905544597018549464.1636867290.1636867290   210838531.1636867288   \n2        9055446045651783499.1640648526.1640648526  2108385331.1640648523   \n3        9055447046360770272.1622255328.1622255328  2108385564.1622255328   \n4        9055447046360770272.1622255345.1622255345  2108385564.1622255328   \n...                                            ...                    ...   \n1860037  9055415581448263752.1640159305.1640159305  2108378238.1640159304   \n1860038  9055421130527858185.1622007305.1622007305  2108379530.1622007305   \n1860039  9055422955903931195.1636979515.1636979515  2108379955.1636979515   \n1860040   905543020766873816.1638189404.1638189404   210838164.1638189272   \n1860041  9055430416266113553.1640968742.1640968742  2108381692.1640968721   \n\n         visit_date visit_time  visit_number            utm_source utm_medium  \\\n0        2021-11-24   14:36:32             1  ZpYIoDJMcFzVoPFsHGJL     banner   \n1        2021-11-14   08:21:30             1  MvfHsxITijuriZxsqZqt        cpm   \n2        2021-12-28   02:42:06             1  ZpYIoDJMcFzVoPFsHGJL     banner   \n3        2021-05-29   05:00:00             1  kjsLglQLzykiRbcDiGcD        cpc   \n4        2021-05-29   05:00:00             2  kjsLglQLzykiRbcDiGcD        cpc   \n...             ...        ...           ...                   ...        ...   \n1860037  2021-12-22   10:48:25             1  BHcvLfOaCWvWTykYqHVe        cpc   \n1860038  2021-05-26   08:00:00             1  fDLlAcSmythWSCVMvqvL     (none)   \n1860039  2021-11-15   15:31:55             1  fDLlAcSmythWSCVMvqvL     (none)   \n1860040  2021-11-29   15:36:44             1  ZpYIoDJMcFzVoPFsHGJL     banner   \n1860041  2021-12-31   19:39:02             1  fgymSoTvjKPEgaIJqsiH        cpm   \n\n                 utm_campaign         utm_adcontent           utm_keyword  \\\n0        LEoPHuyFvzoNfnzGgfcd  vCIpmpaGBnIQhyYNkXqp  puhZPIYqKXeFPaUviSjo   \n1        FTjNLDyTrXaWYgZymFkV  xhoenQgDQsgfEPYNPwKO  IGUCNvHlhfHpROGclCit   \n2        LEoPHuyFvzoNfnzGgfcd  vCIpmpaGBnIQhyYNkXqp  puhZPIYqKXeFPaUviSjo   \n3        fJCYsujgSxIHFbOmgDdN  NOBKLgtuvqYWkXQHeYWM  tzIeQUUHahhBuEkJqDVp   \n4        XHNUiSKKGTEpSAlaVMFQ  JNHcPlZPxEMWDnRiyoBf  hAmNSZmQkKQKAjZEGlgb   \n...                       ...                   ...                   ...   \n1860037  LTuZkdKfxRGVceoWkVyg  JNHcPlZPxEMWDnRiyoBf  VlqBmecIOXWjCWUmQkLd   \n1860038  LTuZkdKfxRGVceoWkVyg  JNHcPlZPxEMWDnRiyoBf  puhZPIYqKXeFPaUviSjo   \n1860039  LTuZkdKfxRGVceoWkVyg  JNHcPlZPxEMWDnRiyoBf  puhZPIYqKXeFPaUviSjo   \n1860040  LEoPHuyFvzoNfnzGgfcd  JNHcPlZPxEMWDnRiyoBf  puhZPIYqKXeFPaUviSjo   \n1860041  FTjNLDyTrXaWYgZymFkV  yYdBRbPmBMUZHXwqGxNx  oKjXDUsycmahkgMhGdAR   \n\n        device_category device_os device_brand          device_model  \\\n0                mobile   Android       Huawei  AuMdmADEIoPXiWpTsBEj   \n1                mobile   Android      Samsung  AuMdmADEIoPXiWpTsBEj   \n2                mobile   Android       Huawei  AuMdmADEIoPXiWpTsBEj   \n3                mobile   Android       Xiaomi  AuMdmADEIoPXiWpTsBEj   \n4                mobile   Android       Xiaomi  AuMdmADEIoPXiWpTsBEj   \n...                 ...       ...          ...                   ...   \n1860037         desktop   Windows      Samsung  AuMdmADEIoPXiWpTsBEj   \n1860038          mobile       iOS        Apple  AuMdmADEIoPXiWpTsBEj   \n1860039          mobile       iOS        Apple  AuMdmADEIoPXiWpTsBEj   \n1860040          mobile   Android       Xiaomi  AuMdmADEIoPXiWpTsBEj   \n1860041         desktop     Linux          NaN                   NaN   \n\n        device_screen_resolution    device_browser geo_country     geo_city  \n0                        360x720            Chrome      Russia     Zlatoust  \n1                        385x854  Samsung Internet      Russia       Moscow  \n2                        360x720            Chrome      Russia  Krasnoyarsk  \n3                        393x786            Chrome      Russia       Moscow  \n4                        393x786            Chrome      Russia       Moscow  \n...                          ...               ...         ...          ...  \n1860037                1920x1080            Chrome      Russia       Moscow  \n1860038                  390x844            Safari      Russia    Stavropol  \n1860039                  375x667            Safari      Russia       Moscow  \n1860040                  393x851            Chrome      Russia  Chelyabinsk  \n1860041                 1366x768            Chrome      Russia       Moscow  \n\n[1860042 rows x 18 columns]",
      "text/html": "<div>\n<style scoped>\n    .dataframe tbody tr th:only-of-type {\n        vertical-align: middle;\n    }\n\n    .dataframe tbody tr th {\n        vertical-align: top;\n    }\n\n    .dataframe thead th {\n        text-align: right;\n    }\n</style>\n<table border=\"1\" class=\"dataframe\">\n  <thead>\n    <tr style=\"text-align: right;\">\n      <th></th>\n      <th>session_id</th>\n      <th>client_id</th>\n      <th>visit_date</th>\n      <th>visit_time</th>\n      <th>visit_number</th>\n      <th>utm_source</th>\n      <th>utm_medium</th>\n      <th>utm_campaign</th>\n      <th>utm_adcontent</th>\n      <th>utm_keyword</th>\n      <th>device_category</th>\n      <th>device_os</th>\n      <th>device_brand</th>\n      <th>device_model</th>\n      <th>device_screen_resolution</th>\n      <th>device_browser</th>\n      <th>geo_country</th>\n      <th>geo_city</th>\n    </tr>\n  </thead>\n  <tbody>\n    <tr>\n      <th>0</th>\n      <td>9055434745589932991.1637753792.1637753792</td>\n      <td>2108382700.1637753791</td>\n      <td>2021-11-24</td>\n      <td>14:36:32</td>\n      <td>1</td>\n      <td>ZpYIoDJMcFzVoPFsHGJL</td>\n      <td>banner</td>\n      <td>LEoPHuyFvzoNfnzGgfcd</td>\n      <td>vCIpmpaGBnIQhyYNkXqp</td>\n      <td>puhZPIYqKXeFPaUviSjo</td>\n      <td>mobile</td>\n      <td>Android</td>\n      <td>Huawei</td>\n      <td>AuMdmADEIoPXiWpTsBEj</td>\n      <td>360x720</td>\n      <td>Chrome</td>\n      <td>Russia</td>\n      <td>Zlatoust</td>\n    </tr>\n    <tr>\n      <th>1</th>\n      <td>905544597018549464.1636867290.1636867290</td>\n      <td>210838531.1636867288</td>\n      <td>2021-11-14</td>\n      <td>08:21:30</td>\n      <td>1</td>\n      <td>MvfHsxITijuriZxsqZqt</td>\n      <td>cpm</td>\n      <td>FTjNLDyTrXaWYgZymFkV</td>\n      <td>xhoenQgDQsgfEPYNPwKO</td>\n      <td>IGUCNvHlhfHpROGclCit</td>\n      <td>mobile</td>\n      <td>Android</td>\n      <td>Samsung</td>\n      <td>AuMdmADEIoPXiWpTsBEj</td>\n      <td>385x854</td>\n      <td>Samsung Internet</td>\n      <td>Russia</td>\n      <td>Moscow</td>\n    </tr>\n    <tr>\n      <th>2</th>\n      <td>9055446045651783499.1640648526.1640648526</td>\n      <td>2108385331.1640648523</td>\n      <td>2021-12-28</td>\n      <td>02:42:06</td>\n      <td>1</td>\n      <td>ZpYIoDJMcFzVoPFsHGJL</td>\n      <td>banner</td>\n      <td>LEoPHuyFvzoNfnzGgfcd</td>\n      <td>vCIpmpaGBnIQhyYNkXqp</td>\n      <td>puhZPIYqKXeFPaUviSjo</td>\n      <td>mobile</td>\n      <td>Android</td>\n      <td>Huawei</td>\n      <td>AuMdmADEIoPXiWpTsBEj</td>\n      <td>360x720</td>\n      <td>Chrome</td>\n      <td>Russia</td>\n      <td>Krasnoyarsk</td>\n    </tr>\n    <tr>\n      <th>3</th>\n      <td>9055447046360770272.1622255328.1622255328</td>\n      <td>2108385564.1622255328</td>\n      <td>2021-05-29</td>\n      <td>05:00:00</td>\n      <td>1</td>\n      <td>kjsLglQLzykiRbcDiGcD</td>\n      <td>cpc</td>\n      <td>fJCYsujgSxIHFbOmgDdN</td>\n      <td>NOBKLgtuvqYWkXQHeYWM</td>\n      <td>tzIeQUUHahhBuEkJqDVp</td>\n      <td>mobile</td>\n      <td>Android</td>\n      <td>Xiaomi</td>\n      <td>AuMdmADEIoPXiWpTsBEj</td>\n      <td>393x786</td>\n      <td>Chrome</td>\n      <td>Russia</td>\n      <td>Moscow</td>\n    </tr>\n    <tr>\n      <th>4</th>\n      <td>9055447046360770272.1622255345.1622255345</td>\n      <td>2108385564.1622255328</td>\n      <td>2021-05-29</td>\n      <td>05:00:00</td>\n      <td>2</td>\n      <td>kjsLglQLzykiRbcDiGcD</td>\n      <td>cpc</td>\n      <td>XHNUiSKKGTEpSAlaVMFQ</td>\n      <td>JNHcPlZPxEMWDnRiyoBf</td>\n      <td>hAmNSZmQkKQKAjZEGlgb</td>\n      <td>mobile</td>\n      <td>Android</td>\n      <td>Xiaomi</td>\n      <td>AuMdmADEIoPXiWpTsBEj</td>\n      <td>393x786</td>\n      <td>Chrome</td>\n      <td>Russia</td>\n      <td>Moscow</td>\n    </tr>\n    <tr>\n      <th>...</th>\n      <td>...</td>\n      <td>...</td>\n      <td>...</td>\n      <td>...</td>\n      <td>...</td>\n      <td>...</td>\n      <td>...</td>\n      <td>...</td>\n      <td>...</td>\n      <td>...</td>\n      <td>...</td>\n      <td>...</td>\n      <td>...</td>\n      <td>...</td>\n      <td>...</td>\n      <td>...</td>\n      <td>...</td>\n      <td>...</td>\n    </tr>\n    <tr>\n      <th>1860037</th>\n      <td>9055415581448263752.1640159305.1640159305</td>\n      <td>2108378238.1640159304</td>\n      <td>2021-12-22</td>\n      <td>10:48:25</td>\n      <td>1</td>\n      <td>BHcvLfOaCWvWTykYqHVe</td>\n      <td>cpc</td>\n      <td>LTuZkdKfxRGVceoWkVyg</td>\n      <td>JNHcPlZPxEMWDnRiyoBf</td>\n      <td>VlqBmecIOXWjCWUmQkLd</td>\n      <td>desktop</td>\n      <td>Windows</td>\n      <td>Samsung</td>\n      <td>AuMdmADEIoPXiWpTsBEj</td>\n      <td>1920x1080</td>\n      <td>Chrome</td>\n      <td>Russia</td>\n      <td>Moscow</td>\n    </tr>\n    <tr>\n      <th>1860038</th>\n      <td>9055421130527858185.1622007305.1622007305</td>\n      <td>2108379530.1622007305</td>\n      <td>2021-05-26</td>\n      <td>08:00:00</td>\n      <td>1</td>\n      <td>fDLlAcSmythWSCVMvqvL</td>\n      <td>(none)</td>\n      <td>LTuZkdKfxRGVceoWkVyg</td>\n      <td>JNHcPlZPxEMWDnRiyoBf</td>\n      <td>puhZPIYqKXeFPaUviSjo</td>\n      <td>mobile</td>\n      <td>iOS</td>\n      <td>Apple</td>\n      <td>AuMdmADEIoPXiWpTsBEj</td>\n      <td>390x844</td>\n      <td>Safari</td>\n      <td>Russia</td>\n      <td>Stavropol</td>\n    </tr>\n    <tr>\n      <th>1860039</th>\n      <td>9055422955903931195.1636979515.1636979515</td>\n      <td>2108379955.1636979515</td>\n      <td>2021-11-15</td>\n      <td>15:31:55</td>\n      <td>1</td>\n      <td>fDLlAcSmythWSCVMvqvL</td>\n      <td>(none)</td>\n      <td>LTuZkdKfxRGVceoWkVyg</td>\n      <td>JNHcPlZPxEMWDnRiyoBf</td>\n      <td>puhZPIYqKXeFPaUviSjo</td>\n      <td>mobile</td>\n      <td>iOS</td>\n      <td>Apple</td>\n      <td>AuMdmADEIoPXiWpTsBEj</td>\n      <td>375x667</td>\n      <td>Safari</td>\n      <td>Russia</td>\n      <td>Moscow</td>\n    </tr>\n    <tr>\n      <th>1860040</th>\n      <td>905543020766873816.1638189404.1638189404</td>\n      <td>210838164.1638189272</td>\n      <td>2021-11-29</td>\n      <td>15:36:44</td>\n      <td>1</td>\n      <td>ZpYIoDJMcFzVoPFsHGJL</td>\n      <td>banner</td>\n      <td>LEoPHuyFvzoNfnzGgfcd</td>\n      <td>JNHcPlZPxEMWDnRiyoBf</td>\n      <td>puhZPIYqKXeFPaUviSjo</td>\n      <td>mobile</td>\n      <td>Android</td>\n      <td>Xiaomi</td>\n      <td>AuMdmADEIoPXiWpTsBEj</td>\n      <td>393x851</td>\n      <td>Chrome</td>\n      <td>Russia</td>\n      <td>Chelyabinsk</td>\n    </tr>\n    <tr>\n      <th>1860041</th>\n      <td>9055430416266113553.1640968742.1640968742</td>\n      <td>2108381692.1640968721</td>\n      <td>2021-12-31</td>\n      <td>19:39:02</td>\n      <td>1</td>\n      <td>fgymSoTvjKPEgaIJqsiH</td>\n      <td>cpm</td>\n      <td>FTjNLDyTrXaWYgZymFkV</td>\n      <td>yYdBRbPmBMUZHXwqGxNx</td>\n      <td>oKjXDUsycmahkgMhGdAR</td>\n      <td>desktop</td>\n      <td>Linux</td>\n      <td>NaN</td>\n      <td>NaN</td>\n      <td>1366x768</td>\n      <td>Chrome</td>\n      <td>Russia</td>\n      <td>Moscow</td>\n    </tr>\n  </tbody>\n</table>\n<p>1860042 rows × 18 columns</p>\n</div>"
     },
     "execution_count": 39,
     "metadata": {},
     "output_type": "execute_result"
    }
   ],
   "source": [
    "df2_copy = fill_missing_values_optimized(df2_copy, 'device_model', 'device_brand', 'device_screen_resolution')\n",
    "df2_copy"
   ],
   "metadata": {
    "collapsed": false,
    "ExecuteTime": {
     "end_time": "2024-02-18T19:09:18.529183600Z",
     "start_time": "2024-02-18T19:01:47.262110800Z"
    }
   },
   "id": "aa88e36b2da5cc32",
   "execution_count": 39
  },
  {
   "cell_type": "markdown",
   "source": [
    "Даже после этого всего остаются колонки с NaN значениями. Почему? Потому что комбинации остальных колонок не имеют других значений кроме NaN. Полагаю сейчас мы сделали что могли. Дальше не тратим силы и начнем обьеденять датафреймы по колонке session_id и будем уже на нем решать оставшиеся проблемы"
   ],
   "metadata": {
    "collapsed": false
   },
   "id": "1982e1512fbe6d4d"
  },
  {
   "cell_type": "code",
   "outputs": [],
   "source": [
    "df_1 = df[['session_id', 'target']]"
   ],
   "metadata": {
    "collapsed": false,
    "ExecuteTime": {
     "end_time": "2024-02-18T19:09:20.045478600Z",
     "start_time": "2024-02-18T19:09:18.529183600Z"
    }
   },
   "id": "5d44f1584cb2873c",
   "execution_count": 40
  },
  {
   "cell_type": "code",
   "outputs": [],
   "source": [
    "# Не правильно объеденил данные\n",
    "df_fin = df_1.merge(df2_copy, on='session_id', how='inner')"
   ],
   "metadata": {
    "collapsed": false,
    "ExecuteTime": {
     "end_time": "2024-02-18T19:09:47.595892200Z",
     "start_time": "2024-02-18T19:09:20.047477700Z"
    }
   },
   "id": "ae3bc40bf5cbe790",
   "execution_count": 41
  },
  {
   "cell_type": "code",
   "outputs": [
    {
     "data": {
      "text/plain": "                                         session_id  target  \\\n0         5639623078712724064.1640254056.1640254056       0   \n1         5639623078712724064.1640254056.1640254056       0   \n2         5639623078712724064.1640254056.1640254056       0   \n3         5639623078712724064.1640254056.1640254056       0   \n4         5639623078712724064.1640254056.1640254056       0   \n...                                             ...     ...   \n15685214  1706097853564481669.1640267190.1640267190       0   \n15685215  8262758806963127884.1640272536.1640272536       0   \n15685216  3349670872968620291.1640264206.1640264206       0   \n15685217  1009509786569589790.1640244938.1640244938       0   \n15685218  5381267721977892188.1640271196.1640271196       0   \n\n                      client_id  visit_date visit_time  visit_number  \\\n0         1313077071.1640254048  2021-12-23   13:07:36             2   \n1         1313077071.1640254048  2021-12-23   13:07:36             2   \n2         1313077071.1640254048  2021-12-23   13:07:36             2   \n3         1313077071.1640254048  2021-12-23   13:07:36             2   \n4         1313077071.1640254048  2021-12-23   13:07:36             2   \n...                         ...         ...        ...           ...   \n15685214   397231861.1640263813  2021-12-23   16:46:30             2   \n15685215  1923823451.1640269388  2021-12-23   18:15:36             2   \n15685216   779906025.1640261891  2021-12-23   15:56:46             2   \n15685217   235044813.1640154142  2021-12-23   10:35:38             3   \n15685218  1252924027.1640271196  2021-12-23   17:53:16             1   \n\n                    utm_source       utm_medium          utm_campaign  \\\n0         kjsLglQLzykiRbcDiGcD              cpc  NSbcaLfXREiOVOXTmbnD   \n1         kjsLglQLzykiRbcDiGcD              cpc  NSbcaLfXREiOVOXTmbnD   \n2         kjsLglQLzykiRbcDiGcD              cpc  NSbcaLfXREiOVOXTmbnD   \n3         kjsLglQLzykiRbcDiGcD              cpc  NSbcaLfXREiOVOXTmbnD   \n4         kjsLglQLzykiRbcDiGcD              cpc  NSbcaLfXREiOVOXTmbnD   \n...                        ...              ...                   ...   \n15685214  fDLlAcSmythWSCVMvqvL           (none)  LTuZkdKfxRGVceoWkVyg   \n15685215  IZEXUFLARCUMynmHNBGo  blogger_channel  foFTSdUvNqqkPzZvgiqt   \n15685216  QxAxdyPLuQMEcrdZWdWb              cpa  mSVMBvlHFgftJaQAZEdp   \n15685217  BHcvLfOaCWvWTykYqHVe              cpc  LTuZkdKfxRGVceoWkVyg   \n15685218  fDLlAcSmythWSCVMvqvL           (none)  LTuZkdKfxRGVceoWkVyg   \n\n                 utm_adcontent           utm_keyword device_category  \\\n0         JNHcPlZPxEMWDnRiyoBf  wvtWRwiRmvPIsSQuXnvd          mobile   \n1         JNHcPlZPxEMWDnRiyoBf  wvtWRwiRmvPIsSQuXnvd          mobile   \n2         JNHcPlZPxEMWDnRiyoBf  wvtWRwiRmvPIsSQuXnvd          mobile   \n3         JNHcPlZPxEMWDnRiyoBf  wvtWRwiRmvPIsSQuXnvd          mobile   \n4         JNHcPlZPxEMWDnRiyoBf  wvtWRwiRmvPIsSQuXnvd          mobile   \n...                        ...                   ...             ...   \n15685214  JNHcPlZPxEMWDnRiyoBf  puhZPIYqKXeFPaUviSjo          mobile   \n15685215  DZYjhfIUfdqhfuTNUmjn  puhZPIYqKXeFPaUviSjo          mobile   \n15685216  WbmadpYgwtVCcAwGJoXb  gEydMgyogRBSsihrQQwd          mobile   \n15685217  JNHcPlZPxEMWDnRiyoBf  tVtbIKrPSOvrXLCznVVe         desktop   \n15685218  JNHcPlZPxEMWDnRiyoBf  puhZPIYqKXeFPaUviSjo         desktop   \n\n         device_os device_brand          device_model  \\\n0          Android       Huawei  AuMdmADEIoPXiWpTsBEj   \n1          Android       Huawei  AuMdmADEIoPXiWpTsBEj   \n2          Android       Huawei  AuMdmADEIoPXiWpTsBEj   \n3          Android       Huawei  AuMdmADEIoPXiWpTsBEj   \n4          Android       Huawei  AuMdmADEIoPXiWpTsBEj   \n...            ...          ...                   ...   \n15685214       iOS        Apple                   NaN   \n15685215   Android       Realme  AuMdmADEIoPXiWpTsBEj   \n15685216       iOS        Apple  AuMdmADEIoPXiWpTsBEj   \n15685217   Windows          NaN                   NaN   \n15685218   Windows       Xiaomi                   NaN   \n\n         device_screen_resolution   device_browser geo_country  \\\n0                         360x780           Chrome      Russia   \n1                         360x780           Chrome      Russia   \n2                         360x780           Chrome      Russia   \n3                         360x780           Chrome      Russia   \n4                         360x780           Chrome      Russia   \n...                           ...              ...         ...   \n15685214                  428x926           Safari      Russia   \n15685215                  360x800           Chrome      Russia   \n15685216                  375x667  Safari (in-app)      Russia   \n15685217                 1366x768             Edge      Russia   \n15685218                 1536x864           Chrome      Russia   \n\n                  geo_city  \n0         Saint Petersburg  \n1         Saint Petersburg  \n2         Saint Petersburg  \n3         Saint Petersburg  \n4         Saint Petersburg  \n...                    ...  \n15685214            Moscow  \n15685215         Ulyanovsk  \n15685216            Samara  \n15685217          Orenburg  \n15685218          Voronezh  \n\n[15685219 rows x 19 columns]",
      "text/html": "<div>\n<style scoped>\n    .dataframe tbody tr th:only-of-type {\n        vertical-align: middle;\n    }\n\n    .dataframe tbody tr th {\n        vertical-align: top;\n    }\n\n    .dataframe thead th {\n        text-align: right;\n    }\n</style>\n<table border=\"1\" class=\"dataframe\">\n  <thead>\n    <tr style=\"text-align: right;\">\n      <th></th>\n      <th>session_id</th>\n      <th>target</th>\n      <th>client_id</th>\n      <th>visit_date</th>\n      <th>visit_time</th>\n      <th>visit_number</th>\n      <th>utm_source</th>\n      <th>utm_medium</th>\n      <th>utm_campaign</th>\n      <th>utm_adcontent</th>\n      <th>utm_keyword</th>\n      <th>device_category</th>\n      <th>device_os</th>\n      <th>device_brand</th>\n      <th>device_model</th>\n      <th>device_screen_resolution</th>\n      <th>device_browser</th>\n      <th>geo_country</th>\n      <th>geo_city</th>\n    </tr>\n  </thead>\n  <tbody>\n    <tr>\n      <th>0</th>\n      <td>5639623078712724064.1640254056.1640254056</td>\n      <td>0</td>\n      <td>1313077071.1640254048</td>\n      <td>2021-12-23</td>\n      <td>13:07:36</td>\n      <td>2</td>\n      <td>kjsLglQLzykiRbcDiGcD</td>\n      <td>cpc</td>\n      <td>NSbcaLfXREiOVOXTmbnD</td>\n      <td>JNHcPlZPxEMWDnRiyoBf</td>\n      <td>wvtWRwiRmvPIsSQuXnvd</td>\n      <td>mobile</td>\n      <td>Android</td>\n      <td>Huawei</td>\n      <td>AuMdmADEIoPXiWpTsBEj</td>\n      <td>360x780</td>\n      <td>Chrome</td>\n      <td>Russia</td>\n      <td>Saint Petersburg</td>\n    </tr>\n    <tr>\n      <th>1</th>\n      <td>5639623078712724064.1640254056.1640254056</td>\n      <td>0</td>\n      <td>1313077071.1640254048</td>\n      <td>2021-12-23</td>\n      <td>13:07:36</td>\n      <td>2</td>\n      <td>kjsLglQLzykiRbcDiGcD</td>\n      <td>cpc</td>\n      <td>NSbcaLfXREiOVOXTmbnD</td>\n      <td>JNHcPlZPxEMWDnRiyoBf</td>\n      <td>wvtWRwiRmvPIsSQuXnvd</td>\n      <td>mobile</td>\n      <td>Android</td>\n      <td>Huawei</td>\n      <td>AuMdmADEIoPXiWpTsBEj</td>\n      <td>360x780</td>\n      <td>Chrome</td>\n      <td>Russia</td>\n      <td>Saint Petersburg</td>\n    </tr>\n    <tr>\n      <th>2</th>\n      <td>5639623078712724064.1640254056.1640254056</td>\n      <td>0</td>\n      <td>1313077071.1640254048</td>\n      <td>2021-12-23</td>\n      <td>13:07:36</td>\n      <td>2</td>\n      <td>kjsLglQLzykiRbcDiGcD</td>\n      <td>cpc</td>\n      <td>NSbcaLfXREiOVOXTmbnD</td>\n      <td>JNHcPlZPxEMWDnRiyoBf</td>\n      <td>wvtWRwiRmvPIsSQuXnvd</td>\n      <td>mobile</td>\n      <td>Android</td>\n      <td>Huawei</td>\n      <td>AuMdmADEIoPXiWpTsBEj</td>\n      <td>360x780</td>\n      <td>Chrome</td>\n      <td>Russia</td>\n      <td>Saint Petersburg</td>\n    </tr>\n    <tr>\n      <th>3</th>\n      <td>5639623078712724064.1640254056.1640254056</td>\n      <td>0</td>\n      <td>1313077071.1640254048</td>\n      <td>2021-12-23</td>\n      <td>13:07:36</td>\n      <td>2</td>\n      <td>kjsLglQLzykiRbcDiGcD</td>\n      <td>cpc</td>\n      <td>NSbcaLfXREiOVOXTmbnD</td>\n      <td>JNHcPlZPxEMWDnRiyoBf</td>\n      <td>wvtWRwiRmvPIsSQuXnvd</td>\n      <td>mobile</td>\n      <td>Android</td>\n      <td>Huawei</td>\n      <td>AuMdmADEIoPXiWpTsBEj</td>\n      <td>360x780</td>\n      <td>Chrome</td>\n      <td>Russia</td>\n      <td>Saint Petersburg</td>\n    </tr>\n    <tr>\n      <th>4</th>\n      <td>5639623078712724064.1640254056.1640254056</td>\n      <td>0</td>\n      <td>1313077071.1640254048</td>\n      <td>2021-12-23</td>\n      <td>13:07:36</td>\n      <td>2</td>\n      <td>kjsLglQLzykiRbcDiGcD</td>\n      <td>cpc</td>\n      <td>NSbcaLfXREiOVOXTmbnD</td>\n      <td>JNHcPlZPxEMWDnRiyoBf</td>\n      <td>wvtWRwiRmvPIsSQuXnvd</td>\n      <td>mobile</td>\n      <td>Android</td>\n      <td>Huawei</td>\n      <td>AuMdmADEIoPXiWpTsBEj</td>\n      <td>360x780</td>\n      <td>Chrome</td>\n      <td>Russia</td>\n      <td>Saint Petersburg</td>\n    </tr>\n    <tr>\n      <th>...</th>\n      <td>...</td>\n      <td>...</td>\n      <td>...</td>\n      <td>...</td>\n      <td>...</td>\n      <td>...</td>\n      <td>...</td>\n      <td>...</td>\n      <td>...</td>\n      <td>...</td>\n      <td>...</td>\n      <td>...</td>\n      <td>...</td>\n      <td>...</td>\n      <td>...</td>\n      <td>...</td>\n      <td>...</td>\n      <td>...</td>\n      <td>...</td>\n    </tr>\n    <tr>\n      <th>15685214</th>\n      <td>1706097853564481669.1640267190.1640267190</td>\n      <td>0</td>\n      <td>397231861.1640263813</td>\n      <td>2021-12-23</td>\n      <td>16:46:30</td>\n      <td>2</td>\n      <td>fDLlAcSmythWSCVMvqvL</td>\n      <td>(none)</td>\n      <td>LTuZkdKfxRGVceoWkVyg</td>\n      <td>JNHcPlZPxEMWDnRiyoBf</td>\n      <td>puhZPIYqKXeFPaUviSjo</td>\n      <td>mobile</td>\n      <td>iOS</td>\n      <td>Apple</td>\n      <td>NaN</td>\n      <td>428x926</td>\n      <td>Safari</td>\n      <td>Russia</td>\n      <td>Moscow</td>\n    </tr>\n    <tr>\n      <th>15685215</th>\n      <td>8262758806963127884.1640272536.1640272536</td>\n      <td>0</td>\n      <td>1923823451.1640269388</td>\n      <td>2021-12-23</td>\n      <td>18:15:36</td>\n      <td>2</td>\n      <td>IZEXUFLARCUMynmHNBGo</td>\n      <td>blogger_channel</td>\n      <td>foFTSdUvNqqkPzZvgiqt</td>\n      <td>DZYjhfIUfdqhfuTNUmjn</td>\n      <td>puhZPIYqKXeFPaUviSjo</td>\n      <td>mobile</td>\n      <td>Android</td>\n      <td>Realme</td>\n      <td>AuMdmADEIoPXiWpTsBEj</td>\n      <td>360x800</td>\n      <td>Chrome</td>\n      <td>Russia</td>\n      <td>Ulyanovsk</td>\n    </tr>\n    <tr>\n      <th>15685216</th>\n      <td>3349670872968620291.1640264206.1640264206</td>\n      <td>0</td>\n      <td>779906025.1640261891</td>\n      <td>2021-12-23</td>\n      <td>15:56:46</td>\n      <td>2</td>\n      <td>QxAxdyPLuQMEcrdZWdWb</td>\n      <td>cpa</td>\n      <td>mSVMBvlHFgftJaQAZEdp</td>\n      <td>WbmadpYgwtVCcAwGJoXb</td>\n      <td>gEydMgyogRBSsihrQQwd</td>\n      <td>mobile</td>\n      <td>iOS</td>\n      <td>Apple</td>\n      <td>AuMdmADEIoPXiWpTsBEj</td>\n      <td>375x667</td>\n      <td>Safari (in-app)</td>\n      <td>Russia</td>\n      <td>Samara</td>\n    </tr>\n    <tr>\n      <th>15685217</th>\n      <td>1009509786569589790.1640244938.1640244938</td>\n      <td>0</td>\n      <td>235044813.1640154142</td>\n      <td>2021-12-23</td>\n      <td>10:35:38</td>\n      <td>3</td>\n      <td>BHcvLfOaCWvWTykYqHVe</td>\n      <td>cpc</td>\n      <td>LTuZkdKfxRGVceoWkVyg</td>\n      <td>JNHcPlZPxEMWDnRiyoBf</td>\n      <td>tVtbIKrPSOvrXLCznVVe</td>\n      <td>desktop</td>\n      <td>Windows</td>\n      <td>NaN</td>\n      <td>NaN</td>\n      <td>1366x768</td>\n      <td>Edge</td>\n      <td>Russia</td>\n      <td>Orenburg</td>\n    </tr>\n    <tr>\n      <th>15685218</th>\n      <td>5381267721977892188.1640271196.1640271196</td>\n      <td>0</td>\n      <td>1252924027.1640271196</td>\n      <td>2021-12-23</td>\n      <td>17:53:16</td>\n      <td>1</td>\n      <td>fDLlAcSmythWSCVMvqvL</td>\n      <td>(none)</td>\n      <td>LTuZkdKfxRGVceoWkVyg</td>\n      <td>JNHcPlZPxEMWDnRiyoBf</td>\n      <td>puhZPIYqKXeFPaUviSjo</td>\n      <td>desktop</td>\n      <td>Windows</td>\n      <td>Xiaomi</td>\n      <td>NaN</td>\n      <td>1536x864</td>\n      <td>Chrome</td>\n      <td>Russia</td>\n      <td>Voronezh</td>\n    </tr>\n  </tbody>\n</table>\n<p>15685219 rows × 19 columns</p>\n</div>"
     },
     "execution_count": 45,
     "metadata": {},
     "output_type": "execute_result"
    }
   ],
   "source": [
    "df_fin"
   ],
   "metadata": {
    "collapsed": false,
    "ExecuteTime": {
     "end_time": "2024-02-18T19:33:43.579687200Z",
     "start_time": "2024-02-18T19:33:43.560549100Z"
    }
   },
   "id": "74bae54825728c99",
   "execution_count": 45
  },
  {
   "cell_type": "markdown",
   "source": [
    "Сохраняю данные что бы не делать все заново когда в очередной раз поймаю синий экран смерти"
   ],
   "metadata": {
    "collapsed": false
   },
   "id": "9cb88c530aec13f"
  },
  {
   "cell_type": "code",
   "outputs": [],
   "source": [
    "df_fin1 = df2_copy.merge(df_target, on='session_id', how='inner')"
   ],
   "metadata": {
    "collapsed": false,
    "ExecuteTime": {
     "end_time": "2024-02-18T19:51:54.586846800Z",
     "start_time": "2024-02-18T19:51:51.581733700Z"
    }
   },
   "id": "d36f7a3e866bc8f2",
   "execution_count": 48
  },
  {
   "cell_type": "code",
   "outputs": [],
   "source": [
    "df_fin1.to_csv('save_df1')"
   ],
   "metadata": {
    "collapsed": false,
    "ExecuteTime": {
     "end_time": "2024-02-18T19:52:09.408104300Z",
     "start_time": "2024-02-18T19:51:58.175989100Z"
    }
   },
   "id": "68507ca1341890db",
   "execution_count": 49
  },
  {
   "cell_type": "markdown",
   "source": [
    "Далее загружаем сохраненный файл и работаем с ним"
   ],
   "metadata": {
    "collapsed": false
   },
   "id": "d3c19591403af05f"
  },
  {
   "cell_type": "code",
   "outputs": [],
   "source": [
    "data_cheak = pd.read_csv('save_df1', low_memory=False)"
   ],
   "metadata": {
    "collapsed": false,
    "ExecuteTime": {
     "end_time": "2024-02-25T11:03:32.311469200Z",
     "start_time": "2024-02-25T11:03:22.330825500Z"
    }
   },
   "id": "d60b08849c3cf890",
   "execution_count": 2
  },
  {
   "cell_type": "code",
   "outputs": [],
   "source": [
    "data_cheak = pd.DataFrame(data_cheak)\n",
    "df_ch_copy = data_cheak.copy()"
   ],
   "metadata": {
    "collapsed": false,
    "ExecuteTime": {
     "end_time": "2024-02-25T11:04:12.989171900Z",
     "start_time": "2024-02-25T11:04:12.487058200Z"
    }
   },
   "id": "6b694dd17640efb3",
   "execution_count": 3
  },
  {
   "cell_type": "code",
   "outputs": [
    {
     "data": {
      "text/plain": "         Unnamed: 0                                 session_id     client_id  \\\n0                 0  9055434745589932991.1637753792.1637753792  2.108383e+09   \n1                 1   905544597018549464.1636867290.1636867290  2.108385e+08   \n2                 2  9055446045651783499.1640648526.1640648526  2.108385e+09   \n3                 3  9055447046360770272.1622255328.1622255328  2.108386e+09   \n4                 4  9055447046360770272.1622255345.1622255345  2.108386e+09   \n...             ...                                        ...           ...   \n1732261     1732261  9055415581448263752.1640159305.1640159305  2.108378e+09   \n1732262     1732262  9055421130527858185.1622007305.1622007305  2.108380e+09   \n1732263     1732263  9055422955903931195.1636979515.1636979515  2.108380e+09   \n1732264     1732264   905543020766873816.1638189404.1638189404  2.108382e+08   \n1732265     1732265  9055430416266113553.1640968742.1640968742  2.108382e+09   \n\n         visit_date visit_time  visit_number            utm_source utm_medium  \\\n0        2021-11-24   14:36:32             1  ZpYIoDJMcFzVoPFsHGJL     banner   \n1        2021-11-14   08:21:30             1  MvfHsxITijuriZxsqZqt        cpm   \n2        2021-12-28   02:42:06             1  ZpYIoDJMcFzVoPFsHGJL     banner   \n3        2021-05-29   05:00:00             1  kjsLglQLzykiRbcDiGcD        cpc   \n4        2021-05-29   05:00:00             2  kjsLglQLzykiRbcDiGcD        cpc   \n...             ...        ...           ...                   ...        ...   \n1732261  2021-12-22   10:48:25             1  BHcvLfOaCWvWTykYqHVe        cpc   \n1732262  2021-05-26   08:00:00             1  fDLlAcSmythWSCVMvqvL     (none)   \n1732263  2021-11-15   15:31:55             1  fDLlAcSmythWSCVMvqvL     (none)   \n1732264  2021-11-29   15:36:44             1  ZpYIoDJMcFzVoPFsHGJL     banner   \n1732265  2021-12-31   19:39:02             1  fgymSoTvjKPEgaIJqsiH        cpm   \n\n                 utm_campaign         utm_adcontent           utm_keyword  \\\n0        LEoPHuyFvzoNfnzGgfcd  vCIpmpaGBnIQhyYNkXqp  puhZPIYqKXeFPaUviSjo   \n1        FTjNLDyTrXaWYgZymFkV  xhoenQgDQsgfEPYNPwKO  IGUCNvHlhfHpROGclCit   \n2        LEoPHuyFvzoNfnzGgfcd  vCIpmpaGBnIQhyYNkXqp  puhZPIYqKXeFPaUviSjo   \n3        fJCYsujgSxIHFbOmgDdN  NOBKLgtuvqYWkXQHeYWM  tzIeQUUHahhBuEkJqDVp   \n4        XHNUiSKKGTEpSAlaVMFQ  JNHcPlZPxEMWDnRiyoBf  hAmNSZmQkKQKAjZEGlgb   \n...                       ...                   ...                   ...   \n1732261  LTuZkdKfxRGVceoWkVyg  JNHcPlZPxEMWDnRiyoBf  VlqBmecIOXWjCWUmQkLd   \n1732262  LTuZkdKfxRGVceoWkVyg  JNHcPlZPxEMWDnRiyoBf  puhZPIYqKXeFPaUviSjo   \n1732263  LTuZkdKfxRGVceoWkVyg  JNHcPlZPxEMWDnRiyoBf  puhZPIYqKXeFPaUviSjo   \n1732264  LEoPHuyFvzoNfnzGgfcd  JNHcPlZPxEMWDnRiyoBf  puhZPIYqKXeFPaUviSjo   \n1732265  FTjNLDyTrXaWYgZymFkV  yYdBRbPmBMUZHXwqGxNx  oKjXDUsycmahkgMhGdAR   \n\n        device_category device_os device_brand          device_model  \\\n0                mobile   Android       Huawei  AuMdmADEIoPXiWpTsBEj   \n1                mobile   Android      Samsung  AuMdmADEIoPXiWpTsBEj   \n2                mobile   Android       Huawei  AuMdmADEIoPXiWpTsBEj   \n3                mobile   Android       Xiaomi  AuMdmADEIoPXiWpTsBEj   \n4                mobile   Android       Xiaomi  AuMdmADEIoPXiWpTsBEj   \n...                 ...       ...          ...                   ...   \n1732261         desktop   Windows      Samsung  AuMdmADEIoPXiWpTsBEj   \n1732262          mobile       iOS        Apple  AuMdmADEIoPXiWpTsBEj   \n1732263          mobile       iOS        Apple  AuMdmADEIoPXiWpTsBEj   \n1732264          mobile   Android       Xiaomi  AuMdmADEIoPXiWpTsBEj   \n1732265         desktop     Linux          NaN                   NaN   \n\n        device_screen_resolution    device_browser geo_country     geo_city  \\\n0                        360x720            Chrome      Russia     Zlatoust   \n1                        385x854  Samsung Internet      Russia       Moscow   \n2                        360x720            Chrome      Russia  Krasnoyarsk   \n3                        393x786            Chrome      Russia       Moscow   \n4                        393x786            Chrome      Russia       Moscow   \n...                          ...               ...         ...          ...   \n1732261                1920x1080            Chrome      Russia       Moscow   \n1732262                  390x844            Safari      Russia    Stavropol   \n1732263                  375x667            Safari      Russia       Moscow   \n1732264                  393x851            Chrome      Russia  Chelyabinsk   \n1732265                 1366x768            Chrome      Russia       Moscow   \n\n         target  \n0             0  \n1             0  \n2             0  \n3             0  \n4             0  \n...         ...  \n1732261       0  \n1732262       0  \n1732263       0  \n1732264       0  \n1732265       0  \n\n[1732266 rows x 20 columns]",
      "text/html": "<div>\n<style scoped>\n    .dataframe tbody tr th:only-of-type {\n        vertical-align: middle;\n    }\n\n    .dataframe tbody tr th {\n        vertical-align: top;\n    }\n\n    .dataframe thead th {\n        text-align: right;\n    }\n</style>\n<table border=\"1\" class=\"dataframe\">\n  <thead>\n    <tr style=\"text-align: right;\">\n      <th></th>\n      <th>Unnamed: 0</th>\n      <th>session_id</th>\n      <th>client_id</th>\n      <th>visit_date</th>\n      <th>visit_time</th>\n      <th>visit_number</th>\n      <th>utm_source</th>\n      <th>utm_medium</th>\n      <th>utm_campaign</th>\n      <th>utm_adcontent</th>\n      <th>utm_keyword</th>\n      <th>device_category</th>\n      <th>device_os</th>\n      <th>device_brand</th>\n      <th>device_model</th>\n      <th>device_screen_resolution</th>\n      <th>device_browser</th>\n      <th>geo_country</th>\n      <th>geo_city</th>\n      <th>target</th>\n    </tr>\n  </thead>\n  <tbody>\n    <tr>\n      <th>0</th>\n      <td>0</td>\n      <td>9055434745589932991.1637753792.1637753792</td>\n      <td>2.108383e+09</td>\n      <td>2021-11-24</td>\n      <td>14:36:32</td>\n      <td>1</td>\n      <td>ZpYIoDJMcFzVoPFsHGJL</td>\n      <td>banner</td>\n      <td>LEoPHuyFvzoNfnzGgfcd</td>\n      <td>vCIpmpaGBnIQhyYNkXqp</td>\n      <td>puhZPIYqKXeFPaUviSjo</td>\n      <td>mobile</td>\n      <td>Android</td>\n      <td>Huawei</td>\n      <td>AuMdmADEIoPXiWpTsBEj</td>\n      <td>360x720</td>\n      <td>Chrome</td>\n      <td>Russia</td>\n      <td>Zlatoust</td>\n      <td>0</td>\n    </tr>\n    <tr>\n      <th>1</th>\n      <td>1</td>\n      <td>905544597018549464.1636867290.1636867290</td>\n      <td>2.108385e+08</td>\n      <td>2021-11-14</td>\n      <td>08:21:30</td>\n      <td>1</td>\n      <td>MvfHsxITijuriZxsqZqt</td>\n      <td>cpm</td>\n      <td>FTjNLDyTrXaWYgZymFkV</td>\n      <td>xhoenQgDQsgfEPYNPwKO</td>\n      <td>IGUCNvHlhfHpROGclCit</td>\n      <td>mobile</td>\n      <td>Android</td>\n      <td>Samsung</td>\n      <td>AuMdmADEIoPXiWpTsBEj</td>\n      <td>385x854</td>\n      <td>Samsung Internet</td>\n      <td>Russia</td>\n      <td>Moscow</td>\n      <td>0</td>\n    </tr>\n    <tr>\n      <th>2</th>\n      <td>2</td>\n      <td>9055446045651783499.1640648526.1640648526</td>\n      <td>2.108385e+09</td>\n      <td>2021-12-28</td>\n      <td>02:42:06</td>\n      <td>1</td>\n      <td>ZpYIoDJMcFzVoPFsHGJL</td>\n      <td>banner</td>\n      <td>LEoPHuyFvzoNfnzGgfcd</td>\n      <td>vCIpmpaGBnIQhyYNkXqp</td>\n      <td>puhZPIYqKXeFPaUviSjo</td>\n      <td>mobile</td>\n      <td>Android</td>\n      <td>Huawei</td>\n      <td>AuMdmADEIoPXiWpTsBEj</td>\n      <td>360x720</td>\n      <td>Chrome</td>\n      <td>Russia</td>\n      <td>Krasnoyarsk</td>\n      <td>0</td>\n    </tr>\n    <tr>\n      <th>3</th>\n      <td>3</td>\n      <td>9055447046360770272.1622255328.1622255328</td>\n      <td>2.108386e+09</td>\n      <td>2021-05-29</td>\n      <td>05:00:00</td>\n      <td>1</td>\n      <td>kjsLglQLzykiRbcDiGcD</td>\n      <td>cpc</td>\n      <td>fJCYsujgSxIHFbOmgDdN</td>\n      <td>NOBKLgtuvqYWkXQHeYWM</td>\n      <td>tzIeQUUHahhBuEkJqDVp</td>\n      <td>mobile</td>\n      <td>Android</td>\n      <td>Xiaomi</td>\n      <td>AuMdmADEIoPXiWpTsBEj</td>\n      <td>393x786</td>\n      <td>Chrome</td>\n      <td>Russia</td>\n      <td>Moscow</td>\n      <td>0</td>\n    </tr>\n    <tr>\n      <th>4</th>\n      <td>4</td>\n      <td>9055447046360770272.1622255345.1622255345</td>\n      <td>2.108386e+09</td>\n      <td>2021-05-29</td>\n      <td>05:00:00</td>\n      <td>2</td>\n      <td>kjsLglQLzykiRbcDiGcD</td>\n      <td>cpc</td>\n      <td>XHNUiSKKGTEpSAlaVMFQ</td>\n      <td>JNHcPlZPxEMWDnRiyoBf</td>\n      <td>hAmNSZmQkKQKAjZEGlgb</td>\n      <td>mobile</td>\n      <td>Android</td>\n      <td>Xiaomi</td>\n      <td>AuMdmADEIoPXiWpTsBEj</td>\n      <td>393x786</td>\n      <td>Chrome</td>\n      <td>Russia</td>\n      <td>Moscow</td>\n      <td>0</td>\n    </tr>\n    <tr>\n      <th>...</th>\n      <td>...</td>\n      <td>...</td>\n      <td>...</td>\n      <td>...</td>\n      <td>...</td>\n      <td>...</td>\n      <td>...</td>\n      <td>...</td>\n      <td>...</td>\n      <td>...</td>\n      <td>...</td>\n      <td>...</td>\n      <td>...</td>\n      <td>...</td>\n      <td>...</td>\n      <td>...</td>\n      <td>...</td>\n      <td>...</td>\n      <td>...</td>\n      <td>...</td>\n    </tr>\n    <tr>\n      <th>1732261</th>\n      <td>1732261</td>\n      <td>9055415581448263752.1640159305.1640159305</td>\n      <td>2.108378e+09</td>\n      <td>2021-12-22</td>\n      <td>10:48:25</td>\n      <td>1</td>\n      <td>BHcvLfOaCWvWTykYqHVe</td>\n      <td>cpc</td>\n      <td>LTuZkdKfxRGVceoWkVyg</td>\n      <td>JNHcPlZPxEMWDnRiyoBf</td>\n      <td>VlqBmecIOXWjCWUmQkLd</td>\n      <td>desktop</td>\n      <td>Windows</td>\n      <td>Samsung</td>\n      <td>AuMdmADEIoPXiWpTsBEj</td>\n      <td>1920x1080</td>\n      <td>Chrome</td>\n      <td>Russia</td>\n      <td>Moscow</td>\n      <td>0</td>\n    </tr>\n    <tr>\n      <th>1732262</th>\n      <td>1732262</td>\n      <td>9055421130527858185.1622007305.1622007305</td>\n      <td>2.108380e+09</td>\n      <td>2021-05-26</td>\n      <td>08:00:00</td>\n      <td>1</td>\n      <td>fDLlAcSmythWSCVMvqvL</td>\n      <td>(none)</td>\n      <td>LTuZkdKfxRGVceoWkVyg</td>\n      <td>JNHcPlZPxEMWDnRiyoBf</td>\n      <td>puhZPIYqKXeFPaUviSjo</td>\n      <td>mobile</td>\n      <td>iOS</td>\n      <td>Apple</td>\n      <td>AuMdmADEIoPXiWpTsBEj</td>\n      <td>390x844</td>\n      <td>Safari</td>\n      <td>Russia</td>\n      <td>Stavropol</td>\n      <td>0</td>\n    </tr>\n    <tr>\n      <th>1732263</th>\n      <td>1732263</td>\n      <td>9055422955903931195.1636979515.1636979515</td>\n      <td>2.108380e+09</td>\n      <td>2021-11-15</td>\n      <td>15:31:55</td>\n      <td>1</td>\n      <td>fDLlAcSmythWSCVMvqvL</td>\n      <td>(none)</td>\n      <td>LTuZkdKfxRGVceoWkVyg</td>\n      <td>JNHcPlZPxEMWDnRiyoBf</td>\n      <td>puhZPIYqKXeFPaUviSjo</td>\n      <td>mobile</td>\n      <td>iOS</td>\n      <td>Apple</td>\n      <td>AuMdmADEIoPXiWpTsBEj</td>\n      <td>375x667</td>\n      <td>Safari</td>\n      <td>Russia</td>\n      <td>Moscow</td>\n      <td>0</td>\n    </tr>\n    <tr>\n      <th>1732264</th>\n      <td>1732264</td>\n      <td>905543020766873816.1638189404.1638189404</td>\n      <td>2.108382e+08</td>\n      <td>2021-11-29</td>\n      <td>15:36:44</td>\n      <td>1</td>\n      <td>ZpYIoDJMcFzVoPFsHGJL</td>\n      <td>banner</td>\n      <td>LEoPHuyFvzoNfnzGgfcd</td>\n      <td>JNHcPlZPxEMWDnRiyoBf</td>\n      <td>puhZPIYqKXeFPaUviSjo</td>\n      <td>mobile</td>\n      <td>Android</td>\n      <td>Xiaomi</td>\n      <td>AuMdmADEIoPXiWpTsBEj</td>\n      <td>393x851</td>\n      <td>Chrome</td>\n      <td>Russia</td>\n      <td>Chelyabinsk</td>\n      <td>0</td>\n    </tr>\n    <tr>\n      <th>1732265</th>\n      <td>1732265</td>\n      <td>9055430416266113553.1640968742.1640968742</td>\n      <td>2.108382e+09</td>\n      <td>2021-12-31</td>\n      <td>19:39:02</td>\n      <td>1</td>\n      <td>fgymSoTvjKPEgaIJqsiH</td>\n      <td>cpm</td>\n      <td>FTjNLDyTrXaWYgZymFkV</td>\n      <td>yYdBRbPmBMUZHXwqGxNx</td>\n      <td>oKjXDUsycmahkgMhGdAR</td>\n      <td>desktop</td>\n      <td>Linux</td>\n      <td>NaN</td>\n      <td>NaN</td>\n      <td>1366x768</td>\n      <td>Chrome</td>\n      <td>Russia</td>\n      <td>Moscow</td>\n      <td>0</td>\n    </tr>\n  </tbody>\n</table>\n<p>1732266 rows × 20 columns</p>\n</div>"
     },
     "execution_count": 5,
     "metadata": {},
     "output_type": "execute_result"
    }
   ],
   "source": [
    "df_ch_copy"
   ],
   "metadata": {
    "collapsed": false,
    "ExecuteTime": {
     "end_time": "2024-02-25T11:05:39.421821400Z",
     "start_time": "2024-02-25T11:05:39.250119400Z"
    }
   },
   "id": "de254074631fa1de",
   "execution_count": 5
  },
  {
   "cell_type": "markdown",
   "source": [
    "Удаляем дубликаты"
   ],
   "metadata": {
    "collapsed": false
   },
   "id": "ed064fadf68c5e69"
  },
  {
   "cell_type": "code",
   "outputs": [],
   "source": [
    "df_ch_copy = df_ch_copy.drop_duplicates()"
   ],
   "metadata": {
    "collapsed": false,
    "ExecuteTime": {
     "end_time": "2024-02-25T11:07:33.376235700Z",
     "start_time": "2024-02-25T11:07:29.761505200Z"
    }
   },
   "id": "ba2c36ee5a2d1d99",
   "execution_count": 6
  },
  {
   "cell_type": "code",
   "outputs": [
    {
     "data": {
      "text/plain": "         Unnamed: 0                                 session_id     client_id  \\\n0                 0  9055434745589932991.1637753792.1637753792  2.108383e+09   \n1                 1   905544597018549464.1636867290.1636867290  2.108385e+08   \n2                 2  9055446045651783499.1640648526.1640648526  2.108385e+09   \n3                 3  9055447046360770272.1622255328.1622255328  2.108386e+09   \n4                 4  9055447046360770272.1622255345.1622255345  2.108386e+09   \n...             ...                                        ...           ...   \n1732261     1732261  9055415581448263752.1640159305.1640159305  2.108378e+09   \n1732262     1732262  9055421130527858185.1622007305.1622007305  2.108380e+09   \n1732263     1732263  9055422955903931195.1636979515.1636979515  2.108380e+09   \n1732264     1732264   905543020766873816.1638189404.1638189404  2.108382e+08   \n1732265     1732265  9055430416266113553.1640968742.1640968742  2.108382e+09   \n\n         visit_date visit_time  visit_number            utm_source utm_medium  \\\n0        2021-11-24   14:36:32             1  ZpYIoDJMcFzVoPFsHGJL     banner   \n1        2021-11-14   08:21:30             1  MvfHsxITijuriZxsqZqt        cpm   \n2        2021-12-28   02:42:06             1  ZpYIoDJMcFzVoPFsHGJL     banner   \n3        2021-05-29   05:00:00             1  kjsLglQLzykiRbcDiGcD        cpc   \n4        2021-05-29   05:00:00             2  kjsLglQLzykiRbcDiGcD        cpc   \n...             ...        ...           ...                   ...        ...   \n1732261  2021-12-22   10:48:25             1  BHcvLfOaCWvWTykYqHVe        cpc   \n1732262  2021-05-26   08:00:00             1  fDLlAcSmythWSCVMvqvL     (none)   \n1732263  2021-11-15   15:31:55             1  fDLlAcSmythWSCVMvqvL     (none)   \n1732264  2021-11-29   15:36:44             1  ZpYIoDJMcFzVoPFsHGJL     banner   \n1732265  2021-12-31   19:39:02             1  fgymSoTvjKPEgaIJqsiH        cpm   \n\n                 utm_campaign         utm_adcontent           utm_keyword  \\\n0        LEoPHuyFvzoNfnzGgfcd  vCIpmpaGBnIQhyYNkXqp  puhZPIYqKXeFPaUviSjo   \n1        FTjNLDyTrXaWYgZymFkV  xhoenQgDQsgfEPYNPwKO  IGUCNvHlhfHpROGclCit   \n2        LEoPHuyFvzoNfnzGgfcd  vCIpmpaGBnIQhyYNkXqp  puhZPIYqKXeFPaUviSjo   \n3        fJCYsujgSxIHFbOmgDdN  NOBKLgtuvqYWkXQHeYWM  tzIeQUUHahhBuEkJqDVp   \n4        XHNUiSKKGTEpSAlaVMFQ  JNHcPlZPxEMWDnRiyoBf  hAmNSZmQkKQKAjZEGlgb   \n...                       ...                   ...                   ...   \n1732261  LTuZkdKfxRGVceoWkVyg  JNHcPlZPxEMWDnRiyoBf  VlqBmecIOXWjCWUmQkLd   \n1732262  LTuZkdKfxRGVceoWkVyg  JNHcPlZPxEMWDnRiyoBf  puhZPIYqKXeFPaUviSjo   \n1732263  LTuZkdKfxRGVceoWkVyg  JNHcPlZPxEMWDnRiyoBf  puhZPIYqKXeFPaUviSjo   \n1732264  LEoPHuyFvzoNfnzGgfcd  JNHcPlZPxEMWDnRiyoBf  puhZPIYqKXeFPaUviSjo   \n1732265  FTjNLDyTrXaWYgZymFkV  yYdBRbPmBMUZHXwqGxNx  oKjXDUsycmahkgMhGdAR   \n\n        device_category device_os device_brand          device_model  \\\n0                mobile   Android       Huawei  AuMdmADEIoPXiWpTsBEj   \n1                mobile   Android      Samsung  AuMdmADEIoPXiWpTsBEj   \n2                mobile   Android       Huawei  AuMdmADEIoPXiWpTsBEj   \n3                mobile   Android       Xiaomi  AuMdmADEIoPXiWpTsBEj   \n4                mobile   Android       Xiaomi  AuMdmADEIoPXiWpTsBEj   \n...                 ...       ...          ...                   ...   \n1732261         desktop   Windows      Samsung  AuMdmADEIoPXiWpTsBEj   \n1732262          mobile       iOS        Apple  AuMdmADEIoPXiWpTsBEj   \n1732263          mobile       iOS        Apple  AuMdmADEIoPXiWpTsBEj   \n1732264          mobile   Android       Xiaomi  AuMdmADEIoPXiWpTsBEj   \n1732265         desktop     Linux          NaN                   NaN   \n\n        device_screen_resolution    device_browser geo_country     geo_city  \\\n0                        360x720            Chrome      Russia     Zlatoust   \n1                        385x854  Samsung Internet      Russia       Moscow   \n2                        360x720            Chrome      Russia  Krasnoyarsk   \n3                        393x786            Chrome      Russia       Moscow   \n4                        393x786            Chrome      Russia       Moscow   \n...                          ...               ...         ...          ...   \n1732261                1920x1080            Chrome      Russia       Moscow   \n1732262                  390x844            Safari      Russia    Stavropol   \n1732263                  375x667            Safari      Russia       Moscow   \n1732264                  393x851            Chrome      Russia  Chelyabinsk   \n1732265                 1366x768            Chrome      Russia       Moscow   \n\n         target  \n0             0  \n1             0  \n2             0  \n3             0  \n4             0  \n...         ...  \n1732261       0  \n1732262       0  \n1732263       0  \n1732264       0  \n1732265       0  \n\n[1732266 rows x 20 columns]",
      "text/html": "<div>\n<style scoped>\n    .dataframe tbody tr th:only-of-type {\n        vertical-align: middle;\n    }\n\n    .dataframe tbody tr th {\n        vertical-align: top;\n    }\n\n    .dataframe thead th {\n        text-align: right;\n    }\n</style>\n<table border=\"1\" class=\"dataframe\">\n  <thead>\n    <tr style=\"text-align: right;\">\n      <th></th>\n      <th>Unnamed: 0</th>\n      <th>session_id</th>\n      <th>client_id</th>\n      <th>visit_date</th>\n      <th>visit_time</th>\n      <th>visit_number</th>\n      <th>utm_source</th>\n      <th>utm_medium</th>\n      <th>utm_campaign</th>\n      <th>utm_adcontent</th>\n      <th>utm_keyword</th>\n      <th>device_category</th>\n      <th>device_os</th>\n      <th>device_brand</th>\n      <th>device_model</th>\n      <th>device_screen_resolution</th>\n      <th>device_browser</th>\n      <th>geo_country</th>\n      <th>geo_city</th>\n      <th>target</th>\n    </tr>\n  </thead>\n  <tbody>\n    <tr>\n      <th>0</th>\n      <td>0</td>\n      <td>9055434745589932991.1637753792.1637753792</td>\n      <td>2.108383e+09</td>\n      <td>2021-11-24</td>\n      <td>14:36:32</td>\n      <td>1</td>\n      <td>ZpYIoDJMcFzVoPFsHGJL</td>\n      <td>banner</td>\n      <td>LEoPHuyFvzoNfnzGgfcd</td>\n      <td>vCIpmpaGBnIQhyYNkXqp</td>\n      <td>puhZPIYqKXeFPaUviSjo</td>\n      <td>mobile</td>\n      <td>Android</td>\n      <td>Huawei</td>\n      <td>AuMdmADEIoPXiWpTsBEj</td>\n      <td>360x720</td>\n      <td>Chrome</td>\n      <td>Russia</td>\n      <td>Zlatoust</td>\n      <td>0</td>\n    </tr>\n    <tr>\n      <th>1</th>\n      <td>1</td>\n      <td>905544597018549464.1636867290.1636867290</td>\n      <td>2.108385e+08</td>\n      <td>2021-11-14</td>\n      <td>08:21:30</td>\n      <td>1</td>\n      <td>MvfHsxITijuriZxsqZqt</td>\n      <td>cpm</td>\n      <td>FTjNLDyTrXaWYgZymFkV</td>\n      <td>xhoenQgDQsgfEPYNPwKO</td>\n      <td>IGUCNvHlhfHpROGclCit</td>\n      <td>mobile</td>\n      <td>Android</td>\n      <td>Samsung</td>\n      <td>AuMdmADEIoPXiWpTsBEj</td>\n      <td>385x854</td>\n      <td>Samsung Internet</td>\n      <td>Russia</td>\n      <td>Moscow</td>\n      <td>0</td>\n    </tr>\n    <tr>\n      <th>2</th>\n      <td>2</td>\n      <td>9055446045651783499.1640648526.1640648526</td>\n      <td>2.108385e+09</td>\n      <td>2021-12-28</td>\n      <td>02:42:06</td>\n      <td>1</td>\n      <td>ZpYIoDJMcFzVoPFsHGJL</td>\n      <td>banner</td>\n      <td>LEoPHuyFvzoNfnzGgfcd</td>\n      <td>vCIpmpaGBnIQhyYNkXqp</td>\n      <td>puhZPIYqKXeFPaUviSjo</td>\n      <td>mobile</td>\n      <td>Android</td>\n      <td>Huawei</td>\n      <td>AuMdmADEIoPXiWpTsBEj</td>\n      <td>360x720</td>\n      <td>Chrome</td>\n      <td>Russia</td>\n      <td>Krasnoyarsk</td>\n      <td>0</td>\n    </tr>\n    <tr>\n      <th>3</th>\n      <td>3</td>\n      <td>9055447046360770272.1622255328.1622255328</td>\n      <td>2.108386e+09</td>\n      <td>2021-05-29</td>\n      <td>05:00:00</td>\n      <td>1</td>\n      <td>kjsLglQLzykiRbcDiGcD</td>\n      <td>cpc</td>\n      <td>fJCYsujgSxIHFbOmgDdN</td>\n      <td>NOBKLgtuvqYWkXQHeYWM</td>\n      <td>tzIeQUUHahhBuEkJqDVp</td>\n      <td>mobile</td>\n      <td>Android</td>\n      <td>Xiaomi</td>\n      <td>AuMdmADEIoPXiWpTsBEj</td>\n      <td>393x786</td>\n      <td>Chrome</td>\n      <td>Russia</td>\n      <td>Moscow</td>\n      <td>0</td>\n    </tr>\n    <tr>\n      <th>4</th>\n      <td>4</td>\n      <td>9055447046360770272.1622255345.1622255345</td>\n      <td>2.108386e+09</td>\n      <td>2021-05-29</td>\n      <td>05:00:00</td>\n      <td>2</td>\n      <td>kjsLglQLzykiRbcDiGcD</td>\n      <td>cpc</td>\n      <td>XHNUiSKKGTEpSAlaVMFQ</td>\n      <td>JNHcPlZPxEMWDnRiyoBf</td>\n      <td>hAmNSZmQkKQKAjZEGlgb</td>\n      <td>mobile</td>\n      <td>Android</td>\n      <td>Xiaomi</td>\n      <td>AuMdmADEIoPXiWpTsBEj</td>\n      <td>393x786</td>\n      <td>Chrome</td>\n      <td>Russia</td>\n      <td>Moscow</td>\n      <td>0</td>\n    </tr>\n    <tr>\n      <th>...</th>\n      <td>...</td>\n      <td>...</td>\n      <td>...</td>\n      <td>...</td>\n      <td>...</td>\n      <td>...</td>\n      <td>...</td>\n      <td>...</td>\n      <td>...</td>\n      <td>...</td>\n      <td>...</td>\n      <td>...</td>\n      <td>...</td>\n      <td>...</td>\n      <td>...</td>\n      <td>...</td>\n      <td>...</td>\n      <td>...</td>\n      <td>...</td>\n      <td>...</td>\n    </tr>\n    <tr>\n      <th>1732261</th>\n      <td>1732261</td>\n      <td>9055415581448263752.1640159305.1640159305</td>\n      <td>2.108378e+09</td>\n      <td>2021-12-22</td>\n      <td>10:48:25</td>\n      <td>1</td>\n      <td>BHcvLfOaCWvWTykYqHVe</td>\n      <td>cpc</td>\n      <td>LTuZkdKfxRGVceoWkVyg</td>\n      <td>JNHcPlZPxEMWDnRiyoBf</td>\n      <td>VlqBmecIOXWjCWUmQkLd</td>\n      <td>desktop</td>\n      <td>Windows</td>\n      <td>Samsung</td>\n      <td>AuMdmADEIoPXiWpTsBEj</td>\n      <td>1920x1080</td>\n      <td>Chrome</td>\n      <td>Russia</td>\n      <td>Moscow</td>\n      <td>0</td>\n    </tr>\n    <tr>\n      <th>1732262</th>\n      <td>1732262</td>\n      <td>9055421130527858185.1622007305.1622007305</td>\n      <td>2.108380e+09</td>\n      <td>2021-05-26</td>\n      <td>08:00:00</td>\n      <td>1</td>\n      <td>fDLlAcSmythWSCVMvqvL</td>\n      <td>(none)</td>\n      <td>LTuZkdKfxRGVceoWkVyg</td>\n      <td>JNHcPlZPxEMWDnRiyoBf</td>\n      <td>puhZPIYqKXeFPaUviSjo</td>\n      <td>mobile</td>\n      <td>iOS</td>\n      <td>Apple</td>\n      <td>AuMdmADEIoPXiWpTsBEj</td>\n      <td>390x844</td>\n      <td>Safari</td>\n      <td>Russia</td>\n      <td>Stavropol</td>\n      <td>0</td>\n    </tr>\n    <tr>\n      <th>1732263</th>\n      <td>1732263</td>\n      <td>9055422955903931195.1636979515.1636979515</td>\n      <td>2.108380e+09</td>\n      <td>2021-11-15</td>\n      <td>15:31:55</td>\n      <td>1</td>\n      <td>fDLlAcSmythWSCVMvqvL</td>\n      <td>(none)</td>\n      <td>LTuZkdKfxRGVceoWkVyg</td>\n      <td>JNHcPlZPxEMWDnRiyoBf</td>\n      <td>puhZPIYqKXeFPaUviSjo</td>\n      <td>mobile</td>\n      <td>iOS</td>\n      <td>Apple</td>\n      <td>AuMdmADEIoPXiWpTsBEj</td>\n      <td>375x667</td>\n      <td>Safari</td>\n      <td>Russia</td>\n      <td>Moscow</td>\n      <td>0</td>\n    </tr>\n    <tr>\n      <th>1732264</th>\n      <td>1732264</td>\n      <td>905543020766873816.1638189404.1638189404</td>\n      <td>2.108382e+08</td>\n      <td>2021-11-29</td>\n      <td>15:36:44</td>\n      <td>1</td>\n      <td>ZpYIoDJMcFzVoPFsHGJL</td>\n      <td>banner</td>\n      <td>LEoPHuyFvzoNfnzGgfcd</td>\n      <td>JNHcPlZPxEMWDnRiyoBf</td>\n      <td>puhZPIYqKXeFPaUviSjo</td>\n      <td>mobile</td>\n      <td>Android</td>\n      <td>Xiaomi</td>\n      <td>AuMdmADEIoPXiWpTsBEj</td>\n      <td>393x851</td>\n      <td>Chrome</td>\n      <td>Russia</td>\n      <td>Chelyabinsk</td>\n      <td>0</td>\n    </tr>\n    <tr>\n      <th>1732265</th>\n      <td>1732265</td>\n      <td>9055430416266113553.1640968742.1640968742</td>\n      <td>2.108382e+09</td>\n      <td>2021-12-31</td>\n      <td>19:39:02</td>\n      <td>1</td>\n      <td>fgymSoTvjKPEgaIJqsiH</td>\n      <td>cpm</td>\n      <td>FTjNLDyTrXaWYgZymFkV</td>\n      <td>yYdBRbPmBMUZHXwqGxNx</td>\n      <td>oKjXDUsycmahkgMhGdAR</td>\n      <td>desktop</td>\n      <td>Linux</td>\n      <td>NaN</td>\n      <td>NaN</td>\n      <td>1366x768</td>\n      <td>Chrome</td>\n      <td>Russia</td>\n      <td>Moscow</td>\n      <td>0</td>\n    </tr>\n  </tbody>\n</table>\n<p>1732266 rows × 20 columns</p>\n</div>"
     },
     "execution_count": 7,
     "metadata": {},
     "output_type": "execute_result"
    }
   ],
   "source": [
    "df_ch_copy"
   ],
   "metadata": {
    "collapsed": false,
    "ExecuteTime": {
     "end_time": "2024-02-25T11:07:50.395504700Z",
     "start_time": "2024-02-25T11:07:50.311520800Z"
    }
   },
   "id": "46935d8f38f7a3e6",
   "execution_count": 7
  },
  {
   "cell_type": "markdown",
   "source": [
    "Выделяем из датасета только строки со значение 0 в колонке таргет"
   ],
   "metadata": {
    "collapsed": false
   },
   "id": "c2cb57ca3b6a3943"
  },
  {
   "cell_type": "code",
   "outputs": [],
   "source": [
    "df_filtered = df_ch_copy.loc[df_ch_copy['target']==0]"
   ],
   "metadata": {
    "collapsed": false,
    "ExecuteTime": {
     "end_time": "2024-02-25T11:09:26.517318700Z",
     "start_time": "2024-02-25T11:09:26.178787800Z"
    }
   },
   "id": "a483351881d25b81",
   "execution_count": 8
  },
  {
   "cell_type": "code",
   "outputs": [
    {
     "data": {
      "text/plain": "         Unnamed: 0                                 session_id     client_id  \\\n0                 0  9055434745589932991.1637753792.1637753792  2.108383e+09   \n1                 1   905544597018549464.1636867290.1636867290  2.108385e+08   \n2                 2  9055446045651783499.1640648526.1640648526  2.108385e+09   \n3                 3  9055447046360770272.1622255328.1622255328  2.108386e+09   \n4                 4  9055447046360770272.1622255345.1622255345  2.108386e+09   \n...             ...                                        ...           ...   \n1732261     1732261  9055415581448263752.1640159305.1640159305  2.108378e+09   \n1732262     1732262  9055421130527858185.1622007305.1622007305  2.108380e+09   \n1732263     1732263  9055422955903931195.1636979515.1636979515  2.108380e+09   \n1732264     1732264   905543020766873816.1638189404.1638189404  2.108382e+08   \n1732265     1732265  9055430416266113553.1640968742.1640968742  2.108382e+09   \n\n         visit_date visit_time  visit_number            utm_source utm_medium  \\\n0        2021-11-24   14:36:32             1  ZpYIoDJMcFzVoPFsHGJL     banner   \n1        2021-11-14   08:21:30             1  MvfHsxITijuriZxsqZqt        cpm   \n2        2021-12-28   02:42:06             1  ZpYIoDJMcFzVoPFsHGJL     banner   \n3        2021-05-29   05:00:00             1  kjsLglQLzykiRbcDiGcD        cpc   \n4        2021-05-29   05:00:00             2  kjsLglQLzykiRbcDiGcD        cpc   \n...             ...        ...           ...                   ...        ...   \n1732261  2021-12-22   10:48:25             1  BHcvLfOaCWvWTykYqHVe        cpc   \n1732262  2021-05-26   08:00:00             1  fDLlAcSmythWSCVMvqvL     (none)   \n1732263  2021-11-15   15:31:55             1  fDLlAcSmythWSCVMvqvL     (none)   \n1732264  2021-11-29   15:36:44             1  ZpYIoDJMcFzVoPFsHGJL     banner   \n1732265  2021-12-31   19:39:02             1  fgymSoTvjKPEgaIJqsiH        cpm   \n\n                 utm_campaign         utm_adcontent           utm_keyword  \\\n0        LEoPHuyFvzoNfnzGgfcd  vCIpmpaGBnIQhyYNkXqp  puhZPIYqKXeFPaUviSjo   \n1        FTjNLDyTrXaWYgZymFkV  xhoenQgDQsgfEPYNPwKO  IGUCNvHlhfHpROGclCit   \n2        LEoPHuyFvzoNfnzGgfcd  vCIpmpaGBnIQhyYNkXqp  puhZPIYqKXeFPaUviSjo   \n3        fJCYsujgSxIHFbOmgDdN  NOBKLgtuvqYWkXQHeYWM  tzIeQUUHahhBuEkJqDVp   \n4        XHNUiSKKGTEpSAlaVMFQ  JNHcPlZPxEMWDnRiyoBf  hAmNSZmQkKQKAjZEGlgb   \n...                       ...                   ...                   ...   \n1732261  LTuZkdKfxRGVceoWkVyg  JNHcPlZPxEMWDnRiyoBf  VlqBmecIOXWjCWUmQkLd   \n1732262  LTuZkdKfxRGVceoWkVyg  JNHcPlZPxEMWDnRiyoBf  puhZPIYqKXeFPaUviSjo   \n1732263  LTuZkdKfxRGVceoWkVyg  JNHcPlZPxEMWDnRiyoBf  puhZPIYqKXeFPaUviSjo   \n1732264  LEoPHuyFvzoNfnzGgfcd  JNHcPlZPxEMWDnRiyoBf  puhZPIYqKXeFPaUviSjo   \n1732265  FTjNLDyTrXaWYgZymFkV  yYdBRbPmBMUZHXwqGxNx  oKjXDUsycmahkgMhGdAR   \n\n        device_category device_os device_brand          device_model  \\\n0                mobile   Android       Huawei  AuMdmADEIoPXiWpTsBEj   \n1                mobile   Android      Samsung  AuMdmADEIoPXiWpTsBEj   \n2                mobile   Android       Huawei  AuMdmADEIoPXiWpTsBEj   \n3                mobile   Android       Xiaomi  AuMdmADEIoPXiWpTsBEj   \n4                mobile   Android       Xiaomi  AuMdmADEIoPXiWpTsBEj   \n...                 ...       ...          ...                   ...   \n1732261         desktop   Windows      Samsung  AuMdmADEIoPXiWpTsBEj   \n1732262          mobile       iOS        Apple  AuMdmADEIoPXiWpTsBEj   \n1732263          mobile       iOS        Apple  AuMdmADEIoPXiWpTsBEj   \n1732264          mobile   Android       Xiaomi  AuMdmADEIoPXiWpTsBEj   \n1732265         desktop     Linux          NaN                   NaN   \n\n        device_screen_resolution    device_browser geo_country     geo_city  \\\n0                        360x720            Chrome      Russia     Zlatoust   \n1                        385x854  Samsung Internet      Russia       Moscow   \n2                        360x720            Chrome      Russia  Krasnoyarsk   \n3                        393x786            Chrome      Russia       Moscow   \n4                        393x786            Chrome      Russia       Moscow   \n...                          ...               ...         ...          ...   \n1732261                1920x1080            Chrome      Russia       Moscow   \n1732262                  390x844            Safari      Russia    Stavropol   \n1732263                  375x667            Safari      Russia       Moscow   \n1732264                  393x851            Chrome      Russia  Chelyabinsk   \n1732265                 1366x768            Chrome      Russia       Moscow   \n\n         target  \n0             0  \n1             0  \n2             0  \n3             0  \n4             0  \n...         ...  \n1732261       0  \n1732262       0  \n1732263       0  \n1732264       0  \n1732265       0  \n\n[1681952 rows x 20 columns]",
      "text/html": "<div>\n<style scoped>\n    .dataframe tbody tr th:only-of-type {\n        vertical-align: middle;\n    }\n\n    .dataframe tbody tr th {\n        vertical-align: top;\n    }\n\n    .dataframe thead th {\n        text-align: right;\n    }\n</style>\n<table border=\"1\" class=\"dataframe\">\n  <thead>\n    <tr style=\"text-align: right;\">\n      <th></th>\n      <th>Unnamed: 0</th>\n      <th>session_id</th>\n      <th>client_id</th>\n      <th>visit_date</th>\n      <th>visit_time</th>\n      <th>visit_number</th>\n      <th>utm_source</th>\n      <th>utm_medium</th>\n      <th>utm_campaign</th>\n      <th>utm_adcontent</th>\n      <th>utm_keyword</th>\n      <th>device_category</th>\n      <th>device_os</th>\n      <th>device_brand</th>\n      <th>device_model</th>\n      <th>device_screen_resolution</th>\n      <th>device_browser</th>\n      <th>geo_country</th>\n      <th>geo_city</th>\n      <th>target</th>\n    </tr>\n  </thead>\n  <tbody>\n    <tr>\n      <th>0</th>\n      <td>0</td>\n      <td>9055434745589932991.1637753792.1637753792</td>\n      <td>2.108383e+09</td>\n      <td>2021-11-24</td>\n      <td>14:36:32</td>\n      <td>1</td>\n      <td>ZpYIoDJMcFzVoPFsHGJL</td>\n      <td>banner</td>\n      <td>LEoPHuyFvzoNfnzGgfcd</td>\n      <td>vCIpmpaGBnIQhyYNkXqp</td>\n      <td>puhZPIYqKXeFPaUviSjo</td>\n      <td>mobile</td>\n      <td>Android</td>\n      <td>Huawei</td>\n      <td>AuMdmADEIoPXiWpTsBEj</td>\n      <td>360x720</td>\n      <td>Chrome</td>\n      <td>Russia</td>\n      <td>Zlatoust</td>\n      <td>0</td>\n    </tr>\n    <tr>\n      <th>1</th>\n      <td>1</td>\n      <td>905544597018549464.1636867290.1636867290</td>\n      <td>2.108385e+08</td>\n      <td>2021-11-14</td>\n      <td>08:21:30</td>\n      <td>1</td>\n      <td>MvfHsxITijuriZxsqZqt</td>\n      <td>cpm</td>\n      <td>FTjNLDyTrXaWYgZymFkV</td>\n      <td>xhoenQgDQsgfEPYNPwKO</td>\n      <td>IGUCNvHlhfHpROGclCit</td>\n      <td>mobile</td>\n      <td>Android</td>\n      <td>Samsung</td>\n      <td>AuMdmADEIoPXiWpTsBEj</td>\n      <td>385x854</td>\n      <td>Samsung Internet</td>\n      <td>Russia</td>\n      <td>Moscow</td>\n      <td>0</td>\n    </tr>\n    <tr>\n      <th>2</th>\n      <td>2</td>\n      <td>9055446045651783499.1640648526.1640648526</td>\n      <td>2.108385e+09</td>\n      <td>2021-12-28</td>\n      <td>02:42:06</td>\n      <td>1</td>\n      <td>ZpYIoDJMcFzVoPFsHGJL</td>\n      <td>banner</td>\n      <td>LEoPHuyFvzoNfnzGgfcd</td>\n      <td>vCIpmpaGBnIQhyYNkXqp</td>\n      <td>puhZPIYqKXeFPaUviSjo</td>\n      <td>mobile</td>\n      <td>Android</td>\n      <td>Huawei</td>\n      <td>AuMdmADEIoPXiWpTsBEj</td>\n      <td>360x720</td>\n      <td>Chrome</td>\n      <td>Russia</td>\n      <td>Krasnoyarsk</td>\n      <td>0</td>\n    </tr>\n    <tr>\n      <th>3</th>\n      <td>3</td>\n      <td>9055447046360770272.1622255328.1622255328</td>\n      <td>2.108386e+09</td>\n      <td>2021-05-29</td>\n      <td>05:00:00</td>\n      <td>1</td>\n      <td>kjsLglQLzykiRbcDiGcD</td>\n      <td>cpc</td>\n      <td>fJCYsujgSxIHFbOmgDdN</td>\n      <td>NOBKLgtuvqYWkXQHeYWM</td>\n      <td>tzIeQUUHahhBuEkJqDVp</td>\n      <td>mobile</td>\n      <td>Android</td>\n      <td>Xiaomi</td>\n      <td>AuMdmADEIoPXiWpTsBEj</td>\n      <td>393x786</td>\n      <td>Chrome</td>\n      <td>Russia</td>\n      <td>Moscow</td>\n      <td>0</td>\n    </tr>\n    <tr>\n      <th>4</th>\n      <td>4</td>\n      <td>9055447046360770272.1622255345.1622255345</td>\n      <td>2.108386e+09</td>\n      <td>2021-05-29</td>\n      <td>05:00:00</td>\n      <td>2</td>\n      <td>kjsLglQLzykiRbcDiGcD</td>\n      <td>cpc</td>\n      <td>XHNUiSKKGTEpSAlaVMFQ</td>\n      <td>JNHcPlZPxEMWDnRiyoBf</td>\n      <td>hAmNSZmQkKQKAjZEGlgb</td>\n      <td>mobile</td>\n      <td>Android</td>\n      <td>Xiaomi</td>\n      <td>AuMdmADEIoPXiWpTsBEj</td>\n      <td>393x786</td>\n      <td>Chrome</td>\n      <td>Russia</td>\n      <td>Moscow</td>\n      <td>0</td>\n    </tr>\n    <tr>\n      <th>...</th>\n      <td>...</td>\n      <td>...</td>\n      <td>...</td>\n      <td>...</td>\n      <td>...</td>\n      <td>...</td>\n      <td>...</td>\n      <td>...</td>\n      <td>...</td>\n      <td>...</td>\n      <td>...</td>\n      <td>...</td>\n      <td>...</td>\n      <td>...</td>\n      <td>...</td>\n      <td>...</td>\n      <td>...</td>\n      <td>...</td>\n      <td>...</td>\n      <td>...</td>\n    </tr>\n    <tr>\n      <th>1732261</th>\n      <td>1732261</td>\n      <td>9055415581448263752.1640159305.1640159305</td>\n      <td>2.108378e+09</td>\n      <td>2021-12-22</td>\n      <td>10:48:25</td>\n      <td>1</td>\n      <td>BHcvLfOaCWvWTykYqHVe</td>\n      <td>cpc</td>\n      <td>LTuZkdKfxRGVceoWkVyg</td>\n      <td>JNHcPlZPxEMWDnRiyoBf</td>\n      <td>VlqBmecIOXWjCWUmQkLd</td>\n      <td>desktop</td>\n      <td>Windows</td>\n      <td>Samsung</td>\n      <td>AuMdmADEIoPXiWpTsBEj</td>\n      <td>1920x1080</td>\n      <td>Chrome</td>\n      <td>Russia</td>\n      <td>Moscow</td>\n      <td>0</td>\n    </tr>\n    <tr>\n      <th>1732262</th>\n      <td>1732262</td>\n      <td>9055421130527858185.1622007305.1622007305</td>\n      <td>2.108380e+09</td>\n      <td>2021-05-26</td>\n      <td>08:00:00</td>\n      <td>1</td>\n      <td>fDLlAcSmythWSCVMvqvL</td>\n      <td>(none)</td>\n      <td>LTuZkdKfxRGVceoWkVyg</td>\n      <td>JNHcPlZPxEMWDnRiyoBf</td>\n      <td>puhZPIYqKXeFPaUviSjo</td>\n      <td>mobile</td>\n      <td>iOS</td>\n      <td>Apple</td>\n      <td>AuMdmADEIoPXiWpTsBEj</td>\n      <td>390x844</td>\n      <td>Safari</td>\n      <td>Russia</td>\n      <td>Stavropol</td>\n      <td>0</td>\n    </tr>\n    <tr>\n      <th>1732263</th>\n      <td>1732263</td>\n      <td>9055422955903931195.1636979515.1636979515</td>\n      <td>2.108380e+09</td>\n      <td>2021-11-15</td>\n      <td>15:31:55</td>\n      <td>1</td>\n      <td>fDLlAcSmythWSCVMvqvL</td>\n      <td>(none)</td>\n      <td>LTuZkdKfxRGVceoWkVyg</td>\n      <td>JNHcPlZPxEMWDnRiyoBf</td>\n      <td>puhZPIYqKXeFPaUviSjo</td>\n      <td>mobile</td>\n      <td>iOS</td>\n      <td>Apple</td>\n      <td>AuMdmADEIoPXiWpTsBEj</td>\n      <td>375x667</td>\n      <td>Safari</td>\n      <td>Russia</td>\n      <td>Moscow</td>\n      <td>0</td>\n    </tr>\n    <tr>\n      <th>1732264</th>\n      <td>1732264</td>\n      <td>905543020766873816.1638189404.1638189404</td>\n      <td>2.108382e+08</td>\n      <td>2021-11-29</td>\n      <td>15:36:44</td>\n      <td>1</td>\n      <td>ZpYIoDJMcFzVoPFsHGJL</td>\n      <td>banner</td>\n      <td>LEoPHuyFvzoNfnzGgfcd</td>\n      <td>JNHcPlZPxEMWDnRiyoBf</td>\n      <td>puhZPIYqKXeFPaUviSjo</td>\n      <td>mobile</td>\n      <td>Android</td>\n      <td>Xiaomi</td>\n      <td>AuMdmADEIoPXiWpTsBEj</td>\n      <td>393x851</td>\n      <td>Chrome</td>\n      <td>Russia</td>\n      <td>Chelyabinsk</td>\n      <td>0</td>\n    </tr>\n    <tr>\n      <th>1732265</th>\n      <td>1732265</td>\n      <td>9055430416266113553.1640968742.1640968742</td>\n      <td>2.108382e+09</td>\n      <td>2021-12-31</td>\n      <td>19:39:02</td>\n      <td>1</td>\n      <td>fgymSoTvjKPEgaIJqsiH</td>\n      <td>cpm</td>\n      <td>FTjNLDyTrXaWYgZymFkV</td>\n      <td>yYdBRbPmBMUZHXwqGxNx</td>\n      <td>oKjXDUsycmahkgMhGdAR</td>\n      <td>desktop</td>\n      <td>Linux</td>\n      <td>NaN</td>\n      <td>NaN</td>\n      <td>1366x768</td>\n      <td>Chrome</td>\n      <td>Russia</td>\n      <td>Moscow</td>\n      <td>0</td>\n    </tr>\n  </tbody>\n</table>\n<p>1681952 rows × 20 columns</p>\n</div>"
     },
     "execution_count": 9,
     "metadata": {},
     "output_type": "execute_result"
    }
   ],
   "source": [
    "df_filtered"
   ],
   "metadata": {
    "collapsed": false,
    "ExecuteTime": {
     "end_time": "2024-02-25T11:09:28.442964600Z",
     "start_time": "2024-02-25T11:09:28.329155100Z"
    }
   },
   "id": "6835a956896c1a0b",
   "execution_count": 9
  },
  {
   "cell_type": "markdown",
   "source": [
    "Строк где таргет равен нулю 1681952, так что без сожелении удалям строки с NaN значениями"
   ],
   "metadata": {
    "collapsed": false
   },
   "id": "604783b983a59ece"
  },
  {
   "cell_type": "code",
   "outputs": [],
   "source": [
    "df_filtered = df_filtered.dropna()"
   ],
   "metadata": {
    "collapsed": false,
    "ExecuteTime": {
     "end_time": "2024-02-25T11:09:38.106854600Z",
     "start_time": "2024-02-25T11:09:37.047053200Z"
    }
   },
   "id": "2b3be6ac12bcfb23",
   "execution_count": 10
  },
  {
   "cell_type": "code",
   "outputs": [
    {
     "data": {
      "text/plain": "         Unnamed: 0                                 session_id     client_id  \\\n0                 0  9055434745589932991.1637753792.1637753792  2.108383e+09   \n1                 1   905544597018549464.1636867290.1636867290  2.108385e+08   \n2                 2  9055446045651783499.1640648526.1640648526  2.108385e+09   \n3                 3  9055447046360770272.1622255328.1622255328  2.108386e+09   \n4                 4  9055447046360770272.1622255345.1622255345  2.108386e+09   \n...             ...                                        ...           ...   \n1732260     1732260  9055398929844789828.1624891784.1624891784  2.108374e+09   \n1732261     1732261  9055415581448263752.1640159305.1640159305  2.108378e+09   \n1732262     1732262  9055421130527858185.1622007305.1622007305  2.108380e+09   \n1732263     1732263  9055422955903931195.1636979515.1636979515  2.108380e+09   \n1732264     1732264   905543020766873816.1638189404.1638189404  2.108382e+08   \n\n         visit_date visit_time  visit_number            utm_source utm_medium  \\\n0        2021-11-24   14:36:32             1  ZpYIoDJMcFzVoPFsHGJL     banner   \n1        2021-11-14   08:21:30             1  MvfHsxITijuriZxsqZqt        cpm   \n2        2021-12-28   02:42:06             1  ZpYIoDJMcFzVoPFsHGJL     banner   \n3        2021-05-29   05:00:00             1  kjsLglQLzykiRbcDiGcD        cpc   \n4        2021-05-29   05:00:00             2  kjsLglQLzykiRbcDiGcD        cpc   \n...             ...        ...           ...                   ...        ...   \n1732260  2021-06-28   17:00:00             1  kjsLglQLzykiRbcDiGcD        cpc   \n1732261  2021-12-22   10:48:25             1  BHcvLfOaCWvWTykYqHVe        cpc   \n1732262  2021-05-26   08:00:00             1  fDLlAcSmythWSCVMvqvL     (none)   \n1732263  2021-11-15   15:31:55             1  fDLlAcSmythWSCVMvqvL     (none)   \n1732264  2021-11-29   15:36:44             1  ZpYIoDJMcFzVoPFsHGJL     banner   \n\n                 utm_campaign         utm_adcontent           utm_keyword  \\\n0        LEoPHuyFvzoNfnzGgfcd  vCIpmpaGBnIQhyYNkXqp  puhZPIYqKXeFPaUviSjo   \n1        FTjNLDyTrXaWYgZymFkV  xhoenQgDQsgfEPYNPwKO  IGUCNvHlhfHpROGclCit   \n2        LEoPHuyFvzoNfnzGgfcd  vCIpmpaGBnIQhyYNkXqp  puhZPIYqKXeFPaUviSjo   \n3        fJCYsujgSxIHFbOmgDdN  NOBKLgtuvqYWkXQHeYWM  tzIeQUUHahhBuEkJqDVp   \n4        XHNUiSKKGTEpSAlaVMFQ  JNHcPlZPxEMWDnRiyoBf  hAmNSZmQkKQKAjZEGlgb   \n...                       ...                   ...                   ...   \n1732260  vXsFkagGabkcWKlgLzSg  JNHcPlZPxEMWDnRiyoBf  hAmNSZmQkKQKAjZEGlgb   \n1732261  LTuZkdKfxRGVceoWkVyg  JNHcPlZPxEMWDnRiyoBf  VlqBmecIOXWjCWUmQkLd   \n1732262  LTuZkdKfxRGVceoWkVyg  JNHcPlZPxEMWDnRiyoBf  puhZPIYqKXeFPaUviSjo   \n1732263  LTuZkdKfxRGVceoWkVyg  JNHcPlZPxEMWDnRiyoBf  puhZPIYqKXeFPaUviSjo   \n1732264  LEoPHuyFvzoNfnzGgfcd  JNHcPlZPxEMWDnRiyoBf  puhZPIYqKXeFPaUviSjo   \n\n        device_category device_os device_brand          device_model  \\\n0                mobile   Android       Huawei  AuMdmADEIoPXiWpTsBEj   \n1                mobile   Android      Samsung  AuMdmADEIoPXiWpTsBEj   \n2                mobile   Android       Huawei  AuMdmADEIoPXiWpTsBEj   \n3                mobile   Android       Xiaomi  AuMdmADEIoPXiWpTsBEj   \n4                mobile   Android       Xiaomi  AuMdmADEIoPXiWpTsBEj   \n...                 ...       ...          ...                   ...   \n1732260          mobile   Android      Samsung  FTAuYVNoYYxgvKMpKSLW   \n1732261         desktop   Windows      Samsung  AuMdmADEIoPXiWpTsBEj   \n1732262          mobile       iOS        Apple  AuMdmADEIoPXiWpTsBEj   \n1732263          mobile       iOS        Apple  AuMdmADEIoPXiWpTsBEj   \n1732264          mobile   Android       Xiaomi  AuMdmADEIoPXiWpTsBEj   \n\n        device_screen_resolution    device_browser geo_country      geo_city  \\\n0                        360x720            Chrome      Russia      Zlatoust   \n1                        385x854  Samsung Internet      Russia        Moscow   \n2                        360x720            Chrome      Russia   Krasnoyarsk   \n3                        393x786            Chrome      Russia        Moscow   \n4                        393x786            Chrome      Russia        Moscow   \n...                          ...               ...         ...           ...   \n1732260                  320x676            Chrome      Russia  Naro-Fominsk   \n1732261                1920x1080            Chrome      Russia        Moscow   \n1732262                  390x844            Safari      Russia     Stavropol   \n1732263                  375x667            Safari      Russia        Moscow   \n1732264                  393x851            Chrome      Russia   Chelyabinsk   \n\n         target  \n0             0  \n1             0  \n2             0  \n3             0  \n4             0  \n...         ...  \n1732260       0  \n1732261       0  \n1732262       0  \n1732263       0  \n1732264       0  \n\n[1282010 rows x 20 columns]",
      "text/html": "<div>\n<style scoped>\n    .dataframe tbody tr th:only-of-type {\n        vertical-align: middle;\n    }\n\n    .dataframe tbody tr th {\n        vertical-align: top;\n    }\n\n    .dataframe thead th {\n        text-align: right;\n    }\n</style>\n<table border=\"1\" class=\"dataframe\">\n  <thead>\n    <tr style=\"text-align: right;\">\n      <th></th>\n      <th>Unnamed: 0</th>\n      <th>session_id</th>\n      <th>client_id</th>\n      <th>visit_date</th>\n      <th>visit_time</th>\n      <th>visit_number</th>\n      <th>utm_source</th>\n      <th>utm_medium</th>\n      <th>utm_campaign</th>\n      <th>utm_adcontent</th>\n      <th>utm_keyword</th>\n      <th>device_category</th>\n      <th>device_os</th>\n      <th>device_brand</th>\n      <th>device_model</th>\n      <th>device_screen_resolution</th>\n      <th>device_browser</th>\n      <th>geo_country</th>\n      <th>geo_city</th>\n      <th>target</th>\n    </tr>\n  </thead>\n  <tbody>\n    <tr>\n      <th>0</th>\n      <td>0</td>\n      <td>9055434745589932991.1637753792.1637753792</td>\n      <td>2.108383e+09</td>\n      <td>2021-11-24</td>\n      <td>14:36:32</td>\n      <td>1</td>\n      <td>ZpYIoDJMcFzVoPFsHGJL</td>\n      <td>banner</td>\n      <td>LEoPHuyFvzoNfnzGgfcd</td>\n      <td>vCIpmpaGBnIQhyYNkXqp</td>\n      <td>puhZPIYqKXeFPaUviSjo</td>\n      <td>mobile</td>\n      <td>Android</td>\n      <td>Huawei</td>\n      <td>AuMdmADEIoPXiWpTsBEj</td>\n      <td>360x720</td>\n      <td>Chrome</td>\n      <td>Russia</td>\n      <td>Zlatoust</td>\n      <td>0</td>\n    </tr>\n    <tr>\n      <th>1</th>\n      <td>1</td>\n      <td>905544597018549464.1636867290.1636867290</td>\n      <td>2.108385e+08</td>\n      <td>2021-11-14</td>\n      <td>08:21:30</td>\n      <td>1</td>\n      <td>MvfHsxITijuriZxsqZqt</td>\n      <td>cpm</td>\n      <td>FTjNLDyTrXaWYgZymFkV</td>\n      <td>xhoenQgDQsgfEPYNPwKO</td>\n      <td>IGUCNvHlhfHpROGclCit</td>\n      <td>mobile</td>\n      <td>Android</td>\n      <td>Samsung</td>\n      <td>AuMdmADEIoPXiWpTsBEj</td>\n      <td>385x854</td>\n      <td>Samsung Internet</td>\n      <td>Russia</td>\n      <td>Moscow</td>\n      <td>0</td>\n    </tr>\n    <tr>\n      <th>2</th>\n      <td>2</td>\n      <td>9055446045651783499.1640648526.1640648526</td>\n      <td>2.108385e+09</td>\n      <td>2021-12-28</td>\n      <td>02:42:06</td>\n      <td>1</td>\n      <td>ZpYIoDJMcFzVoPFsHGJL</td>\n      <td>banner</td>\n      <td>LEoPHuyFvzoNfnzGgfcd</td>\n      <td>vCIpmpaGBnIQhyYNkXqp</td>\n      <td>puhZPIYqKXeFPaUviSjo</td>\n      <td>mobile</td>\n      <td>Android</td>\n      <td>Huawei</td>\n      <td>AuMdmADEIoPXiWpTsBEj</td>\n      <td>360x720</td>\n      <td>Chrome</td>\n      <td>Russia</td>\n      <td>Krasnoyarsk</td>\n      <td>0</td>\n    </tr>\n    <tr>\n      <th>3</th>\n      <td>3</td>\n      <td>9055447046360770272.1622255328.1622255328</td>\n      <td>2.108386e+09</td>\n      <td>2021-05-29</td>\n      <td>05:00:00</td>\n      <td>1</td>\n      <td>kjsLglQLzykiRbcDiGcD</td>\n      <td>cpc</td>\n      <td>fJCYsujgSxIHFbOmgDdN</td>\n      <td>NOBKLgtuvqYWkXQHeYWM</td>\n      <td>tzIeQUUHahhBuEkJqDVp</td>\n      <td>mobile</td>\n      <td>Android</td>\n      <td>Xiaomi</td>\n      <td>AuMdmADEIoPXiWpTsBEj</td>\n      <td>393x786</td>\n      <td>Chrome</td>\n      <td>Russia</td>\n      <td>Moscow</td>\n      <td>0</td>\n    </tr>\n    <tr>\n      <th>4</th>\n      <td>4</td>\n      <td>9055447046360770272.1622255345.1622255345</td>\n      <td>2.108386e+09</td>\n      <td>2021-05-29</td>\n      <td>05:00:00</td>\n      <td>2</td>\n      <td>kjsLglQLzykiRbcDiGcD</td>\n      <td>cpc</td>\n      <td>XHNUiSKKGTEpSAlaVMFQ</td>\n      <td>JNHcPlZPxEMWDnRiyoBf</td>\n      <td>hAmNSZmQkKQKAjZEGlgb</td>\n      <td>mobile</td>\n      <td>Android</td>\n      <td>Xiaomi</td>\n      <td>AuMdmADEIoPXiWpTsBEj</td>\n      <td>393x786</td>\n      <td>Chrome</td>\n      <td>Russia</td>\n      <td>Moscow</td>\n      <td>0</td>\n    </tr>\n    <tr>\n      <th>...</th>\n      <td>...</td>\n      <td>...</td>\n      <td>...</td>\n      <td>...</td>\n      <td>...</td>\n      <td>...</td>\n      <td>...</td>\n      <td>...</td>\n      <td>...</td>\n      <td>...</td>\n      <td>...</td>\n      <td>...</td>\n      <td>...</td>\n      <td>...</td>\n      <td>...</td>\n      <td>...</td>\n      <td>...</td>\n      <td>...</td>\n      <td>...</td>\n      <td>...</td>\n    </tr>\n    <tr>\n      <th>1732260</th>\n      <td>1732260</td>\n      <td>9055398929844789828.1624891784.1624891784</td>\n      <td>2.108374e+09</td>\n      <td>2021-06-28</td>\n      <td>17:00:00</td>\n      <td>1</td>\n      <td>kjsLglQLzykiRbcDiGcD</td>\n      <td>cpc</td>\n      <td>vXsFkagGabkcWKlgLzSg</td>\n      <td>JNHcPlZPxEMWDnRiyoBf</td>\n      <td>hAmNSZmQkKQKAjZEGlgb</td>\n      <td>mobile</td>\n      <td>Android</td>\n      <td>Samsung</td>\n      <td>FTAuYVNoYYxgvKMpKSLW</td>\n      <td>320x676</td>\n      <td>Chrome</td>\n      <td>Russia</td>\n      <td>Naro-Fominsk</td>\n      <td>0</td>\n    </tr>\n    <tr>\n      <th>1732261</th>\n      <td>1732261</td>\n      <td>9055415581448263752.1640159305.1640159305</td>\n      <td>2.108378e+09</td>\n      <td>2021-12-22</td>\n      <td>10:48:25</td>\n      <td>1</td>\n      <td>BHcvLfOaCWvWTykYqHVe</td>\n      <td>cpc</td>\n      <td>LTuZkdKfxRGVceoWkVyg</td>\n      <td>JNHcPlZPxEMWDnRiyoBf</td>\n      <td>VlqBmecIOXWjCWUmQkLd</td>\n      <td>desktop</td>\n      <td>Windows</td>\n      <td>Samsung</td>\n      <td>AuMdmADEIoPXiWpTsBEj</td>\n      <td>1920x1080</td>\n      <td>Chrome</td>\n      <td>Russia</td>\n      <td>Moscow</td>\n      <td>0</td>\n    </tr>\n    <tr>\n      <th>1732262</th>\n      <td>1732262</td>\n      <td>9055421130527858185.1622007305.1622007305</td>\n      <td>2.108380e+09</td>\n      <td>2021-05-26</td>\n      <td>08:00:00</td>\n      <td>1</td>\n      <td>fDLlAcSmythWSCVMvqvL</td>\n      <td>(none)</td>\n      <td>LTuZkdKfxRGVceoWkVyg</td>\n      <td>JNHcPlZPxEMWDnRiyoBf</td>\n      <td>puhZPIYqKXeFPaUviSjo</td>\n      <td>mobile</td>\n      <td>iOS</td>\n      <td>Apple</td>\n      <td>AuMdmADEIoPXiWpTsBEj</td>\n      <td>390x844</td>\n      <td>Safari</td>\n      <td>Russia</td>\n      <td>Stavropol</td>\n      <td>0</td>\n    </tr>\n    <tr>\n      <th>1732263</th>\n      <td>1732263</td>\n      <td>9055422955903931195.1636979515.1636979515</td>\n      <td>2.108380e+09</td>\n      <td>2021-11-15</td>\n      <td>15:31:55</td>\n      <td>1</td>\n      <td>fDLlAcSmythWSCVMvqvL</td>\n      <td>(none)</td>\n      <td>LTuZkdKfxRGVceoWkVyg</td>\n      <td>JNHcPlZPxEMWDnRiyoBf</td>\n      <td>puhZPIYqKXeFPaUviSjo</td>\n      <td>mobile</td>\n      <td>iOS</td>\n      <td>Apple</td>\n      <td>AuMdmADEIoPXiWpTsBEj</td>\n      <td>375x667</td>\n      <td>Safari</td>\n      <td>Russia</td>\n      <td>Moscow</td>\n      <td>0</td>\n    </tr>\n    <tr>\n      <th>1732264</th>\n      <td>1732264</td>\n      <td>905543020766873816.1638189404.1638189404</td>\n      <td>2.108382e+08</td>\n      <td>2021-11-29</td>\n      <td>15:36:44</td>\n      <td>1</td>\n      <td>ZpYIoDJMcFzVoPFsHGJL</td>\n      <td>banner</td>\n      <td>LEoPHuyFvzoNfnzGgfcd</td>\n      <td>JNHcPlZPxEMWDnRiyoBf</td>\n      <td>puhZPIYqKXeFPaUviSjo</td>\n      <td>mobile</td>\n      <td>Android</td>\n      <td>Xiaomi</td>\n      <td>AuMdmADEIoPXiWpTsBEj</td>\n      <td>393x851</td>\n      <td>Chrome</td>\n      <td>Russia</td>\n      <td>Chelyabinsk</td>\n      <td>0</td>\n    </tr>\n  </tbody>\n</table>\n<p>1282010 rows × 20 columns</p>\n</div>"
     },
     "execution_count": 11,
     "metadata": {},
     "output_type": "execute_result"
    }
   ],
   "source": [
    "df_filtered"
   ],
   "metadata": {
    "collapsed": false,
    "ExecuteTime": {
     "end_time": "2024-02-25T11:09:46.199268700Z",
     "start_time": "2024-02-25T11:09:46.036916200Z"
    }
   },
   "id": "aecb68ec0dcfe4bf",
   "execution_count": 11
  },
  {
   "cell_type": "markdown",
   "source": [
    "Все еще слишком много колонок для моего старого ноутбука, удаляем рандомные 70% данных"
   ],
   "metadata": {
    "collapsed": false
   },
   "id": "9f4ab6f6889365e8"
  },
  {
   "cell_type": "code",
   "outputs": [],
   "source": [
    "random_rows = df_filtered.sample(frac=0.7, random_state=42)"
   ],
   "metadata": {
    "collapsed": false,
    "ExecuteTime": {
     "end_time": "2024-02-25T11:10:31.401991600Z",
     "start_time": "2024-02-25T11:10:30.141030100Z"
    }
   },
   "id": "8012aef49186c4af",
   "execution_count": 12
  },
  {
   "cell_type": "code",
   "outputs": [],
   "source": [
    "df_filtered = df_filtered.drop(random_rows.index)"
   ],
   "metadata": {
    "collapsed": false,
    "ExecuteTime": {
     "end_time": "2024-02-25T11:10:33.477682300Z",
     "start_time": "2024-02-25T11:10:33.246505600Z"
    }
   },
   "id": "14fb1ce0e482be5d",
   "execution_count": 13
  },
  {
   "cell_type": "code",
   "outputs": [
    {
     "data": {
      "text/plain": "         Unnamed: 0                                 session_id     client_id  \\\n4                 4  9055447046360770272.1622255345.1622255345  2.108386e+09   \n9                 9  9055466554104774132.1624800757.1624800757  2.108390e+09   \n19               19  9055491722626447422.1638119489.1638119489  2.108396e+09   \n20               20  9055496369776380607.1633438303.1633438303  2.108397e+09   \n23               23  9055497958914887309.1634048072.1634048072  2.108397e+09   \n...             ...                                        ...           ...   \n1732233     1732233  9055283330814105899.1638979884.1638979890  2.108347e+09   \n1732234     1732234  9055290018073398651.1634192763.1634192763  2.108349e+09   \n1732235     1732235  9055300712540178759.1632405870.1632405870  2.108351e+09   \n1732260     1732260  9055398929844789828.1624891784.1624891784  2.108374e+09   \n1732261     1732261  9055415581448263752.1640159305.1640159305  2.108378e+09   \n\n         visit_date visit_time  visit_number            utm_source utm_medium  \\\n4        2021-05-29   05:00:00             2  kjsLglQLzykiRbcDiGcD        cpc   \n9        2021-06-27   16:00:00             1  ZpYIoDJMcFzVoPFsHGJL     banner   \n19       2021-11-28   20:11:29             1  ZpYIoDJMcFzVoPFsHGJL     banner   \n20       2021-10-05   15:00:00             1  ZpYIoDJMcFzVoPFsHGJL     banner   \n23       2021-10-12   17:00:00             3  MvfHsxITijuriZxsqZqt        cpm   \n...             ...        ...           ...                   ...        ...   \n1732233  2021-12-08   19:11:30             1  bByPQxmDaMXgpHeypKSM   referral   \n1732234  2021-10-14   09:00:00             1  ZpYIoDJMcFzVoPFsHGJL     banner   \n1732235  2021-09-23   17:04:30             1  MvfHsxITijuriZxsqZqt        cpm   \n1732260  2021-06-28   17:00:00             1  kjsLglQLzykiRbcDiGcD        cpc   \n1732261  2021-12-22   10:48:25             1  BHcvLfOaCWvWTykYqHVe        cpc   \n\n                 utm_campaign         utm_adcontent           utm_keyword  \\\n4        XHNUiSKKGTEpSAlaVMFQ  JNHcPlZPxEMWDnRiyoBf  hAmNSZmQkKQKAjZEGlgb   \n9        LEoPHuyFvzoNfnzGgfcd  JNHcPlZPxEMWDnRiyoBf  puhZPIYqKXeFPaUviSjo   \n19       LEoPHuyFvzoNfnzGgfcd  vCIpmpaGBnIQhyYNkXqp  puhZPIYqKXeFPaUviSjo   \n20       gecBYcKZCPMcVYdSSzKP  JNHcPlZPxEMWDnRiyoBf  puhZPIYqKXeFPaUviSjo   \n23       FTjNLDyTrXaWYgZymFkV  xhoenQgDQsgfEPYNPwKO  pHqgLcdBQPSLcrTpLkdr   \n...                       ...                   ...                   ...   \n1732233  QdLfySaGXolfTBSNVfHn  SOkCdPxfUcZUzzOdgGES  puhZPIYqKXeFPaUviSjo   \n1732234  gecBYcKZCPMcVYdSSzKP  JNHcPlZPxEMWDnRiyoBf  puhZPIYqKXeFPaUviSjo   \n1732235  FTjNLDyTrXaWYgZymFkV  PkybGvWbaqORmxjNunqZ  zPJpddwzkFqLMSYgtDqy   \n1732260  vXsFkagGabkcWKlgLzSg  JNHcPlZPxEMWDnRiyoBf  hAmNSZmQkKQKAjZEGlgb   \n1732261  LTuZkdKfxRGVceoWkVyg  JNHcPlZPxEMWDnRiyoBf  VlqBmecIOXWjCWUmQkLd   \n\n        device_category device_os device_brand          device_model  \\\n4                mobile   Android       Xiaomi  AuMdmADEIoPXiWpTsBEj   \n9                mobile   Android      Samsung  AuMdmADEIoPXiWpTsBEj   \n19               mobile   Android       Huawei  AuMdmADEIoPXiWpTsBEj   \n20               mobile   Android      Samsung  AuMdmADEIoPXiWpTsBEj   \n23               mobile   Android       Xiaomi  AuMdmADEIoPXiWpTsBEj   \n...                 ...       ...          ...                   ...   \n1732233         desktop   Windows      Samsung  AuMdmADEIoPXiWpTsBEj   \n1732234          mobile   Android       Xiaomi  AuMdmADEIoPXiWpTsBEj   \n1732235          mobile   Android      Samsung  AuMdmADEIoPXiWpTsBEj   \n1732260          mobile   Android      Samsung  FTAuYVNoYYxgvKMpKSLW   \n1732261         desktop   Windows      Samsung  AuMdmADEIoPXiWpTsBEj   \n\n        device_screen_resolution device_browser geo_country          geo_city  \\\n4                        393x786         Chrome      Russia            Moscow   \n9                        412x915         Chrome      Russia            Moscow   \n19                       360x780         Chrome      Russia  Saint Petersburg   \n20                       412x915         Chrome      Russia      Novorossiysk   \n23                       393x851         Chrome      Russia            Moscow   \n...                          ...            ...         ...               ...   \n1732233                1920x1080         Chrome      Russia         Krasnodar   \n1732234                  393x873         Chrome      Russia            Kurgan   \n1732235                  385x854         Chrome      Russia            Moscow   \n1732260                  320x676         Chrome      Russia      Naro-Fominsk   \n1732261                1920x1080         Chrome      Russia            Moscow   \n\n         target  \n4             0  \n9             0  \n19            0  \n20            0  \n23            0  \n...         ...  \n1732233       0  \n1732234       0  \n1732235       0  \n1732260       0  \n1732261       0  \n\n[384603 rows x 20 columns]",
      "text/html": "<div>\n<style scoped>\n    .dataframe tbody tr th:only-of-type {\n        vertical-align: middle;\n    }\n\n    .dataframe tbody tr th {\n        vertical-align: top;\n    }\n\n    .dataframe thead th {\n        text-align: right;\n    }\n</style>\n<table border=\"1\" class=\"dataframe\">\n  <thead>\n    <tr style=\"text-align: right;\">\n      <th></th>\n      <th>Unnamed: 0</th>\n      <th>session_id</th>\n      <th>client_id</th>\n      <th>visit_date</th>\n      <th>visit_time</th>\n      <th>visit_number</th>\n      <th>utm_source</th>\n      <th>utm_medium</th>\n      <th>utm_campaign</th>\n      <th>utm_adcontent</th>\n      <th>utm_keyword</th>\n      <th>device_category</th>\n      <th>device_os</th>\n      <th>device_brand</th>\n      <th>device_model</th>\n      <th>device_screen_resolution</th>\n      <th>device_browser</th>\n      <th>geo_country</th>\n      <th>geo_city</th>\n      <th>target</th>\n    </tr>\n  </thead>\n  <tbody>\n    <tr>\n      <th>4</th>\n      <td>4</td>\n      <td>9055447046360770272.1622255345.1622255345</td>\n      <td>2.108386e+09</td>\n      <td>2021-05-29</td>\n      <td>05:00:00</td>\n      <td>2</td>\n      <td>kjsLglQLzykiRbcDiGcD</td>\n      <td>cpc</td>\n      <td>XHNUiSKKGTEpSAlaVMFQ</td>\n      <td>JNHcPlZPxEMWDnRiyoBf</td>\n      <td>hAmNSZmQkKQKAjZEGlgb</td>\n      <td>mobile</td>\n      <td>Android</td>\n      <td>Xiaomi</td>\n      <td>AuMdmADEIoPXiWpTsBEj</td>\n      <td>393x786</td>\n      <td>Chrome</td>\n      <td>Russia</td>\n      <td>Moscow</td>\n      <td>0</td>\n    </tr>\n    <tr>\n      <th>9</th>\n      <td>9</td>\n      <td>9055466554104774132.1624800757.1624800757</td>\n      <td>2.108390e+09</td>\n      <td>2021-06-27</td>\n      <td>16:00:00</td>\n      <td>1</td>\n      <td>ZpYIoDJMcFzVoPFsHGJL</td>\n      <td>banner</td>\n      <td>LEoPHuyFvzoNfnzGgfcd</td>\n      <td>JNHcPlZPxEMWDnRiyoBf</td>\n      <td>puhZPIYqKXeFPaUviSjo</td>\n      <td>mobile</td>\n      <td>Android</td>\n      <td>Samsung</td>\n      <td>AuMdmADEIoPXiWpTsBEj</td>\n      <td>412x915</td>\n      <td>Chrome</td>\n      <td>Russia</td>\n      <td>Moscow</td>\n      <td>0</td>\n    </tr>\n    <tr>\n      <th>19</th>\n      <td>19</td>\n      <td>9055491722626447422.1638119489.1638119489</td>\n      <td>2.108396e+09</td>\n      <td>2021-11-28</td>\n      <td>20:11:29</td>\n      <td>1</td>\n      <td>ZpYIoDJMcFzVoPFsHGJL</td>\n      <td>banner</td>\n      <td>LEoPHuyFvzoNfnzGgfcd</td>\n      <td>vCIpmpaGBnIQhyYNkXqp</td>\n      <td>puhZPIYqKXeFPaUviSjo</td>\n      <td>mobile</td>\n      <td>Android</td>\n      <td>Huawei</td>\n      <td>AuMdmADEIoPXiWpTsBEj</td>\n      <td>360x780</td>\n      <td>Chrome</td>\n      <td>Russia</td>\n      <td>Saint Petersburg</td>\n      <td>0</td>\n    </tr>\n    <tr>\n      <th>20</th>\n      <td>20</td>\n      <td>9055496369776380607.1633438303.1633438303</td>\n      <td>2.108397e+09</td>\n      <td>2021-10-05</td>\n      <td>15:00:00</td>\n      <td>1</td>\n      <td>ZpYIoDJMcFzVoPFsHGJL</td>\n      <td>banner</td>\n      <td>gecBYcKZCPMcVYdSSzKP</td>\n      <td>JNHcPlZPxEMWDnRiyoBf</td>\n      <td>puhZPIYqKXeFPaUviSjo</td>\n      <td>mobile</td>\n      <td>Android</td>\n      <td>Samsung</td>\n      <td>AuMdmADEIoPXiWpTsBEj</td>\n      <td>412x915</td>\n      <td>Chrome</td>\n      <td>Russia</td>\n      <td>Novorossiysk</td>\n      <td>0</td>\n    </tr>\n    <tr>\n      <th>23</th>\n      <td>23</td>\n      <td>9055497958914887309.1634048072.1634048072</td>\n      <td>2.108397e+09</td>\n      <td>2021-10-12</td>\n      <td>17:00:00</td>\n      <td>3</td>\n      <td>MvfHsxITijuriZxsqZqt</td>\n      <td>cpm</td>\n      <td>FTjNLDyTrXaWYgZymFkV</td>\n      <td>xhoenQgDQsgfEPYNPwKO</td>\n      <td>pHqgLcdBQPSLcrTpLkdr</td>\n      <td>mobile</td>\n      <td>Android</td>\n      <td>Xiaomi</td>\n      <td>AuMdmADEIoPXiWpTsBEj</td>\n      <td>393x851</td>\n      <td>Chrome</td>\n      <td>Russia</td>\n      <td>Moscow</td>\n      <td>0</td>\n    </tr>\n    <tr>\n      <th>...</th>\n      <td>...</td>\n      <td>...</td>\n      <td>...</td>\n      <td>...</td>\n      <td>...</td>\n      <td>...</td>\n      <td>...</td>\n      <td>...</td>\n      <td>...</td>\n      <td>...</td>\n      <td>...</td>\n      <td>...</td>\n      <td>...</td>\n      <td>...</td>\n      <td>...</td>\n      <td>...</td>\n      <td>...</td>\n      <td>...</td>\n      <td>...</td>\n      <td>...</td>\n    </tr>\n    <tr>\n      <th>1732233</th>\n      <td>1732233</td>\n      <td>9055283330814105899.1638979884.1638979890</td>\n      <td>2.108347e+09</td>\n      <td>2021-12-08</td>\n      <td>19:11:30</td>\n      <td>1</td>\n      <td>bByPQxmDaMXgpHeypKSM</td>\n      <td>referral</td>\n      <td>QdLfySaGXolfTBSNVfHn</td>\n      <td>SOkCdPxfUcZUzzOdgGES</td>\n      <td>puhZPIYqKXeFPaUviSjo</td>\n      <td>desktop</td>\n      <td>Windows</td>\n      <td>Samsung</td>\n      <td>AuMdmADEIoPXiWpTsBEj</td>\n      <td>1920x1080</td>\n      <td>Chrome</td>\n      <td>Russia</td>\n      <td>Krasnodar</td>\n      <td>0</td>\n    </tr>\n    <tr>\n      <th>1732234</th>\n      <td>1732234</td>\n      <td>9055290018073398651.1634192763.1634192763</td>\n      <td>2.108349e+09</td>\n      <td>2021-10-14</td>\n      <td>09:00:00</td>\n      <td>1</td>\n      <td>ZpYIoDJMcFzVoPFsHGJL</td>\n      <td>banner</td>\n      <td>gecBYcKZCPMcVYdSSzKP</td>\n      <td>JNHcPlZPxEMWDnRiyoBf</td>\n      <td>puhZPIYqKXeFPaUviSjo</td>\n      <td>mobile</td>\n      <td>Android</td>\n      <td>Xiaomi</td>\n      <td>AuMdmADEIoPXiWpTsBEj</td>\n      <td>393x873</td>\n      <td>Chrome</td>\n      <td>Russia</td>\n      <td>Kurgan</td>\n      <td>0</td>\n    </tr>\n    <tr>\n      <th>1732235</th>\n      <td>1732235</td>\n      <td>9055300712540178759.1632405870.1632405870</td>\n      <td>2.108351e+09</td>\n      <td>2021-09-23</td>\n      <td>17:04:30</td>\n      <td>1</td>\n      <td>MvfHsxITijuriZxsqZqt</td>\n      <td>cpm</td>\n      <td>FTjNLDyTrXaWYgZymFkV</td>\n      <td>PkybGvWbaqORmxjNunqZ</td>\n      <td>zPJpddwzkFqLMSYgtDqy</td>\n      <td>mobile</td>\n      <td>Android</td>\n      <td>Samsung</td>\n      <td>AuMdmADEIoPXiWpTsBEj</td>\n      <td>385x854</td>\n      <td>Chrome</td>\n      <td>Russia</td>\n      <td>Moscow</td>\n      <td>0</td>\n    </tr>\n    <tr>\n      <th>1732260</th>\n      <td>1732260</td>\n      <td>9055398929844789828.1624891784.1624891784</td>\n      <td>2.108374e+09</td>\n      <td>2021-06-28</td>\n      <td>17:00:00</td>\n      <td>1</td>\n      <td>kjsLglQLzykiRbcDiGcD</td>\n      <td>cpc</td>\n      <td>vXsFkagGabkcWKlgLzSg</td>\n      <td>JNHcPlZPxEMWDnRiyoBf</td>\n      <td>hAmNSZmQkKQKAjZEGlgb</td>\n      <td>mobile</td>\n      <td>Android</td>\n      <td>Samsung</td>\n      <td>FTAuYVNoYYxgvKMpKSLW</td>\n      <td>320x676</td>\n      <td>Chrome</td>\n      <td>Russia</td>\n      <td>Naro-Fominsk</td>\n      <td>0</td>\n    </tr>\n    <tr>\n      <th>1732261</th>\n      <td>1732261</td>\n      <td>9055415581448263752.1640159305.1640159305</td>\n      <td>2.108378e+09</td>\n      <td>2021-12-22</td>\n      <td>10:48:25</td>\n      <td>1</td>\n      <td>BHcvLfOaCWvWTykYqHVe</td>\n      <td>cpc</td>\n      <td>LTuZkdKfxRGVceoWkVyg</td>\n      <td>JNHcPlZPxEMWDnRiyoBf</td>\n      <td>VlqBmecIOXWjCWUmQkLd</td>\n      <td>desktop</td>\n      <td>Windows</td>\n      <td>Samsung</td>\n      <td>AuMdmADEIoPXiWpTsBEj</td>\n      <td>1920x1080</td>\n      <td>Chrome</td>\n      <td>Russia</td>\n      <td>Moscow</td>\n      <td>0</td>\n    </tr>\n  </tbody>\n</table>\n<p>384603 rows × 20 columns</p>\n</div>"
     },
     "execution_count": 14,
     "metadata": {},
     "output_type": "execute_result"
    }
   ],
   "source": [
    "df_filtered"
   ],
   "metadata": {
    "collapsed": false,
    "ExecuteTime": {
     "end_time": "2024-02-25T11:10:35.570607600Z",
     "start_time": "2024-02-25T11:10:35.482207500Z"
    }
   },
   "id": "72d45fe59e4991c9",
   "execution_count": 14
  },
  {
   "cell_type": "markdown",
   "source": [
    "Выделяем строки где колонка таргет равен 1"
   ],
   "metadata": {
    "collapsed": false
   },
   "id": "71c21d77cd4c78f5"
  },
  {
   "cell_type": "code",
   "outputs": [],
   "source": [
    "df_filtered_target = df_ch_copy.loc[df_ch_copy['target']==1]"
   ],
   "metadata": {
    "collapsed": false,
    "ExecuteTime": {
     "end_time": "2024-02-25T11:10:43.171298Z",
     "start_time": "2024-02-25T11:10:43.064386400Z"
    }
   },
   "id": "f96a87feaba66fa2",
   "execution_count": 15
  },
  {
   "cell_type": "code",
   "outputs": [
    {
     "data": {
      "text/plain": "         Unnamed: 0                                 session_id     client_id  \\\n69               69  9055768928391199041.1623652678.1623652678  2.108461e+09   \n73               73  9055789093275396095.1636395007.1636395007  2.108465e+09   \n76               76  9055794766915104430.1624305327.1624305327  2.108467e+09   \n127             127  9056028189803556573.1630154471.1630154471  2.108521e+09   \n135             135  9056093322981390023.1628944098.1628944098  2.108536e+09   \n...             ...                                        ...           ...   \n1732152     1732152  9054912872702758664.1636781836.1636781836  2.108261e+09   \n1732225     1732225  9055248417020050011.1634073188.1634073188  2.108339e+09   \n1732227     1732227  9055248417020050011.1634075541.1634075541  2.108339e+09   \n1732254     1732254  9055376699099939975.1630766214.1630766214  2.108369e+09   \n1732257     1732257  9055394269810294140.1629912447.1629912447  2.108373e+09   \n\n         visit_date visit_time  visit_number            utm_source utm_medium  \\\n69       2021-06-14   09:00:00             1  ZpYIoDJMcFzVoPFsHGJL     banner   \n73       2021-11-08   21:10:07             1  ZpYIoDJMcFzVoPFsHGJL     banner   \n76       2021-06-21   22:00:00             1  BHcvLfOaCWvWTykYqHVe        cpc   \n127      2021-08-28   15:00:00             1  fDLlAcSmythWSCVMvqvL     (none)   \n135      2021-08-14   15:00:00             1  ZpYIoDJMcFzVoPFsHGJL     banner   \n...             ...        ...           ...                   ...        ...   \n1732152  2021-11-13   08:37:16             1  kjsLglQLzykiRbcDiGcD        cpc   \n1732225  2021-10-13   00:00:00             1  ZpYIoDJMcFzVoPFsHGJL     banner   \n1732227  2021-10-13   00:00:00             3  ZpYIoDJMcFzVoPFsHGJL     banner   \n1732254  2021-09-04   17:00:00             1  fDLlAcSmythWSCVMvqvL     (none)   \n1732257  2021-08-25   20:00:00             1  bByPQxmDaMXgpHeypKSM   referral   \n\n                 utm_campaign         utm_adcontent           utm_keyword  \\\n69       LEoPHuyFvzoNfnzGgfcd  JNHcPlZPxEMWDnRiyoBf  puhZPIYqKXeFPaUviSjo   \n73       LEoPHuyFvzoNfnzGgfcd  JNHcPlZPxEMWDnRiyoBf  puhZPIYqKXeFPaUviSjo   \n76       LTuZkdKfxRGVceoWkVyg  JNHcPlZPxEMWDnRiyoBf  ZNhSIPchlbnKwZWcsKzz   \n127      LTuZkdKfxRGVceoWkVyg  JNHcPlZPxEMWDnRiyoBf  puhZPIYqKXeFPaUviSjo   \n135      LEoPHuyFvzoNfnzGgfcd  JNHcPlZPxEMWDnRiyoBf  puhZPIYqKXeFPaUviSjo   \n...                       ...                   ...                   ...   \n1732152  LwJZxKuWmvOhPsaCeRjG  JNHcPlZPxEMWDnRiyoBf  HKFjmDlYppkKqsWPogJt   \n1732225  SgIUDYUKnyWHVowUOqid  JNHcPlZPxEMWDnRiyoBf  puhZPIYqKXeFPaUviSjo   \n1732227  SgIUDYUKnyWHVowUOqid  JNHcPlZPxEMWDnRiyoBf  puhZPIYqKXeFPaUviSjo   \n1732254  LTuZkdKfxRGVceoWkVyg  JNHcPlZPxEMWDnRiyoBf  puhZPIYqKXeFPaUviSjo   \n1732257  LTuZkdKfxRGVceoWkVyg  JNHcPlZPxEMWDnRiyoBf  puhZPIYqKXeFPaUviSjo   \n\n        device_category  device_os device_brand          device_model  \\\n69               mobile    Android       Huawei  AuMdmADEIoPXiWpTsBEj   \n73               mobile        iOS        Apple                   NaN   \n76              desktop  Macintosh          NaN                   NaN   \n127              mobile    Android      Samsung  jXFxTkHxuiBKWOvUtsIa   \n135              mobile    Android      Samsung  AuMdmADEIoPXiWpTsBEj   \n...                 ...        ...          ...                   ...   \n1732152          mobile    Android       Xiaomi  AuMdmADEIoPXiWpTsBEj   \n1732225          mobile    Android       Huawei  AuMdmADEIoPXiWpTsBEj   \n1732227          mobile    Android       Huawei  AuMdmADEIoPXiWpTsBEj   \n1732254         desktop    Windows      Samsung  AuMdmADEIoPXiWpTsBEj   \n1732257          mobile    Android      Samsung  AuMdmADEIoPXiWpTsBEj   \n\n        device_screen_resolution   device_browser geo_country  \\\n69                       360x780           Chrome      Russia   \n73                       414x736           Safari      Russia   \n76                      834x1112           Safari      Russia   \n127                      412x915        YaBrowser      Russia   \n135                      360x740           Chrome      Russia   \n...                          ...              ...         ...   \n1732152                  360x800           Chrome      Russia   \n1732225                  360x780           Chrome      Russia   \n1732227                  360x780           Chrome      Russia   \n1732254                1920x1080           Chrome      Russia   \n1732257                  360x800  Android Webview      Russia   \n\n                 geo_city  target  \n69                 Moscow       1  \n73                 Samara       1  \n76             Domodedovo       1  \n127             Krasnodar       1  \n135                Moscow       1  \n...                   ...     ...  \n1732152            Moscow       1  \n1732225   Nizhny Novgorod       1  \n1732227   Nizhny Novgorod       1  \n1732254            Khimki       1  \n1732257  Saint Petersburg       1  \n\n[50314 rows x 20 columns]",
      "text/html": "<div>\n<style scoped>\n    .dataframe tbody tr th:only-of-type {\n        vertical-align: middle;\n    }\n\n    .dataframe tbody tr th {\n        vertical-align: top;\n    }\n\n    .dataframe thead th {\n        text-align: right;\n    }\n</style>\n<table border=\"1\" class=\"dataframe\">\n  <thead>\n    <tr style=\"text-align: right;\">\n      <th></th>\n      <th>Unnamed: 0</th>\n      <th>session_id</th>\n      <th>client_id</th>\n      <th>visit_date</th>\n      <th>visit_time</th>\n      <th>visit_number</th>\n      <th>utm_source</th>\n      <th>utm_medium</th>\n      <th>utm_campaign</th>\n      <th>utm_adcontent</th>\n      <th>utm_keyword</th>\n      <th>device_category</th>\n      <th>device_os</th>\n      <th>device_brand</th>\n      <th>device_model</th>\n      <th>device_screen_resolution</th>\n      <th>device_browser</th>\n      <th>geo_country</th>\n      <th>geo_city</th>\n      <th>target</th>\n    </tr>\n  </thead>\n  <tbody>\n    <tr>\n      <th>69</th>\n      <td>69</td>\n      <td>9055768928391199041.1623652678.1623652678</td>\n      <td>2.108461e+09</td>\n      <td>2021-06-14</td>\n      <td>09:00:00</td>\n      <td>1</td>\n      <td>ZpYIoDJMcFzVoPFsHGJL</td>\n      <td>banner</td>\n      <td>LEoPHuyFvzoNfnzGgfcd</td>\n      <td>JNHcPlZPxEMWDnRiyoBf</td>\n      <td>puhZPIYqKXeFPaUviSjo</td>\n      <td>mobile</td>\n      <td>Android</td>\n      <td>Huawei</td>\n      <td>AuMdmADEIoPXiWpTsBEj</td>\n      <td>360x780</td>\n      <td>Chrome</td>\n      <td>Russia</td>\n      <td>Moscow</td>\n      <td>1</td>\n    </tr>\n    <tr>\n      <th>73</th>\n      <td>73</td>\n      <td>9055789093275396095.1636395007.1636395007</td>\n      <td>2.108465e+09</td>\n      <td>2021-11-08</td>\n      <td>21:10:07</td>\n      <td>1</td>\n      <td>ZpYIoDJMcFzVoPFsHGJL</td>\n      <td>banner</td>\n      <td>LEoPHuyFvzoNfnzGgfcd</td>\n      <td>JNHcPlZPxEMWDnRiyoBf</td>\n      <td>puhZPIYqKXeFPaUviSjo</td>\n      <td>mobile</td>\n      <td>iOS</td>\n      <td>Apple</td>\n      <td>NaN</td>\n      <td>414x736</td>\n      <td>Safari</td>\n      <td>Russia</td>\n      <td>Samara</td>\n      <td>1</td>\n    </tr>\n    <tr>\n      <th>76</th>\n      <td>76</td>\n      <td>9055794766915104430.1624305327.1624305327</td>\n      <td>2.108467e+09</td>\n      <td>2021-06-21</td>\n      <td>22:00:00</td>\n      <td>1</td>\n      <td>BHcvLfOaCWvWTykYqHVe</td>\n      <td>cpc</td>\n      <td>LTuZkdKfxRGVceoWkVyg</td>\n      <td>JNHcPlZPxEMWDnRiyoBf</td>\n      <td>ZNhSIPchlbnKwZWcsKzz</td>\n      <td>desktop</td>\n      <td>Macintosh</td>\n      <td>NaN</td>\n      <td>NaN</td>\n      <td>834x1112</td>\n      <td>Safari</td>\n      <td>Russia</td>\n      <td>Domodedovo</td>\n      <td>1</td>\n    </tr>\n    <tr>\n      <th>127</th>\n      <td>127</td>\n      <td>9056028189803556573.1630154471.1630154471</td>\n      <td>2.108521e+09</td>\n      <td>2021-08-28</td>\n      <td>15:00:00</td>\n      <td>1</td>\n      <td>fDLlAcSmythWSCVMvqvL</td>\n      <td>(none)</td>\n      <td>LTuZkdKfxRGVceoWkVyg</td>\n      <td>JNHcPlZPxEMWDnRiyoBf</td>\n      <td>puhZPIYqKXeFPaUviSjo</td>\n      <td>mobile</td>\n      <td>Android</td>\n      <td>Samsung</td>\n      <td>jXFxTkHxuiBKWOvUtsIa</td>\n      <td>412x915</td>\n      <td>YaBrowser</td>\n      <td>Russia</td>\n      <td>Krasnodar</td>\n      <td>1</td>\n    </tr>\n    <tr>\n      <th>135</th>\n      <td>135</td>\n      <td>9056093322981390023.1628944098.1628944098</td>\n      <td>2.108536e+09</td>\n      <td>2021-08-14</td>\n      <td>15:00:00</td>\n      <td>1</td>\n      <td>ZpYIoDJMcFzVoPFsHGJL</td>\n      <td>banner</td>\n      <td>LEoPHuyFvzoNfnzGgfcd</td>\n      <td>JNHcPlZPxEMWDnRiyoBf</td>\n      <td>puhZPIYqKXeFPaUviSjo</td>\n      <td>mobile</td>\n      <td>Android</td>\n      <td>Samsung</td>\n      <td>AuMdmADEIoPXiWpTsBEj</td>\n      <td>360x740</td>\n      <td>Chrome</td>\n      <td>Russia</td>\n      <td>Moscow</td>\n      <td>1</td>\n    </tr>\n    <tr>\n      <th>...</th>\n      <td>...</td>\n      <td>...</td>\n      <td>...</td>\n      <td>...</td>\n      <td>...</td>\n      <td>...</td>\n      <td>...</td>\n      <td>...</td>\n      <td>...</td>\n      <td>...</td>\n      <td>...</td>\n      <td>...</td>\n      <td>...</td>\n      <td>...</td>\n      <td>...</td>\n      <td>...</td>\n      <td>...</td>\n      <td>...</td>\n      <td>...</td>\n      <td>...</td>\n    </tr>\n    <tr>\n      <th>1732152</th>\n      <td>1732152</td>\n      <td>9054912872702758664.1636781836.1636781836</td>\n      <td>2.108261e+09</td>\n      <td>2021-11-13</td>\n      <td>08:37:16</td>\n      <td>1</td>\n      <td>kjsLglQLzykiRbcDiGcD</td>\n      <td>cpc</td>\n      <td>LwJZxKuWmvOhPsaCeRjG</td>\n      <td>JNHcPlZPxEMWDnRiyoBf</td>\n      <td>HKFjmDlYppkKqsWPogJt</td>\n      <td>mobile</td>\n      <td>Android</td>\n      <td>Xiaomi</td>\n      <td>AuMdmADEIoPXiWpTsBEj</td>\n      <td>360x800</td>\n      <td>Chrome</td>\n      <td>Russia</td>\n      <td>Moscow</td>\n      <td>1</td>\n    </tr>\n    <tr>\n      <th>1732225</th>\n      <td>1732225</td>\n      <td>9055248417020050011.1634073188.1634073188</td>\n      <td>2.108339e+09</td>\n      <td>2021-10-13</td>\n      <td>00:00:00</td>\n      <td>1</td>\n      <td>ZpYIoDJMcFzVoPFsHGJL</td>\n      <td>banner</td>\n      <td>SgIUDYUKnyWHVowUOqid</td>\n      <td>JNHcPlZPxEMWDnRiyoBf</td>\n      <td>puhZPIYqKXeFPaUviSjo</td>\n      <td>mobile</td>\n      <td>Android</td>\n      <td>Huawei</td>\n      <td>AuMdmADEIoPXiWpTsBEj</td>\n      <td>360x780</td>\n      <td>Chrome</td>\n      <td>Russia</td>\n      <td>Nizhny Novgorod</td>\n      <td>1</td>\n    </tr>\n    <tr>\n      <th>1732227</th>\n      <td>1732227</td>\n      <td>9055248417020050011.1634075541.1634075541</td>\n      <td>2.108339e+09</td>\n      <td>2021-10-13</td>\n      <td>00:00:00</td>\n      <td>3</td>\n      <td>ZpYIoDJMcFzVoPFsHGJL</td>\n      <td>banner</td>\n      <td>SgIUDYUKnyWHVowUOqid</td>\n      <td>JNHcPlZPxEMWDnRiyoBf</td>\n      <td>puhZPIYqKXeFPaUviSjo</td>\n      <td>mobile</td>\n      <td>Android</td>\n      <td>Huawei</td>\n      <td>AuMdmADEIoPXiWpTsBEj</td>\n      <td>360x780</td>\n      <td>Chrome</td>\n      <td>Russia</td>\n      <td>Nizhny Novgorod</td>\n      <td>1</td>\n    </tr>\n    <tr>\n      <th>1732254</th>\n      <td>1732254</td>\n      <td>9055376699099939975.1630766214.1630766214</td>\n      <td>2.108369e+09</td>\n      <td>2021-09-04</td>\n      <td>17:00:00</td>\n      <td>1</td>\n      <td>fDLlAcSmythWSCVMvqvL</td>\n      <td>(none)</td>\n      <td>LTuZkdKfxRGVceoWkVyg</td>\n      <td>JNHcPlZPxEMWDnRiyoBf</td>\n      <td>puhZPIYqKXeFPaUviSjo</td>\n      <td>desktop</td>\n      <td>Windows</td>\n      <td>Samsung</td>\n      <td>AuMdmADEIoPXiWpTsBEj</td>\n      <td>1920x1080</td>\n      <td>Chrome</td>\n      <td>Russia</td>\n      <td>Khimki</td>\n      <td>1</td>\n    </tr>\n    <tr>\n      <th>1732257</th>\n      <td>1732257</td>\n      <td>9055394269810294140.1629912447.1629912447</td>\n      <td>2.108373e+09</td>\n      <td>2021-08-25</td>\n      <td>20:00:00</td>\n      <td>1</td>\n      <td>bByPQxmDaMXgpHeypKSM</td>\n      <td>referral</td>\n      <td>LTuZkdKfxRGVceoWkVyg</td>\n      <td>JNHcPlZPxEMWDnRiyoBf</td>\n      <td>puhZPIYqKXeFPaUviSjo</td>\n      <td>mobile</td>\n      <td>Android</td>\n      <td>Samsung</td>\n      <td>AuMdmADEIoPXiWpTsBEj</td>\n      <td>360x800</td>\n      <td>Android Webview</td>\n      <td>Russia</td>\n      <td>Saint Petersburg</td>\n      <td>1</td>\n    </tr>\n  </tbody>\n</table>\n<p>50314 rows × 20 columns</p>\n</div>"
     },
     "execution_count": 16,
     "metadata": {},
     "output_type": "execute_result"
    }
   ],
   "source": [
    "df_filtered_target"
   ],
   "metadata": {
    "collapsed": false,
    "ExecuteTime": {
     "end_time": "2024-02-25T11:10:44.544570900Z",
     "start_time": "2024-02-25T11:10:44.453901800Z"
    }
   },
   "id": "2dcaccb651d8d343",
   "execution_count": 16
  },
  {
   "cell_type": "markdown",
   "source": [
    "Заполняем пустоты модой используя SimpleImputer"
   ],
   "metadata": {
    "collapsed": false
   },
   "id": "d96b72369e55f4c9"
  },
  {
   "cell_type": "code",
   "outputs": [],
   "source": [
    "imputer = SimpleImputer(strategy='most_frequent')"
   ],
   "metadata": {
    "collapsed": false,
    "ExecuteTime": {
     "end_time": "2024-02-25T11:10:51.910529300Z",
     "start_time": "2024-02-25T11:10:51.858341300Z"
    }
   },
   "id": "c183cd1c5bb9b27",
   "execution_count": 17
  },
  {
   "cell_type": "code",
   "outputs": [],
   "source": [
    "columns = list(df_filtered_target.columns)"
   ],
   "metadata": {
    "collapsed": false,
    "ExecuteTime": {
     "end_time": "2024-02-25T11:10:52.608062500Z",
     "start_time": "2024-02-25T11:10:52.530631500Z"
    }
   },
   "id": "b7795dbf7be52c7",
   "execution_count": 18
  },
  {
   "cell_type": "code",
   "outputs": [],
   "source": [
    "df_filtered_target = imputer.fit_transform(df_filtered_target[columns])"
   ],
   "metadata": {
    "collapsed": false,
    "ExecuteTime": {
     "end_time": "2024-02-25T11:10:57.530561200Z",
     "start_time": "2024-02-25T11:10:57.196280100Z"
    }
   },
   "id": "c74d378f13d04ad1",
   "execution_count": 19
  },
  {
   "cell_type": "code",
   "outputs": [],
   "source": [
    "df_filtered_target = pd.DataFrame(df_filtered_target, columns=columns)"
   ],
   "metadata": {
    "collapsed": false,
    "ExecuteTime": {
     "end_time": "2024-02-25T11:11:00.347152700Z",
     "start_time": "2024-02-25T11:11:00.257379900Z"
    }
   },
   "id": "c12e6040a3568318",
   "execution_count": 20
  },
  {
   "cell_type": "code",
   "outputs": [
    {
     "data": {
      "text/plain": "      Unnamed: 0                                 session_id  \\\n0             69  9055768928391199041.1623652678.1623652678   \n1             73  9055789093275396095.1636395007.1636395007   \n2             76  9055794766915104430.1624305327.1624305327   \n3            127  9056028189803556573.1630154471.1630154471   \n4            135  9056093322981390023.1628944098.1628944098   \n...          ...                                        ...   \n50309    1732152  9054912872702758664.1636781836.1636781836   \n50310    1732225  9055248417020050011.1634073188.1634073188   \n50311    1732227  9055248417020050011.1634075541.1634075541   \n50312    1732254  9055376699099939975.1630766214.1630766214   \n50313    1732257  9055394269810294140.1629912447.1629912447   \n\n               client_id  visit_date visit_time visit_number  \\\n0      2108460508.162365  2021-06-14   09:00:00            1   \n1       2108465203.16364  2021-11-08   21:10:07            1   \n2       2108466524.16243  2021-06-21   22:00:00            1   \n3      2108520872.163016  2021-08-28   15:00:00            1   \n4      2108536037.162894  2021-08-14   15:00:00            1   \n...                  ...         ...        ...          ...   \n50309  2108261192.163678  2021-11-13   08:37:16            1   \n50310  2108339317.163408  2021-10-13   00:00:00            1   \n50311  2108339317.163408  2021-10-13   00:00:00            3   \n50312  2108369185.163077  2021-09-04   17:00:00            1   \n50313  2108373276.162991  2021-08-25   20:00:00            1   \n\n                 utm_source utm_medium          utm_campaign  \\\n0      ZpYIoDJMcFzVoPFsHGJL     banner  LEoPHuyFvzoNfnzGgfcd   \n1      ZpYIoDJMcFzVoPFsHGJL     banner  LEoPHuyFvzoNfnzGgfcd   \n2      BHcvLfOaCWvWTykYqHVe        cpc  LTuZkdKfxRGVceoWkVyg   \n3      fDLlAcSmythWSCVMvqvL     (none)  LTuZkdKfxRGVceoWkVyg   \n4      ZpYIoDJMcFzVoPFsHGJL     banner  LEoPHuyFvzoNfnzGgfcd   \n...                     ...        ...                   ...   \n50309  kjsLglQLzykiRbcDiGcD        cpc  LwJZxKuWmvOhPsaCeRjG   \n50310  ZpYIoDJMcFzVoPFsHGJL     banner  SgIUDYUKnyWHVowUOqid   \n50311  ZpYIoDJMcFzVoPFsHGJL     banner  SgIUDYUKnyWHVowUOqid   \n50312  fDLlAcSmythWSCVMvqvL     (none)  LTuZkdKfxRGVceoWkVyg   \n50313  bByPQxmDaMXgpHeypKSM   referral  LTuZkdKfxRGVceoWkVyg   \n\n              utm_adcontent           utm_keyword device_category  device_os  \\\n0      JNHcPlZPxEMWDnRiyoBf  puhZPIYqKXeFPaUviSjo          mobile    Android   \n1      JNHcPlZPxEMWDnRiyoBf  puhZPIYqKXeFPaUviSjo          mobile        iOS   \n2      JNHcPlZPxEMWDnRiyoBf  ZNhSIPchlbnKwZWcsKzz         desktop  Macintosh   \n3      JNHcPlZPxEMWDnRiyoBf  puhZPIYqKXeFPaUviSjo          mobile    Android   \n4      JNHcPlZPxEMWDnRiyoBf  puhZPIYqKXeFPaUviSjo          mobile    Android   \n...                     ...                   ...             ...        ...   \n50309  JNHcPlZPxEMWDnRiyoBf  HKFjmDlYppkKqsWPogJt          mobile    Android   \n50310  JNHcPlZPxEMWDnRiyoBf  puhZPIYqKXeFPaUviSjo          mobile    Android   \n50311  JNHcPlZPxEMWDnRiyoBf  puhZPIYqKXeFPaUviSjo          mobile    Android   \n50312  JNHcPlZPxEMWDnRiyoBf  puhZPIYqKXeFPaUviSjo         desktop    Windows   \n50313  JNHcPlZPxEMWDnRiyoBf  puhZPIYqKXeFPaUviSjo          mobile    Android   \n\n      device_brand          device_model device_screen_resolution  \\\n0           Huawei  AuMdmADEIoPXiWpTsBEj                  360x780   \n1            Apple  AuMdmADEIoPXiWpTsBEj                  414x736   \n2            Apple  AuMdmADEIoPXiWpTsBEj                 834x1112   \n3          Samsung  jXFxTkHxuiBKWOvUtsIa                  412x915   \n4          Samsung  AuMdmADEIoPXiWpTsBEj                  360x740   \n...            ...                   ...                      ...   \n50309       Xiaomi  AuMdmADEIoPXiWpTsBEj                  360x800   \n50310       Huawei  AuMdmADEIoPXiWpTsBEj                  360x780   \n50311       Huawei  AuMdmADEIoPXiWpTsBEj                  360x780   \n50312      Samsung  AuMdmADEIoPXiWpTsBEj                1920x1080   \n50313      Samsung  AuMdmADEIoPXiWpTsBEj                  360x800   \n\n        device_browser geo_country          geo_city target  \n0               Chrome      Russia            Moscow      1  \n1               Safari      Russia            Samara      1  \n2               Safari      Russia        Domodedovo      1  \n3            YaBrowser      Russia         Krasnodar      1  \n4               Chrome      Russia            Moscow      1  \n...                ...         ...               ...    ...  \n50309           Chrome      Russia            Moscow      1  \n50310           Chrome      Russia   Nizhny Novgorod      1  \n50311           Chrome      Russia   Nizhny Novgorod      1  \n50312           Chrome      Russia            Khimki      1  \n50313  Android Webview      Russia  Saint Petersburg      1  \n\n[50314 rows x 20 columns]",
      "text/html": "<div>\n<style scoped>\n    .dataframe tbody tr th:only-of-type {\n        vertical-align: middle;\n    }\n\n    .dataframe tbody tr th {\n        vertical-align: top;\n    }\n\n    .dataframe thead th {\n        text-align: right;\n    }\n</style>\n<table border=\"1\" class=\"dataframe\">\n  <thead>\n    <tr style=\"text-align: right;\">\n      <th></th>\n      <th>Unnamed: 0</th>\n      <th>session_id</th>\n      <th>client_id</th>\n      <th>visit_date</th>\n      <th>visit_time</th>\n      <th>visit_number</th>\n      <th>utm_source</th>\n      <th>utm_medium</th>\n      <th>utm_campaign</th>\n      <th>utm_adcontent</th>\n      <th>utm_keyword</th>\n      <th>device_category</th>\n      <th>device_os</th>\n      <th>device_brand</th>\n      <th>device_model</th>\n      <th>device_screen_resolution</th>\n      <th>device_browser</th>\n      <th>geo_country</th>\n      <th>geo_city</th>\n      <th>target</th>\n    </tr>\n  </thead>\n  <tbody>\n    <tr>\n      <th>0</th>\n      <td>69</td>\n      <td>9055768928391199041.1623652678.1623652678</td>\n      <td>2108460508.162365</td>\n      <td>2021-06-14</td>\n      <td>09:00:00</td>\n      <td>1</td>\n      <td>ZpYIoDJMcFzVoPFsHGJL</td>\n      <td>banner</td>\n      <td>LEoPHuyFvzoNfnzGgfcd</td>\n      <td>JNHcPlZPxEMWDnRiyoBf</td>\n      <td>puhZPIYqKXeFPaUviSjo</td>\n      <td>mobile</td>\n      <td>Android</td>\n      <td>Huawei</td>\n      <td>AuMdmADEIoPXiWpTsBEj</td>\n      <td>360x780</td>\n      <td>Chrome</td>\n      <td>Russia</td>\n      <td>Moscow</td>\n      <td>1</td>\n    </tr>\n    <tr>\n      <th>1</th>\n      <td>73</td>\n      <td>9055789093275396095.1636395007.1636395007</td>\n      <td>2108465203.16364</td>\n      <td>2021-11-08</td>\n      <td>21:10:07</td>\n      <td>1</td>\n      <td>ZpYIoDJMcFzVoPFsHGJL</td>\n      <td>banner</td>\n      <td>LEoPHuyFvzoNfnzGgfcd</td>\n      <td>JNHcPlZPxEMWDnRiyoBf</td>\n      <td>puhZPIYqKXeFPaUviSjo</td>\n      <td>mobile</td>\n      <td>iOS</td>\n      <td>Apple</td>\n      <td>AuMdmADEIoPXiWpTsBEj</td>\n      <td>414x736</td>\n      <td>Safari</td>\n      <td>Russia</td>\n      <td>Samara</td>\n      <td>1</td>\n    </tr>\n    <tr>\n      <th>2</th>\n      <td>76</td>\n      <td>9055794766915104430.1624305327.1624305327</td>\n      <td>2108466524.16243</td>\n      <td>2021-06-21</td>\n      <td>22:00:00</td>\n      <td>1</td>\n      <td>BHcvLfOaCWvWTykYqHVe</td>\n      <td>cpc</td>\n      <td>LTuZkdKfxRGVceoWkVyg</td>\n      <td>JNHcPlZPxEMWDnRiyoBf</td>\n      <td>ZNhSIPchlbnKwZWcsKzz</td>\n      <td>desktop</td>\n      <td>Macintosh</td>\n      <td>Apple</td>\n      <td>AuMdmADEIoPXiWpTsBEj</td>\n      <td>834x1112</td>\n      <td>Safari</td>\n      <td>Russia</td>\n      <td>Domodedovo</td>\n      <td>1</td>\n    </tr>\n    <tr>\n      <th>3</th>\n      <td>127</td>\n      <td>9056028189803556573.1630154471.1630154471</td>\n      <td>2108520872.163016</td>\n      <td>2021-08-28</td>\n      <td>15:00:00</td>\n      <td>1</td>\n      <td>fDLlAcSmythWSCVMvqvL</td>\n      <td>(none)</td>\n      <td>LTuZkdKfxRGVceoWkVyg</td>\n      <td>JNHcPlZPxEMWDnRiyoBf</td>\n      <td>puhZPIYqKXeFPaUviSjo</td>\n      <td>mobile</td>\n      <td>Android</td>\n      <td>Samsung</td>\n      <td>jXFxTkHxuiBKWOvUtsIa</td>\n      <td>412x915</td>\n      <td>YaBrowser</td>\n      <td>Russia</td>\n      <td>Krasnodar</td>\n      <td>1</td>\n    </tr>\n    <tr>\n      <th>4</th>\n      <td>135</td>\n      <td>9056093322981390023.1628944098.1628944098</td>\n      <td>2108536037.162894</td>\n      <td>2021-08-14</td>\n      <td>15:00:00</td>\n      <td>1</td>\n      <td>ZpYIoDJMcFzVoPFsHGJL</td>\n      <td>banner</td>\n      <td>LEoPHuyFvzoNfnzGgfcd</td>\n      <td>JNHcPlZPxEMWDnRiyoBf</td>\n      <td>puhZPIYqKXeFPaUviSjo</td>\n      <td>mobile</td>\n      <td>Android</td>\n      <td>Samsung</td>\n      <td>AuMdmADEIoPXiWpTsBEj</td>\n      <td>360x740</td>\n      <td>Chrome</td>\n      <td>Russia</td>\n      <td>Moscow</td>\n      <td>1</td>\n    </tr>\n    <tr>\n      <th>...</th>\n      <td>...</td>\n      <td>...</td>\n      <td>...</td>\n      <td>...</td>\n      <td>...</td>\n      <td>...</td>\n      <td>...</td>\n      <td>...</td>\n      <td>...</td>\n      <td>...</td>\n      <td>...</td>\n      <td>...</td>\n      <td>...</td>\n      <td>...</td>\n      <td>...</td>\n      <td>...</td>\n      <td>...</td>\n      <td>...</td>\n      <td>...</td>\n      <td>...</td>\n    </tr>\n    <tr>\n      <th>50309</th>\n      <td>1732152</td>\n      <td>9054912872702758664.1636781836.1636781836</td>\n      <td>2108261192.163678</td>\n      <td>2021-11-13</td>\n      <td>08:37:16</td>\n      <td>1</td>\n      <td>kjsLglQLzykiRbcDiGcD</td>\n      <td>cpc</td>\n      <td>LwJZxKuWmvOhPsaCeRjG</td>\n      <td>JNHcPlZPxEMWDnRiyoBf</td>\n      <td>HKFjmDlYppkKqsWPogJt</td>\n      <td>mobile</td>\n      <td>Android</td>\n      <td>Xiaomi</td>\n      <td>AuMdmADEIoPXiWpTsBEj</td>\n      <td>360x800</td>\n      <td>Chrome</td>\n      <td>Russia</td>\n      <td>Moscow</td>\n      <td>1</td>\n    </tr>\n    <tr>\n      <th>50310</th>\n      <td>1732225</td>\n      <td>9055248417020050011.1634073188.1634073188</td>\n      <td>2108339317.163408</td>\n      <td>2021-10-13</td>\n      <td>00:00:00</td>\n      <td>1</td>\n      <td>ZpYIoDJMcFzVoPFsHGJL</td>\n      <td>banner</td>\n      <td>SgIUDYUKnyWHVowUOqid</td>\n      <td>JNHcPlZPxEMWDnRiyoBf</td>\n      <td>puhZPIYqKXeFPaUviSjo</td>\n      <td>mobile</td>\n      <td>Android</td>\n      <td>Huawei</td>\n      <td>AuMdmADEIoPXiWpTsBEj</td>\n      <td>360x780</td>\n      <td>Chrome</td>\n      <td>Russia</td>\n      <td>Nizhny Novgorod</td>\n      <td>1</td>\n    </tr>\n    <tr>\n      <th>50311</th>\n      <td>1732227</td>\n      <td>9055248417020050011.1634075541.1634075541</td>\n      <td>2108339317.163408</td>\n      <td>2021-10-13</td>\n      <td>00:00:00</td>\n      <td>3</td>\n      <td>ZpYIoDJMcFzVoPFsHGJL</td>\n      <td>banner</td>\n      <td>SgIUDYUKnyWHVowUOqid</td>\n      <td>JNHcPlZPxEMWDnRiyoBf</td>\n      <td>puhZPIYqKXeFPaUviSjo</td>\n      <td>mobile</td>\n      <td>Android</td>\n      <td>Huawei</td>\n      <td>AuMdmADEIoPXiWpTsBEj</td>\n      <td>360x780</td>\n      <td>Chrome</td>\n      <td>Russia</td>\n      <td>Nizhny Novgorod</td>\n      <td>1</td>\n    </tr>\n    <tr>\n      <th>50312</th>\n      <td>1732254</td>\n      <td>9055376699099939975.1630766214.1630766214</td>\n      <td>2108369185.163077</td>\n      <td>2021-09-04</td>\n      <td>17:00:00</td>\n      <td>1</td>\n      <td>fDLlAcSmythWSCVMvqvL</td>\n      <td>(none)</td>\n      <td>LTuZkdKfxRGVceoWkVyg</td>\n      <td>JNHcPlZPxEMWDnRiyoBf</td>\n      <td>puhZPIYqKXeFPaUviSjo</td>\n      <td>desktop</td>\n      <td>Windows</td>\n      <td>Samsung</td>\n      <td>AuMdmADEIoPXiWpTsBEj</td>\n      <td>1920x1080</td>\n      <td>Chrome</td>\n      <td>Russia</td>\n      <td>Khimki</td>\n      <td>1</td>\n    </tr>\n    <tr>\n      <th>50313</th>\n      <td>1732257</td>\n      <td>9055394269810294140.1629912447.1629912447</td>\n      <td>2108373276.162991</td>\n      <td>2021-08-25</td>\n      <td>20:00:00</td>\n      <td>1</td>\n      <td>bByPQxmDaMXgpHeypKSM</td>\n      <td>referral</td>\n      <td>LTuZkdKfxRGVceoWkVyg</td>\n      <td>JNHcPlZPxEMWDnRiyoBf</td>\n      <td>puhZPIYqKXeFPaUviSjo</td>\n      <td>mobile</td>\n      <td>Android</td>\n      <td>Samsung</td>\n      <td>AuMdmADEIoPXiWpTsBEj</td>\n      <td>360x800</td>\n      <td>Android Webview</td>\n      <td>Russia</td>\n      <td>Saint Petersburg</td>\n      <td>1</td>\n    </tr>\n  </tbody>\n</table>\n<p>50314 rows × 20 columns</p>\n</div>"
     },
     "execution_count": 21,
     "metadata": {},
     "output_type": "execute_result"
    }
   ],
   "source": [
    "df_filtered_target"
   ],
   "metadata": {
    "collapsed": false,
    "ExecuteTime": {
     "end_time": "2024-02-25T11:11:12.419473400Z",
     "start_time": "2024-02-25T11:11:12.322574200Z"
    }
   },
   "id": "f22d6351b175c449",
   "execution_count": 21
  },
  {
   "cell_type": "markdown",
   "source": [
    "Объеденяем в финальный даатфрейм\n"
   ],
   "metadata": {
    "collapsed": false
   },
   "id": "604ecdd749ebb66e"
  },
  {
   "cell_type": "code",
   "outputs": [],
   "source": [
    "final_data = pd.concat([df_filtered_target, df_filtered])"
   ],
   "metadata": {
    "collapsed": false,
    "ExecuteTime": {
     "end_time": "2024-02-25T11:11:21.052035800Z",
     "start_time": "2024-02-25T11:11:20.905876400Z"
    }
   },
   "id": "ccffd9663d29a183",
   "execution_count": 22
  },
  {
   "cell_type": "code",
   "outputs": [],
   "source": [
    "final_data = final_data.sample(frac=1)"
   ],
   "metadata": {
    "collapsed": false,
    "ExecuteTime": {
     "end_time": "2024-02-25T11:11:22.363993700Z",
     "start_time": "2024-02-25T11:11:22.022398100Z"
    }
   },
   "id": "9eef1ee4ce148295",
   "execution_count": 23
  },
  {
   "cell_type": "code",
   "outputs": [
    {
     "data": {
      "text/plain": "        Unnamed: 0                                 session_id  \\\n47680      1640352   861567602239642895.1635425553.1635425553   \n48209      1658798  8703059496721564670.1630389395.1630389395   \n961585      961585  5366140572278903224.1635701148.1635701148   \n959142      959142  5354870681162512304.1624802278.1624802278   \n520782      520782   325238689346041728.1638872959.1638872959   \n...            ...                                        ...   \n1290905    1290905  6944657193759066052.1625213471.1625213471   \n51445        51445   998273288816685235.1622012085.1622012085   \n1031380    1031380  5699137684613566500.1634668580.1634668678   \n1654010    1654010  8680929029191131182.1632657455.1632657455   \n705001      705001  4140795078561295087.1632955121.1632955121   \n\n                 client_id  visit_date visit_time visit_number  \\\n47680     200599339.163543  2021-10-28   15:52:33            1   \n48209    2026338944.163039  2021-08-31   08:00:00            1   \n961585    1249401963.16357  2021-10-31   20:25:48            1   \n959142    1246777987.16248  2021-06-27   16:00:00            2   \n520782     75725533.163887  2021-12-07   13:29:19            1   \n...                    ...         ...        ...          ...   \n1290905  1616929004.162521  2021-07-02   11:00:00            4   \n51445     232428612.162201  2021-05-26   09:00:00            1   \n1031380  1326933895.163467  2021-10-19   21:00:00            1   \n1654010  2021186293.163266  2021-09-26   14:00:00            1   \n705001    964103983.163296  2021-09-30   01:00:00            1   \n\n                   utm_source utm_medium          utm_campaign  \\\n47680    BHcvLfOaCWvWTykYqHVe        cpc  LTuZkdKfxRGVceoWkVyg   \n48209    MvfHsxITijuriZxsqZqt        cpm  FTjNLDyTrXaWYgZymFkV   \n961585   ZpYIoDJMcFzVoPFsHGJL     banner  gecBYcKZCPMcVYdSSzKP   \n959142   fDLlAcSmythWSCVMvqvL     (none)  LTuZkdKfxRGVceoWkVyg   \n520782   ZpYIoDJMcFzVoPFsHGJL     banner  LEoPHuyFvzoNfnzGgfcd   \n...                       ...        ...                   ...   \n1290905  kjsLglQLzykiRbcDiGcD        cpc  XHNUiSKKGTEpSAlaVMFQ   \n51445    fDLlAcSmythWSCVMvqvL     (none)  LTuZkdKfxRGVceoWkVyg   \n1031380  bByPQxmDaMXgpHeypKSM   referral  LTuZkdKfxRGVceoWkVyg   \n1654010  RmEBuqrriAfAVsLQQmhk        cpc  KgicpPxiEQfzPlPwQZJq   \n705001   ZpYIoDJMcFzVoPFsHGJL     banner  gecBYcKZCPMcVYdSSzKP   \n\n                utm_adcontent           utm_keyword device_category device_os  \\\n47680    JNHcPlZPxEMWDnRiyoBf  UbQpozKfTgYxQovHjkQM          mobile   Android   \n48209    dUuXlWzvmhDSyclWRhNP  pHqgLcdBQPSLcrTpLkdr          mobile   Android   \n961585   JNHcPlZPxEMWDnRiyoBf  puhZPIYqKXeFPaUviSjo          mobile   Android   \n959142   JNHcPlZPxEMWDnRiyoBf  puhZPIYqKXeFPaUviSjo         desktop   Windows   \n520782   vCIpmpaGBnIQhyYNkXqp  puhZPIYqKXeFPaUviSjo          mobile   Android   \n...                       ...                   ...             ...       ...   \n1290905  JNHcPlZPxEMWDnRiyoBf  hAmNSZmQkKQKAjZEGlgb          mobile       iOS   \n51445    JNHcPlZPxEMWDnRiyoBf  puhZPIYqKXeFPaUviSjo          mobile   Android   \n1031380  JNHcPlZPxEMWDnRiyoBf  puhZPIYqKXeFPaUviSjo          mobile   Android   \n1654010  JNHcPlZPxEMWDnRiyoBf  puhZPIYqKXeFPaUviSjo          mobile   Android   \n705001   JNHcPlZPxEMWDnRiyoBf  puhZPIYqKXeFPaUviSjo          mobile   Android   \n\n        device_brand          device_model device_screen_resolution  \\\n47680        Samsung  AuMdmADEIoPXiWpTsBEj                  412x915   \n48209        Samsung  AuMdmADEIoPXiWpTsBEj                  360x640   \n961585       Samsung  AuMdmADEIoPXiWpTsBEj                  360x640   \n959142       Samsung  AuMdmADEIoPXiWpTsBEj                1920x1080   \n520782        Huawei  AuMdmADEIoPXiWpTsBEj                  360x720   \n...              ...                   ...                      ...   \n1290905        Apple  AuMdmADEIoPXiWpTsBEj                  390x844   \n51445        Samsung  ZkRlaMsFhSBPslXBtfiG                  412x869   \n1031380       Xiaomi  AuMdmADEIoPXiWpTsBEj                  393x873   \n1654010         Vivo  AuMdmADEIoPXiWpTsBEj                  393x876   \n705001        Huawei  AuMdmADEIoPXiWpTsBEj                  427x939   \n\n           device_browser geo_country          geo_city target  \n47680              Chrome      Russia            Moscow      1  \n48209    Samsung Internet      Russia           Kubinka      1  \n961585             Chrome      Russia   Veliky Novgorod      0  \n959142             Chrome      Russia             Kirov      0  \n520782             Chrome      Russia           Saransk      0  \n...                   ...         ...               ...    ...  \n1290905            Chrome      Russia            Khimki      0  \n51445              Chrome      Russia            Moscow      0  \n1031380            Chrome      Russia         Volgograd      0  \n1654010            Chrome      Russia  Saint Petersburg      0  \n705001             Chrome      Russia       Birobidzhan      0  \n\n[434917 rows x 20 columns]",
      "text/html": "<div>\n<style scoped>\n    .dataframe tbody tr th:only-of-type {\n        vertical-align: middle;\n    }\n\n    .dataframe tbody tr th {\n        vertical-align: top;\n    }\n\n    .dataframe thead th {\n        text-align: right;\n    }\n</style>\n<table border=\"1\" class=\"dataframe\">\n  <thead>\n    <tr style=\"text-align: right;\">\n      <th></th>\n      <th>Unnamed: 0</th>\n      <th>session_id</th>\n      <th>client_id</th>\n      <th>visit_date</th>\n      <th>visit_time</th>\n      <th>visit_number</th>\n      <th>utm_source</th>\n      <th>utm_medium</th>\n      <th>utm_campaign</th>\n      <th>utm_adcontent</th>\n      <th>utm_keyword</th>\n      <th>device_category</th>\n      <th>device_os</th>\n      <th>device_brand</th>\n      <th>device_model</th>\n      <th>device_screen_resolution</th>\n      <th>device_browser</th>\n      <th>geo_country</th>\n      <th>geo_city</th>\n      <th>target</th>\n    </tr>\n  </thead>\n  <tbody>\n    <tr>\n      <th>47680</th>\n      <td>1640352</td>\n      <td>861567602239642895.1635425553.1635425553</td>\n      <td>200599339.163543</td>\n      <td>2021-10-28</td>\n      <td>15:52:33</td>\n      <td>1</td>\n      <td>BHcvLfOaCWvWTykYqHVe</td>\n      <td>cpc</td>\n      <td>LTuZkdKfxRGVceoWkVyg</td>\n      <td>JNHcPlZPxEMWDnRiyoBf</td>\n      <td>UbQpozKfTgYxQovHjkQM</td>\n      <td>mobile</td>\n      <td>Android</td>\n      <td>Samsung</td>\n      <td>AuMdmADEIoPXiWpTsBEj</td>\n      <td>412x915</td>\n      <td>Chrome</td>\n      <td>Russia</td>\n      <td>Moscow</td>\n      <td>1</td>\n    </tr>\n    <tr>\n      <th>48209</th>\n      <td>1658798</td>\n      <td>8703059496721564670.1630389395.1630389395</td>\n      <td>2026338944.163039</td>\n      <td>2021-08-31</td>\n      <td>08:00:00</td>\n      <td>1</td>\n      <td>MvfHsxITijuriZxsqZqt</td>\n      <td>cpm</td>\n      <td>FTjNLDyTrXaWYgZymFkV</td>\n      <td>dUuXlWzvmhDSyclWRhNP</td>\n      <td>pHqgLcdBQPSLcrTpLkdr</td>\n      <td>mobile</td>\n      <td>Android</td>\n      <td>Samsung</td>\n      <td>AuMdmADEIoPXiWpTsBEj</td>\n      <td>360x640</td>\n      <td>Samsung Internet</td>\n      <td>Russia</td>\n      <td>Kubinka</td>\n      <td>1</td>\n    </tr>\n    <tr>\n      <th>961585</th>\n      <td>961585</td>\n      <td>5366140572278903224.1635701148.1635701148</td>\n      <td>1249401963.16357</td>\n      <td>2021-10-31</td>\n      <td>20:25:48</td>\n      <td>1</td>\n      <td>ZpYIoDJMcFzVoPFsHGJL</td>\n      <td>banner</td>\n      <td>gecBYcKZCPMcVYdSSzKP</td>\n      <td>JNHcPlZPxEMWDnRiyoBf</td>\n      <td>puhZPIYqKXeFPaUviSjo</td>\n      <td>mobile</td>\n      <td>Android</td>\n      <td>Samsung</td>\n      <td>AuMdmADEIoPXiWpTsBEj</td>\n      <td>360x640</td>\n      <td>Chrome</td>\n      <td>Russia</td>\n      <td>Veliky Novgorod</td>\n      <td>0</td>\n    </tr>\n    <tr>\n      <th>959142</th>\n      <td>959142</td>\n      <td>5354870681162512304.1624802278.1624802278</td>\n      <td>1246777987.16248</td>\n      <td>2021-06-27</td>\n      <td>16:00:00</td>\n      <td>2</td>\n      <td>fDLlAcSmythWSCVMvqvL</td>\n      <td>(none)</td>\n      <td>LTuZkdKfxRGVceoWkVyg</td>\n      <td>JNHcPlZPxEMWDnRiyoBf</td>\n      <td>puhZPIYqKXeFPaUviSjo</td>\n      <td>desktop</td>\n      <td>Windows</td>\n      <td>Samsung</td>\n      <td>AuMdmADEIoPXiWpTsBEj</td>\n      <td>1920x1080</td>\n      <td>Chrome</td>\n      <td>Russia</td>\n      <td>Kirov</td>\n      <td>0</td>\n    </tr>\n    <tr>\n      <th>520782</th>\n      <td>520782</td>\n      <td>325238689346041728.1638872959.1638872959</td>\n      <td>75725533.163887</td>\n      <td>2021-12-07</td>\n      <td>13:29:19</td>\n      <td>1</td>\n      <td>ZpYIoDJMcFzVoPFsHGJL</td>\n      <td>banner</td>\n      <td>LEoPHuyFvzoNfnzGgfcd</td>\n      <td>vCIpmpaGBnIQhyYNkXqp</td>\n      <td>puhZPIYqKXeFPaUviSjo</td>\n      <td>mobile</td>\n      <td>Android</td>\n      <td>Huawei</td>\n      <td>AuMdmADEIoPXiWpTsBEj</td>\n      <td>360x720</td>\n      <td>Chrome</td>\n      <td>Russia</td>\n      <td>Saransk</td>\n      <td>0</td>\n    </tr>\n    <tr>\n      <th>...</th>\n      <td>...</td>\n      <td>...</td>\n      <td>...</td>\n      <td>...</td>\n      <td>...</td>\n      <td>...</td>\n      <td>...</td>\n      <td>...</td>\n      <td>...</td>\n      <td>...</td>\n      <td>...</td>\n      <td>...</td>\n      <td>...</td>\n      <td>...</td>\n      <td>...</td>\n      <td>...</td>\n      <td>...</td>\n      <td>...</td>\n      <td>...</td>\n      <td>...</td>\n    </tr>\n    <tr>\n      <th>1290905</th>\n      <td>1290905</td>\n      <td>6944657193759066052.1625213471.1625213471</td>\n      <td>1616929004.162521</td>\n      <td>2021-07-02</td>\n      <td>11:00:00</td>\n      <td>4</td>\n      <td>kjsLglQLzykiRbcDiGcD</td>\n      <td>cpc</td>\n      <td>XHNUiSKKGTEpSAlaVMFQ</td>\n      <td>JNHcPlZPxEMWDnRiyoBf</td>\n      <td>hAmNSZmQkKQKAjZEGlgb</td>\n      <td>mobile</td>\n      <td>iOS</td>\n      <td>Apple</td>\n      <td>AuMdmADEIoPXiWpTsBEj</td>\n      <td>390x844</td>\n      <td>Chrome</td>\n      <td>Russia</td>\n      <td>Khimki</td>\n      <td>0</td>\n    </tr>\n    <tr>\n      <th>51445</th>\n      <td>51445</td>\n      <td>998273288816685235.1622012085.1622012085</td>\n      <td>232428612.162201</td>\n      <td>2021-05-26</td>\n      <td>09:00:00</td>\n      <td>1</td>\n      <td>fDLlAcSmythWSCVMvqvL</td>\n      <td>(none)</td>\n      <td>LTuZkdKfxRGVceoWkVyg</td>\n      <td>JNHcPlZPxEMWDnRiyoBf</td>\n      <td>puhZPIYqKXeFPaUviSjo</td>\n      <td>mobile</td>\n      <td>Android</td>\n      <td>Samsung</td>\n      <td>ZkRlaMsFhSBPslXBtfiG</td>\n      <td>412x869</td>\n      <td>Chrome</td>\n      <td>Russia</td>\n      <td>Moscow</td>\n      <td>0</td>\n    </tr>\n    <tr>\n      <th>1031380</th>\n      <td>1031380</td>\n      <td>5699137684613566500.1634668580.1634668678</td>\n      <td>1326933895.163467</td>\n      <td>2021-10-19</td>\n      <td>21:00:00</td>\n      <td>1</td>\n      <td>bByPQxmDaMXgpHeypKSM</td>\n      <td>referral</td>\n      <td>LTuZkdKfxRGVceoWkVyg</td>\n      <td>JNHcPlZPxEMWDnRiyoBf</td>\n      <td>puhZPIYqKXeFPaUviSjo</td>\n      <td>mobile</td>\n      <td>Android</td>\n      <td>Xiaomi</td>\n      <td>AuMdmADEIoPXiWpTsBEj</td>\n      <td>393x873</td>\n      <td>Chrome</td>\n      <td>Russia</td>\n      <td>Volgograd</td>\n      <td>0</td>\n    </tr>\n    <tr>\n      <th>1654010</th>\n      <td>1654010</td>\n      <td>8680929029191131182.1632657455.1632657455</td>\n      <td>2021186293.163266</td>\n      <td>2021-09-26</td>\n      <td>14:00:00</td>\n      <td>1</td>\n      <td>RmEBuqrriAfAVsLQQmhk</td>\n      <td>cpc</td>\n      <td>KgicpPxiEQfzPlPwQZJq</td>\n      <td>JNHcPlZPxEMWDnRiyoBf</td>\n      <td>puhZPIYqKXeFPaUviSjo</td>\n      <td>mobile</td>\n      <td>Android</td>\n      <td>Vivo</td>\n      <td>AuMdmADEIoPXiWpTsBEj</td>\n      <td>393x876</td>\n      <td>Chrome</td>\n      <td>Russia</td>\n      <td>Saint Petersburg</td>\n      <td>0</td>\n    </tr>\n    <tr>\n      <th>705001</th>\n      <td>705001</td>\n      <td>4140795078561295087.1632955121.1632955121</td>\n      <td>964103983.163296</td>\n      <td>2021-09-30</td>\n      <td>01:00:00</td>\n      <td>1</td>\n      <td>ZpYIoDJMcFzVoPFsHGJL</td>\n      <td>banner</td>\n      <td>gecBYcKZCPMcVYdSSzKP</td>\n      <td>JNHcPlZPxEMWDnRiyoBf</td>\n      <td>puhZPIYqKXeFPaUviSjo</td>\n      <td>mobile</td>\n      <td>Android</td>\n      <td>Huawei</td>\n      <td>AuMdmADEIoPXiWpTsBEj</td>\n      <td>427x939</td>\n      <td>Chrome</td>\n      <td>Russia</td>\n      <td>Birobidzhan</td>\n      <td>0</td>\n    </tr>\n  </tbody>\n</table>\n<p>434917 rows × 20 columns</p>\n</div>"
     },
     "execution_count": 24,
     "metadata": {},
     "output_type": "execute_result"
    }
   ],
   "source": [
    "final_data"
   ],
   "metadata": {
    "collapsed": false,
    "ExecuteTime": {
     "end_time": "2024-02-25T11:11:23.201206500Z",
     "start_time": "2024-02-25T11:11:23.122625600Z"
    }
   },
   "id": "5e55f7569e7fab2",
   "execution_count": 24
  },
  {
   "cell_type": "markdown",
   "source": [
    "Удаляем колонку которая когда то была индексом"
   ],
   "metadata": {
    "collapsed": false
   },
   "id": "11538d3a3fd5a608"
  },
  {
   "cell_type": "code",
   "outputs": [],
   "source": [
    "final_data = final_data.drop('Unnamed: 0', axis=1)"
   ],
   "metadata": {
    "collapsed": false,
    "ExecuteTime": {
     "end_time": "2024-02-25T11:11:30.417861400Z",
     "start_time": "2024-02-25T11:11:30.294514900Z"
    }
   },
   "id": "4b26d518c5d847e3",
   "execution_count": 25
  },
  {
   "cell_type": "code",
   "outputs": [
    {
     "data": {
      "text/plain": "                                        session_id          client_id  \\\n47680     861567602239642895.1635425553.1635425553   200599339.163543   \n48209    8703059496721564670.1630389395.1630389395  2026338944.163039   \n961585   5366140572278903224.1635701148.1635701148   1249401963.16357   \n959142   5354870681162512304.1624802278.1624802278   1246777987.16248   \n520782    325238689346041728.1638872959.1638872959    75725533.163887   \n...                                            ...                ...   \n1290905  6944657193759066052.1625213471.1625213471  1616929004.162521   \n51445     998273288816685235.1622012085.1622012085   232428612.162201   \n1031380  5699137684613566500.1634668580.1634668678  1326933895.163467   \n1654010  8680929029191131182.1632657455.1632657455  2021186293.163266   \n705001   4140795078561295087.1632955121.1632955121   964103983.163296   \n\n         visit_date visit_time visit_number            utm_source utm_medium  \\\n47680    2021-10-28   15:52:33            1  BHcvLfOaCWvWTykYqHVe        cpc   \n48209    2021-08-31   08:00:00            1  MvfHsxITijuriZxsqZqt        cpm   \n961585   2021-10-31   20:25:48            1  ZpYIoDJMcFzVoPFsHGJL     banner   \n959142   2021-06-27   16:00:00            2  fDLlAcSmythWSCVMvqvL     (none)   \n520782   2021-12-07   13:29:19            1  ZpYIoDJMcFzVoPFsHGJL     banner   \n...             ...        ...          ...                   ...        ...   \n1290905  2021-07-02   11:00:00            4  kjsLglQLzykiRbcDiGcD        cpc   \n51445    2021-05-26   09:00:00            1  fDLlAcSmythWSCVMvqvL     (none)   \n1031380  2021-10-19   21:00:00            1  bByPQxmDaMXgpHeypKSM   referral   \n1654010  2021-09-26   14:00:00            1  RmEBuqrriAfAVsLQQmhk        cpc   \n705001   2021-09-30   01:00:00            1  ZpYIoDJMcFzVoPFsHGJL     banner   \n\n                 utm_campaign         utm_adcontent           utm_keyword  \\\n47680    LTuZkdKfxRGVceoWkVyg  JNHcPlZPxEMWDnRiyoBf  UbQpozKfTgYxQovHjkQM   \n48209    FTjNLDyTrXaWYgZymFkV  dUuXlWzvmhDSyclWRhNP  pHqgLcdBQPSLcrTpLkdr   \n961585   gecBYcKZCPMcVYdSSzKP  JNHcPlZPxEMWDnRiyoBf  puhZPIYqKXeFPaUviSjo   \n959142   LTuZkdKfxRGVceoWkVyg  JNHcPlZPxEMWDnRiyoBf  puhZPIYqKXeFPaUviSjo   \n520782   LEoPHuyFvzoNfnzGgfcd  vCIpmpaGBnIQhyYNkXqp  puhZPIYqKXeFPaUviSjo   \n...                       ...                   ...                   ...   \n1290905  XHNUiSKKGTEpSAlaVMFQ  JNHcPlZPxEMWDnRiyoBf  hAmNSZmQkKQKAjZEGlgb   \n51445    LTuZkdKfxRGVceoWkVyg  JNHcPlZPxEMWDnRiyoBf  puhZPIYqKXeFPaUviSjo   \n1031380  LTuZkdKfxRGVceoWkVyg  JNHcPlZPxEMWDnRiyoBf  puhZPIYqKXeFPaUviSjo   \n1654010  KgicpPxiEQfzPlPwQZJq  JNHcPlZPxEMWDnRiyoBf  puhZPIYqKXeFPaUviSjo   \n705001   gecBYcKZCPMcVYdSSzKP  JNHcPlZPxEMWDnRiyoBf  puhZPIYqKXeFPaUviSjo   \n\n        device_category device_os device_brand          device_model  \\\n47680            mobile   Android      Samsung  AuMdmADEIoPXiWpTsBEj   \n48209            mobile   Android      Samsung  AuMdmADEIoPXiWpTsBEj   \n961585           mobile   Android      Samsung  AuMdmADEIoPXiWpTsBEj   \n959142          desktop   Windows      Samsung  AuMdmADEIoPXiWpTsBEj   \n520782           mobile   Android       Huawei  AuMdmADEIoPXiWpTsBEj   \n...                 ...       ...          ...                   ...   \n1290905          mobile       iOS        Apple  AuMdmADEIoPXiWpTsBEj   \n51445            mobile   Android      Samsung  ZkRlaMsFhSBPslXBtfiG   \n1031380          mobile   Android       Xiaomi  AuMdmADEIoPXiWpTsBEj   \n1654010          mobile   Android         Vivo  AuMdmADEIoPXiWpTsBEj   \n705001           mobile   Android       Huawei  AuMdmADEIoPXiWpTsBEj   \n\n        device_screen_resolution    device_browser geo_country  \\\n47680                    412x915            Chrome      Russia   \n48209                    360x640  Samsung Internet      Russia   \n961585                   360x640            Chrome      Russia   \n959142                 1920x1080            Chrome      Russia   \n520782                   360x720            Chrome      Russia   \n...                          ...               ...         ...   \n1290905                  390x844            Chrome      Russia   \n51445                    412x869            Chrome      Russia   \n1031380                  393x873            Chrome      Russia   \n1654010                  393x876            Chrome      Russia   \n705001                   427x939            Chrome      Russia   \n\n                 geo_city target  \n47680              Moscow      1  \n48209             Kubinka      1  \n961585    Veliky Novgorod      0  \n959142              Kirov      0  \n520782            Saransk      0  \n...                   ...    ...  \n1290905            Khimki      0  \n51445              Moscow      0  \n1031380         Volgograd      0  \n1654010  Saint Petersburg      0  \n705001        Birobidzhan      0  \n\n[434917 rows x 19 columns]",
      "text/html": "<div>\n<style scoped>\n    .dataframe tbody tr th:only-of-type {\n        vertical-align: middle;\n    }\n\n    .dataframe tbody tr th {\n        vertical-align: top;\n    }\n\n    .dataframe thead th {\n        text-align: right;\n    }\n</style>\n<table border=\"1\" class=\"dataframe\">\n  <thead>\n    <tr style=\"text-align: right;\">\n      <th></th>\n      <th>session_id</th>\n      <th>client_id</th>\n      <th>visit_date</th>\n      <th>visit_time</th>\n      <th>visit_number</th>\n      <th>utm_source</th>\n      <th>utm_medium</th>\n      <th>utm_campaign</th>\n      <th>utm_adcontent</th>\n      <th>utm_keyword</th>\n      <th>device_category</th>\n      <th>device_os</th>\n      <th>device_brand</th>\n      <th>device_model</th>\n      <th>device_screen_resolution</th>\n      <th>device_browser</th>\n      <th>geo_country</th>\n      <th>geo_city</th>\n      <th>target</th>\n    </tr>\n  </thead>\n  <tbody>\n    <tr>\n      <th>47680</th>\n      <td>861567602239642895.1635425553.1635425553</td>\n      <td>200599339.163543</td>\n      <td>2021-10-28</td>\n      <td>15:52:33</td>\n      <td>1</td>\n      <td>BHcvLfOaCWvWTykYqHVe</td>\n      <td>cpc</td>\n      <td>LTuZkdKfxRGVceoWkVyg</td>\n      <td>JNHcPlZPxEMWDnRiyoBf</td>\n      <td>UbQpozKfTgYxQovHjkQM</td>\n      <td>mobile</td>\n      <td>Android</td>\n      <td>Samsung</td>\n      <td>AuMdmADEIoPXiWpTsBEj</td>\n      <td>412x915</td>\n      <td>Chrome</td>\n      <td>Russia</td>\n      <td>Moscow</td>\n      <td>1</td>\n    </tr>\n    <tr>\n      <th>48209</th>\n      <td>8703059496721564670.1630389395.1630389395</td>\n      <td>2026338944.163039</td>\n      <td>2021-08-31</td>\n      <td>08:00:00</td>\n      <td>1</td>\n      <td>MvfHsxITijuriZxsqZqt</td>\n      <td>cpm</td>\n      <td>FTjNLDyTrXaWYgZymFkV</td>\n      <td>dUuXlWzvmhDSyclWRhNP</td>\n      <td>pHqgLcdBQPSLcrTpLkdr</td>\n      <td>mobile</td>\n      <td>Android</td>\n      <td>Samsung</td>\n      <td>AuMdmADEIoPXiWpTsBEj</td>\n      <td>360x640</td>\n      <td>Samsung Internet</td>\n      <td>Russia</td>\n      <td>Kubinka</td>\n      <td>1</td>\n    </tr>\n    <tr>\n      <th>961585</th>\n      <td>5366140572278903224.1635701148.1635701148</td>\n      <td>1249401963.16357</td>\n      <td>2021-10-31</td>\n      <td>20:25:48</td>\n      <td>1</td>\n      <td>ZpYIoDJMcFzVoPFsHGJL</td>\n      <td>banner</td>\n      <td>gecBYcKZCPMcVYdSSzKP</td>\n      <td>JNHcPlZPxEMWDnRiyoBf</td>\n      <td>puhZPIYqKXeFPaUviSjo</td>\n      <td>mobile</td>\n      <td>Android</td>\n      <td>Samsung</td>\n      <td>AuMdmADEIoPXiWpTsBEj</td>\n      <td>360x640</td>\n      <td>Chrome</td>\n      <td>Russia</td>\n      <td>Veliky Novgorod</td>\n      <td>0</td>\n    </tr>\n    <tr>\n      <th>959142</th>\n      <td>5354870681162512304.1624802278.1624802278</td>\n      <td>1246777987.16248</td>\n      <td>2021-06-27</td>\n      <td>16:00:00</td>\n      <td>2</td>\n      <td>fDLlAcSmythWSCVMvqvL</td>\n      <td>(none)</td>\n      <td>LTuZkdKfxRGVceoWkVyg</td>\n      <td>JNHcPlZPxEMWDnRiyoBf</td>\n      <td>puhZPIYqKXeFPaUviSjo</td>\n      <td>desktop</td>\n      <td>Windows</td>\n      <td>Samsung</td>\n      <td>AuMdmADEIoPXiWpTsBEj</td>\n      <td>1920x1080</td>\n      <td>Chrome</td>\n      <td>Russia</td>\n      <td>Kirov</td>\n      <td>0</td>\n    </tr>\n    <tr>\n      <th>520782</th>\n      <td>325238689346041728.1638872959.1638872959</td>\n      <td>75725533.163887</td>\n      <td>2021-12-07</td>\n      <td>13:29:19</td>\n      <td>1</td>\n      <td>ZpYIoDJMcFzVoPFsHGJL</td>\n      <td>banner</td>\n      <td>LEoPHuyFvzoNfnzGgfcd</td>\n      <td>vCIpmpaGBnIQhyYNkXqp</td>\n      <td>puhZPIYqKXeFPaUviSjo</td>\n      <td>mobile</td>\n      <td>Android</td>\n      <td>Huawei</td>\n      <td>AuMdmADEIoPXiWpTsBEj</td>\n      <td>360x720</td>\n      <td>Chrome</td>\n      <td>Russia</td>\n      <td>Saransk</td>\n      <td>0</td>\n    </tr>\n    <tr>\n      <th>...</th>\n      <td>...</td>\n      <td>...</td>\n      <td>...</td>\n      <td>...</td>\n      <td>...</td>\n      <td>...</td>\n      <td>...</td>\n      <td>...</td>\n      <td>...</td>\n      <td>...</td>\n      <td>...</td>\n      <td>...</td>\n      <td>...</td>\n      <td>...</td>\n      <td>...</td>\n      <td>...</td>\n      <td>...</td>\n      <td>...</td>\n      <td>...</td>\n    </tr>\n    <tr>\n      <th>1290905</th>\n      <td>6944657193759066052.1625213471.1625213471</td>\n      <td>1616929004.162521</td>\n      <td>2021-07-02</td>\n      <td>11:00:00</td>\n      <td>4</td>\n      <td>kjsLglQLzykiRbcDiGcD</td>\n      <td>cpc</td>\n      <td>XHNUiSKKGTEpSAlaVMFQ</td>\n      <td>JNHcPlZPxEMWDnRiyoBf</td>\n      <td>hAmNSZmQkKQKAjZEGlgb</td>\n      <td>mobile</td>\n      <td>iOS</td>\n      <td>Apple</td>\n      <td>AuMdmADEIoPXiWpTsBEj</td>\n      <td>390x844</td>\n      <td>Chrome</td>\n      <td>Russia</td>\n      <td>Khimki</td>\n      <td>0</td>\n    </tr>\n    <tr>\n      <th>51445</th>\n      <td>998273288816685235.1622012085.1622012085</td>\n      <td>232428612.162201</td>\n      <td>2021-05-26</td>\n      <td>09:00:00</td>\n      <td>1</td>\n      <td>fDLlAcSmythWSCVMvqvL</td>\n      <td>(none)</td>\n      <td>LTuZkdKfxRGVceoWkVyg</td>\n      <td>JNHcPlZPxEMWDnRiyoBf</td>\n      <td>puhZPIYqKXeFPaUviSjo</td>\n      <td>mobile</td>\n      <td>Android</td>\n      <td>Samsung</td>\n      <td>ZkRlaMsFhSBPslXBtfiG</td>\n      <td>412x869</td>\n      <td>Chrome</td>\n      <td>Russia</td>\n      <td>Moscow</td>\n      <td>0</td>\n    </tr>\n    <tr>\n      <th>1031380</th>\n      <td>5699137684613566500.1634668580.1634668678</td>\n      <td>1326933895.163467</td>\n      <td>2021-10-19</td>\n      <td>21:00:00</td>\n      <td>1</td>\n      <td>bByPQxmDaMXgpHeypKSM</td>\n      <td>referral</td>\n      <td>LTuZkdKfxRGVceoWkVyg</td>\n      <td>JNHcPlZPxEMWDnRiyoBf</td>\n      <td>puhZPIYqKXeFPaUviSjo</td>\n      <td>mobile</td>\n      <td>Android</td>\n      <td>Xiaomi</td>\n      <td>AuMdmADEIoPXiWpTsBEj</td>\n      <td>393x873</td>\n      <td>Chrome</td>\n      <td>Russia</td>\n      <td>Volgograd</td>\n      <td>0</td>\n    </tr>\n    <tr>\n      <th>1654010</th>\n      <td>8680929029191131182.1632657455.1632657455</td>\n      <td>2021186293.163266</td>\n      <td>2021-09-26</td>\n      <td>14:00:00</td>\n      <td>1</td>\n      <td>RmEBuqrriAfAVsLQQmhk</td>\n      <td>cpc</td>\n      <td>KgicpPxiEQfzPlPwQZJq</td>\n      <td>JNHcPlZPxEMWDnRiyoBf</td>\n      <td>puhZPIYqKXeFPaUviSjo</td>\n      <td>mobile</td>\n      <td>Android</td>\n      <td>Vivo</td>\n      <td>AuMdmADEIoPXiWpTsBEj</td>\n      <td>393x876</td>\n      <td>Chrome</td>\n      <td>Russia</td>\n      <td>Saint Petersburg</td>\n      <td>0</td>\n    </tr>\n    <tr>\n      <th>705001</th>\n      <td>4140795078561295087.1632955121.1632955121</td>\n      <td>964103983.163296</td>\n      <td>2021-09-30</td>\n      <td>01:00:00</td>\n      <td>1</td>\n      <td>ZpYIoDJMcFzVoPFsHGJL</td>\n      <td>banner</td>\n      <td>gecBYcKZCPMcVYdSSzKP</td>\n      <td>JNHcPlZPxEMWDnRiyoBf</td>\n      <td>puhZPIYqKXeFPaUviSjo</td>\n      <td>mobile</td>\n      <td>Android</td>\n      <td>Huawei</td>\n      <td>AuMdmADEIoPXiWpTsBEj</td>\n      <td>427x939</td>\n      <td>Chrome</td>\n      <td>Russia</td>\n      <td>Birobidzhan</td>\n      <td>0</td>\n    </tr>\n  </tbody>\n</table>\n<p>434917 rows × 19 columns</p>\n</div>"
     },
     "execution_count": 26,
     "metadata": {},
     "output_type": "execute_result"
    }
   ],
   "source": [
    "final_data"
   ],
   "metadata": {
    "collapsed": false,
    "ExecuteTime": {
     "end_time": "2024-02-25T11:11:32.474248800Z",
     "start_time": "2024-02-25T11:11:32.399070100Z"
    }
   },
   "id": "5e622651e12ae3bc",
   "execution_count": 26
  },
  {
   "cell_type": "code",
   "outputs": [],
   "source": [
    "missing_values = final_data.isnull().sum()"
   ],
   "metadata": {
    "collapsed": false,
    "ExecuteTime": {
     "end_time": "2024-02-25T11:17:24.847979600Z",
     "start_time": "2024-02-25T11:17:24.489922400Z"
    }
   },
   "id": "e6bc9504167d74a7",
   "execution_count": 34
  },
  {
   "cell_type": "code",
   "outputs": [
    {
     "data": {
      "text/plain": "session_id                  0\nclient_id                   0\nvisit_date                  0\nvisit_time                  0\nvisit_number                0\nutm_source                  0\nutm_medium                  0\nutm_campaign                0\nutm_adcontent               0\nutm_keyword                 0\ndevice_category             0\ndevice_os                   0\ndevice_brand                0\ndevice_model                0\ndevice_screen_resolution    0\ndevice_browser              0\ngeo_country                 0\ngeo_city                    0\ntarget                      0\ndtype: int64"
     },
     "execution_count": 35,
     "metadata": {},
     "output_type": "execute_result"
    }
   ],
   "source": [
    "missing_values"
   ],
   "metadata": {
    "collapsed": false,
    "ExecuteTime": {
     "end_time": "2024-02-25T11:17:31.703447700Z",
     "start_time": "2024-02-25T11:17:31.584151400Z"
    }
   },
   "id": "3d91c8ee68fa7cb3",
   "execution_count": 35
  },
  {
   "cell_type": "markdown",
   "source": [
    "Сохраняем и радуемся"
   ],
   "metadata": {
    "collapsed": false
   },
   "id": "f9a50134e552ba30"
  },
  {
   "cell_type": "code",
   "outputs": [],
   "source": [
    "final_data.to_csv('final_data', index=False)"
   ],
   "metadata": {
    "collapsed": false,
    "ExecuteTime": {
     "end_time": "2024-02-25T11:28:05.259114500Z",
     "start_time": "2024-02-25T11:28:00.489271900Z"
    }
   },
   "id": "5da6c3b475778600",
   "execution_count": 36
  },
  {
   "cell_type": "code",
   "outputs": [],
   "source": [
    "df = pd.read_csv('final_data')"
   ],
   "metadata": {
    "collapsed": false,
    "ExecuteTime": {
     "end_time": "2024-02-25T19:08:33.669608400Z",
     "start_time": "2024-02-25T19:08:31.815429600Z"
    }
   },
   "id": "60e8bffce5e9a6d4",
   "execution_count": 4
  },
  {
   "cell_type": "code",
   "outputs": [
    {
     "data": {
      "text/plain": "                                        session_id              client_id  \\\n0        9055434745589932991.1637753792.1637753792  2108382700.1637753791   \n1         905544597018549464.1636867290.1636867290   210838531.1636867288   \n2        9055446045651783499.1640648526.1640648526  2108385331.1640648523   \n3        9055447046360770272.1622255328.1622255328  2108385564.1622255328   \n4        9055447046360770272.1622255345.1622255345  2108385564.1622255328   \n...                                            ...                    ...   \n1860037  9055415581448263752.1640159305.1640159305  2108378238.1640159304   \n1860038  9055421130527858185.1622007305.1622007305  2108379530.1622007305   \n1860039  9055422955903931195.1636979515.1636979515  2108379955.1636979515   \n1860040   905543020766873816.1638189404.1638189404   210838164.1638189272   \n1860041  9055430416266113553.1640968742.1640968742  2108381692.1640968721   \n\n         visit_date visit_time  visit_number            utm_source utm_medium  \\\n0        2021-11-24   14:36:32             1  ZpYIoDJMcFzVoPFsHGJL     banner   \n1        2021-11-14   08:21:30             1  MvfHsxITijuriZxsqZqt        cpm   \n2        2021-12-28   02:42:06             1  ZpYIoDJMcFzVoPFsHGJL     banner   \n3        2021-05-29   05:00:00             1  kjsLglQLzykiRbcDiGcD        cpc   \n4        2021-05-29   05:00:00             2  kjsLglQLzykiRbcDiGcD        cpc   \n...             ...        ...           ...                   ...        ...   \n1860037  2021-12-22   10:48:25             1  BHcvLfOaCWvWTykYqHVe        cpc   \n1860038  2021-05-26   08:00:00             1  fDLlAcSmythWSCVMvqvL     (none)   \n1860039  2021-11-15   15:31:55             1  fDLlAcSmythWSCVMvqvL     (none)   \n1860040  2021-11-29   15:36:44             1  ZpYIoDJMcFzVoPFsHGJL     banner   \n1860041  2021-12-31   19:39:02             1  fgymSoTvjKPEgaIJqsiH        cpm   \n\n                 utm_campaign         utm_adcontent           utm_keyword  \\\n0        LEoPHuyFvzoNfnzGgfcd  vCIpmpaGBnIQhyYNkXqp  puhZPIYqKXeFPaUviSjo   \n1        FTjNLDyTrXaWYgZymFkV  xhoenQgDQsgfEPYNPwKO  IGUCNvHlhfHpROGclCit   \n2        LEoPHuyFvzoNfnzGgfcd  vCIpmpaGBnIQhyYNkXqp  puhZPIYqKXeFPaUviSjo   \n3                         NaN  NOBKLgtuvqYWkXQHeYWM                   NaN   \n4                         NaN                   NaN                   NaN   \n...                       ...                   ...                   ...   \n1860037                   NaN                   NaN  VlqBmecIOXWjCWUmQkLd   \n1860038  LTuZkdKfxRGVceoWkVyg  JNHcPlZPxEMWDnRiyoBf                   NaN   \n1860039  LTuZkdKfxRGVceoWkVyg  JNHcPlZPxEMWDnRiyoBf  puhZPIYqKXeFPaUviSjo   \n1860040  LEoPHuyFvzoNfnzGgfcd  JNHcPlZPxEMWDnRiyoBf  puhZPIYqKXeFPaUviSjo   \n1860041  FTjNLDyTrXaWYgZymFkV  yYdBRbPmBMUZHXwqGxNx  oKjXDUsycmahkgMhGdAR   \n\n        device_category device_os device_brand device_model  \\\n0                mobile   Android       Huawei          NaN   \n1                mobile   Android      Samsung          NaN   \n2                mobile   Android       Huawei          NaN   \n3                mobile       NaN       Xiaomi          NaN   \n4                mobile       NaN       Xiaomi          NaN   \n...                 ...       ...          ...          ...   \n1860037         desktop   Windows          NaN          NaN   \n1860038          mobile       NaN        Apple          NaN   \n1860039          mobile       iOS        Apple          NaN   \n1860040          mobile   Android       Xiaomi          NaN   \n1860041         desktop     Linux          NaN          NaN   \n\n        device_screen_resolution    device_browser geo_country     geo_city  \n0                        360x720            Chrome      Russia     Zlatoust  \n1                        385x854  Samsung Internet      Russia       Moscow  \n2                        360x720            Chrome      Russia  Krasnoyarsk  \n3                        393x786            Chrome      Russia       Moscow  \n4                        393x786            Chrome      Russia       Moscow  \n...                          ...               ...         ...          ...  \n1860037                1920x1080            Chrome      Russia       Moscow  \n1860038                  390x844            Safari      Russia    Stavropol  \n1860039                  375x667            Safari      Russia       Moscow  \n1860040                  393x851            Chrome      Russia  Chelyabinsk  \n1860041                 1366x768            Chrome      Russia       Moscow  \n\n[1860042 rows x 18 columns]",
      "text/html": "<div>\n<style scoped>\n    .dataframe tbody tr th:only-of-type {\n        vertical-align: middle;\n    }\n\n    .dataframe tbody tr th {\n        vertical-align: top;\n    }\n\n    .dataframe thead th {\n        text-align: right;\n    }\n</style>\n<table border=\"1\" class=\"dataframe\">\n  <thead>\n    <tr style=\"text-align: right;\">\n      <th></th>\n      <th>session_id</th>\n      <th>client_id</th>\n      <th>visit_date</th>\n      <th>visit_time</th>\n      <th>visit_number</th>\n      <th>utm_source</th>\n      <th>utm_medium</th>\n      <th>utm_campaign</th>\n      <th>utm_adcontent</th>\n      <th>utm_keyword</th>\n      <th>device_category</th>\n      <th>device_os</th>\n      <th>device_brand</th>\n      <th>device_model</th>\n      <th>device_screen_resolution</th>\n      <th>device_browser</th>\n      <th>geo_country</th>\n      <th>geo_city</th>\n    </tr>\n  </thead>\n  <tbody>\n    <tr>\n      <th>0</th>\n      <td>9055434745589932991.1637753792.1637753792</td>\n      <td>2108382700.1637753791</td>\n      <td>2021-11-24</td>\n      <td>14:36:32</td>\n      <td>1</td>\n      <td>ZpYIoDJMcFzVoPFsHGJL</td>\n      <td>banner</td>\n      <td>LEoPHuyFvzoNfnzGgfcd</td>\n      <td>vCIpmpaGBnIQhyYNkXqp</td>\n      <td>puhZPIYqKXeFPaUviSjo</td>\n      <td>mobile</td>\n      <td>Android</td>\n      <td>Huawei</td>\n      <td>NaN</td>\n      <td>360x720</td>\n      <td>Chrome</td>\n      <td>Russia</td>\n      <td>Zlatoust</td>\n    </tr>\n    <tr>\n      <th>1</th>\n      <td>905544597018549464.1636867290.1636867290</td>\n      <td>210838531.1636867288</td>\n      <td>2021-11-14</td>\n      <td>08:21:30</td>\n      <td>1</td>\n      <td>MvfHsxITijuriZxsqZqt</td>\n      <td>cpm</td>\n      <td>FTjNLDyTrXaWYgZymFkV</td>\n      <td>xhoenQgDQsgfEPYNPwKO</td>\n      <td>IGUCNvHlhfHpROGclCit</td>\n      <td>mobile</td>\n      <td>Android</td>\n      <td>Samsung</td>\n      <td>NaN</td>\n      <td>385x854</td>\n      <td>Samsung Internet</td>\n      <td>Russia</td>\n      <td>Moscow</td>\n    </tr>\n    <tr>\n      <th>2</th>\n      <td>9055446045651783499.1640648526.1640648526</td>\n      <td>2108385331.1640648523</td>\n      <td>2021-12-28</td>\n      <td>02:42:06</td>\n      <td>1</td>\n      <td>ZpYIoDJMcFzVoPFsHGJL</td>\n      <td>banner</td>\n      <td>LEoPHuyFvzoNfnzGgfcd</td>\n      <td>vCIpmpaGBnIQhyYNkXqp</td>\n      <td>puhZPIYqKXeFPaUviSjo</td>\n      <td>mobile</td>\n      <td>Android</td>\n      <td>Huawei</td>\n      <td>NaN</td>\n      <td>360x720</td>\n      <td>Chrome</td>\n      <td>Russia</td>\n      <td>Krasnoyarsk</td>\n    </tr>\n    <tr>\n      <th>3</th>\n      <td>9055447046360770272.1622255328.1622255328</td>\n      <td>2108385564.1622255328</td>\n      <td>2021-05-29</td>\n      <td>05:00:00</td>\n      <td>1</td>\n      <td>kjsLglQLzykiRbcDiGcD</td>\n      <td>cpc</td>\n      <td>NaN</td>\n      <td>NOBKLgtuvqYWkXQHeYWM</td>\n      <td>NaN</td>\n      <td>mobile</td>\n      <td>NaN</td>\n      <td>Xiaomi</td>\n      <td>NaN</td>\n      <td>393x786</td>\n      <td>Chrome</td>\n      <td>Russia</td>\n      <td>Moscow</td>\n    </tr>\n    <tr>\n      <th>4</th>\n      <td>9055447046360770272.1622255345.1622255345</td>\n      <td>2108385564.1622255328</td>\n      <td>2021-05-29</td>\n      <td>05:00:00</td>\n      <td>2</td>\n      <td>kjsLglQLzykiRbcDiGcD</td>\n      <td>cpc</td>\n      <td>NaN</td>\n      <td>NaN</td>\n      <td>NaN</td>\n      <td>mobile</td>\n      <td>NaN</td>\n      <td>Xiaomi</td>\n      <td>NaN</td>\n      <td>393x786</td>\n      <td>Chrome</td>\n      <td>Russia</td>\n      <td>Moscow</td>\n    </tr>\n    <tr>\n      <th>...</th>\n      <td>...</td>\n      <td>...</td>\n      <td>...</td>\n      <td>...</td>\n      <td>...</td>\n      <td>...</td>\n      <td>...</td>\n      <td>...</td>\n      <td>...</td>\n      <td>...</td>\n      <td>...</td>\n      <td>...</td>\n      <td>...</td>\n      <td>...</td>\n      <td>...</td>\n      <td>...</td>\n      <td>...</td>\n      <td>...</td>\n    </tr>\n    <tr>\n      <th>1860037</th>\n      <td>9055415581448263752.1640159305.1640159305</td>\n      <td>2108378238.1640159304</td>\n      <td>2021-12-22</td>\n      <td>10:48:25</td>\n      <td>1</td>\n      <td>BHcvLfOaCWvWTykYqHVe</td>\n      <td>cpc</td>\n      <td>NaN</td>\n      <td>NaN</td>\n      <td>VlqBmecIOXWjCWUmQkLd</td>\n      <td>desktop</td>\n      <td>Windows</td>\n      <td>NaN</td>\n      <td>NaN</td>\n      <td>1920x1080</td>\n      <td>Chrome</td>\n      <td>Russia</td>\n      <td>Moscow</td>\n    </tr>\n    <tr>\n      <th>1860038</th>\n      <td>9055421130527858185.1622007305.1622007305</td>\n      <td>2108379530.1622007305</td>\n      <td>2021-05-26</td>\n      <td>08:00:00</td>\n      <td>1</td>\n      <td>fDLlAcSmythWSCVMvqvL</td>\n      <td>(none)</td>\n      <td>LTuZkdKfxRGVceoWkVyg</td>\n      <td>JNHcPlZPxEMWDnRiyoBf</td>\n      <td>NaN</td>\n      <td>mobile</td>\n      <td>NaN</td>\n      <td>Apple</td>\n      <td>NaN</td>\n      <td>390x844</td>\n      <td>Safari</td>\n      <td>Russia</td>\n      <td>Stavropol</td>\n    </tr>\n    <tr>\n      <th>1860039</th>\n      <td>9055422955903931195.1636979515.1636979515</td>\n      <td>2108379955.1636979515</td>\n      <td>2021-11-15</td>\n      <td>15:31:55</td>\n      <td>1</td>\n      <td>fDLlAcSmythWSCVMvqvL</td>\n      <td>(none)</td>\n      <td>LTuZkdKfxRGVceoWkVyg</td>\n      <td>JNHcPlZPxEMWDnRiyoBf</td>\n      <td>puhZPIYqKXeFPaUviSjo</td>\n      <td>mobile</td>\n      <td>iOS</td>\n      <td>Apple</td>\n      <td>NaN</td>\n      <td>375x667</td>\n      <td>Safari</td>\n      <td>Russia</td>\n      <td>Moscow</td>\n    </tr>\n    <tr>\n      <th>1860040</th>\n      <td>905543020766873816.1638189404.1638189404</td>\n      <td>210838164.1638189272</td>\n      <td>2021-11-29</td>\n      <td>15:36:44</td>\n      <td>1</td>\n      <td>ZpYIoDJMcFzVoPFsHGJL</td>\n      <td>banner</td>\n      <td>LEoPHuyFvzoNfnzGgfcd</td>\n      <td>JNHcPlZPxEMWDnRiyoBf</td>\n      <td>puhZPIYqKXeFPaUviSjo</td>\n      <td>mobile</td>\n      <td>Android</td>\n      <td>Xiaomi</td>\n      <td>NaN</td>\n      <td>393x851</td>\n      <td>Chrome</td>\n      <td>Russia</td>\n      <td>Chelyabinsk</td>\n    </tr>\n    <tr>\n      <th>1860041</th>\n      <td>9055430416266113553.1640968742.1640968742</td>\n      <td>2108381692.1640968721</td>\n      <td>2021-12-31</td>\n      <td>19:39:02</td>\n      <td>1</td>\n      <td>fgymSoTvjKPEgaIJqsiH</td>\n      <td>cpm</td>\n      <td>FTjNLDyTrXaWYgZymFkV</td>\n      <td>yYdBRbPmBMUZHXwqGxNx</td>\n      <td>oKjXDUsycmahkgMhGdAR</td>\n      <td>desktop</td>\n      <td>Linux</td>\n      <td>NaN</td>\n      <td>NaN</td>\n      <td>1366x768</td>\n      <td>Chrome</td>\n      <td>Russia</td>\n      <td>Moscow</td>\n    </tr>\n  </tbody>\n</table>\n<p>1860042 rows × 18 columns</p>\n</div>"
     },
     "execution_count": 5,
     "metadata": {},
     "output_type": "execute_result"
    }
   ],
   "source": [
    "data2"
   ],
   "metadata": {
    "collapsed": false,
    "ExecuteTime": {
     "end_time": "2024-02-25T19:08:41.672327100Z",
     "start_time": "2024-02-25T19:08:41.608350900Z"
    }
   },
   "id": "fa66fd7949235030",
   "execution_count": 5
  },
  {
   "cell_type": "code",
   "outputs": [
    {
     "data": {
      "text/plain": "                                       session_id     client_id  visit_date  \\\n0        861567602239642895.1635425553.1635425553  2.005993e+08  2021-10-28   \n1       8703059496721564670.1630389395.1630389395  2.026339e+09  2021-08-31   \n2       5366140572278903224.1635701148.1635701148  1.249402e+09  2021-10-31   \n3       5354870681162512304.1624802278.1624802278  1.246778e+09  2021-06-27   \n4        325238689346041728.1638872959.1638872959  7.572553e+07  2021-12-07   \n...                                           ...           ...         ...   \n434912  6944657193759066052.1625213471.1625213471  1.616929e+09  2021-07-02   \n434913   998273288816685235.1622012085.1622012085  2.324286e+08  2021-05-26   \n434914  5699137684613566500.1634668580.1634668678  1.326934e+09  2021-10-19   \n434915  8680929029191131182.1632657455.1632657455  2.021186e+09  2021-09-26   \n434916  4140795078561295087.1632955121.1632955121  9.641040e+08  2021-09-30   \n\n       visit_time  visit_number            utm_source utm_medium  \\\n0        15:52:33             1  BHcvLfOaCWvWTykYqHVe        cpc   \n1        08:00:00             1  MvfHsxITijuriZxsqZqt        cpm   \n2        20:25:48             1  ZpYIoDJMcFzVoPFsHGJL     banner   \n3        16:00:00             2  fDLlAcSmythWSCVMvqvL     (none)   \n4        13:29:19             1  ZpYIoDJMcFzVoPFsHGJL     banner   \n...           ...           ...                   ...        ...   \n434912   11:00:00             4  kjsLglQLzykiRbcDiGcD        cpc   \n434913   09:00:00             1  fDLlAcSmythWSCVMvqvL     (none)   \n434914   21:00:00             1  bByPQxmDaMXgpHeypKSM   referral   \n434915   14:00:00             1  RmEBuqrriAfAVsLQQmhk        cpc   \n434916   01:00:00             1  ZpYIoDJMcFzVoPFsHGJL     banner   \n\n                utm_campaign         utm_adcontent           utm_keyword  \\\n0       LTuZkdKfxRGVceoWkVyg  JNHcPlZPxEMWDnRiyoBf  UbQpozKfTgYxQovHjkQM   \n1       FTjNLDyTrXaWYgZymFkV  dUuXlWzvmhDSyclWRhNP  pHqgLcdBQPSLcrTpLkdr   \n2       gecBYcKZCPMcVYdSSzKP  JNHcPlZPxEMWDnRiyoBf  puhZPIYqKXeFPaUviSjo   \n3       LTuZkdKfxRGVceoWkVyg  JNHcPlZPxEMWDnRiyoBf  puhZPIYqKXeFPaUviSjo   \n4       LEoPHuyFvzoNfnzGgfcd  vCIpmpaGBnIQhyYNkXqp  puhZPIYqKXeFPaUviSjo   \n...                      ...                   ...                   ...   \n434912  XHNUiSKKGTEpSAlaVMFQ  JNHcPlZPxEMWDnRiyoBf  hAmNSZmQkKQKAjZEGlgb   \n434913  LTuZkdKfxRGVceoWkVyg  JNHcPlZPxEMWDnRiyoBf  puhZPIYqKXeFPaUviSjo   \n434914  LTuZkdKfxRGVceoWkVyg  JNHcPlZPxEMWDnRiyoBf  puhZPIYqKXeFPaUviSjo   \n434915  KgicpPxiEQfzPlPwQZJq  JNHcPlZPxEMWDnRiyoBf  puhZPIYqKXeFPaUviSjo   \n434916  gecBYcKZCPMcVYdSSzKP  JNHcPlZPxEMWDnRiyoBf  puhZPIYqKXeFPaUviSjo   \n\n       device_category device_os device_brand          device_model  \\\n0               mobile   Android      Samsung  AuMdmADEIoPXiWpTsBEj   \n1               mobile   Android      Samsung  AuMdmADEIoPXiWpTsBEj   \n2               mobile   Android      Samsung  AuMdmADEIoPXiWpTsBEj   \n3              desktop   Windows      Samsung  AuMdmADEIoPXiWpTsBEj   \n4               mobile   Android       Huawei  AuMdmADEIoPXiWpTsBEj   \n...                ...       ...          ...                   ...   \n434912          mobile       iOS        Apple  AuMdmADEIoPXiWpTsBEj   \n434913          mobile   Android      Samsung  ZkRlaMsFhSBPslXBtfiG   \n434914          mobile   Android       Xiaomi  AuMdmADEIoPXiWpTsBEj   \n434915          mobile   Android         Vivo  AuMdmADEIoPXiWpTsBEj   \n434916          mobile   Android       Huawei  AuMdmADEIoPXiWpTsBEj   \n\n       device_screen_resolution    device_browser geo_country  \\\n0                       412x915            Chrome      Russia   \n1                       360x640  Samsung Internet      Russia   \n2                       360x640            Chrome      Russia   \n3                     1920x1080            Chrome      Russia   \n4                       360x720            Chrome      Russia   \n...                         ...               ...         ...   \n434912                  390x844            Chrome      Russia   \n434913                  412x869            Chrome      Russia   \n434914                  393x873            Chrome      Russia   \n434915                  393x876            Chrome      Russia   \n434916                  427x939            Chrome      Russia   \n\n                geo_city  target  \n0                 Moscow       1  \n1                Kubinka       1  \n2        Veliky Novgorod       0  \n3                  Kirov       0  \n4                Saransk       0  \n...                  ...     ...  \n434912            Khimki       0  \n434913            Moscow       0  \n434914         Volgograd       0  \n434915  Saint Petersburg       0  \n434916       Birobidzhan       0  \n\n[434917 rows x 19 columns]",
      "text/html": "<div>\n<style scoped>\n    .dataframe tbody tr th:only-of-type {\n        vertical-align: middle;\n    }\n\n    .dataframe tbody tr th {\n        vertical-align: top;\n    }\n\n    .dataframe thead th {\n        text-align: right;\n    }\n</style>\n<table border=\"1\" class=\"dataframe\">\n  <thead>\n    <tr style=\"text-align: right;\">\n      <th></th>\n      <th>session_id</th>\n      <th>client_id</th>\n      <th>visit_date</th>\n      <th>visit_time</th>\n      <th>visit_number</th>\n      <th>utm_source</th>\n      <th>utm_medium</th>\n      <th>utm_campaign</th>\n      <th>utm_adcontent</th>\n      <th>utm_keyword</th>\n      <th>device_category</th>\n      <th>device_os</th>\n      <th>device_brand</th>\n      <th>device_model</th>\n      <th>device_screen_resolution</th>\n      <th>device_browser</th>\n      <th>geo_country</th>\n      <th>geo_city</th>\n      <th>target</th>\n    </tr>\n  </thead>\n  <tbody>\n    <tr>\n      <th>0</th>\n      <td>861567602239642895.1635425553.1635425553</td>\n      <td>2.005993e+08</td>\n      <td>2021-10-28</td>\n      <td>15:52:33</td>\n      <td>1</td>\n      <td>BHcvLfOaCWvWTykYqHVe</td>\n      <td>cpc</td>\n      <td>LTuZkdKfxRGVceoWkVyg</td>\n      <td>JNHcPlZPxEMWDnRiyoBf</td>\n      <td>UbQpozKfTgYxQovHjkQM</td>\n      <td>mobile</td>\n      <td>Android</td>\n      <td>Samsung</td>\n      <td>AuMdmADEIoPXiWpTsBEj</td>\n      <td>412x915</td>\n      <td>Chrome</td>\n      <td>Russia</td>\n      <td>Moscow</td>\n      <td>1</td>\n    </tr>\n    <tr>\n      <th>1</th>\n      <td>8703059496721564670.1630389395.1630389395</td>\n      <td>2.026339e+09</td>\n      <td>2021-08-31</td>\n      <td>08:00:00</td>\n      <td>1</td>\n      <td>MvfHsxITijuriZxsqZqt</td>\n      <td>cpm</td>\n      <td>FTjNLDyTrXaWYgZymFkV</td>\n      <td>dUuXlWzvmhDSyclWRhNP</td>\n      <td>pHqgLcdBQPSLcrTpLkdr</td>\n      <td>mobile</td>\n      <td>Android</td>\n      <td>Samsung</td>\n      <td>AuMdmADEIoPXiWpTsBEj</td>\n      <td>360x640</td>\n      <td>Samsung Internet</td>\n      <td>Russia</td>\n      <td>Kubinka</td>\n      <td>1</td>\n    </tr>\n    <tr>\n      <th>2</th>\n      <td>5366140572278903224.1635701148.1635701148</td>\n      <td>1.249402e+09</td>\n      <td>2021-10-31</td>\n      <td>20:25:48</td>\n      <td>1</td>\n      <td>ZpYIoDJMcFzVoPFsHGJL</td>\n      <td>banner</td>\n      <td>gecBYcKZCPMcVYdSSzKP</td>\n      <td>JNHcPlZPxEMWDnRiyoBf</td>\n      <td>puhZPIYqKXeFPaUviSjo</td>\n      <td>mobile</td>\n      <td>Android</td>\n      <td>Samsung</td>\n      <td>AuMdmADEIoPXiWpTsBEj</td>\n      <td>360x640</td>\n      <td>Chrome</td>\n      <td>Russia</td>\n      <td>Veliky Novgorod</td>\n      <td>0</td>\n    </tr>\n    <tr>\n      <th>3</th>\n      <td>5354870681162512304.1624802278.1624802278</td>\n      <td>1.246778e+09</td>\n      <td>2021-06-27</td>\n      <td>16:00:00</td>\n      <td>2</td>\n      <td>fDLlAcSmythWSCVMvqvL</td>\n      <td>(none)</td>\n      <td>LTuZkdKfxRGVceoWkVyg</td>\n      <td>JNHcPlZPxEMWDnRiyoBf</td>\n      <td>puhZPIYqKXeFPaUviSjo</td>\n      <td>desktop</td>\n      <td>Windows</td>\n      <td>Samsung</td>\n      <td>AuMdmADEIoPXiWpTsBEj</td>\n      <td>1920x1080</td>\n      <td>Chrome</td>\n      <td>Russia</td>\n      <td>Kirov</td>\n      <td>0</td>\n    </tr>\n    <tr>\n      <th>4</th>\n      <td>325238689346041728.1638872959.1638872959</td>\n      <td>7.572553e+07</td>\n      <td>2021-12-07</td>\n      <td>13:29:19</td>\n      <td>1</td>\n      <td>ZpYIoDJMcFzVoPFsHGJL</td>\n      <td>banner</td>\n      <td>LEoPHuyFvzoNfnzGgfcd</td>\n      <td>vCIpmpaGBnIQhyYNkXqp</td>\n      <td>puhZPIYqKXeFPaUviSjo</td>\n      <td>mobile</td>\n      <td>Android</td>\n      <td>Huawei</td>\n      <td>AuMdmADEIoPXiWpTsBEj</td>\n      <td>360x720</td>\n      <td>Chrome</td>\n      <td>Russia</td>\n      <td>Saransk</td>\n      <td>0</td>\n    </tr>\n    <tr>\n      <th>...</th>\n      <td>...</td>\n      <td>...</td>\n      <td>...</td>\n      <td>...</td>\n      <td>...</td>\n      <td>...</td>\n      <td>...</td>\n      <td>...</td>\n      <td>...</td>\n      <td>...</td>\n      <td>...</td>\n      <td>...</td>\n      <td>...</td>\n      <td>...</td>\n      <td>...</td>\n      <td>...</td>\n      <td>...</td>\n      <td>...</td>\n      <td>...</td>\n    </tr>\n    <tr>\n      <th>434912</th>\n      <td>6944657193759066052.1625213471.1625213471</td>\n      <td>1.616929e+09</td>\n      <td>2021-07-02</td>\n      <td>11:00:00</td>\n      <td>4</td>\n      <td>kjsLglQLzykiRbcDiGcD</td>\n      <td>cpc</td>\n      <td>XHNUiSKKGTEpSAlaVMFQ</td>\n      <td>JNHcPlZPxEMWDnRiyoBf</td>\n      <td>hAmNSZmQkKQKAjZEGlgb</td>\n      <td>mobile</td>\n      <td>iOS</td>\n      <td>Apple</td>\n      <td>AuMdmADEIoPXiWpTsBEj</td>\n      <td>390x844</td>\n      <td>Chrome</td>\n      <td>Russia</td>\n      <td>Khimki</td>\n      <td>0</td>\n    </tr>\n    <tr>\n      <th>434913</th>\n      <td>998273288816685235.1622012085.1622012085</td>\n      <td>2.324286e+08</td>\n      <td>2021-05-26</td>\n      <td>09:00:00</td>\n      <td>1</td>\n      <td>fDLlAcSmythWSCVMvqvL</td>\n      <td>(none)</td>\n      <td>LTuZkdKfxRGVceoWkVyg</td>\n      <td>JNHcPlZPxEMWDnRiyoBf</td>\n      <td>puhZPIYqKXeFPaUviSjo</td>\n      <td>mobile</td>\n      <td>Android</td>\n      <td>Samsung</td>\n      <td>ZkRlaMsFhSBPslXBtfiG</td>\n      <td>412x869</td>\n      <td>Chrome</td>\n      <td>Russia</td>\n      <td>Moscow</td>\n      <td>0</td>\n    </tr>\n    <tr>\n      <th>434914</th>\n      <td>5699137684613566500.1634668580.1634668678</td>\n      <td>1.326934e+09</td>\n      <td>2021-10-19</td>\n      <td>21:00:00</td>\n      <td>1</td>\n      <td>bByPQxmDaMXgpHeypKSM</td>\n      <td>referral</td>\n      <td>LTuZkdKfxRGVceoWkVyg</td>\n      <td>JNHcPlZPxEMWDnRiyoBf</td>\n      <td>puhZPIYqKXeFPaUviSjo</td>\n      <td>mobile</td>\n      <td>Android</td>\n      <td>Xiaomi</td>\n      <td>AuMdmADEIoPXiWpTsBEj</td>\n      <td>393x873</td>\n      <td>Chrome</td>\n      <td>Russia</td>\n      <td>Volgograd</td>\n      <td>0</td>\n    </tr>\n    <tr>\n      <th>434915</th>\n      <td>8680929029191131182.1632657455.1632657455</td>\n      <td>2.021186e+09</td>\n      <td>2021-09-26</td>\n      <td>14:00:00</td>\n      <td>1</td>\n      <td>RmEBuqrriAfAVsLQQmhk</td>\n      <td>cpc</td>\n      <td>KgicpPxiEQfzPlPwQZJq</td>\n      <td>JNHcPlZPxEMWDnRiyoBf</td>\n      <td>puhZPIYqKXeFPaUviSjo</td>\n      <td>mobile</td>\n      <td>Android</td>\n      <td>Vivo</td>\n      <td>AuMdmADEIoPXiWpTsBEj</td>\n      <td>393x876</td>\n      <td>Chrome</td>\n      <td>Russia</td>\n      <td>Saint Petersburg</td>\n      <td>0</td>\n    </tr>\n    <tr>\n      <th>434916</th>\n      <td>4140795078561295087.1632955121.1632955121</td>\n      <td>9.641040e+08</td>\n      <td>2021-09-30</td>\n      <td>01:00:00</td>\n      <td>1</td>\n      <td>ZpYIoDJMcFzVoPFsHGJL</td>\n      <td>banner</td>\n      <td>gecBYcKZCPMcVYdSSzKP</td>\n      <td>JNHcPlZPxEMWDnRiyoBf</td>\n      <td>puhZPIYqKXeFPaUviSjo</td>\n      <td>mobile</td>\n      <td>Android</td>\n      <td>Huawei</td>\n      <td>AuMdmADEIoPXiWpTsBEj</td>\n      <td>427x939</td>\n      <td>Chrome</td>\n      <td>Russia</td>\n      <td>Birobidzhan</td>\n      <td>0</td>\n    </tr>\n  </tbody>\n</table>\n<p>434917 rows × 19 columns</p>\n</div>"
     },
     "execution_count": 6,
     "metadata": {},
     "output_type": "execute_result"
    }
   ],
   "source": [
    "df"
   ],
   "metadata": {
    "collapsed": false,
    "ExecuteTime": {
     "end_time": "2024-02-25T19:08:54.142527700Z",
     "start_time": "2024-02-25T19:08:54.041531900Z"
    }
   },
   "id": "f75c9d70a10f0995",
   "execution_count": 6
  },
  {
   "cell_type": "markdown",
   "source": [
    "Какой я вывод могу сделать после проделанной работы над датафреймами. В данных огромнейший дисбаланс. Слишком много данных я потерял пытаясь достичь того что модель будет получать хоть несколько сотен значений таргет не равный нулю. Никак не смог понять закодированные колонки ['utm_source', 'utm_campaign', 'utm_adcontent', 'utm_keyword', 'device_model'], но не могу их удалять потому что модель может их понять. Что касается пустых значении - в среднем их очень много, есть даже колонка которая состоит из пропуском на 99,1%(1843704 значении). По итогу удалось хоть и не идеально но заполнить данные и получить не плохой результат, но думается мне что если бы колонки не были бы закодированы то мы бы смогли получить гораздо больше информации по этим данным, и даже модели было бы легче с ними совладать."
   ],
   "metadata": {
    "collapsed": false
   },
   "id": "54511a2424cdc786"
  },
  {
   "cell_type": "code",
   "outputs": [],
   "source": [],
   "metadata": {
    "collapsed": false
   },
   "id": "cbe2e02e7a93be76"
  }
 ],
 "metadata": {
  "kernelspec": {
   "display_name": "Python 3",
   "language": "python",
   "name": "python3"
  },
  "language_info": {
   "codemirror_mode": {
    "name": "ipython",
    "version": 2
   },
   "file_extension": ".py",
   "mimetype": "text/x-python",
   "name": "python",
   "nbconvert_exporter": "python",
   "pygments_lexer": "ipython2",
   "version": "2.7.6"
  }
 },
 "nbformat": 4,
 "nbformat_minor": 5
}
