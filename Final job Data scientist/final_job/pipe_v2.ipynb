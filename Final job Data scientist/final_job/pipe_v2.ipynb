{
 "cells": [
  {
   "cell_type": "code",
   "outputs": [],
   "source": [
    "import pandas as pd\n",
    "import hashlib\n",
    "\n",
    "from sklearn.ensemble import RandomForestClassifier\n",
    "from sklearn.linear_model import LogisticRegression\n",
    "from sklearn.model_selection import cross_val_score\n",
    "from sklearn.preprocessing import OneHotEncoder\n",
    "from sklearn.preprocessing import StandardScaler\n",
    "from sklearn.impute import SimpleImputer\n",
    "from sklearn.metrics import roc_auc_score"
   ],
   "metadata": {
    "collapsed": false,
    "ExecuteTime": {
     "end_time": "2024-02-21T03:05:38.845759200Z",
     "start_time": "2024-02-21T03:05:38.627131200Z"
    }
   },
   "execution_count": 118
  },
  {
   "cell_type": "code",
   "outputs": [],
   "source": [],
   "metadata": {
    "collapsed": false,
    "ExecuteTime": {
     "end_time": "2024-02-21T03:05:38.865765100Z",
     "start_time": "2024-02-21T03:05:38.837752600Z"
    }
   },
   "execution_count": 118
  },
  {
   "cell_type": "code",
   "outputs": [],
   "source": [
    "data_cheak = pd.read_csv('save_df1', low_memory=False)"
   ],
   "metadata": {
    "collapsed": false,
    "ExecuteTime": {
     "end_time": "2024-02-21T03:06:20.386867100Z",
     "start_time": "2024-02-21T03:05:38.906765100Z"
    }
   },
   "execution_count": 119
  },
  {
   "cell_type": "code",
   "outputs": [],
   "source": [
    "data_cheak = pd.DataFrame(data_cheak)\n",
    "df_ch_copy = data_cheak.copy()"
   ],
   "metadata": {
    "collapsed": false,
    "ExecuteTime": {
     "end_time": "2024-02-21T03:06:22.052925300Z",
     "start_time": "2024-02-21T03:06:20.415852300Z"
    }
   },
   "execution_count": 120
  },
  {
   "cell_type": "code",
   "outputs": [],
   "source": [
    "df_filtered = df_ch_copy.loc[df_ch_copy['target']==0]"
   ],
   "metadata": {
    "collapsed": false,
    "ExecuteTime": {
     "end_time": "2024-02-21T03:06:25.702640800Z",
     "start_time": "2024-02-21T03:06:22.146925400Z"
    }
   },
   "execution_count": 121
  },
  {
   "cell_type": "code",
   "outputs": [],
   "source": [
    "df_filtered = df_filtered.dropna()"
   ],
   "metadata": {
    "collapsed": false,
    "ExecuteTime": {
     "end_time": "2024-02-21T03:06:27.228896200Z",
     "start_time": "2024-02-21T03:06:25.722605900Z"
    }
   },
   "execution_count": 122
  },
  {
   "cell_type": "code",
   "outputs": [],
   "source": [
    "random_rows = df_filtered.sample(frac=0.45, random_state=42)"
   ],
   "metadata": {
    "collapsed": false,
    "ExecuteTime": {
     "end_time": "2024-02-21T03:06:31.165560500Z",
     "start_time": "2024-02-21T03:06:27.985353600Z"
    }
   },
   "execution_count": 123
  },
  {
   "cell_type": "code",
   "outputs": [],
   "source": [
    "df_filtered = df_filtered.drop(random_rows.index)"
   ],
   "metadata": {
    "collapsed": false,
    "ExecuteTime": {
     "end_time": "2024-02-21T03:06:31.647111800Z",
     "start_time": "2024-02-21T03:06:31.191562300Z"
    }
   },
   "execution_count": 124
  },
  {
   "cell_type": "code",
   "outputs": [],
   "source": [],
   "metadata": {
    "collapsed": false,
    "ExecuteTime": {
     "end_time": "2024-02-21T03:06:31.827857900Z",
     "start_time": "2024-02-21T03:06:31.649835900Z"
    }
   },
   "execution_count": 124
  },
  {
   "cell_type": "code",
   "outputs": [],
   "source": [
    "df_filtered_test = df_filtered.sample(frac=0.1, random_state=42)"
   ],
   "metadata": {
    "collapsed": false,
    "ExecuteTime": {
     "end_time": "2024-02-21T03:06:33.315770300Z",
     "start_time": "2024-02-21T03:06:31.812795800Z"
    }
   },
   "execution_count": 125
  },
  {
   "cell_type": "code",
   "outputs": [],
   "source": [
    "df_filtered_train = df_filtered.drop(df_filtered_test.index)"
   ],
   "metadata": {
    "collapsed": false,
    "ExecuteTime": {
     "end_time": "2024-02-21T03:06:34.895308500Z",
     "start_time": "2024-02-21T03:06:33.319803400Z"
    }
   },
   "execution_count": 126
  },
  {
   "cell_type": "code",
   "outputs": [],
   "source": [],
   "metadata": {
    "collapsed": false,
    "ExecuteTime": {
     "end_time": "2024-02-21T03:06:34.923449500Z",
     "start_time": "2024-02-21T03:06:34.898308700Z"
    }
   },
   "execution_count": 126
  },
  {
   "cell_type": "code",
   "outputs": [],
   "source": [
    "df_filtered_target = df_ch_copy.loc[df_ch_copy['target']==1]"
   ],
   "metadata": {
    "collapsed": false,
    "ExecuteTime": {
     "end_time": "2024-02-21T03:06:35.439853Z",
     "start_time": "2024-02-21T03:06:34.911303300Z"
    }
   },
   "execution_count": 127
  },
  {
   "cell_type": "code",
   "outputs": [],
   "source": [
    "imputer = SimpleImputer(strategy='most_frequent')"
   ],
   "metadata": {
    "collapsed": false,
    "ExecuteTime": {
     "end_time": "2024-02-21T03:06:35.507434100Z",
     "start_time": "2024-02-21T03:06:35.461808500Z"
    }
   },
   "execution_count": 128
  },
  {
   "cell_type": "code",
   "outputs": [],
   "source": [
    "columns = list(df_filtered_target.columns)"
   ],
   "metadata": {
    "collapsed": false,
    "ExecuteTime": {
     "end_time": "2024-02-21T03:06:35.554525500Z",
     "start_time": "2024-02-21T03:06:35.532431900Z"
    }
   },
   "execution_count": 129
  },
  {
   "cell_type": "code",
   "outputs": [],
   "source": [
    "df_filtered_target = imputer.fit_transform(df_filtered_target[columns])"
   ],
   "metadata": {
    "collapsed": false,
    "ExecuteTime": {
     "end_time": "2024-02-21T03:06:38.442968200Z",
     "start_time": "2024-02-21T03:06:35.538529600Z"
    }
   },
   "execution_count": 130
  },
  {
   "cell_type": "code",
   "outputs": [],
   "source": [
    "df_filtered_target = pd.DataFrame(df_filtered_target, columns=columns)"
   ],
   "metadata": {
    "collapsed": false,
    "ExecuteTime": {
     "end_time": "2024-02-21T03:06:38.482349200Z",
     "start_time": "2024-02-21T03:06:38.446972400Z"
    }
   },
   "execution_count": 131
  },
  {
   "cell_type": "code",
   "outputs": [],
   "source": [
    "df_target_test = df_filtered_target.sample(frac=0.1, random_state=42)"
   ],
   "metadata": {
    "collapsed": false,
    "ExecuteTime": {
     "end_time": "2024-02-21T03:06:38.549550Z",
     "start_time": "2024-02-21T03:06:38.468328900Z"
    }
   },
   "execution_count": 132
  },
  {
   "cell_type": "code",
   "outputs": [],
   "source": [],
   "metadata": {
    "collapsed": false,
    "ExecuteTime": {
     "end_time": "2024-02-21T03:06:38.565349500Z",
     "start_time": "2024-02-21T03:06:38.553314100Z"
    }
   },
   "execution_count": 132
  },
  {
   "cell_type": "code",
   "outputs": [],
   "source": [
    "df_target_train = df_filtered_target.drop(df_target_test.index)"
   ],
   "metadata": {
    "collapsed": false,
    "ExecuteTime": {
     "end_time": "2024-02-21T03:06:39.083601Z",
     "start_time": "2024-02-21T03:06:38.602312900Z"
    }
   },
   "execution_count": 133
  },
  {
   "cell_type": "code",
   "outputs": [],
   "source": [
    "df_target_train = pd.concat([df_target_train, df_target_train, df_target_train, df_target_train], ignore_index=True)"
   ],
   "metadata": {
    "collapsed": false,
    "ExecuteTime": {
     "end_time": "2024-02-21T03:06:39.269147400Z",
     "start_time": "2024-02-21T03:06:39.086602600Z"
    }
   },
   "execution_count": 134
  },
  {
   "cell_type": "code",
   "outputs": [],
   "source": [],
   "metadata": {
    "collapsed": false,
    "ExecuteTime": {
     "end_time": "2024-02-21T03:06:39.276299800Z",
     "start_time": "2024-02-21T03:06:39.272223900Z"
    }
   },
   "execution_count": 134
  },
  {
   "cell_type": "code",
   "outputs": [],
   "source": [
    "train_data = pd.concat([df_target_train, df_filtered_train])"
   ],
   "metadata": {
    "collapsed": false,
    "ExecuteTime": {
     "end_time": "2024-02-21T03:06:39.476878600Z",
     "start_time": "2024-02-21T03:06:39.314236Z"
    }
   },
   "execution_count": 135
  },
  {
   "cell_type": "code",
   "outputs": [],
   "source": [
    "test_data = pd.concat([df_target_test, df_filtered_test])"
   ],
   "metadata": {
    "collapsed": false,
    "ExecuteTime": {
     "end_time": "2024-02-21T03:06:39.529362200Z",
     "start_time": "2024-02-21T03:06:39.479440800Z"
    }
   },
   "execution_count": 136
  },
  {
   "cell_type": "code",
   "outputs": [],
   "source": [],
   "metadata": {
    "collapsed": false,
    "ExecuteTime": {
     "end_time": "2024-02-21T03:06:39.588197600Z",
     "start_time": "2024-02-21T03:06:39.562206100Z"
    }
   },
   "execution_count": 136
  },
  {
   "cell_type": "code",
   "outputs": [],
   "source": [
    "train_data = train_data.sample(frac=1)"
   ],
   "metadata": {
    "collapsed": false,
    "ExecuteTime": {
     "end_time": "2024-02-21T03:06:40.429445700Z",
     "start_time": "2024-02-21T03:06:39.583196900Z"
    }
   },
   "execution_count": 137
  },
  {
   "cell_type": "code",
   "outputs": [],
   "source": [
    "test_data = test_data.sample(frac=1)"
   ],
   "metadata": {
    "collapsed": false,
    "ExecuteTime": {
     "end_time": "2024-02-21T03:06:40.905281200Z",
     "start_time": "2024-02-21T03:06:40.432442200Z"
    }
   },
   "execution_count": 138
  },
  {
   "cell_type": "code",
   "outputs": [],
   "source": [
    "train_data = train_data.drop('Unnamed: 0', axis=1)"
   ],
   "metadata": {
    "collapsed": false,
    "ExecuteTime": {
     "end_time": "2024-02-21T03:06:41.306253700Z",
     "start_time": "2024-02-21T03:06:40.963258800Z"
    }
   },
   "execution_count": 139
  },
  {
   "cell_type": "code",
   "outputs": [],
   "source": [
    "test_data = test_data.drop('Unnamed: 0', axis=1)"
   ],
   "metadata": {
    "collapsed": false,
    "ExecuteTime": {
     "end_time": "2024-02-21T03:06:41.485244700Z",
     "start_time": "2024-02-21T03:06:41.379605200Z"
    }
   },
   "execution_count": 140
  },
  {
   "cell_type": "code",
   "outputs": [],
   "source": [],
   "metadata": {
    "collapsed": false,
    "ExecuteTime": {
     "end_time": "2024-02-21T03:06:41.489221Z",
     "start_time": "2024-02-21T03:06:41.466206100Z"
    }
   },
   "execution_count": 140
  },
  {
   "cell_type": "code",
   "outputs": [],
   "source": [
    "train_data.to_csv('train_data', index=False)"
   ],
   "metadata": {
    "collapsed": false,
    "ExecuteTime": {
     "end_time": "2024-02-21T03:06:52.315901Z",
     "start_time": "2024-02-21T03:06:41.547019500Z"
    }
   },
   "execution_count": 141
  },
  {
   "cell_type": "code",
   "outputs": [],
   "source": [
    "test_data.to_csv('test_data', index=False)"
   ],
   "metadata": {
    "collapsed": false,
    "ExecuteTime": {
     "end_time": "2024-02-21T03:06:53.128478300Z",
     "start_time": "2024-02-21T03:06:52.323901200Z"
    }
   },
   "execution_count": 142
  },
  {
   "cell_type": "code",
   "outputs": [],
   "source": [],
   "metadata": {
    "collapsed": false,
    "ExecuteTime": {
     "end_time": "2024-02-21T03:06:53.133232100Z",
     "start_time": "2024-02-21T03:06:53.130672800Z"
    }
   },
   "execution_count": 142
  },
  {
   "cell_type": "code",
   "outputs": [],
   "source": [],
   "metadata": {
    "collapsed": false,
    "ExecuteTime": {
     "end_time": "2024-02-21T03:06:53.138394Z",
     "start_time": "2024-02-21T03:06:53.135384500Z"
    }
   },
   "execution_count": 142
  },
  {
   "cell_type": "code",
   "outputs": [],
   "source": [
    "df = pd.read_csv('train_data', low_memory=False)\n",
    "df = pd.DataFrame(df)"
   ],
   "metadata": {
    "collapsed": false,
    "ExecuteTime": {
     "end_time": "2024-02-21T03:07:04.093683800Z",
     "start_time": "2024-02-21T03:06:53.141395100Z"
    }
   },
   "execution_count": 143
  },
  {
   "cell_type": "code",
   "outputs": [],
   "source": [
    "df_copy = df.copy()\n",
    "df_copy['width'] = pd.to_numeric(df_copy['device_screen_resolution'].str.split('x').str[0])\n",
    "df_copy['height'] = pd.to_numeric(df_copy['device_screen_resolution'].str.split('x').str[1])\n",
    "\n",
    "df_copy['datetime'] = pd.to_datetime(df_copy['visit_date'], format='%Y-%m-%d') + \\\n",
    "                 pd.to_timedelta(df_copy['visit_time'])\n",
    "df_copy['year'] = df_copy['datetime'].dt.year\n",
    "df_copy['month'] = df_copy['datetime'].dt.month\n",
    "df_copy['day'] = df_copy['datetime'].dt.day\n",
    "df_copy['hour'] = df_copy['datetime'].dt.hour\n",
    "df_copy['minute'] = df_copy['datetime'].dt.minute\n",
    "\n",
    "df_copy['geo'] = df_copy['geo_country'] + '/' + df_copy['geo_city']\n",
    "\n",
    "drop_col = ['session_id', 'client_id', 'device_screen_resolution', 'visit_date', 'visit_time', 'datetime', 'geo_country', 'geo_city']\n",
    "\n",
    "df_copy = df_copy.drop(drop_col, axis=1)"
   ],
   "metadata": {
    "collapsed": false,
    "ExecuteTime": {
     "end_time": "2024-02-21T03:07:18.662941700Z",
     "start_time": "2024-02-21T03:07:04.288386700Z"
    }
   },
   "execution_count": 144
  },
  {
   "cell_type": "code",
   "outputs": [],
   "source": [
    "X = df_copy.drop('target', axis=1)\n",
    "y = df_copy['target']"
   ],
   "metadata": {
    "collapsed": false,
    "ExecuteTime": {
     "end_time": "2024-02-21T03:07:19.537543100Z",
     "start_time": "2024-02-21T03:07:18.719942700Z"
    }
   },
   "execution_count": 145
  },
  {
   "cell_type": "code",
   "outputs": [],
   "source": [
    "scal_columns = ['visit_number', 'width', 'height', 'year', 'month', 'day', 'hour', 'minute']\n",
    "encod_columns = ['utm_medium', 'device_category', 'device_os', 'device_brand', 'device_browser', 'geo']\n",
    "hash_columns = ['utm_source', 'utm_campaign', 'utm_adcontent', 'utm_keyword', 'device_model']"
   ],
   "metadata": {
    "collapsed": false,
    "ExecuteTime": {
     "end_time": "2024-02-21T03:07:19.644590800Z",
     "start_time": "2024-02-21T03:07:19.604567800Z"
    }
   },
   "execution_count": 146
  },
  {
   "cell_type": "code",
   "outputs": [],
   "source": [
    "scaler = StandardScaler()\n",
    "X[scal_columns] = scaler.fit_transform(X[scal_columns])"
   ],
   "metadata": {
    "collapsed": false,
    "ExecuteTime": {
     "end_time": "2024-02-21T03:07:20.015238900Z",
     "start_time": "2024-02-21T03:07:19.643592300Z"
    }
   },
   "execution_count": 147
  },
  {
   "cell_type": "code",
   "outputs": [
    {
     "name": "stderr",
     "output_type": "stream",
     "text": [
      "C:\\Users\\Акти\\AppData\\Local\\Temp\\ipykernel_2704\\4261181228.py:1: FutureWarning: DataFrame.applymap has been deprecated. Use DataFrame.map instead.\n",
      "  X[hash_columns] = X[hash_columns].applymap(lambda x: hashlib.sha256(x.encode('utf-8')).hexdigest())\n"
     ]
    }
   ],
   "source": [
    "X[hash_columns] = X[hash_columns].applymap(lambda x: hashlib.sha256(x.encode('utf-8')).hexdigest())"
   ],
   "metadata": {
    "collapsed": false,
    "ExecuteTime": {
     "end_time": "2024-02-21T03:07:26.203001300Z",
     "start_time": "2024-02-21T03:07:20.018239200Z"
    }
   },
   "execution_count": 148
  },
  {
   "cell_type": "code",
   "outputs": [
    {
     "data": {
      "text/plain": "OneHotEncoder(handle_unknown='ignore')",
      "text/html": "<style>#sk-container-id-3 {color: black;}#sk-container-id-3 pre{padding: 0;}#sk-container-id-3 div.sk-toggleable {background-color: white;}#sk-container-id-3 label.sk-toggleable__label {cursor: pointer;display: block;width: 100%;margin-bottom: 0;padding: 0.3em;box-sizing: border-box;text-align: center;}#sk-container-id-3 label.sk-toggleable__label-arrow:before {content: \"▸\";float: left;margin-right: 0.25em;color: #696969;}#sk-container-id-3 label.sk-toggleable__label-arrow:hover:before {color: black;}#sk-container-id-3 div.sk-estimator:hover label.sk-toggleable__label-arrow:before {color: black;}#sk-container-id-3 div.sk-toggleable__content {max-height: 0;max-width: 0;overflow: hidden;text-align: left;background-color: #f0f8ff;}#sk-container-id-3 div.sk-toggleable__content pre {margin: 0.2em;color: black;border-radius: 0.25em;background-color: #f0f8ff;}#sk-container-id-3 input.sk-toggleable__control:checked~div.sk-toggleable__content {max-height: 200px;max-width: 100%;overflow: auto;}#sk-container-id-3 input.sk-toggleable__control:checked~label.sk-toggleable__label-arrow:before {content: \"▾\";}#sk-container-id-3 div.sk-estimator input.sk-toggleable__control:checked~label.sk-toggleable__label {background-color: #d4ebff;}#sk-container-id-3 div.sk-label input.sk-toggleable__control:checked~label.sk-toggleable__label {background-color: #d4ebff;}#sk-container-id-3 input.sk-hidden--visually {border: 0;clip: rect(1px 1px 1px 1px);clip: rect(1px, 1px, 1px, 1px);height: 1px;margin: -1px;overflow: hidden;padding: 0;position: absolute;width: 1px;}#sk-container-id-3 div.sk-estimator {font-family: monospace;background-color: #f0f8ff;border: 1px dotted black;border-radius: 0.25em;box-sizing: border-box;margin-bottom: 0.5em;}#sk-container-id-3 div.sk-estimator:hover {background-color: #d4ebff;}#sk-container-id-3 div.sk-parallel-item::after {content: \"\";width: 100%;border-bottom: 1px solid gray;flex-grow: 1;}#sk-container-id-3 div.sk-label:hover label.sk-toggleable__label {background-color: #d4ebff;}#sk-container-id-3 div.sk-serial::before {content: \"\";position: absolute;border-left: 1px solid gray;box-sizing: border-box;top: 0;bottom: 0;left: 50%;z-index: 0;}#sk-container-id-3 div.sk-serial {display: flex;flex-direction: column;align-items: center;background-color: white;padding-right: 0.2em;padding-left: 0.2em;position: relative;}#sk-container-id-3 div.sk-item {position: relative;z-index: 1;}#sk-container-id-3 div.sk-parallel {display: flex;align-items: stretch;justify-content: center;background-color: white;position: relative;}#sk-container-id-3 div.sk-item::before, #sk-container-id-3 div.sk-parallel-item::before {content: \"\";position: absolute;border-left: 1px solid gray;box-sizing: border-box;top: 0;bottom: 0;left: 50%;z-index: -1;}#sk-container-id-3 div.sk-parallel-item {display: flex;flex-direction: column;z-index: 1;position: relative;background-color: white;}#sk-container-id-3 div.sk-parallel-item:first-child::after {align-self: flex-end;width: 50%;}#sk-container-id-3 div.sk-parallel-item:last-child::after {align-self: flex-start;width: 50%;}#sk-container-id-3 div.sk-parallel-item:only-child::after {width: 0;}#sk-container-id-3 div.sk-dashed-wrapped {border: 1px dashed gray;margin: 0 0.4em 0.5em 0.4em;box-sizing: border-box;padding-bottom: 0.4em;background-color: white;}#sk-container-id-3 div.sk-label label {font-family: monospace;font-weight: bold;display: inline-block;line-height: 1.2em;}#sk-container-id-3 div.sk-label-container {text-align: center;}#sk-container-id-3 div.sk-container {/* jupyter's `normalize.less` sets `[hidden] { display: none; }` but bootstrap.min.css set `[hidden] { display: none !important; }` so we also need the `!important` here to be able to override the default hidden behavior on the sphinx rendered scikit-learn.org. See: https://github.com/scikit-learn/scikit-learn/issues/21755 */display: inline-block !important;position: relative;}#sk-container-id-3 div.sk-text-repr-fallback {display: none;}</style><div id=\"sk-container-id-3\" class=\"sk-top-container\"><div class=\"sk-text-repr-fallback\"><pre>OneHotEncoder(handle_unknown=&#x27;ignore&#x27;)</pre><b>In a Jupyter environment, please rerun this cell to show the HTML representation or trust the notebook. <br />On GitHub, the HTML representation is unable to render, please try loading this page with nbviewer.org.</b></div><div class=\"sk-container\" hidden><div class=\"sk-item\"><div class=\"sk-estimator sk-toggleable\"><input class=\"sk-toggleable__control sk-hidden--visually\" id=\"sk-estimator-id-3\" type=\"checkbox\" checked><label for=\"sk-estimator-id-3\" class=\"sk-toggleable__label sk-toggleable__label-arrow\">OneHotEncoder</label><div class=\"sk-toggleable__content\"><pre>OneHotEncoder(handle_unknown=&#x27;ignore&#x27;)</pre></div></div></div></div></div>"
     },
     "execution_count": 149,
     "metadata": {},
     "output_type": "execute_result"
    }
   ],
   "source": [
    "encoder = OneHotEncoder(handle_unknown='ignore')\n",
    "encoder.fit(X[encod_columns])"
   ],
   "metadata": {
    "collapsed": false,
    "ExecuteTime": {
     "end_time": "2024-02-21T03:07:26.491172200Z",
     "start_time": "2024-02-21T03:07:26.213040100Z"
    }
   },
   "execution_count": 149
  },
  {
   "cell_type": "code",
   "outputs": [],
   "source": [
    "X = encoder.transform(X[encod_columns])"
   ],
   "metadata": {
    "collapsed": false,
    "ExecuteTime": {
     "end_time": "2024-02-21T03:07:27.895068700Z",
     "start_time": "2024-02-21T03:07:26.493168900Z"
    }
   },
   "execution_count": 150
  },
  {
   "cell_type": "code",
   "outputs": [],
   "source": [
    "log_reg = LogisticRegression(n_jobs=-1)\n",
    "rfc = RandomForestClassifier(n_jobs=-1)"
   ],
   "metadata": {
    "collapsed": false,
    "ExecuteTime": {
     "end_time": "2024-02-21T03:07:28.013970Z",
     "start_time": "2024-02-21T03:07:27.943038Z"
    }
   },
   "execution_count": 151
  },
  {
   "cell_type": "code",
   "outputs": [],
   "source": [
    "log_reg_cvs = cross_val_score(log_reg, X, y, cv=4, scoring='roc_auc')"
   ],
   "metadata": {
    "collapsed": false,
    "ExecuteTime": {
     "end_time": "2024-02-21T03:07:56.574147700Z",
     "start_time": "2024-02-21T03:07:28.074352400Z"
    }
   },
   "execution_count": 152
  },
  {
   "cell_type": "code",
   "outputs": [
    {
     "data": {
      "text/plain": "0.6853214935570648"
     },
     "execution_count": 153,
     "metadata": {},
     "output_type": "execute_result"
    }
   ],
   "source": [
    "log_reg_cvs.mean()"
   ],
   "metadata": {
    "collapsed": false,
    "ExecuteTime": {
     "end_time": "2024-02-21T03:07:56.669125300Z",
     "start_time": "2024-02-21T03:07:56.665015400Z"
    }
   },
   "execution_count": 153
  },
  {
   "cell_type": "code",
   "outputs": [],
   "source": [
    "rfc_cvs = cross_val_score(rfc, X, y, cv=4, scoring='roc_auc')"
   ],
   "metadata": {
    "collapsed": false,
    "ExecuteTime": {
     "end_time": "2024-02-21T03:37:07.545024200Z",
     "start_time": "2024-02-21T03:07:56.672124400Z"
    }
   },
   "execution_count": 154
  },
  {
   "cell_type": "code",
   "outputs": [
    {
     "data": {
      "text/plain": "0.7503522571539856"
     },
     "execution_count": 155,
     "metadata": {},
     "output_type": "execute_result"
    }
   ],
   "source": [
    "rfc_cvs.mean()"
   ],
   "metadata": {
    "collapsed": false,
    "ExecuteTime": {
     "end_time": "2024-02-21T03:37:07.560024700Z",
     "start_time": "2024-02-21T03:37:07.557025600Z"
    }
   },
   "execution_count": 155
  },
  {
   "cell_type": "code",
   "outputs": [],
   "source": [
    "rfc_model = rfc.fit(X, y)"
   ],
   "metadata": {
    "collapsed": false,
    "ExecuteTime": {
     "end_time": "2024-02-21T03:46:56.216272900Z",
     "start_time": "2024-02-21T03:37:07.561025Z"
    }
   },
   "execution_count": 156
  },
  {
   "cell_type": "code",
   "outputs": [],
   "source": [],
   "metadata": {
    "collapsed": false,
    "ExecuteTime": {
     "end_time": "2024-02-21T03:46:56.224267200Z",
     "start_time": "2024-02-21T03:46:56.221268400Z"
    }
   },
   "execution_count": 156
  },
  {
   "cell_type": "code",
   "outputs": [],
   "source": [
    "test_df = pd.read_csv('test_data', low_memory=False)"
   ],
   "metadata": {
    "collapsed": false,
    "ExecuteTime": {
     "end_time": "2024-02-21T03:46:56.826170900Z",
     "start_time": "2024-02-21T03:46:56.232251900Z"
    }
   },
   "execution_count": 157
  },
  {
   "cell_type": "code",
   "outputs": [],
   "source": [],
   "metadata": {
    "collapsed": false,
    "ExecuteTime": {
     "end_time": "2024-02-21T03:46:56.835462100Z",
     "start_time": "2024-02-21T03:46:56.829168Z"
    }
   },
   "execution_count": 157
  },
  {
   "cell_type": "code",
   "outputs": [],
   "source": [
    "test_df = test_df.copy()\n",
    "test_df['width'] = pd.to_numeric(test_df['device_screen_resolution'].str.split('x').str[0])\n",
    "test_df['height'] = pd.to_numeric(test_df['device_screen_resolution'].str.split('x').str[1])\n",
    "\n",
    "test_df['datetime'] = pd.to_datetime(test_df['visit_date'], format='%Y-%m-%d') + \\\n",
    "                 pd.to_timedelta(test_df['visit_time'])\n",
    "test_df['year'] = test_df['datetime'].dt.year\n",
    "test_df['month'] = test_df['datetime'].dt.month\n",
    "test_df['day'] = test_df['datetime'].dt.day\n",
    "test_df['hour'] = test_df['datetime'].dt.hour\n",
    "test_df['minute'] = test_df['datetime'].dt.minute\n",
    "\n",
    "test_df['geo'] = test_df['geo_country'] + '/' + test_df['geo_city']\n",
    "\n",
    "drop_col = ['session_id', 'client_id', 'device_screen_resolution', 'visit_date', 'visit_time', 'datetime', 'geo_country', 'geo_city']\n",
    "\n",
    "test_df = test_df.drop(drop_col, axis=1)"
   ],
   "metadata": {
    "collapsed": false,
    "ExecuteTime": {
     "end_time": "2024-02-21T03:46:57.970154400Z",
     "start_time": "2024-02-21T03:46:56.843463100Z"
    }
   },
   "execution_count": 158
  },
  {
   "cell_type": "code",
   "outputs": [],
   "source": [
    "x_test = test_df.drop('target', axis=1)\n",
    "y_test = test_df['target']"
   ],
   "metadata": {
    "collapsed": false,
    "ExecuteTime": {
     "end_time": "2024-02-21T03:46:58.016368400Z",
     "start_time": "2024-02-21T03:46:57.974189100Z"
    }
   },
   "execution_count": 159
  },
  {
   "cell_type": "code",
   "outputs": [],
   "source": [
    "x_test[scal_columns] = scaler.transform(x_test[scal_columns])"
   ],
   "metadata": {
    "collapsed": false,
    "ExecuteTime": {
     "end_time": "2024-02-21T03:46:58.070369600Z",
     "start_time": "2024-02-21T03:46:58.011372900Z"
    }
   },
   "execution_count": 160
  },
  {
   "cell_type": "code",
   "outputs": [
    {
     "name": "stderr",
     "output_type": "stream",
     "text": [
      "C:\\Users\\Акти\\AppData\\Local\\Temp\\ipykernel_2704\\1321639055.py:1: FutureWarning: DataFrame.applymap has been deprecated. Use DataFrame.map instead.\n",
      "  x_test[hash_columns] = x_test[hash_columns].applymap(lambda x: hashlib.sha256(x.encode('utf-8')).hexdigest())\n"
     ]
    }
   ],
   "source": [
    "x_test[hash_columns] = x_test[hash_columns].applymap(lambda x: hashlib.sha256(x.encode('utf-8')).hexdigest())"
   ],
   "metadata": {
    "collapsed": false,
    "ExecuteTime": {
     "end_time": "2024-02-21T03:46:58.621632600Z",
     "start_time": "2024-02-21T03:46:58.055342500Z"
    }
   },
   "execution_count": 161
  },
  {
   "cell_type": "code",
   "outputs": [],
   "source": [
    "x_test = encoder.transform(x_test[encod_columns])"
   ],
   "metadata": {
    "collapsed": false,
    "ExecuteTime": {
     "end_time": "2024-02-21T03:46:58.814481900Z",
     "start_time": "2024-02-21T03:46:58.623633400Z"
    }
   },
   "execution_count": 162
  },
  {
   "cell_type": "code",
   "outputs": [
    {
     "data": {
      "text/plain": "<75542x1948 sparse matrix of type '<class 'numpy.float64'>'\n\twith 453178 stored elements in Compressed Sparse Row format>"
     },
     "execution_count": 163,
     "metadata": {},
     "output_type": "execute_result"
    }
   ],
   "source": [
    "x_test"
   ],
   "metadata": {
    "collapsed": false,
    "ExecuteTime": {
     "end_time": "2024-02-21T03:46:58.845729400Z",
     "start_time": "2024-02-21T03:46:58.817482100Z"
    }
   },
   "execution_count": 163
  },
  {
   "cell_type": "code",
   "outputs": [],
   "source": [
    "pred = rfc_model.predict(x_test)"
   ],
   "metadata": {
    "collapsed": false,
    "ExecuteTime": {
     "end_time": "2024-02-21T03:46:59.639860300Z",
     "start_time": "2024-02-21T03:46:58.824695300Z"
    }
   },
   "execution_count": 164
  },
  {
   "cell_type": "code",
   "outputs": [],
   "source": [
    "roc_auc = roc_auc_score(y_test, pred)"
   ],
   "metadata": {
    "collapsed": false,
    "ExecuteTime": {
     "end_time": "2024-02-21T03:46:59.659530100Z",
     "start_time": "2024-02-21T03:46:59.643034100Z"
    }
   },
   "execution_count": 165
  },
  {
   "cell_type": "code",
   "outputs": [
    {
     "data": {
      "text/plain": "0.5933914133106541"
     },
     "execution_count": 166,
     "metadata": {},
     "output_type": "execute_result"
    }
   ],
   "source": [
    "roc_auc"
   ],
   "metadata": {
    "collapsed": false,
    "ExecuteTime": {
     "end_time": "2024-02-21T03:46:59.718175400Z",
     "start_time": "2024-02-21T03:46:59.661534Z"
    }
   },
   "execution_count": 166
  },
  {
   "cell_type": "code",
   "outputs": [],
   "source": [],
   "metadata": {
    "collapsed": false,
    "ExecuteTime": {
     "end_time": "2024-02-21T03:46:59.763217200Z",
     "start_time": "2024-02-21T03:46:59.669162700Z"
    }
   },
   "execution_count": 166
  }
 ],
 "metadata": {
  "colab": {
   "collapsed_sections": [],
   "name": "13.9 Практическая работа.ipynb",
   "provenance": [
    {
     "file_id": "1tbHQ8255v7HprXiSgWMn8PzOjW7vXUa7",
     "timestamp": 1636358961126
    }
   ]
  },
  "kernelspec": {
   "display_name": "Python 3 (ipykernel)",
   "language": "python",
   "name": "python3"
  },
  "language_info": {
   "codemirror_mode": {
    "name": "ipython",
    "version": 3
   },
   "file_extension": ".py",
   "mimetype": "text/x-python",
   "name": "python",
   "nbconvert_exporter": "python",
   "pygments_lexer": "ipython3",
   "version": "3.11.5"
  },
  "toc": {
   "base_numbering": 1,
   "nav_menu": {},
   "number_sections": true,
   "sideBar": true,
   "skip_h1_title": false,
   "title_cell": "Table of Contents",
   "title_sidebar": "Contents",
   "toc_cell": false,
   "toc_position": {},
   "toc_section_display": true,
   "toc_window_display": false
  }
 },
 "nbformat": 4,
 "nbformat_minor": 1
}
