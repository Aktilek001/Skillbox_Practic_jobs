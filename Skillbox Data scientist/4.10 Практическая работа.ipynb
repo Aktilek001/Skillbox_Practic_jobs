{
 "cells": [
  {
   "cell_type": "markdown",
   "id": "a46773f4",
   "metadata": {
    "id": "a46773f4"
   },
   "source": [
    "# Введение в Python. Практическая работа\n",
    "\n",
    "### Цель работы\n",
    "Закрепить пройденный материал:\n",
    "* работа в Jupyter Notebook;\n",
    "* арифметические операции;\n",
    "* работа с функцией print().\n",
    "\n",
    "### Что нужно сделать\n",
    "Выполните предложенные ниже задачи.\n",
    "\n",
    "### Что оценивается\n",
    "Для каждой задачи:\n",
    "* программа выполняет все описанные в задаче действия;\n",
    "* результаты вычислений и применённых операций корректны;\n",
    "* производится информативный вывод на экран с указанием того, что выводится.\n",
    "\n",
    "### Как отправить работу на проверку\n",
    "Выполните предложенные задачи, сохраните изменения, используя опцию Save and Checkpoint из вкладки меню File или кнопку Save and Checkpoint на панели инструментов. Итоговый файл .ipynb (файл Jupyter Notebook) или ссылку на него отправьте на проверку.\n",
    "\n",
    "---"
   ]
  },
  {
   "cell_type": "markdown",
   "id": "edc32e30",
   "metadata": {
    "id": "edc32e30"
   },
   "source": [
    "1. В вашем отделе работает пять человек, их возраст 23, 27, 33, 41 и 62 года. Создайте новую ячейку и напишите в ней выражение, которое рассчитало бы средний возраст сотрудника вашего отдела."
   ]
  },
  {
   "cell_type": "code",
   "execution_count": 1,
   "id": "2eef6ec2-624a-42b5-87c4-f916f7af6e92",
   "metadata": {
    "id": "2eef6ec2-624a-42b5-87c4-f916f7af6e92"
   },
   "outputs": [
    {
     "name": "stdout",
     "output_type": "stream",
     "text": [
      "Средний возраст сотрудников:  37.2\n"
     ]
    }
   ],
   "source": [
    "ages = [23, 27, 33, 41, 62]\n",
    "average_age = sum(ages) / len(ages)\n",
    "print(\"Средний возраст сотрудников: \", average_age)"
   ]
  },
  {
   "cell_type": "markdown",
   "id": "ba0254b5",
   "metadata": {
    "id": "ba0254b5"
   },
   "source": [
    "2. По наследству вам досталась советская кафельная плитка размером 15 х 15 см, 200 штук. Создайте новую ячейку и напишите в ней выражение, которое рассчитывало бы площадь всей плитки в квадратных метрах."
   ]
  },
  {
   "cell_type": "code",
   "execution_count": 2,
   "id": "5ee5caee-8796-4c42-8fcc-d67eff33c4e6",
   "metadata": {
    "id": "5ee5caee-8796-4c42-8fcc-d67eff33c4e6"
   },
   "outputs": [
    {
     "name": "stdout",
     "output_type": "stream",
     "text": [
      "Площадь всей плитки в квадратных метрах:  4.5\n"
     ]
    }
   ],
   "source": [
    "a=15\n",
    "n=200\n",
    "size=(a**2/10000)*200\n",
    "print(\"Площадь всей плитки в квадратных метрах: \", size)"
   ]
  },
  {
   "cell_type": "markdown",
   "id": "56062770",
   "metadata": {
    "id": "56062770"
   },
   "source": [
    "3. Ваш друг решил заработать на День святого Валентина. Он купил 5 упаковок роз по 100 штук в каждой и собрал их в букеты по 7 роз. Создайте новую ячейку и напишите выражение, которое рассчитывает, сколько целых букетов получится у вашего друга."
   ]
  },
  {
   "cell_type": "code",
   "execution_count": 3,
   "id": "dc85a39a-e0f8-4c96-a70b-1825899e18c7",
   "metadata": {
    "id": "dc85a39a-e0f8-4c96-a70b-1825899e18c7"
   },
   "outputs": [
    {
     "name": "stdout",
     "output_type": "stream",
     "text": [
      "Количество целых букетов: 71 штук\n"
     ]
    }
   ],
   "source": [
    "package_number = 5\n",
    "roses_in_package = 100\n",
    "roses_in_bouquet = 7\n",
    "\n",
    "whole_bouquets = package_number * roses_in_package // roses_in_bouquet\n",
    "\n",
    "print(\"Количество целых букетов:\", whole_bouquets, \"штук\")"
   ]
  },
  {
   "cell_type": "markdown",
   "id": "4671d6bb",
   "metadata": {
    "id": "4671d6bb"
   },
   "source": [
    "4. Сколько роз останется у вашего друга после того, как он соберёт последний полный букет? В новой ячейке напишите выражение, которое рассчитывает это число."
   ]
  },
  {
   "cell_type": "code",
   "execution_count": 4,
   "id": "750591a3-ae5d-46fb-8a36-782750e57dd0",
   "metadata": {
    "id": "750591a3-ae5d-46fb-8a36-782750e57dd0"
   },
   "outputs": [
    {
     "name": "stdout",
     "output_type": "stream",
     "text": [
      "Остаток роз после сбора последнего полного букета: 3 штук\n"
     ]
    }
   ],
   "source": [
    "leftover_roses = package_number * roses_in_package % roses_in_bouquet\n",
    "\n",
    "print(\"Остаток роз после сбора последнего полного букета:\", leftover_roses, \"штук\")"
   ]
  },
  {
   "cell_type": "markdown",
   "id": "cd1c1a60",
   "metadata": {
    "id": "cd1c1a60"
   },
   "source": [
    "5. Используя функцию print() в новой ячейке, напишите команду, которая выведет на экран ваше имя."
   ]
  },
  {
   "cell_type": "code",
   "execution_count": 5,
   "id": "4527fc52-71a4-4054-b545-73cd9e043a36",
   "metadata": {
    "id": "4527fc52-71a4-4054-b545-73cd9e043a36"
   },
   "outputs": [
    {
     "name": "stdout",
     "output_type": "stream",
     "text": [
      "Меня зовут - Актилек\n"
     ]
    }
   ],
   "source": [
    "name = \"Актилек\"\n",
    "print(\"Меня зовут\", \"-\", name)"
   ]
  },
  {
   "cell_type": "markdown",
   "id": "3111cf4d",
   "metadata": {
    "id": "3111cf4d"
   },
   "source": [
    "6. Запустите ячейку ниже и посмотрите, что получилось. Добавьте разделитель (аргумент sep), чтобы на выходе получилось, как у Блока в оригинале:"
   ]
  },
  {
   "cell_type": "code",
   "execution_count": 6,
   "id": "43d34899",
   "metadata": {
    "id": "43d34899",
    "vscode": {
     "languageId": "python"
    }
   },
   "outputs": [
    {
     "name": "stdout",
     "output_type": "stream",
     "text": [
      "Ночь улица фонарь аптека\n"
     ]
    }
   ],
   "source": [
    "print('Ночь', 'улица', 'фонарь', 'аптека', sep=' ')"
   ]
  },
  {
   "cell_type": "markdown",
   "id": "978eb37b",
   "metadata": {
    "id": "978eb37b"
   },
   "source": [
    "7. На бензозаправке вы поняли, что проехав 255 км потратили 19 литров бензина. Дополните команду в следующей ячейке таким образом, чтобы к тексту она выводила ещё и значение расхода:"
   ]
  },
  {
   "cell_type": "code",
   "execution_count": 7,
   "id": "23105d1d",
   "metadata": {
    "id": "23105d1d",
    "vscode": {
     "languageId": "python"
    }
   },
   "outputs": [
    {
     "name": "stdout",
     "output_type": "stream",
     "text": [
      "Расход бензина на 100 км = 7.450980392156863\n"
     ]
    }
   ],
   "source": [
    "distanse_km = 255\n",
    "fuel_consumption = 19\n",
    "fuel_per_100km = (fuel_consumption/distanse_km)*100\n",
    "\n",
    "print('Расход бензина на 100 км =', fuel_per_100km)"
   ]
  },
  {
   "cell_type": "code",
   "execution_count": null,
   "id": "cbd30dd0",
   "metadata": {},
   "outputs": [],
   "source": []
  }
 ],
 "metadata": {
  "colab": {
   "provenance": []
  },
  "kernelspec": {
   "display_name": "Python 3 (ipykernel)",
   "language": "python",
   "name": "python3"
  },
  "language_info": {
   "codemirror_mode": {
    "name": "ipython",
    "version": 3
   },
   "file_extension": ".py",
   "mimetype": "text/x-python",
   "name": "python",
   "nbconvert_exporter": "python",
   "pygments_lexer": "ipython3",
   "version": "3.11.5"
  }
 },
 "nbformat": 4,
 "nbformat_minor": 5
}
