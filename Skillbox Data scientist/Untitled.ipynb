{
 "cells": [
  {
   "cell_type": "code",
   "execution_count": 1,
   "id": "79f9e84a",
   "metadata": {},
   "outputs": [],
   "source": [
    "import pandas as pd"
   ]
  },
  {
   "cell_type": "code",
   "execution_count": 1,
   "id": "53bd1d91",
   "metadata": {},
   "outputs": [
    {
     "name": "stdout",
     "output_type": "stream",
     "text": [
      "2020\n",
      "2024\n",
      "2028\n",
      "2032\n",
      "2036\n",
      "2040\n",
      "2044\n",
      "2048\n"
     ]
    }
   ],
   "source": [
    "for year in range(2020, 2051):\n",
    "    if (year % 4 == 0 and year % 100 != 0) or (year % 400 == 0):\n",
    "        print(year)\n"
   ]
  },
  {
   "cell_type": "code",
   "execution_count": null,
   "id": "4cad16d8",
   "metadata": {},
   "outputs": [],
   "source": []
  },
  {
   "cell_type": "code",
   "execution_count": 2,
   "id": "bdb0ca01",
   "metadata": {},
   "outputs": [
    {
     "name": "stdout",
     "output_type": "stream",
     "text": [
      "Конечная сумма долга студента Джонсона:  170222.29347072003 долларов США\n"
     ]
    }
   ],
   "source": [
    "loan = 120000\n",
    "percent_rate = 0.06\n",
    "number_years = 6\n",
    "\n",
    "debt = loan\n",
    "\n",
    "for year in range(number_years):\n",
    "    debt += debt * percent_rate\n",
    "\n",
    "print(\"Конечная сумма долга студента Джонсона: \", debt, \"долларов США\")"
   ]
  },
  {
   "cell_type": "code",
   "execution_count": 3,
   "id": "d04df983",
   "metadata": {},
   "outputs": [
    {
     "name": "stdout",
     "output_type": "stream",
     "text": [
      "Клетка номер:  1 1  зёрен\n",
      "Клетка номер:  2 2  зёрен\n",
      "Клетка номер:  3 4  зёрен\n",
      "Клетка номер:  4 8  зёрен\n",
      "Клетка номер:  5 16  зёрен\n",
      "Клетка номер:  6 32  зёрен\n",
      "Клетка номер:  7 64  зёрен\n",
      "Клетка номер:  8 128  зёрен\n",
      "Клетка номер:  9 256  зёрен\n",
      "Клетка номер:  10 512  зёрен\n",
      "Клетка номер:  11 1024  зёрен\n",
      "Клетка номер:  12 2048  зёрен\n",
      "Клетка номер:  13 4096  зёрен\n",
      "Клетка номер:  14 8192  зёрен\n",
      "Клетка номер:  15 16384  зёрен\n",
      "Клетка номер:  16 32768  зёрен\n",
      "Клетка номер:  17 65536  зёрен\n"
     ]
    }
   ],
   "source": [
    "cage_number = 1\n",
    "grain_count = 1\n",
    "\n",
    "while grain_count <= 100000:\n",
    "    print(\"Клетка номер: \",cage_number, grain_count, \" зёрен\")\n",
    "    \n",
    "    cage_number += 1\n",
    "    grain_count *= 2\n"
   ]
  },
  {
   "cell_type": "code",
   "execution_count": 5,
   "id": "f7d62ffa",
   "metadata": {},
   "outputs": [
    {
     "name": "stdout",
     "output_type": "stream",
     "text": [
      "2\n",
      "6\n",
      "10\n",
      "14\n",
      "18\n",
      "22\n",
      "26\n",
      "30\n"
     ]
    }
   ],
   "source": [
    "for i in range(31):\n",
    "    if i % 2 == 0:\n",
    "        if i % 4 == 0:\n",
    "            pass\n",
    "        else:\n",
    "            print(i)\n"
   ]
  },
  {
   "cell_type": "code",
   "execution_count": 10,
   "id": "8e340c31",
   "metadata": {},
   "outputs": [
    {
     "name": "stdout",
     "output_type": "stream",
     "text": [
      "Введите целое число: 5\n",
      "25\n",
      "Введите целое число: 25\n",
      "625\n",
      "Введите целое число: 95\n",
      "9025\n",
      "Введите целое число: 15\n",
      "15\n",
      "225\n",
      "Введите целое число: 45\n",
      "45\n",
      "2025\n",
      "Введите целое число: 90\n",
      "90\n",
      "8100\n",
      "Введите целое число: 7\n",
      "дурак совсем\n"
     ]
    }
   ],
   "source": [
    "while True:\n",
    "    i = int(input(\"Введите целое число: \"))\n",
    "\n",
    "    if i == 0:\n",
    "        print(\"Программа завершена.\")\n",
    "        break\n",
    "\n",
    "    if i % 7 == 0:\n",
    "        print(\"дурак совсем\")\n",
    "        break\n",
    "\n",
    "    if i % 3 == 0:\n",
    "        print(i)\n",
    "\n",
    "    if i % 5 == 0:\n",
    "        print(i ** 2)\n",
    "\n",
    "        "
   ]
  },
  {
   "cell_type": "code",
   "execution_count": 11,
   "id": "9d362757",
   "metadata": {},
   "outputs": [
    {
     "name": "stdout",
     "output_type": "stream",
     "text": [
      "min = 1 max = 5 avg = 3.0\n"
     ]
    }
   ],
   "source": [
    "user_scores = [3, 3, 5, 5, 1, 1]\n",
    "\n",
    "# Рассчитываем минимальную, максимальную и среднюю оценки\n",
    "min_score = min(user_scores)\n",
    "max_score = max(user_scores)\n",
    "avg_score = sum(user_scores) / len(user_scores)\n",
    "\n",
    "# Выводим результаты\n",
    "print(f\"min = {min_score} max = {max_score} avg = {avg_score:.1f}\")\n"
   ]
  },
  {
   "cell_type": "code",
   "execution_count": 13,
   "id": "fa2eb505",
   "metadata": {},
   "outputs": [
    {
     "name": "stdout",
     "output_type": "stream",
     "text": [
      "min =  1 max =  5 avg =  3.0\n"
     ]
    }
   ],
   "source": [
    "user_scores = [3, 3, 5, 5, 1, 1]\n",
    "\n",
    "\n",
    "min_score = user_scores[0]\n",
    "max_score = user_scores[0]\n",
    "sum_scores = 0\n",
    "\n",
    "for score in user_scores:\n",
    "    if score < min_score:\n",
    "        min_score = score\n",
    "    if score > max_score:\n",
    "        max_score = score\n",
    "    sum_scores += score\n",
    "\n",
    "avg_score = sum_scores / len(user_scores)\n",
    "\n",
    "print(\"min =\", min_score, \"max =\", max_score, \"avg =\", avg_score)\n",
    "\n"
   ]
  },
  {
   "cell_type": "code",
   "execution_count": 14,
   "id": "3574b844",
   "metadata": {},
   "outputs": [
    {
     "name": "stdout",
     "output_type": "stream",
     "text": [
      "1050\n"
     ]
    }
   ],
   "source": [
    "transactions = [-100, -200, -100, 1000, 50, -90]\n",
    "\n",
    "\n",
    "total_credit = 0\n",
    "\n",
    "for transaction in transactions:\n",
    "    if transaction > 0:\n",
    "        total_credit += transaction\n",
    "\n",
    "print(total_credit)\n"
   ]
  },
  {
   "cell_type": "code",
   "execution_count": 15,
   "id": "a8e0627d",
   "metadata": {},
   "outputs": [
    {
     "name": "stdout",
     "output_type": "stream",
     "text": [
      "5\n"
     ]
    }
   ],
   "source": [
    "week_data = [1, 20, 12, 35, 0, 7, 8]\n",
    "\n",
    "# Инициализируем переменные для минимального количества обращений и порядкового номера дня\n",
    "min_calls = float('inf')\n",
    "min_day = -1\n",
    "\n",
    "# Используем цикл для нахождения дня с минимальным количеством обращений\n",
    "for day, calls in enumerate(week_data, start=1):\n",
    "    if calls < min_calls:\n",
    "        min_calls = calls\n",
    "        min_day = day\n",
    "\n",
    "# Выводим результат\n",
    "print(min_day)"
   ]
  },
  {
   "cell_type": "code",
   "execution_count": 19,
   "id": "4b038382",
   "metadata": {},
   "outputs": [
    {
     "name": "stdout",
     "output_type": "stream",
     "text": [
      "7\n"
     ]
    }
   ],
   "source": [
    "print(week_data[5])"
   ]
  },
  {
   "cell_type": "code",
   "execution_count": 27,
   "id": "f1593753",
   "metadata": {},
   "outputs": [
    {
     "name": "stdout",
     "output_type": "stream",
     "text": [
      "0\n",
      "5\n"
     ]
    }
   ],
   "source": [
    "week_data = [1, 20, 12, 35, 0, 7, 8]\n",
    "\n",
    "# Инициализируем переменные для минимального количества обращений и порядкового номера дня\n",
    "min_calls = float('inf')\n",
    "min_day = -1\n",
    "\n",
    "for day in range(1, len(week_data) + 1):\n",
    "    calls = week_data[day - 1] \n",
    "    if calls < min_calls:\n",
    "        min_calls = calls\n",
    "        min_day = day\n",
    "\n",
    "print(min_day)"
   ]
  },
  {
   "cell_type": "code",
   "execution_count": 31,
   "id": "05d2637d",
   "metadata": {},
   "outputs": [
    {
     "name": "stdout",
     "output_type": "stream",
     "text": [
      "[2, 3, 5, 7]\n"
     ]
    }
   ],
   "source": [
    "week_data = [1, 20, 12, 35, 0, 7, 8]\n",
    "\n",
    "\n",
    "even_days = []\n",
    "\n",
    "for i in range(len(week_data)):\n",
    "    if week_data[i] % 2 == 0:\n",
    "        even_days.append(i + 1)\n",
    "\n",
    "print(even_days)\n"
   ]
  },
  {
   "cell_type": "code",
   "execution_count": 34,
   "id": "245699cf",
   "metadata": {},
   "outputs": [
    {
     "name": "stdout",
     "output_type": "stream",
     "text": [
      "False 4\n"
     ]
    }
   ],
   "source": [
    "numbers_list = [0, 20, 30, 34, 45, 56, 67, 78, 90, 100, 110]\n",
    "key = 89\n",
    "\n",
    "numbers_list.sort()\n",
    "\n",
    "left, right = 0, len(numbers_list) - 1\n",
    "desired = 0\n",
    "\n",
    "while left <= right:\n",
    "    middle = (left + right) // 2\n",
    "    desired += 1\n",
    "\n",
    "    if numbers_list[middle] == key:\n",
    "        print(True, desired)\n",
    "        break\n",
    "    elif numbers_list[middle] < key:\n",
    "        left = middle + 1\n",
    "    else:\n",
    "        right = middle - 1\n",
    "else:\n",
    "    print(False, desired)\n"
   ]
  },
  {
   "cell_type": "code",
   "execution_count": 41,
   "id": "40bc81b1",
   "metadata": {},
   "outputs": [
    {
     "name": "stdout",
     "output_type": "stream",
     "text": [
      "[70, 120, 200, 100, 90]\n"
     ]
    }
   ],
   "source": [
    "transactions1 = [100, 200, 90, 70, 120]\n",
    "\n",
    "# Сортируем список сортировкой пузырьком\n",
    "n = len(transactions1)\n",
    "for i in range(n):\n",
    "    for j in range(0, n-i-1):\n",
    "        if transactions1[j] > transactions1[j+1]:\n",
    "            transactions1[j], transactions1[j+1] = transactions1[j+1], transactions1[j]\n",
    "\n",
    "# Перемещаем две максимальные транзакции в конец списка\n",
    "transactions1[-2:], transactions1[-4:-2] = transactions1[-4:-2][::-1], transactions1[-2:]\n",
    "\n",
    "print(transactions1)"
   ]
  },
  {
   "cell_type": "code",
   "execution_count": 42,
   "id": "6c7dcc98",
   "metadata": {},
   "outputs": [
    {
     "name": "stdout",
     "output_type": "stream",
     "text": [
      "[70, 90, 100, 120, 200]\n"
     ]
    }
   ],
   "source": [
    "transactions1 = [100, 200, 90, 70, 120]\n",
    "\n",
    "# Сортируем список сортировкой пузырьком\n",
    "n = len(transactions1)\n",
    "for i in range(n):\n",
    "    for j in range(0, n-i-1):\n",
    "        if transactions1[j] > transactions1[j+1]:\n",
    "            transactions1[j], transactions1[j+1] = transactions1[j+1], transactions1[j]\n",
    "\n",
    "# Находим индексы двух максимальных элементов\n",
    "max_index1 = transactions1.index(max(transactions1))\n",
    "max_index2 = transactions1.index(max(transactions1[:max_index1] + transactions1[max_index1+1:]))\n",
    "\n",
    "# Перемещаем две максимальные транзакции в конец списка\n",
    "transactions1[max_index2], transactions1[-2] = transactions1[-2], transactions1[max_index2]\n",
    "transactions1[max_index1], transactions1[-1] = transactions1[-1], transactions1[max_index1]\n",
    "\n",
    "print(transactions1)"
   ]
  },
  {
   "cell_type": "code",
   "execution_count": 46,
   "id": "32f24df7",
   "metadata": {},
   "outputs": [
    {
     "name": "stdout",
     "output_type": "stream",
     "text": [
      "[10, 50, 70, 98, 100, 299, 1000, 1898, 1989, 2001, 2500]\n"
     ]
    }
   ],
   "source": [
    "transactions = [100, 98, 1000, 2500, 299, 1898, 1989, 2001, 50, 10, 70]\n",
    "\n",
    "for i in range(len(transactions)-1):\n",
    "    for j in range(len(transactions)-i-1): \n",
    "        if transactions[j] > transactions[j+1]:  \n",
    "            temp = transactions[j]\n",
    "            transactions[j] = transactions[j+1]\n",
    "            transactions[j+1] = temp\n",
    "print(transactions)"
   ]
  },
  {
   "cell_type": "code",
   "execution_count": 51,
   "id": "ab6c4602",
   "metadata": {},
   "outputs": [
    {
     "name": "stdout",
     "output_type": "stream",
     "text": [
      "0 : 2\n",
      "1 : 5\n",
      "2 : 1\n",
      "3 : 2\n",
      "4 : 1\n",
      "5 : 4\n",
      "6 : 0\n",
      "7 : 3\n",
      "8 : 0\n",
      "9 : 0\n"
     ]
    }
   ],
   "source": [
    "list1 = [2, 5, 7, 1, 0, 1, 5, 3, 1, 7, 5, 4, 1, 3, 0, 5, 7, 1]\n",
    "\n",
    "rate = [0] * 10\n",
    "\n",
    "for i in list1:\n",
    "    rate[i] += 1\n",
    "\n",
    "for i in range(10):\n",
    "    print(i, \":\", rate[i])"
   ]
  },
  {
   "cell_type": "code",
   "execution_count": 61,
   "id": "c71a13d9",
   "metadata": {},
   "outputs": [
    {
     "name": "stdout",
     "output_type": "stream",
     "text": [
      "Единственное число, встречающееся один раз: 42\n"
     ]
    }
   ],
   "source": [
    "numbers_list = [0, 1, 3, 4, 7, 98, 3, 1, 98, 7, 16, 16, 4, 0, 42]\n",
    "\n",
    "for i in range(len(numbers_list)):\n",
    "    number = numbers_list[i]\n",
    "    pair = False\n",
    "\n",
    "    for j in range(len(numbers_list)):\n",
    "        if i != j and numbers_list[j] == number:\n",
    "            pair = True\n",
    "            break\n",
    "\n",
    "    if not pair:\n",
    "        print(\"Единственное число, встречающееся один раз:\", number)\n",
    "        break"
   ]
  },
  {
   "cell_type": "code",
   "execution_count": 60,
   "id": "2e6033ba",
   "metadata": {},
   "outputs": [
    {
     "name": "stdout",
     "output_type": "stream",
     "text": [
      "Единственное число, встречающееся один раз: 42\n"
     ]
    }
   ],
   "source": [
    "freqs = [0] * 100\n",
    "\n",
    "for number in numbers_list:\n",
    "    freqs[number] += 1\n",
    "\n",
    "for i in range(len(freqs)):\n",
    "    if freqs[i] == 1:\n",
    "        print(\"Единственное число, встречающееся один раз:\", i)\n",
    "        break\n"
   ]
  },
  {
   "cell_type": "code",
   "execution_count": 59,
   "id": "95b75999",
   "metadata": {},
   "outputs": [
    {
     "name": "stdout",
     "output_type": "stream",
     "text": [
      "Единственное число, встречающееся один раз: 42\n"
     ]
    }
   ],
   "source": [
    "j = 0\n",
    "\n",
    "for number in numbers_list:\n",
    "    j ^= number\n",
    "\n",
    "print(\"Единственное число, встречающееся один раз:\", j)"
   ]
  },
  {
   "cell_type": "code",
   "execution_count": 62,
   "id": "4f73d01f",
   "metadata": {},
   "outputs": [
    {
     "name": "stdout",
     "output_type": "stream",
     "text": [
      "[1, 3, 5, 6, 8, 18, 19, 20, 42, 50, 74, 80, 87, 91, None]\n"
     ]
    }
   ],
   "source": [
    "file1 = [1, 5, 6, 18, 42, 74, 80, 87, 91, 99, 100]\n",
    "file2 = [2, 3, 5, 7, 8, 18, 19, 20, 43, 50, 81, 93, 101]    \n",
    "    \n",
    "result = []\n",
    "iterator1, iterator2 = iter(file1), iter(file2)\n",
    "element1, element2 = next(iterator1, None), next(iterator2, None)\n",
    "\n",
    "while element1 is not None and element2 is not None:\n",
    "    result.append(element1) if element1 <= element2 else result.append(element2)\n",
    "    element1, element2 = next(iterator1, None) if element1 <= element2 else element1, next(iterator2, None)\n",
    "\n",
    "result.extend([element1, element2] if element1 is not None else [element2] if element2 is not None else [])\n",
    "\n",
    "print(result)"
   ]
  },
  {
   "cell_type": "code",
   "execution_count": 64,
   "id": "7ed710a7",
   "metadata": {},
   "outputs": [
    {
     "name": "stdout",
     "output_type": "stream",
     "text": [
      "[1, 2, 3, 5, 5, 6, 7, 8, 18, 18, 19, 20, 42, 43, 50, 74, 80, 81, 87, 91, 93, 99, 100, 101]\n"
     ]
    }
   ],
   "source": [
    "file1 = [1, 5, 6, 18, 42, 74, 80, 87, 91, 99, 100]\n",
    "file2 = [2, 3, 5, 7, 8, 18, 19, 20, 43, 50, 81, 93, 101]    \n",
    "\n",
    "result = []\n",
    "iterator1, iterator2 = iter(file1), iter(file2)\n",
    "element1, element2 = next(iterator1, None), next(iterator2, None)\n",
    "\n",
    "while element1 is not None and element2 is not None:\n",
    "    if element1 <= element2:\n",
    "        result.append(element1)\n",
    "        element1 = next(iterator1, None)\n",
    "    else:\n",
    "        result.append(element2)\n",
    "        element2 = next(iterator2, None)\n",
    "\n",
    "result.extend([element1] if element1 is not None else [element2] if element2 is not None else [])\n",
    "\n",
    "print(result)"
   ]
  },
  {
   "cell_type": "code",
   "execution_count": 68,
   "id": "3b162823",
   "metadata": {},
   "outputs": [
    {
     "name": "stdout",
     "output_type": "stream",
     "text": [
      "[7, 9, 5]\n"
     ]
    }
   ],
   "source": [
    "numbers_list = [2, 12, 7, 8, 0]\n",
    "result = []\n",
    "window_size = 3\n",
    "\n",
    "for i in range(len(numbers_list) - window_size + 1):\n",
    "    window_values = numbers_list[i:i+window_size]\n",
    "    average = sum(window_values) // window_size\n",
    "    result.append(average)\n",
    "\n",
    "print(result)"
   ]
  },
  {
   "cell_type": "code",
   "execution_count": 73,
   "id": "b5102430",
   "metadata": {},
   "outputs": [
    {
     "name": "stdout",
     "output_type": "stream",
     "text": [
      "было: 730, стало: 8.24 USD\n",
      "было: 730, стало: 59.49 CNY\n",
      "было: 730, стало: 7.57 EUR\n"
     ]
    }
   ],
   "source": [
    "def convert_to_usd(amount):\n",
    "    return amount / 88.59 \n",
    "\n",
    "def convert_to_cny(amount):\n",
    "    return amount / 12.27\n",
    "\n",
    "def convert_to_eur(amount):\n",
    "    return amount / 96.38\n",
    "\n",
    "def rub_to_currency(rub_amount, currency=\"USD\"):\n",
    "    if currency == \"USD\":\n",
    "        converted_amount = convert_to_usd(rub_amount)\n",
    "        print(f\"было: {rub_amount}, стало: {converted_amount:.2f} USD\")\n",
    "    elif currency == \"CNY\":\n",
    "        converted_amount = convert_to_cny(rub_amount)\n",
    "        print(f\"было: {rub_amount}, стало: {converted_amount:.2f} CNY\")\n",
    "    elif currency == \"EUR\":\n",
    "        converted_amount = convert_to_eur(rub_amount)\n",
    "        print(f\"было: {rub_amount}, стало: {converted_amount:.2f} EUR\")\n",
    "    else:\n",
    "        print(\"Расчёт не может быть совершён\")\n",
    "\n",
    "# Пример использования:\n",
    "rub_to_currency(730)  # По умолчанию в USD\n",
    "rub_to_currency(730, \"CNY\")\n",
    "rub_to_currency(730, \"EUR\")  # Невалидная валюта"
   ]
  },
  {
   "cell_type": "code",
   "execution_count": 81,
   "id": "0d326106",
   "metadata": {},
   "outputs": [
    {
     "name": "stdout",
     "output_type": "stream",
     "text": [
      "было: 7200, стало: 101.4227355965629 USD\n",
      "Конвертация в USD\n",
      "было: 7200, стало: 101.4227355965629 USD\n",
      "было: 7200, стало: 653.1624172418651 CNY\n",
      "Расчёт не может быть совершён\n"
     ]
    }
   ],
   "source": [
    "def convert_to_usd(amount):\n",
    "    return amount / 70.99\n",
    "\n",
    "def convert_to_cny(amount):\n",
    "    return convert_to_usd(amount) * 6.44\n",
    "\n",
    "def rub_to_currency(rub_amount, currency=\"USD\"):\n",
    "    if currency == \"USD\":\n",
    "        converted_amount = convert_to_usd(rub_amount)\n",
    "        print(f\"было: {rub_amount}, стало: {converted_amount} USD\")\n",
    "    elif currency == \"CNY\":\n",
    "        usd_amount = convert_to_usd(rub_amount)\n",
    "        converted_amount = convert_to_cny(rub_amount)\n",
    "        print(f\"\"\"Конвертация в USD\n",
    "было: {rub_amount}, стало: {usd_amount} USD\n",
    "было: {rub_amount}, стало: {converted_amount} CNY\"\"\")\n",
    "    else:\n",
    "        print(\"Расчёт не может быть совершён\")\n",
    "\n",
    "# Пример использования:\n",
    "rub_to_currency(7200)  # По умолчанию в USD\n",
    "rub_to_currency(7200, \"CNY\")\n",
    "rub_to_currency(7200, \"EUR\")  # Невалидная валюта\n"
   ]
  },
  {
   "cell_type": "code",
   "execution_count": 85,
   "id": "a6fec332",
   "metadata": {},
   "outputs": [
    {
     "name": "stdout",
     "output_type": "stream",
     "text": [
      "name=Аня,phone=8800234 ,city=москва --- False\n",
      "name=КОЛЯ,phone=8800900871 ,city=МОСКВА --- False\n",
      "name=Валентина,phone=7950900871 ,city=волгоград --- False\n",
      "name=,phone=7999901871,city=москва --- False\n",
      "name=Иван,phone=7999901871,city=москва --- False\n",
      "name=Инга,phone=,city=москва --- False\n"
     ]
    }
   ],
   "source": [
    "# функция проверки валидности номера\n",
    "def check_phone(phone):\n",
    "    return phone.startswith(\"8\") and len(phone) == 11 or phone.startswith(\"7\") and len(phone) == 11\n",
    "\n",
    "# функция проверки города\n",
    "def check_city(city):\n",
    "    return city.lower() == \"москва\"\n",
    "\n",
    "# функция проверки одной анкеты\n",
    "def check_application(application):\n",
    "    cleaned_application = application.replace(\" \", \"\")\n",
    "    \n",
    "    params = cleaned_application.split(\",\")\n",
    "    \n",
    "    name = params[0].split(\"=\")[1].strip()\n",
    "    phone = params[1].split(\"=\")[1].strip()\n",
    "    city = params[2].split(\"=\")[1].strip()\n",
    "\n",
    "    phone_valid = check_phone(phone)\n",
    "    city_valid = check_city(city)\n",
    "\n",
    "    print(f\"{application} --- {phone_valid and city_valid}\")\n",
    "\n",
    "# функция проверки списка анкет\n",
    "def find_valid_applications(applications):\n",
    "    for application in applications:\n",
    "        check_application(application)\n",
    "\n",
    "# Пример списка анкет\n",
    "applications = [\n",
    "    'name=Аня,phone=8800234 ,city=москва',\n",
    "    'name=КОЛЯ,phone=8800900871 ,city=МОСКВА',\n",
    "    'name=Валентина,phone=7950900871 ,city=волгоград',\n",
    "    'name=,phone=7999901871,city=москва',\n",
    "    'name=Иван,phone=7999901871,city=москва',\n",
    "    'name=Инга,phone=,city=москва'\n",
    "]\n",
    "\n",
    "# Проверка списка анкет\n",
    "find_valid_applications(applications)\n"
   ]
  },
  {
   "cell_type": "code",
   "execution_count": 83,
   "id": "0c7e6a67",
   "metadata": {},
   "outputs": [
    {
     "name": "stdout",
     "output_type": "stream",
     "text": [
      "Анкета 'name=Аня, phone=8800234 , city=москва' не подходит для обзвона.\n",
      "Анкета 'name=Иван, phone=79991234567 , city=Москва' не подходит для обзвона.\n",
      "Анкета 'name=Мария, phone=8 900 123 45 67, city=Москва' не подходит для обзвона.\n",
      "Анкета 'name=Алексей, city=Москва' не подходит для обзвона.\n",
      "Анкета 'name=Екатерина, phone=1234567890, city=Москва' не подходит для обзвона.\n"
     ]
    }
   ],
   "source": [
    "# функция проверки одной анкеты\n",
    "def check_application(application):\n",
    "    # Заменяем лишние пробелы в анкете\n",
    "    cleaned_application = application.replace(\" \", \"\")\n",
    "    \n",
    "    # Разделяем анкету на параметры\n",
    "    params = cleaned_application.split(\",\")\n",
    "    \n",
    "    # Получаем значения параметров\n",
    "    name = params[0].split(\"=\")[1].strip()\n",
    "    phone = params[1].split(\"=\")[1].strip()\n",
    "    city = params[2].split(\"=\")[1].strip()\n",
    "\n",
    "    # Проверяем валидность номера телефона и города\n",
    "    phone_valid = check_phone(phone)\n",
    "    city_valid = check_city(city)\n",
    "\n",
    "    # Выводим результат\n",
    "    print(f\"{application} --- {phone_valid and city_valid}\")\n",
    "\n",
    "# функция проверки списка анкет\n",
    "def find_valid_applications(applications):\n",
    "    for application in applications:\n",
    "        check_application(application)\n",
    "\n",
    "# Пример списка анкет\n",
    "applications = [\n",
    "    'name=Аня,phone=8800234 ,city=москва',\n",
    "    'name=КОЛЯ,phone=8800900871 ,city=МОСКВА',\n",
    "    'name=Валентина,phone=7950900871 ,city=волгоград',\n",
    "    'name=,phone=7999901871,city=москва',\n",
    "    'name=Иван,phone=7999901871,city=москва',\n",
    "    'name=Инга,phone=,city=москва'\n",
    "]\n",
    "\n",
    "# Проверка списка анкет\n",
    "find_valid_applications(applications)\n"
   ]
  },
  {
   "cell_type": "code",
   "execution_count": 86,
   "id": "f19b24fc",
   "metadata": {},
   "outputs": [],
   "source": [
    "def is_palindrome(text):\n",
    "    # Удаляем знаки препинания и приводим к нижнему регистру\n",
    "    cleaned_text = ''.join(char.lower() for char in text if char.isalnum())\n",
    "\n",
    "    # Если очищенный текст имеет длину меньше или равную 1, он считается палиндромом\n",
    "    if len(cleaned_text) <= 1:\n",
    "        return True\n",
    "    # Если первый и последний символы совпадают, вызываем функцию для подстроки без этих символов\n",
    "    elif cleaned_text[0] == cleaned_text[-1]:\n",
    "        return is_palindrome(cleaned_text[1:-1])\n",
    "    # Если первый и последний символы не совпадают, строка не является палиндромом\n",
    "    else:\n",
    "        return False\n"
   ]
  },
  {
   "cell_type": "code",
   "execution_count": 87,
   "id": "b2adbd9b",
   "metadata": {},
   "outputs": [
    {
     "data": {
      "text/plain": [
       "False"
      ]
     },
     "execution_count": 87,
     "metadata": {},
     "output_type": "execute_result"
    }
   ],
   "source": [
    "is_palindrome('asdfttyfdsa')"
   ]
  },
  {
   "cell_type": "code",
   "execution_count": 89,
   "id": "b8f19a69",
   "metadata": {},
   "outputs": [
    {
     "name": "stdout",
     "output_type": "stream",
     "text": [
      "11\n"
     ]
    }
   ],
   "source": [
    "def count_digits_str(n):\n",
    "    return len(str(n))\n",
    "\n",
    "# Пример использования\n",
    "n = 12345678899\n",
    "result = count_digits_str(n)\n",
    "print(result)\n"
   ]
  },
  {
   "cell_type": "code",
   "execution_count": 90,
   "id": "ce353991",
   "metadata": {},
   "outputs": [
    {
     "name": "stdout",
     "output_type": "stream",
     "text": [
      "7\n"
     ]
    }
   ],
   "source": [
    "def count_digits_no_str(n):\n",
    "    count = 0\n",
    "\n",
    "    while n != 0:\n",
    "        n //= 10\n",
    "        count += 1\n",
    "\n",
    "    return count\n",
    "\n",
    "# Пример использования\n",
    "n = 1234567\n",
    "result = count_digits_no_str(n)\n",
    "print(result)\n"
   ]
  },
  {
   "cell_type": "code",
   "execution_count": 107,
   "id": "7423a827",
   "metadata": {},
   "outputs": [
    {
     "name": "stdout",
     "output_type": "stream",
     "text": [
      "Количество сдавших: 5, Количество проваливших: 4, Итог по классу: Удовлетворительно\n",
      "Количество сдавших: 6, Количество проваливших: 3, Итог по классу: Удовлетворительно\n",
      "Количество сдавших: 7, Количество проваливших: 1, Итог по классу: Удовлетворительно\n",
      "Количество сдавших: 2, Количество проваливших: 3, Итог по классу: Удовлетворительно\n",
      "Количество сдавших: 7, Количество проваливших: 0, Итог по классу: Плохо\n",
      "Количество сдавших: 4, Количество проваливших: 2, Итог по классу: Удовлетворительно\n",
      "Количество сдавших: 6, Количество проваливших: 0, Итог по классу: Отлично\n",
      "Количество сдавших: 3, Количество проваливших: 3, Итог по классу: Удовлетворительно\n"
     ]
    }
   ],
   "source": [
    "def count_passed_failed(scores):\n",
    "    passed_counts = []\n",
    "    failed_counts = []\n",
    "\n",
    "    for class_scores in scores:\n",
    "        passed = sum(1 for score in class_scores if score >= 3)\n",
    "        failed = len(class_scores) - passed\n",
    "        passed_counts.append(passed)\n",
    "        failed_counts.append(failed)\n",
    "\n",
    "    return passed_counts, failed_counts\n",
    "\n",
    "def count_excellent(scores):\n",
    "    excellent_counts = []\n",
    "\n",
    "    for class_scores in scores:\n",
    "        excellent = sum(1 for score in class_scores if score in {4, 5})\n",
    "        excellent_counts.append(excellent)\n",
    "\n",
    "    return excellent_counts\n",
    "\n",
    "def calculate_success_rate(excellent_counts, total_counts, threshold_excellent, threshold_poor):\n",
    "    success_rates = []\n",
    "    \n",
    "    for excellent, total in zip(excellent_counts, total_counts):\n",
    "        success_rate = excellent / total\n",
    "\n",
    "        if success_rate > threshold_excellent:\n",
    "            success_rates.append(\"Отлично\")\n",
    "        elif success_rate < threshold_poor:\n",
    "            success_rates.append(\"Плохо\")\n",
    "        else:\n",
    "            success_rates.append(\"Удовлетворительно\")\n",
    "\n",
    "    return success_rates\n",
    "\n",
    "def get_info(scores, threshold_excellent=0.95, threshold_poor=0.3):\n",
    "    excellent_counts = count_excellent(scores)\n",
    "    passed_counts, failed_counts = count_passed_failed(scores)\n",
    "    total_counts = [len(class_scores) for class_scores in scores]\n",
    "    success_rates = calculate_success_rate(excellent_counts, total_counts, threshold_excellent, threshold_poor)\n",
    "    \n",
    "    for passed, failed, success_rate in zip(passed_counts, failed_counts, success_rates):\n",
    "        print(f\"Количество сдавших: {passed}, Количество проваливших: {failed}, Итог по классу: {success_rate}\")\n",
    "\n",
    "# Пример использования\n",
    "scores = [\n",
    "    [2, 4, 4, 5, 2, 3, 3, 1, 1],\n",
    "    [3, 4, 2, 3, 3, 1, 5, 2, 4],\n",
    "    [5, 3, 3, 4, 3, 2, 3, 5],\n",
    "    [4, 2, 2, 4, 2],\n",
    "    [4, 3, 3, 3, 3, 3, 3],\n",
    "    [2, 1, 5, 3, 5, 5],\n",
    "    [4, 4, 4, 4, 5, 5],\n",
    "    [4, 1, 3, 4, 1, 1]\n",
    "]\n",
    "\n",
    "get_info(scores)\n"
   ]
  },
  {
   "cell_type": "code",
   "execution_count": 108,
   "id": "bcb43907",
   "metadata": {},
   "outputs": [
    {
     "data": {
      "text/plain": [
       "811"
      ]
     },
     "execution_count": 108,
     "metadata": {},
     "output_type": "execute_result"
    }
   ],
   "source": [
    "1+2*4*5+7*10*11"
   ]
  },
  {
   "cell_type": "code",
   "execution_count": 109,
   "id": "9c0bf46e",
   "metadata": {},
   "outputs": [
    {
     "data": {
      "text/plain": [
       "40"
      ]
     },
     "execution_count": 109,
     "metadata": {},
     "output_type": "execute_result"
    }
   ],
   "source": [
    "2*4*5"
   ]
  },
  {
   "cell_type": "code",
   "execution_count": 110,
   "id": "19f876eb",
   "metadata": {},
   "outputs": [
    {
     "data": {
      "text/plain": [
       "770"
      ]
     },
     "execution_count": 110,
     "metadata": {},
     "output_type": "execute_result"
    }
   ],
   "source": [
    "7*10*11"
   ]
  },
  {
   "cell_type": "code",
   "execution_count": 111,
   "id": "134b11c9",
   "metadata": {},
   "outputs": [
    {
     "data": {
      "text/plain": [
       "811"
      ]
     },
     "execution_count": 111,
     "metadata": {},
     "output_type": "execute_result"
    }
   ],
   "source": [
    "1+40+770\n"
   ]
  },
  {
   "cell_type": "code",
   "execution_count": 155,
   "id": "5e50bce5",
   "metadata": {},
   "outputs": [],
   "source": [
    "def add(a, b):\n",
    "    return a + b\n",
    "\n",
    "def multiply(a, b):\n",
    "    return a * b\n",
    "\n",
    "def evaluate_expression(expression):\n",
    "    numbers = []\n",
    "    operators = []\n",
    "    current_number = ''\n",
    "\n",
    "    for char in expression:\n",
    "        if char.isdigit():\n",
    "            current_number += char\n",
    "        else:\n",
    "            if current_number:\n",
    "                numbers.append(int(current_number))\n",
    "                current_number = ''\n",
    "\n",
    "            if char in ('+', '*'):\n",
    "                operators.append(char)\n",
    "\n",
    "    if current_number:\n",
    "        numbers.append(int(current_number))\n",
    "\n",
    "    i = 0\n",
    "    while i < len(operators):\n",
    "        if operators[i] == '*':\n",
    "            result = multiply(numbers[i], numbers[i + 1])\n",
    "            numbers[i:i + 2] = [result]\n",
    "            operators.pop(i)\n",
    "        else:\n",
    "            i += 1\n",
    "\n",
    "    result = numbers[0]\n",
    "    for i in range(1, len(numbers)):\n",
    "        result = add(result, numbers[i])\n",
    "\n",
    "    return result"
   ]
  },
  {
   "cell_type": "code",
   "execution_count": 156,
   "id": "df06ef50",
   "metadata": {},
   "outputs": [
    {
     "name": "stdout",
     "output_type": "stream",
     "text": [
      "811\n",
      "16\n",
      "20\n"
     ]
    }
   ],
   "source": [
    "expression_1 = '1+2*4*5+7*10*11'\n",
    "expression_2 = '1+2+3+10'\n",
    "expression_3 = '1*2*10'\n",
    "\n",
    "result_1 = evaluate_expression(expression_1)\n",
    "print(result_1)\n",
    "\n",
    "result_2 = evaluate_expression(expression_2)\n",
    "print(result_2)\n",
    "\n",
    "result_3 = evaluate_expression(expression_3)\n",
    "print(result_3)"
   ]
  },
  {
   "cell_type": "code",
   "execution_count": 157,
   "id": "51640504",
   "metadata": {},
   "outputs": [],
   "source": [
    "def add(a, b):\n",
    "    return a + b\n",
    "\n",
    "def multiply(a, b):\n",
    "    return a * b\n",
    "\n",
    "def extract_expression(expression):\n",
    "    numbers = []\n",
    "    operators = []\n",
    "    current_number = ''\n",
    "\n",
    "    for char in expression:\n",
    "        if char.isdigit():\n",
    "            current_number += char\n",
    "        else:\n",
    "            if current_number:\n",
    "                numbers.append(int(current_number))\n",
    "                current_number = ''\n",
    "\n",
    "            if char in ('+', '*'):\n",
    "                operators.append(char)\n",
    "\n",
    "    if current_number:\n",
    "        numbers.append(int(current_number))\n",
    "\n",
    "    i = 0\n",
    "    while i < len(operators):\n",
    "        if operators[i] == '*':\n",
    "            result = multiply(numbers[i], numbers[i + 1])\n",
    "            numbers[i:i + 2] = [result]\n",
    "            operators.pop(i)\n",
    "        else:\n",
    "            i += 1\n",
    "\n",
    "    result = numbers[0]\n",
    "    for i in range(1, len(numbers)):\n",
    "        result = add(result, numbers[i])\n",
    "\n",
    "    return result"
   ]
  },
  {
   "cell_type": "code",
   "execution_count": 10,
   "id": "2f6fc74a",
   "metadata": {},
   "outputs": [],
   "source": [
    "power_2_numbers = list(2**x for x in range(1, 201))"
   ]
  },
  {
   "cell_type": "code",
   "execution_count": 161,
   "id": "b2bc89a5",
   "metadata": {},
   "outputs": [
    {
     "name": "stdout",
     "output_type": "stream",
     "text": [
      "[2, 4, 8, 16, 32, 64, 128, 256, 512, 1024, 2048, 4096, 8192, 16384, 32768, 65536, 131072, 262144, 524288, 1048576, 2097152, 4194304, 8388608, 16777216, 33554432, 67108864, 134217728, 268435456, 536870912, 1073741824, 2147483648, 4294967296, 8589934592, 17179869184, 34359738368, 68719476736, 137438953472, 274877906944, 549755813888, 1099511627776, 2199023255552, 4398046511104, 8796093022208, 17592186044416, 35184372088832, 70368744177664, 140737488355328, 281474976710656, 562949953421312, 1125899906842624, 2251799813685248, 4503599627370496, 9007199254740992, 18014398509481984, 36028797018963968, 72057594037927936, 144115188075855872, 288230376151711744, 576460752303423488, 1152921504606846976, 2305843009213693952, 4611686018427387904, 9223372036854775808, 18446744073709551616, 36893488147419103232, 73786976294838206464, 147573952589676412928, 295147905179352825856, 590295810358705651712, 1180591620717411303424, 2361183241434822606848, 4722366482869645213696, 9444732965739290427392, 18889465931478580854784, 37778931862957161709568, 75557863725914323419136, 151115727451828646838272, 302231454903657293676544, 604462909807314587353088, 1208925819614629174706176, 2417851639229258349412352, 4835703278458516698824704, 9671406556917033397649408, 19342813113834066795298816, 38685626227668133590597632, 77371252455336267181195264, 154742504910672534362390528, 309485009821345068724781056, 618970019642690137449562112, 1237940039285380274899124224, 2475880078570760549798248448, 4951760157141521099596496896, 9903520314283042199192993792, 19807040628566084398385987584, 39614081257132168796771975168, 79228162514264337593543950336, 158456325028528675187087900672, 316912650057057350374175801344, 633825300114114700748351602688, 1267650600228229401496703205376, 2535301200456458802993406410752, 5070602400912917605986812821504, 10141204801825835211973625643008, 20282409603651670423947251286016, 40564819207303340847894502572032, 81129638414606681695789005144064, 162259276829213363391578010288128, 324518553658426726783156020576256, 649037107316853453566312041152512, 1298074214633706907132624082305024, 2596148429267413814265248164610048, 5192296858534827628530496329220096, 10384593717069655257060992658440192, 20769187434139310514121985316880384, 41538374868278621028243970633760768, 83076749736557242056487941267521536, 166153499473114484112975882535043072, 332306998946228968225951765070086144, 664613997892457936451903530140172288, 1329227995784915872903807060280344576, 2658455991569831745807614120560689152, 5316911983139663491615228241121378304, 10633823966279326983230456482242756608, 21267647932558653966460912964485513216, 42535295865117307932921825928971026432, 85070591730234615865843651857942052864, 170141183460469231731687303715884105728, 340282366920938463463374607431768211456, 680564733841876926926749214863536422912, 1361129467683753853853498429727072845824, 2722258935367507707706996859454145691648, 5444517870735015415413993718908291383296, 10889035741470030830827987437816582766592, 21778071482940061661655974875633165533184, 43556142965880123323311949751266331066368, 87112285931760246646623899502532662132736, 174224571863520493293247799005065324265472, 348449143727040986586495598010130648530944, 696898287454081973172991196020261297061888, 1393796574908163946345982392040522594123776, 2787593149816327892691964784081045188247552, 5575186299632655785383929568162090376495104, 11150372599265311570767859136324180752990208, 22300745198530623141535718272648361505980416, 44601490397061246283071436545296723011960832, 89202980794122492566142873090593446023921664, 178405961588244985132285746181186892047843328, 356811923176489970264571492362373784095686656, 713623846352979940529142984724747568191373312, 1427247692705959881058285969449495136382746624, 2854495385411919762116571938898990272765493248, 5708990770823839524233143877797980545530986496, 11417981541647679048466287755595961091061972992, 22835963083295358096932575511191922182123945984, 45671926166590716193865151022383844364247891968, 91343852333181432387730302044767688728495783936, 182687704666362864775460604089535377456991567872, 365375409332725729550921208179070754913983135744, 730750818665451459101842416358141509827966271488, 1461501637330902918203684832716283019655932542976, 2923003274661805836407369665432566039311865085952, 5846006549323611672814739330865132078623730171904, 11692013098647223345629478661730264157247460343808, 23384026197294446691258957323460528314494920687616, 46768052394588893382517914646921056628989841375232, 93536104789177786765035829293842113257979682750464, 187072209578355573530071658587684226515959365500928, 374144419156711147060143317175368453031918731001856, 748288838313422294120286634350736906063837462003712, 1496577676626844588240573268701473812127674924007424, 2993155353253689176481146537402947624255349848014848, 5986310706507378352962293074805895248510699696029696, 11972621413014756705924586149611790497021399392059392, 23945242826029513411849172299223580994042798784118784, 47890485652059026823698344598447161988085597568237568, 95780971304118053647396689196894323976171195136475136, 191561942608236107294793378393788647952342390272950272, 383123885216472214589586756787577295904684780545900544, 766247770432944429179173513575154591809369561091801088, 1532495540865888858358347027150309183618739122183602176, 3064991081731777716716694054300618367237478244367204352, 6129982163463555433433388108601236734474956488734408704, 12259964326927110866866776217202473468949912977468817408, 24519928653854221733733552434404946937899825954937634816, 49039857307708443467467104868809893875799651909875269632, 98079714615416886934934209737619787751599303819750539264, 196159429230833773869868419475239575503198607639501078528, 392318858461667547739736838950479151006397215279002157056, 784637716923335095479473677900958302012794430558004314112, 1569275433846670190958947355801916604025588861116008628224, 3138550867693340381917894711603833208051177722232017256448, 6277101735386680763835789423207666416102355444464034512896, 12554203470773361527671578846415332832204710888928069025792, 25108406941546723055343157692830665664409421777856138051584, 50216813883093446110686315385661331328818843555712276103168, 100433627766186892221372630771322662657637687111424552206336, 200867255532373784442745261542645325315275374222849104412672, 401734511064747568885490523085290650630550748445698208825344, 803469022129495137770981046170581301261101496891396417650688, 1606938044258990275541962092341162602522202993782792835301376]\n"
     ]
    }
   ],
   "source": [
    "print(power_2_numbers)"
   ]
  },
  {
   "cell_type": "code",
   "execution_count": 7,
   "id": "66aaf618",
   "metadata": {},
   "outputs": [],
   "source": [
    "generated_set = set(1 if x % 5 == 0 else x for x in range(8, 51))"
   ]
  },
  {
   "cell_type": "code",
   "execution_count": 8,
   "id": "68782aff",
   "metadata": {},
   "outputs": [
    {
     "name": "stdout",
     "output_type": "stream",
     "text": [
      "{1, 8, 9, 11, 12, 13, 14, 16, 17, 18, 19, 21, 22, 23, 24, 26, 27, 28, 29, 31, 32, 33, 34, 36, 37, 38, 39, 41, 42, 43, 44, 46, 47, 48, 49}\n"
     ]
    }
   ],
   "source": [
    "print(generated_set)"
   ]
  },
  {
   "cell_type": "code",
   "execution_count": 9,
   "id": "cfb6354d",
   "metadata": {},
   "outputs": [
    {
     "data": {
      "text/plain": [
       "set"
      ]
     },
     "execution_count": 9,
     "metadata": {},
     "output_type": "execute_result"
    }
   ],
   "source": [
    "type(generated_set)"
   ]
  },
  {
   "cell_type": "code",
   "execution_count": 13,
   "id": "27e8523d",
   "metadata": {},
   "outputs": [],
   "source": [
    "new_set = set(power_2_numbers) ^ generated_set"
   ]
  },
  {
   "cell_type": "code",
   "execution_count": 14,
   "id": "62b51101",
   "metadata": {},
   "outputs": [
    {
     "name": "stdout",
     "output_type": "stream",
     "text": [
      "{512, 1, 1024, 2, 2048, 4, 4096, 32768, 131072, 9, 65536, 11, 12, 13, 14, 68719476736, 36893488147419103232, 17, 18, 19, 1180591620717411303424, 21, 22, 23, 24, 9223372036854775808, 26, 27, 28, 29, 21267647932558653966460912964485513216, 31, 16777216, 33, 34, 17179869184, 36, 37, 38, 39, 34359738368, 41, 42, 43, 44, 18446744073709551616, 46, 47, 48, 49, 524288, 1208925819614629174706176, 2787593149816327892691964784081045188247552, 4611686018427387904, 10633823966279326983230456482242756608, 24519928653854221733733552434404946937899825954937634816, 1048576, 2417851639229258349412352, 64, 147573952589676412928, 4722366482869645213696, 340282366920938463463374607431768211456, 10889035741470030830827987437816582766592, 151115727451828646838272, 348449143727040986586495598010130648530944, 5575186299632655785383929568162090376495104, 784637716923335095479473677900958302012794430558004314112, 25108406941546723055343157692830665664409421777856138051584, 35184372088832, 70368744177664, 140737488355328, 281474976710656, 562949953421312, 1125899906842624, 85070591730234615865843651857942052864, 196159429230833773869868419475239575503198607639501078528, 2251799813685248, 4503599627370496, 2722258935367507707706996859454145691648, 6277101735386680763835789423207666416102355444464034512896, 1267650600228229401496703205376, 2097152, 4835703278458516698824704, 11150372599265311570767859136324180752990208, 49039857307708443467467104868809893875799651909875269632, 2535301200456458802993406410752, 16384, 37778931862957161709568, 87112285931760246646623899502532662132736, 200867255532373784442745261542645325315275374222849104412672, 128, 295147905179352825856, 9444732965739290427392, 680564733841876926926749214863536422912, 21778071482940061661655974875633165533184, 1569275433846670190958947355801916604025588861116008628224, 302231454903657293676544, 696898287454081973172991196020261297061888, 50216813883093446110686315385661331328818843555712276103168, 1606938044258990275541962092341162602522202993782792835301376, 5070602400912917605986812821504, 137438953472, 274877906944, 4294967296, 19807040628566084398385987584, 8589934592, 2147483648, 633825300114114700748351602688, 1461501637330902918203684832716283019655932542976, 45671926166590716193865151022383844364247891968, 40564819207303340847894502572032, 4194304, 2361183241434822606848, 73786976294838206464, 170141183460469231731687303715884105728, 5444517870735015415413993718908291383296, 392318858461667547739736838950479151006397215279002157056, 12554203470773361527671578846415332832204710888928069025792, 38685626227668133590597632, 89202980794122492566142873090593446023921664, 33554432, 77371252455336267181195264, 178405961588244985132285746181186892047843328, 1329227995784915872903807060280344576, 75557863725914323419136, 174224571863520493293247799005065324265472, 401734511064747568885490523085290650630550748445698208825344, 2658455991569831745807614120560689152, 5316911983139663491615228241121378304, 10141204801825835211973625643008, 23384026197294446691258957323460528314494920687616, 42535295865117307932921825928971026432, 98079714615416886934934209737619787751599303819750539264, 67108864, 154742504910672534362390528, 356811923176489970264571492362373784095686656, 83076749736557242056487941267521536, 166153499473114484112975882535043072, 256, 8192, 590295810358705651712, 18889465931478580854784, 1361129467683753853853498429727072845824, 43556142965880123323311949751266331066368, 262144, 604462909807314587353088, 1393796574908163946345982392040522594123776, 3138550867693340381917894711603833208051177722232017256448, 100433627766186892221372630771322662657637687111424552206336, 81129638414606681695789005144064, 162259276829213363391578010288128, 324518553658426726783156020576256, 649037107316853453566312041152512, 1298074214633706907132624082305024, 2596148429267413814265248164610048, 5192296858534827628530496329220096, 10384593717069655257060992658440192, 20769187434139310514121985316880384, 47890485652059026823698344598447161988085597568237568, 134217728, 536870912, 309485009821345068724781056, 1237940039285380274899124224, 9671406556917033397649408, 713623846352979940529142984724747568191373312, 8388608, 19342813113834066795298816, 22300745198530623141535718272648361505980416, 44601490397061246283071436545296723011960832, 2854495385411919762116571938898990272765493248, 1073741824, 2475880078570760549798248448, 5708990770823839524233143877797980545530986496, 332306998946228968225951765070086144, 2923003274661805836407369665432566039311865085952, 5846006549323611672814739330865132078623730171904, 1496577676626844588240573268701473812127674924007424, 11692013098647223345629478661730264157247460343808, 549755813888, 1099511627776, 2199023255552, 4398046511104, 8796093022208, 17592186044416, 20282409603651670423947251286016, 4951760157141521099596496896, 11417981541647679048466287755595961091061972992, 46768052394588893382517914646921056628989841375232, 39614081257132168796771975168, 91343852333181432387730302044767688728495783936, 191561942608236107294793378393788647952342390272950272, 383123885216472214589586756787577295904684780545900544, 766247770432944429179173513575154591809369561091801088, 1532495540865888858358347027150309183618739122183602176, 3064991081731777716716694054300618367237478244367204352, 6129982163463555433433388108601236734474956488734408704, 12259964326927110866866776217202473468949912977468817408, 41538374868278621028243970633760768, 803469022129495137770981046170581301261101496891396417650688, 79228162514264337593543950336, 182687704666362864775460604089535377456991567872, 2993155353253689176481146537402947624255349848014848, 9007199254740992, 18014398509481984, 36028797018963968, 72057594037927936, 144115188075855872, 576460752303423488, 1152921504606846976, 2305843009213693952, 288230376151711744, 95780971304118053647396689196894323976171195136475136, 5986310706507378352962293074805895248510699696029696, 158456325028528675187087900672, 365375409332725729550921208179070754913983135744, 93536104789177786765035829293842113257979682750464, 9903520314283042199192993792, 22835963083295358096932575511191922182123945984, 187072209578355573530071658587684226515959365500928, 11972621413014756705924586149611790497021399392059392, 268435456, 618970019642690137449562112, 1427247692705959881058285969449495136382746624, 374144419156711147060143317175368453031918731001856, 664613997892457936451903530140172288, 316912650057057350374175801344, 730750818665451459101842416358141509827966271488, 23945242826029513411849172299223580994042798784118784, 748288838313422294120286634350736906063837462003712}\n"
     ]
    }
   ],
   "source": [
    "print(new_set)"
   ]
  },
  {
   "cell_type": "code",
   "execution_count": 18,
   "id": "f23ea94c",
   "metadata": {},
   "outputs": [],
   "source": [
    "new_set = {x for x in new_set if 34 <= x <= 120}"
   ]
  },
  {
   "cell_type": "code",
   "execution_count": 19,
   "id": "5e80c44b",
   "metadata": {},
   "outputs": [
    {
     "name": "stdout",
     "output_type": "stream",
     "text": [
      "{64, 34, 36, 37, 38, 39, 41, 42, 43, 44, 46, 47, 48, 49}\n"
     ]
    }
   ],
   "source": [
    "print(new_set)"
   ]
  },
  {
   "cell_type": "code",
   "execution_count": 20,
   "id": "3b289890",
   "metadata": {},
   "outputs": [],
   "source": [
    "unicode_values = {x: chr(x) for x in new_set}"
   ]
  },
  {
   "cell_type": "code",
   "execution_count": 21,
   "id": "0dae9c78",
   "metadata": {},
   "outputs": [
    {
     "name": "stdout",
     "output_type": "stream",
     "text": [
      "{64: '@', 34: '\"', 36: '$', 37: '%', 38: '&', 39: \"'\", 41: ')', 42: '*', 43: '+', 44: ',', 46: '.', 47: '/', 48: '0', 49: '1'}\n"
     ]
    }
   ],
   "source": [
    "print(unicode_values)"
   ]
  },
  {
   "cell_type": "code",
   "execution_count": 24,
   "id": "6ea34dda",
   "metadata": {},
   "outputs": [],
   "source": [
    "shedule = {\n",
    "    '1001': ['пн', 'вс'],\n",
    "    '1231': ['пн', 'вт'],\n",
    "    '1232': ['ср', 'чт', 'пт'],\n",
    "    '1280': ['ср', 'пт', 'вс'],\n",
    "    '1282': ['чт'],\n",
    "    '1290': ['пт', 'вс'],\n",
    "    '1303': ['вт', 'вс'],\n",
    "}\n",
    "\n",
    "unique_days = ['пн', 'вт', 'ср', 'чт', 'пт', 'сб', 'вс']"
   ]
  },
  {
   "cell_type": "code",
   "execution_count": 25,
   "id": "0cc1d12d",
   "metadata": {},
   "outputs": [
    {
     "name": "stdout",
     "output_type": "stream",
     "text": [
      "Дни, когда никто не может дежурить: {'сб'}\n"
     ]
    }
   ],
   "source": [
    "no_duty_days = set(unique_days) - {day for days_list in shedule.values() for day in days_list}\n",
    "print(\"Дни, когда никто не может дежурить:\", no_duty_days)\n"
   ]
  },
  {
   "cell_type": "code",
   "execution_count": 27,
   "id": "79323aaf",
   "metadata": {},
   "outputs": [
    {
     "name": "stdout",
     "output_type": "stream",
     "text": [
      "Количество сотрудников по дням недели: {'пн': 2, 'вт': 2, 'ср': 2, 'чт': 2, 'пт': 3, 'сб': 0, 'вс': 4}\n"
     ]
    }
   ],
   "source": [
    "employees_per_day = {day: sum(day in days_list for days_list in shedule.values()) for day in unique_days}\n",
    "print(\"Количество сотрудников по дням недели:\", employees_per_day)\n"
   ]
  },
  {
   "cell_type": "code",
   "execution_count": 28,
   "id": "40c3a569",
   "metadata": {},
   "outputs": [],
   "source": [
    "coords1 = [(1, 10), (1, 11)]\n",
    "coords2 = [(0, 20), (20, 20)]\n",
    "coords3 = [(100, 91, 87), (80, 35, 70)]\n",
    "coords4 = [(0, 100, 20), (0, 0, 80)]"
   ]
  },
  {
   "cell_type": "code",
   "execution_count": 37,
   "id": "bb9b7368",
   "metadata": {},
   "outputs": [
    {
     "name": "stdout",
     "output_type": "stream",
     "text": [
      "20.0\n"
     ]
    }
   ],
   "source": [
    "def distance_points(coords):\n",
    "    if len(coords) != 2:\n",
    "        raise ValueError(\"Функция принимает ровно 2 кортежа координат\")\n",
    "\n",
    "    point_a, point_b = coords\n",
    "    dimensions = min(len(point_a), len(point_b))\n",
    "\n",
    "    distance_squared = sum((point_b[i] - point_a[i]) ** 2 for i in range(dimensions))\n",
    "    distance = distance_squared ** 0.5\n",
    "\n",
    "    return distance\n",
    "\n",
    "\n",
    "print(distance_points(coords2))\n",
    "\n"
   ]
  },
  {
   "cell_type": "code",
   "execution_count": 38,
   "id": "14fd76b3",
   "metadata": {},
   "outputs": [],
   "source": [
    "ids = ['1111:271', '1111:190', '1231:106', '1211:104', '1111:201', '1231:120', '1001:205', '1001:223', '1001:127', '1001:236', \\\n",
    "      '1111:229', '1231:286', '1231:195', '1001:279', '1001:124', '1111:292', '1505:219', '1231:259', '1231:253', '1001:220', '1001:202',\\\n",
    "      '1231:103', '1211:249', '1212:275']\n",
    "count = [111, 3, 13, 111, 9, 5, 17, 10, 13, 3, 16, 4, 16, 11, 18, 12, 14, 4, 3, 2, 14, 14, 10, 10]"
   ]
  },
  {
   "cell_type": "code",
   "execution_count": 42,
   "id": "92600f09",
   "metadata": {},
   "outputs": [
    {
     "name": "stdout",
     "output_type": "stream",
     "text": [
      "Уникальные категории: 6\n",
      "Среднее количество единиц товара на складе в категории: 73.8\n",
      "Среднее количество уникальных товаров в категории: 4.0\n",
      "ID товаров с максимальным количеством единиц на складе: ['1111:271', '1211:104']\n"
     ]
    }
   ],
   "source": [
    "items_count = dict(zip(ids, count))\n",
    "unique_categories_count = len(set(category.split(':')[0] for category in ids))\n",
    "average_items_per_category = round(sum(count) / len(set(category.split(':')[0] for category in ids)), 1)\n",
    "average_unique_items_per_category = round(len(ids) / len(set(category.split(':')[0] for category in ids)), 1)\n",
    "max_items_ids = [id for id, quantity in items_count.items() if quantity == max(count)]\n",
    "\n",
    "print(\"Уникальные категории:\", unique_categories_count)\n",
    "print(\"Среднее количество единиц товара на складе в категории:\", average_items_per_category)\n",
    "print(\"Среднее количество уникальных товаров в категории:\", average_unique_items_per_category)\n",
    "print(\"ID товаров с максимальным количеством единиц на складе:\", max_items_ids)"
   ]
  },
  {
   "cell_type": "code",
   "execution_count": 43,
   "id": "5bacd168",
   "metadata": {},
   "outputs": [],
   "source": [
    "document_text = 'There are the Food Courts in the cities that seats a lot of people and caters for every taste with dishes from all around the world. \\\n",
    " The aromatic smells that come from the Food Courts arc so delicious that your mouth will water. \\\n",
    " In recent years foreign foods have become a regular part of our life.'"
   ]
  },
  {
   "cell_type": "code",
   "execution_count": 55,
   "id": "80a4abbe",
   "metadata": {},
   "outputs": [
    {
     "name": "stdout",
     "output_type": "stream",
     "text": [
      "so: 1\n",
      "foods: 1\n",
      "food: 2\n",
      "will: 1\n",
      "are: 1\n",
      "become: 1\n",
      "smells: 1\n",
      "water: 1\n",
      "lot: 1\n",
      "world: 1\n",
      "every: 1\n",
      "dishes: 1\n",
      "for: 1\n",
      "have: 1\n",
      "around: 1\n",
      "regular: 1\n",
      "of: 2\n",
      "life: 1\n",
      "people: 1\n",
      "taste: 1\n",
      "foreign: 1\n",
      "in: 2\n",
      "the: 5\n",
      "part: 1\n",
      "our: 1\n",
      "delicious: 1\n",
      "a: 2\n",
      "recent: 1\n",
      "from: 2\n",
      "years: 1\n",
      "cities: 1\n",
      "with: 1\n",
      "aromatic: 1\n",
      "your: 1\n",
      "come: 1\n",
      "mouth: 1\n",
      "seats: 1\n",
      "there: 1\n",
      "all: 1\n",
      "courts: 2\n",
      "and: 1\n",
      "that: 3\n",
      "arc: 1\n",
      "caters: 1\n"
     ]
    }
   ],
   "source": [
    "word_frequency = {word: document_text.lower().replace('.', '').replace(',', '').split().count(word) \n",
    "                  for word in set(document_text.lower().replace('.', '').replace(',', '').split())}\n",
    "\n",
    "for word, frequency in word_frequency.items():\n",
    "    print(f\"{word}: {frequency}\")\n",
    "    "
   ]
  },
  {
   "cell_type": "code",
   "execution_count": 59,
   "id": "3bc3992d",
   "metadata": {},
   "outputs": [
    {
     "name": "stdout",
     "output_type": "stream",
     "text": [
      "Слова в порядке убывания частоты:\n",
      "the\n",
      "that\n",
      "a\n",
      "courts\n",
      "food\n",
      "from\n",
      "in\n",
      "of\n",
      "all\n",
      "and\n",
      "arc\n",
      "are\n",
      "aromatic\n",
      "around\n",
      "become\n",
      "caters\n",
      "cities\n",
      "come\n",
      "delicious\n",
      "dishes\n",
      "every\n",
      "foods\n",
      "for\n",
      "foreign\n",
      "have\n",
      "life\n",
      "lot\n",
      "mouth\n",
      "our\n",
      "part\n",
      "people\n",
      "recent\n",
      "regular\n",
      "seats\n",
      "smells\n",
      "so\n",
      "taste\n",
      "there\n",
      "water\n",
      "will\n",
      "with\n",
      "world\n",
      "years\n",
      "your\n"
     ]
    }
   ],
   "source": [
    "sorted_words = sorted(word_frequency.keys(), key=lambda x: (-word_frequency[x], x))\n",
    "\n",
    "for word in sorted_words:\n",
    "    print(word)"
   ]
  },
  {
   "cell_type": "code",
   "execution_count": 65,
   "id": "5b354300",
   "metadata": {},
   "outputs": [
    {
     "name": "stdout",
     "output_type": "stream",
     "text": [
      "32.0\n"
     ]
    }
   ],
   "source": [
    "coords = [(3, 2), (11, 2), (7, 10)]\n",
    "\n",
    "def distance_points(point1, point2):\n",
    "    return ((point2[0] - point1[0]) ** 2 + (point2[1] - point1[1]) ** 2) ** 0.5\n",
    "\n",
    "def triangle_area(coords):\n",
    "\n",
    "    A1, A2, A3 = coords\n",
    "    base_length = distance_points(A1, A2)\n",
    "    height = distance_points(A3, ((A1[0] + A2[0]) / 2, (A1[1] + A2[1]) / 2))\n",
    "\n",
    "    area = 0.5 * base_length * height\n",
    "    return area\n",
    "\n",
    "print(triangle_area(coords))"
   ]
  },
  {
   "cell_type": "code",
   "execution_count": 67,
   "id": "d50cdaf2",
   "metadata": {},
   "outputs": [],
   "source": []
  },
  {
   "cell_type": "code",
   "execution_count": 5,
   "id": "3c61349d",
   "metadata": {},
   "outputs": [],
   "source": [
    "df = pd.read_csv('17.4 bank-full.csv', sep=';')"
   ]
  },
  {
   "cell_type": "code",
   "execution_count": 6,
   "id": "8d021a1d",
   "metadata": {},
   "outputs": [
    {
     "data": {
      "text/html": [
       "<div>\n",
       "<style scoped>\n",
       "    .dataframe tbody tr th:only-of-type {\n",
       "        vertical-align: middle;\n",
       "    }\n",
       "\n",
       "    .dataframe tbody tr th {\n",
       "        vertical-align: top;\n",
       "    }\n",
       "\n",
       "    .dataframe thead th {\n",
       "        text-align: right;\n",
       "    }\n",
       "</style>\n",
       "<table border=\"1\" class=\"dataframe\">\n",
       "  <thead>\n",
       "    <tr style=\"text-align: right;\">\n",
       "      <th></th>\n",
       "      <th>Unnamed: 0</th>\n",
       "      <th>id</th>\n",
       "      <th>age</th>\n",
       "      <th>job</th>\n",
       "      <th>marital</th>\n",
       "      <th>education</th>\n",
       "      <th>balance</th>\n",
       "      <th>housing</th>\n",
       "      <th>loan</th>\n",
       "      <th>default</th>\n",
       "      <th>contact</th>\n",
       "      <th>day</th>\n",
       "      <th>month</th>\n",
       "      <th>duration</th>\n",
       "      <th>campaign</th>\n",
       "      <th>pdays</th>\n",
       "      <th>previous</th>\n",
       "      <th>poutcome</th>\n",
       "      <th>deposit</th>\n",
       "    </tr>\n",
       "  </thead>\n",
       "  <tbody>\n",
       "    <tr>\n",
       "      <th>0</th>\n",
       "      <td>0</td>\n",
       "      <td>0</td>\n",
       "      <td>58</td>\n",
       "      <td>management</td>\n",
       "      <td>married</td>\n",
       "      <td>tertiary</td>\n",
       "      <td>2143</td>\n",
       "      <td>yes</td>\n",
       "      <td>no</td>\n",
       "      <td>no</td>\n",
       "      <td>unknown</td>\n",
       "      <td>5</td>\n",
       "      <td>may</td>\n",
       "      <td>261</td>\n",
       "      <td>1</td>\n",
       "      <td>-1</td>\n",
       "      <td>0</td>\n",
       "      <td>unknown</td>\n",
       "      <td>no</td>\n",
       "    </tr>\n",
       "    <tr>\n",
       "      <th>1</th>\n",
       "      <td>1</td>\n",
       "      <td>1</td>\n",
       "      <td>44</td>\n",
       "      <td>technician</td>\n",
       "      <td>single</td>\n",
       "      <td>secondary</td>\n",
       "      <td>29</td>\n",
       "      <td>yes</td>\n",
       "      <td>no</td>\n",
       "      <td>no</td>\n",
       "      <td>unknown</td>\n",
       "      <td>5</td>\n",
       "      <td>may</td>\n",
       "      <td>151</td>\n",
       "      <td>1</td>\n",
       "      <td>-1</td>\n",
       "      <td>0</td>\n",
       "      <td>unknown</td>\n",
       "      <td>no</td>\n",
       "    </tr>\n",
       "    <tr>\n",
       "      <th>2</th>\n",
       "      <td>2</td>\n",
       "      <td>2</td>\n",
       "      <td>33</td>\n",
       "      <td>entrepreneur</td>\n",
       "      <td>married</td>\n",
       "      <td>secondary</td>\n",
       "      <td>2</td>\n",
       "      <td>yes</td>\n",
       "      <td>yes</td>\n",
       "      <td>no</td>\n",
       "      <td>unknown</td>\n",
       "      <td>5</td>\n",
       "      <td>may</td>\n",
       "      <td>76</td>\n",
       "      <td>1</td>\n",
       "      <td>-1</td>\n",
       "      <td>0</td>\n",
       "      <td>unknown</td>\n",
       "      <td>no</td>\n",
       "    </tr>\n",
       "    <tr>\n",
       "      <th>3</th>\n",
       "      <td>3</td>\n",
       "      <td>3</td>\n",
       "      <td>47</td>\n",
       "      <td>blue-collar</td>\n",
       "      <td>married</td>\n",
       "      <td>unknown</td>\n",
       "      <td>1506</td>\n",
       "      <td>yes</td>\n",
       "      <td>no</td>\n",
       "      <td>no</td>\n",
       "      <td>unknown</td>\n",
       "      <td>5</td>\n",
       "      <td>may</td>\n",
       "      <td>92</td>\n",
       "      <td>1</td>\n",
       "      <td>-1</td>\n",
       "      <td>0</td>\n",
       "      <td>unknown</td>\n",
       "      <td>no</td>\n",
       "    </tr>\n",
       "    <tr>\n",
       "      <th>4</th>\n",
       "      <td>4</td>\n",
       "      <td>4</td>\n",
       "      <td>33</td>\n",
       "      <td>unknown</td>\n",
       "      <td>single</td>\n",
       "      <td>unknown</td>\n",
       "      <td>1</td>\n",
       "      <td>no</td>\n",
       "      <td>no</td>\n",
       "      <td>no</td>\n",
       "      <td>unknown</td>\n",
       "      <td>5</td>\n",
       "      <td>may</td>\n",
       "      <td>198</td>\n",
       "      <td>1</td>\n",
       "      <td>-1</td>\n",
       "      <td>0</td>\n",
       "      <td>unknown</td>\n",
       "      <td>no</td>\n",
       "    </tr>\n",
       "    <tr>\n",
       "      <th>...</th>\n",
       "      <td>...</td>\n",
       "      <td>...</td>\n",
       "      <td>...</td>\n",
       "      <td>...</td>\n",
       "      <td>...</td>\n",
       "      <td>...</td>\n",
       "      <td>...</td>\n",
       "      <td>...</td>\n",
       "      <td>...</td>\n",
       "      <td>...</td>\n",
       "      <td>...</td>\n",
       "      <td>...</td>\n",
       "      <td>...</td>\n",
       "      <td>...</td>\n",
       "      <td>...</td>\n",
       "      <td>...</td>\n",
       "      <td>...</td>\n",
       "      <td>...</td>\n",
       "      <td>...</td>\n",
       "    </tr>\n",
       "    <tr>\n",
       "      <th>45206</th>\n",
       "      <td>45206</td>\n",
       "      <td>45206</td>\n",
       "      <td>51</td>\n",
       "      <td>technician</td>\n",
       "      <td>married</td>\n",
       "      <td>tertiary</td>\n",
       "      <td>825</td>\n",
       "      <td>no</td>\n",
       "      <td>no</td>\n",
       "      <td>no</td>\n",
       "      <td>cellular</td>\n",
       "      <td>17</td>\n",
       "      <td>nov</td>\n",
       "      <td>977</td>\n",
       "      <td>3</td>\n",
       "      <td>-1</td>\n",
       "      <td>0</td>\n",
       "      <td>unknown</td>\n",
       "      <td>yes</td>\n",
       "    </tr>\n",
       "    <tr>\n",
       "      <th>45207</th>\n",
       "      <td>45207</td>\n",
       "      <td>45207</td>\n",
       "      <td>71</td>\n",
       "      <td>retired</td>\n",
       "      <td>divorced</td>\n",
       "      <td>primary</td>\n",
       "      <td>1729</td>\n",
       "      <td>no</td>\n",
       "      <td>no</td>\n",
       "      <td>no</td>\n",
       "      <td>cellular</td>\n",
       "      <td>17</td>\n",
       "      <td>nov</td>\n",
       "      <td>456</td>\n",
       "      <td>2</td>\n",
       "      <td>-1</td>\n",
       "      <td>0</td>\n",
       "      <td>unknown</td>\n",
       "      <td>yes</td>\n",
       "    </tr>\n",
       "    <tr>\n",
       "      <th>45208</th>\n",
       "      <td>45208</td>\n",
       "      <td>45208</td>\n",
       "      <td>72</td>\n",
       "      <td>retired</td>\n",
       "      <td>married</td>\n",
       "      <td>secondary</td>\n",
       "      <td>5715</td>\n",
       "      <td>no</td>\n",
       "      <td>no</td>\n",
       "      <td>no</td>\n",
       "      <td>cellular</td>\n",
       "      <td>17</td>\n",
       "      <td>nov</td>\n",
       "      <td>1127</td>\n",
       "      <td>5</td>\n",
       "      <td>184</td>\n",
       "      <td>3</td>\n",
       "      <td>success</td>\n",
       "      <td>yes</td>\n",
       "    </tr>\n",
       "    <tr>\n",
       "      <th>45209</th>\n",
       "      <td>45209</td>\n",
       "      <td>45209</td>\n",
       "      <td>57</td>\n",
       "      <td>blue-collar</td>\n",
       "      <td>married</td>\n",
       "      <td>secondary</td>\n",
       "      <td>668</td>\n",
       "      <td>no</td>\n",
       "      <td>no</td>\n",
       "      <td>no</td>\n",
       "      <td>telephone</td>\n",
       "      <td>17</td>\n",
       "      <td>nov</td>\n",
       "      <td>508</td>\n",
       "      <td>4</td>\n",
       "      <td>-1</td>\n",
       "      <td>0</td>\n",
       "      <td>unknown</td>\n",
       "      <td>no</td>\n",
       "    </tr>\n",
       "    <tr>\n",
       "      <th>45210</th>\n",
       "      <td>45210</td>\n",
       "      <td>45210</td>\n",
       "      <td>37</td>\n",
       "      <td>entrepreneur</td>\n",
       "      <td>married</td>\n",
       "      <td>secondary</td>\n",
       "      <td>2971</td>\n",
       "      <td>no</td>\n",
       "      <td>no</td>\n",
       "      <td>no</td>\n",
       "      <td>cellular</td>\n",
       "      <td>17</td>\n",
       "      <td>nov</td>\n",
       "      <td>361</td>\n",
       "      <td>2</td>\n",
       "      <td>188</td>\n",
       "      <td>11</td>\n",
       "      <td>other</td>\n",
       "      <td>no</td>\n",
       "    </tr>\n",
       "  </tbody>\n",
       "</table>\n",
       "<p>45211 rows × 19 columns</p>\n",
       "</div>"
      ],
      "text/plain": [
       "       Unnamed: 0     id  age           job   marital  education  balance  \\\n",
       "0               0      0   58    management   married   tertiary     2143   \n",
       "1               1      1   44    technician    single  secondary       29   \n",
       "2               2      2   33  entrepreneur   married  secondary        2   \n",
       "3               3      3   47   blue-collar   married    unknown     1506   \n",
       "4               4      4   33       unknown    single    unknown        1   \n",
       "...           ...    ...  ...           ...       ...        ...      ...   \n",
       "45206       45206  45206   51    technician   married   tertiary      825   \n",
       "45207       45207  45207   71       retired  divorced    primary     1729   \n",
       "45208       45208  45208   72       retired   married  secondary     5715   \n",
       "45209       45209  45209   57   blue-collar   married  secondary      668   \n",
       "45210       45210  45210   37  entrepreneur   married  secondary     2971   \n",
       "\n",
       "      housing loan default    contact  day month  duration  campaign  pdays  \\\n",
       "0         yes   no      no    unknown    5   may       261         1     -1   \n",
       "1         yes   no      no    unknown    5   may       151         1     -1   \n",
       "2         yes  yes      no    unknown    5   may        76         1     -1   \n",
       "3         yes   no      no    unknown    5   may        92         1     -1   \n",
       "4          no   no      no    unknown    5   may       198         1     -1   \n",
       "...       ...  ...     ...        ...  ...   ...       ...       ...    ...   \n",
       "45206      no   no      no   cellular   17   nov       977         3     -1   \n",
       "45207      no   no      no   cellular   17   nov       456         2     -1   \n",
       "45208      no   no      no   cellular   17   nov      1127         5    184   \n",
       "45209      no   no      no  telephone   17   nov       508         4     -1   \n",
       "45210      no   no      no   cellular   17   nov       361         2    188   \n",
       "\n",
       "       previous poutcome deposit  \n",
       "0             0  unknown      no  \n",
       "1             0  unknown      no  \n",
       "2             0  unknown      no  \n",
       "3             0  unknown      no  \n",
       "4             0  unknown      no  \n",
       "...         ...      ...     ...  \n",
       "45206         0  unknown     yes  \n",
       "45207         0  unknown     yes  \n",
       "45208         3  success     yes  \n",
       "45209         0  unknown      no  \n",
       "45210        11    other      no  \n",
       "\n",
       "[45211 rows x 19 columns]"
      ]
     },
     "execution_count": 6,
     "metadata": {},
     "output_type": "execute_result"
    }
   ],
   "source": [
    "df"
   ]
  },
  {
   "cell_type": "code",
   "execution_count": 28,
   "id": "9766c4ee",
   "metadata": {},
   "outputs": [
    {
     "data": {
      "text/plain": [
       "array(['married', 'single', 'divorced'], dtype=object)"
      ]
     },
     "execution_count": 28,
     "metadata": {},
     "output_type": "execute_result"
    }
   ],
   "source": [
    "df['marital'].unique()\n"
   ]
  },
  {
   "cell_type": "code",
   "execution_count": 26,
   "id": "0f5a642b",
   "metadata": {},
   "outputs": [],
   "source": [
    "df['deposit'] = df['deposit'].map({'yes': 1, 'no': 0})"
   ]
  },
  {
   "cell_type": "code",
   "execution_count": 29,
   "id": "5be5ddc5",
   "metadata": {},
   "outputs": [],
   "source": [
    "df['loan'] = df['loan'].map({'yes': 1, 'no': 0})\n",
    "df['housing'] = df['housing'].map({'yes': 1, 'no': 0})\n",
    "df['marital'] = df['marital'].map({'married': 1, 'single': 0, 'divorced': -1})\n"
   ]
  },
  {
   "cell_type": "code",
   "execution_count": 30,
   "id": "dcbe0dc7",
   "metadata": {},
   "outputs": [
    {
     "data": {
      "text/plain": [
       "-0.06818503472421297"
      ]
     },
     "execution_count": 30,
     "metadata": {},
     "output_type": "execute_result"
    }
   ],
   "source": [
    "df['deposit'].corr(df['loan'])"
   ]
  },
  {
   "cell_type": "code",
   "execution_count": 31,
   "id": "a780d48d",
   "metadata": {},
   "outputs": [
    {
     "data": {
      "text/plain": [
       "-0.13917270249816996"
      ]
     },
     "execution_count": 31,
     "metadata": {},
     "output_type": "execute_result"
    }
   ],
   "source": [
    "df['deposit'].corr(df['housing'])"
   ]
  },
  {
   "cell_type": "code",
   "execution_count": 32,
   "id": "d591cda4",
   "metadata": {},
   "outputs": [
    {
     "data": {
      "text/plain": [
       "-0.043845648869057126"
      ]
     },
     "execution_count": 32,
     "metadata": {},
     "output_type": "execute_result"
    }
   ],
   "source": [
    "df['deposit'].corr(df['marital'])"
   ]
  },
  {
   "cell_type": "code",
   "execution_count": 36,
   "id": "b77712a4",
   "metadata": {},
   "outputs": [
    {
     "data": {
      "text/plain": [
       "array([ 1,  2,  3,  5,  4,  6,  7,  8,  9, 10, 11, 12, 13, 19, 14, 24, 16,\n",
       "       32, 18, 22, 15, 17, 25, 21, 43, 51, 63, 41, 26, 28, 55, 50, 38, 23,\n",
       "       20, 29, 31, 37, 30, 46, 27, 58, 33, 35, 34, 36, 39, 44],\n",
       "      dtype=int64)"
      ]
     },
     "execution_count": 36,
     "metadata": {},
     "output_type": "execute_result"
    }
   ],
   "source": [
    "df['campaign'].unique()"
   ]
  },
  {
   "cell_type": "code",
   "execution_count": null,
   "id": "dae4b679",
   "metadata": {},
   "outputs": [],
   "source": []
  }
 ],
 "metadata": {
  "kernelspec": {
   "display_name": "Python 3 (ipykernel)",
   "language": "python",
   "name": "python3"
  },
  "language_info": {
   "codemirror_mode": {
    "name": "ipython",
    "version": 3
   },
   "file_extension": ".py",
   "mimetype": "text/x-python",
   "name": "python",
   "nbconvert_exporter": "python",
   "pygments_lexer": "ipython3",
   "version": "3.11.5"
  }
 },
 "nbformat": 4,
 "nbformat_minor": 5
}
