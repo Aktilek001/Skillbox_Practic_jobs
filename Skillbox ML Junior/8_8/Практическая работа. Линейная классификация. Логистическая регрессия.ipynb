{
 "cells": [
  {
   "cell_type": "markdown",
   "metadata": {
    "id": "Q7ytv2GMjpGZ"
   },
   "source": [
    "# Логистическая регрессия. Практическая работа\n",
    "\n",
    "## Цель практической работы\n",
    "\n",
    "Вы уже делали задание, в котором с помощью метода ближайших соседей оценивали склонность клиента банка откликнуться или не откликнуться на предложение.\n",
    "\n",
    "В этом практическом задании ваши цели:\n",
    "*  решить эту же задачу с помощью логистической регрессии;\n",
    "*  потренироваться в подборе порога; \n",
    "*  потренироваться в подборе гиперпараметров модели."
   ]
  },
  {
   "cell_type": "markdown",
   "metadata": {
    "id": "Sj3n0n38nEfs"
   },
   "source": [
    "## Что входит в работу\n",
    "\n",
    "*  Загрузить данные для задачи.\n",
    "*  Обучить метод ближайших соседей с заданным количеством соседей k, вычислить метрики.\n",
    "*  Обучить логистическую регрессию с параметрами по умолчанию, вычислить метрики.\n",
    "*  Подобрать порог модели, вычислить метрики.\n",
    "*  Подобрать гиперпараметр С (константа регуляризации) модели, вычислить метрики."
   ]
  },
  {
   "cell_type": "markdown",
   "metadata": {
    "id": "3qfZPYNpoFGE"
   },
   "source": [
    "## Что оценивается\n",
    "\n",
    "*  Выполнены все этапы задания: код запускается, отрабатывает без ошибок; подробно и обоснованно написаны текстовые выводы, где это требуется."
   ]
  },
  {
   "cell_type": "markdown",
   "metadata": {
    "id": "3_EzM8UJoRHd"
   },
   "source": [
    "## Формат сдачи\n",
    "Выполните предложенные задания — впишите свой код (или, если требуется, текст) в ячейки после комментариев. \n",
    "\n",
    "*Комментарии — это текст, который начинается с символа #. Например: # ваш код здесь.*\n",
    "\n",
    "Сохраните изменения, используя опцию Save and Checkpoint из вкладки меню File или кнопку Save and Checkpoint на панели инструментов. Итоговый файл в формате .ipynb (файл Jupyter Notebook) загрузите в личный кабинет и отправьте на проверку."
   ]
  },
  {
   "cell_type": "code",
   "execution_count": 1,
   "metadata": {
    "id": "aPDB2wP8jndz"
   },
   "outputs": [],
   "source": [
    "# подключим библиотеки\n",
    "%matplotlib inline\n",
    "import matplotlib.pyplot as plt\n",
    "import numpy as np\n",
    "import pandas as pd\n",
    "\n",
    "import warnings\n",
    "warnings.filterwarnings(\"ignore\")"
   ]
  },
  {
   "cell_type": "code",
   "execution_count": 2,
   "metadata": {
    "id": "7Zw7RmtAjn8O"
   },
   "outputs": [],
   "source": [
    "# считаем данные\n",
    "data = pd.read_csv('ClientsData.csv')"
   ]
  },
  {
   "cell_type": "code",
   "execution_count": 3,
   "metadata": {
    "id": "3QbRGWqJjxOv"
   },
   "outputs": [
    {
     "data": {
      "text/html": [
       "<div>\n",
       "<style scoped>\n",
       "    .dataframe tbody tr th:only-of-type {\n",
       "        vertical-align: middle;\n",
       "    }\n",
       "\n",
       "    .dataframe tbody tr th {\n",
       "        vertical-align: top;\n",
       "    }\n",
       "\n",
       "    .dataframe thead th {\n",
       "        text-align: right;\n",
       "    }\n",
       "</style>\n",
       "<table border=\"1\" class=\"dataframe\">\n",
       "  <thead>\n",
       "    <tr style=\"text-align: right;\">\n",
       "      <th></th>\n",
       "      <th>AGE</th>\n",
       "      <th>SOCSTATUS_WORK_FL</th>\n",
       "      <th>SOCSTATUS_PENS_FL</th>\n",
       "      <th>GENDER</th>\n",
       "      <th>CHILD_TOTAL</th>\n",
       "      <th>DEPENDANTS</th>\n",
       "      <th>PERSONAL_INCOME</th>\n",
       "      <th>LOAN_NUM_TOTAL</th>\n",
       "      <th>LOAN_NUM_CLOSED</th>\n",
       "      <th>LOAN_DLQ_NUM</th>\n",
       "      <th>TARGET</th>\n",
       "    </tr>\n",
       "  </thead>\n",
       "  <tbody>\n",
       "    <tr>\n",
       "      <th>0</th>\n",
       "      <td>49</td>\n",
       "      <td>1</td>\n",
       "      <td>0</td>\n",
       "      <td>1</td>\n",
       "      <td>2</td>\n",
       "      <td>1</td>\n",
       "      <td>5000.0</td>\n",
       "      <td>1</td>\n",
       "      <td>1</td>\n",
       "      <td>2</td>\n",
       "      <td>0</td>\n",
       "    </tr>\n",
       "    <tr>\n",
       "      <th>1</th>\n",
       "      <td>32</td>\n",
       "      <td>1</td>\n",
       "      <td>0</td>\n",
       "      <td>1</td>\n",
       "      <td>3</td>\n",
       "      <td>3</td>\n",
       "      <td>12000.0</td>\n",
       "      <td>1</td>\n",
       "      <td>1</td>\n",
       "      <td>1</td>\n",
       "      <td>0</td>\n",
       "    </tr>\n",
       "    <tr>\n",
       "      <th>2</th>\n",
       "      <td>52</td>\n",
       "      <td>1</td>\n",
       "      <td>0</td>\n",
       "      <td>1</td>\n",
       "      <td>4</td>\n",
       "      <td>0</td>\n",
       "      <td>9000.0</td>\n",
       "      <td>2</td>\n",
       "      <td>1</td>\n",
       "      <td>0</td>\n",
       "      <td>0</td>\n",
       "    </tr>\n",
       "    <tr>\n",
       "      <th>3</th>\n",
       "      <td>39</td>\n",
       "      <td>1</td>\n",
       "      <td>0</td>\n",
       "      <td>1</td>\n",
       "      <td>1</td>\n",
       "      <td>1</td>\n",
       "      <td>25000.0</td>\n",
       "      <td>1</td>\n",
       "      <td>1</td>\n",
       "      <td>3</td>\n",
       "      <td>0</td>\n",
       "    </tr>\n",
       "    <tr>\n",
       "      <th>4</th>\n",
       "      <td>30</td>\n",
       "      <td>1</td>\n",
       "      <td>0</td>\n",
       "      <td>0</td>\n",
       "      <td>0</td>\n",
       "      <td>0</td>\n",
       "      <td>12000.0</td>\n",
       "      <td>2</td>\n",
       "      <td>1</td>\n",
       "      <td>2</td>\n",
       "      <td>0</td>\n",
       "    </tr>\n",
       "  </tbody>\n",
       "</table>\n",
       "</div>"
      ],
      "text/plain": [
       "   AGE  SOCSTATUS_WORK_FL  SOCSTATUS_PENS_FL  GENDER  CHILD_TOTAL  DEPENDANTS  \\\n",
       "0   49                  1                  0       1            2           1   \n",
       "1   32                  1                  0       1            3           3   \n",
       "2   52                  1                  0       1            4           0   \n",
       "3   39                  1                  0       1            1           1   \n",
       "4   30                  1                  0       0            0           0   \n",
       "\n",
       "   PERSONAL_INCOME  LOAN_NUM_TOTAL  LOAN_NUM_CLOSED  LOAN_DLQ_NUM  TARGET  \n",
       "0           5000.0               1                1             2       0  \n",
       "1          12000.0               1                1             1       0  \n",
       "2           9000.0               2                1             0       0  \n",
       "3          25000.0               1                1             3       0  \n",
       "4          12000.0               2                1             2       0  "
      ]
     },
     "execution_count": 3,
     "metadata": {},
     "output_type": "execute_result"
    }
   ],
   "source": [
    "data.head()"
   ]
  },
  {
   "cell_type": "markdown",
   "metadata": {
    "id": "HbnaQJxw2mHQ"
   },
   "source": [
    "В этом ноутбуке нам придётся подбирать гиперпараметры модели, а ещё порог. Поэтому, чтобы не переобучиться, разобъём данные на трейн, валидацию и тест.\n",
    "\n",
    "*  Обучать модели будем на тренировочных данных.\n",
    "*  Подбирать необходимые величины — по валидации.\n",
    "*  Оценивать качество — на тесте."
   ]
  },
  {
   "cell_type": "code",
   "execution_count": 4,
   "metadata": {
    "id": "bkG1LjB0s81d"
   },
   "outputs": [],
   "source": [
    "# разделим данные на обучающую и тестовую выборки\n",
    "from sklearn.model_selection import train_test_split\n",
    "\n",
    "X = data.drop('TARGET', axis=1)\n",
    "y = data['TARGET']\n",
    "\n",
    "Xtrain, Xtest, ytrain, ytest = train_test_split(X, y, train_size=0.7, random_state=123)\n",
    "Xtrain, Xval, ytrain, yval = train_test_split(Xtrain, ytrain, train_size=0.7, random_state=123)"
   ]
  },
  {
   "cell_type": "markdown",
   "metadata": {
    "id": "9g3cyUKPqgqu"
   },
   "source": [
    "В задании по методу ближайших соседей было найдено, что оптимальное число соседей k = 9.\n",
    "\n",
    "Обучите на тренировочных данных KNN с k = 9 и выведите матрицу ошибок, а также значение метрик precision и recall на тестовых данных."
   ]
  },
  {
   "cell_type": "code",
   "execution_count": 5,
   "metadata": {
    "id": "efySFKgej1_1"
   },
   "outputs": [],
   "source": [
    "from sklearn.neighbors import KNeighborsClassifier\n",
    "from sklearn.metrics import confusion_matrix\n",
    "from sklearn.metrics import precision_score, recall_score"
   ]
  },
  {
   "cell_type": "code",
   "execution_count": 6,
   "metadata": {
    "id": "QzR_npzTj5OC"
   },
   "outputs": [
    {
     "name": "stdout",
     "output_type": "stream",
     "text": [
      "Confusion Matrix:\n",
      "[[2827   17]\n",
      " [ 348    5]]\n",
      "Precision: 0.22727272727272727\n",
      "Recall: 0.014164305949008499\n"
     ]
    }
   ],
   "source": [
    "# ваш код здесь\n",
    "knn_model = KNeighborsClassifier(n_neighbors=9)\n",
    "\n",
    "# Обучаем модель на тренировочных данных\n",
    "knn_model.fit(Xtrain, ytrain)\n",
    "\n",
    "# Предсказываем метки классов на тестовых данных\n",
    "predictions = knn_model.predict(Xval)\n",
    "\n",
    "# Вычисляем матрицу ошибок\n",
    "conf_matrix = confusion_matrix(yval, predictions)\n",
    "print(\"Confusion Matrix:\")\n",
    "print(conf_matrix)\n",
    "\n",
    "# Вычисляем precision и recall\n",
    "precision = precision_score(yval, predictions)\n",
    "recall = recall_score(yval, predictions)\n",
    "\n",
    "print(f\"Precision: {precision}\")\n",
    "print(f\"Recall: {recall}\")"
   ]
  },
  {
   "cell_type": "markdown",
   "metadata": {
    "id": "E9Bk7tSerX-L"
   },
   "source": [
    "Какой вывод можно сделать:\n",
    "- для класса 0 — клиент не откликнулся — мы получили достаточно высокие значения TP в том числе потому, что представителей этого класса больше;\n",
    "- для класса 1 — клиент откликнулся — мы получили низкие значения TN.\n",
    "\n",
    "Поэтому значения precision и recall низкие. Модель даёт неудовлетворительные результаты, так как находит мало клиентов, которые откликнутся на предложение.\n",
    "\n"
   ]
  },
  {
   "cell_type": "markdown",
   "metadata": {
    "id": "zGmfshG9rmBn"
   },
   "source": [
    "Обучите логистическую регрессию с параметрами по умолчанию и посмотрите на метрики.\n",
    "\n",
    "Везде дальше при оценке метрик надо выводить confusion_matrix, precision и recall."
   ]
  },
  {
   "cell_type": "code",
   "execution_count": 7,
   "metadata": {
    "id": "7tOX78zbrPHB"
   },
   "outputs": [
    {
     "name": "stdout",
     "output_type": "stream",
     "text": [
      "Confusion Matrix:\n",
      "[[2843    1]\n",
      " [ 353    0]]\n",
      "Precision: 0.0\n",
      "Recall: 0.0\n"
     ]
    }
   ],
   "source": [
    "from sklearn.linear_model import LogisticRegression\n",
    "\n",
    "# ваш код здесь\n",
    "\n",
    "logreg_model = LogisticRegression()\n",
    "\n",
    "# Обучаем модель на тренировочных данных\n",
    "logreg_model.fit(Xtrain, ytrain)\n",
    "\n",
    "# Предсказываем метки классов на тестовых данных\n",
    "pred = logreg_model.predict(Xval)\n",
    "\n",
    "# Вычисляем матрицу ошибок\n",
    "conf_matrix = confusion_matrix(yval, pred)\n",
    "print(\"Confusion Matrix:\")\n",
    "print(conf_matrix)\n",
    "\n",
    "# Вычисляем precision и recall\n",
    "precision = precision_score(yval, pred)\n",
    "recall = recall_score(yval, pred)\n",
    "\n",
    "print(f\"Precision: {precision}\")\n",
    "print(f\"Recall: {recall}\")"
   ]
  },
  {
   "cell_type": "markdown",
   "metadata": {
    "id": "CvWGh7m9sTKM"
   },
   "source": [
    "Наша цель — найти как можно больше клиентов, которые откликнутся на предложение. А модель таких не находит. \n",
    "\n",
    "Мы помним, что метод predict_proba у логистической регрессии предсказывает математические (то есть корректные) вероятности классов. Предскажите вероятности классов с помощью обученной логистической регрессии на тестовых данных и выведите вероятности положительного класса для первых десяти объектов. \n",
    "\n",
    "Глядя на полученные вероятности, попробуйте объяснить, почему вы получили именно такую матрицу ошибок и такие значения точности с полноты."
   ]
  },
  {
   "cell_type": "code",
   "execution_count": 8,
   "metadata": {
    "id": "LNqjcxrwsLzl"
   },
   "outputs": [
    {
     "name": "stdout",
     "output_type": "stream",
     "text": [
      "Объект 1: Вероятность класса 1: 0.14042412250199765\n",
      "Объект 2: Вероятность класса 1: 0.14107444773951705\n",
      "Объект 3: Вероятность класса 1: 0.19378158060568823\n",
      "Объект 4: Вероятность класса 1: 0.27151564120607474\n",
      "Объект 5: Вероятность класса 1: 0.12612215855864198\n",
      "Объект 6: Вероятность класса 1: 0.04103150633489998\n",
      "Объект 7: Вероятность класса 1: 0.042618778522771426\n",
      "Объект 8: Вероятность класса 1: 0.03656177747460738\n",
      "Объект 9: Вероятность класса 1: 0.08229851162289745\n",
      "Объект 10: Вероятность класса 1: 0.06786435300574775\n"
     ]
    }
   ],
   "source": [
    "# ваш код здесь\n",
    "\n",
    "proba_predictions = logreg_model.predict_proba(Xtest)\n",
    "\n",
    "# Выводим вероятности положительного класса для первых десяти объектов\n",
    "for i in range(10):\n",
    "    print(f\"Объект {i + 1}: Вероятность класса 1: {proba_predictions[i, 1]}\")"
   ]
  },
  {
   "cell_type": "code",
   "execution_count": 9,
   "metadata": {
    "id": "mwJzqbfv5yE4"
   },
   "outputs": [],
   "source": [
    "# ваше объяснение здесь\n",
    "# Думаю логистическая регрессия не может найти оптимальную линию которая бы разделяла \n",
    "# целевую переменную и по этому мы не можем получить хорошую модель"
   ]
  },
  {
   "cell_type": "markdown",
   "metadata": {
    "id": "Z08xmRAcugGb"
   },
   "source": [
    "Давайте уточним цель. Пусть нам нужно найти как можно больше клиентов, которые откликнутся на предложение, то есть максимизировать полноту (recall). \n",
    "\n",
    "При этом хочется, чтобы точность модели (precision) не была очень низкой. Заказчик посмотрел на результаты работы KNN и потребовал, чтобы точность была не ниже, чем у KNN: $precision \\geq 0.13$."
   ]
  },
  {
   "cell_type": "markdown",
   "metadata": {
    "id": "f-syFkflt6EV"
   },
   "source": [
    "Давайте будем изменять порог для перевода вероятности в классы так, чтобы:\n",
    "*   максимизировать значение recall\n",
    "*   при условии, что $precision \\geq 0.13$.\n",
    "\n",
    "Если мы будем подбирать порог по тестовой выборке, то, по сути, обучимся на ней и, значит, переобучимся. Это плохо. \n",
    "\n",
    "Поэтому предскажите вероятности на валидационной выборке и подберите порог по ней (Xval, yval), а затем посмотрите, какое качество для найденного порога вы получите на тестовых данных."
   ]
  },
  {
   "cell_type": "code",
   "execution_count": 10,
   "metadata": {},
   "outputs": [
    {
     "name": "stdout",
     "output_type": "stream",
     "text": [
      "Threshold: 0.0716173702888454\n",
      "Confusion Matrix:\n",
      "[[ 783 2061]\n",
      " [  45  308]]\n",
      "Precision: 0.13001266357112706\n",
      "Recall: 0.8725212464589235\n"
     ]
    }
   ],
   "source": [
    "from sklearn.metrics import precision_recall_curve\n",
    "\n",
    "proba_predictions_val = logreg_model.predict_proba(Xval)[:, 1]\n",
    "\n",
    "# Вычисляем precision, recall и thresholds\n",
    "precision, recall, thresholds = precision_recall_curve(yval, proba_predictions_val)\n",
    "\n",
    "# Находим порог, удовлетворяющий условиям задачи\n",
    "desired_precision = 0.13\n",
    "threshold_index = next(i for i, p in enumerate(precision) if p >= desired_precision)\n",
    "\n",
    "selected_threshold = thresholds[threshold_index]\n",
    "\n",
    "# Выводим найденный порог\n",
    "print(f\"Threshold: {selected_threshold}\")\n",
    "\n",
    "# Применяем порог к вероятностям на тестовой выборке\n",
    "proba_predictions_test = logreg_model.predict_proba(Xval)[:, 1]\n",
    "binary_predictions_test = (proba_predictions_test >= selected_threshold).astype(int)\n",
    "\n",
    "# Выводим матрицу ошибок, precision и recall на тестовых данных\n",
    "conf_matrix_test = confusion_matrix(yval, binary_predictions_test)\n",
    "precision_test = precision_score(yval, binary_predictions_test)\n",
    "recall_test = recall_score(yval, binary_predictions_test)\n",
    "\n",
    "print(\"Confusion Matrix:\")\n",
    "print(conf_matrix_test)\n",
    "print(f\"Precision: {precision_test}\")\n",
    "print(f\"Recall: {recall_test}\")\n"
   ]
  },
  {
   "cell_type": "code",
   "execution_count": 11,
   "metadata": {
    "id": "398pACpBtFi2"
   },
   "outputs": [
    {
     "name": "stdout",
     "output_type": "stream",
     "text": [
      "Selected Threshold: 0.07300000000000002\n",
      "Precision: 0.1310285958173282\n",
      "Recall: 0.8696883852691218\n"
     ]
    }
   ],
   "source": [
    "probs_val = logreg_model.predict_proba(Xval)[:, 1]\n",
    "\n",
    "max_recall = -1\n",
    "thr = -1\n",
    "prec = -1\n",
    "\n",
    "for threshold in np.arange(0.05, 1, 0.001):\n",
    "    # для каждого значения порога переведите вероятности в классы\n",
    "    # посчитайте метрики\n",
    "\n",
    "# напечатайте порог, для которого получается максимальная полнота, при precision >= 0.13\n",
    "\n",
    "    # Переводим вероятности в бинарные предсказания по порогу\n",
    "    binary_predictions_val = (probs_val >= threshold).astype(int)\n",
    "    \n",
    "    # Вычисляем precision и recall\n",
    "    precision_val = precision_score(yval, binary_predictions_val)\n",
    "    recall_val = recall_score(yval, binary_predictions_val)\n",
    "\n",
    "    # Проверяем условия для максимизации recall и precision >= 0.13\n",
    "    if recall_val > max_recall and precision_val >= 0.13:\n",
    "        max_recall = recall_val\n",
    "        thr = threshold\n",
    "        prec = precision_val\n",
    "\n",
    "# Печатаем порог, для которого достигается максимальная полнота, при precision >= 0.13\n",
    "print(f\"Selected Threshold: {thr}\")\n",
    "print(f\"Precision: {prec}\")\n",
    "print(f\"Recall: {max_recall}\")"
   ]
  },
  {
   "cell_type": "code",
   "execution_count": 12,
   "metadata": {
    "id": "qpHv0DVwywKq"
   },
   "outputs": [
    {
     "name": "stdout",
     "output_type": "stream",
     "text": [
      "Confusion Matrix:\n",
      "[[1152 2856]\n",
      " [ 104  455]]\n",
      "Precision: 0.13742071881606766\n",
      "Recall: 0.813953488372093\n"
     ]
    }
   ],
   "source": [
    "# по найденному порогу переведите вероятности в классы на тесте и напечатайте метрики\n",
    "\n",
    "# Применяем найденный порог к вероятностям на тестовой выборке\n",
    "binary_predictions_test = (logreg_model.predict_proba(Xtest)[:, 1] >= thr).astype(int)\n",
    "\n",
    "# Выводим матрицу ошибок, precision и recall на тестовых данных\n",
    "conf_matrix_test = confusion_matrix(ytest, binary_predictions_test)\n",
    "precision_test = precision_score(ytest, binary_predictions_test)\n",
    "recall_test = recall_score(ytest, binary_predictions_test)\n",
    "\n",
    "print(\"Confusion Matrix:\")\n",
    "print(conf_matrix_test)\n",
    "print(f\"Precision: {precision_test}\")\n",
    "print(f\"Recall: {recall_test}\")"
   ]
  },
  {
   "cell_type": "markdown",
   "metadata": {
    "id": "fLakCD5TwmDe"
   },
   "source": [
    "Сделайте вывод. Смогли ли мы с помощью подбора порога добиться большего значения recall, чем у KNN? "
   ]
  },
  {
   "cell_type": "code",
   "execution_count": 13,
   "metadata": {
    "id": "222ZBiDy6Z1_"
   },
   "outputs": [],
   "source": [
    "# ваш вывод здесь\n",
    "# хоть значения Recall и стало больше(в разы), но модель все еще очень плоха. Потому что даже кидая монетку можно получить такую плотность"
   ]
  },
  {
   "cell_type": "markdown",
   "metadata": {
    "id": "zc1D7Hy8wvkR"
   },
   "source": [
    "А ещё, чтобы улучшить качество предсказания, можно подбирать значение гиперпараметра C у логистической регрессии. Для каждого значения C придётся подбирать свой порог, поэтому:  \n",
    "\n",
    "1. Обучите для значений C из диапазона [0.05, 0.15, 0.25, ...., 10.05] логистическую регрессию (на тренировочных данных).\n",
    "\n",
    "2. Для каждой из обученных моделей во внутреннем цикле подберите оптимальный порог (как в предыдущем задании) — на валидационных данных.\n",
    "\n",
    "\n",
    "\n",
    "В качестве результата выведите значение C и порога для модели, которая даёт наилучшие значения метрик (наибольший recall при ограничении на $precision \\geq 0.13$).\n",
    "\n",
    "Также напечатайте полученные метрики (матрицу ошибок, точность и полноту) для лучшей модели — на тестовых данных."
   ]
  },
  {
   "cell_type": "code",
   "execution_count": 14,
   "metadata": {
    "id": "EhjmTEkhuT9S"
   },
   "outputs": [],
   "source": [
    "regs = []\n",
    "recalls = []\n",
    "thresholds = []\n",
    "precisions = []\n",
    "\n",
    "for reg in np.arange(0.05, 10.05, 0.1):\n",
    "    # Обучаем логистическую регрессию с текущим значением C\n",
    "    logreg_model = LogisticRegression(C=reg)\n",
    "    logreg_model.fit(Xtrain, ytrain)\n",
    "\n",
    "    # Получаем вероятности на валидационной выборке\n",
    "    probs_val = logreg_model.predict_proba(Xval)[:, 1]\n",
    "\n",
    "    max_recall = -1\n",
    "    thr = -1\n",
    "    prec = -1\n",
    "\n",
    "    for threshold in np.arange(0.05, 0.25, 0.001):\n",
    "        # Переводим вероятности в бинарные предсказания по порогу\n",
    "        binary_predictions_val = (probs_val >= threshold).astype(int)\n",
    "\n",
    "        # Вычисляем precision и recall\n",
    "        precision_val = precision_score(yval, binary_predictions_val)\n",
    "        recall_val = recall_score(yval, binary_predictions_val)\n",
    "\n",
    "        # Проверяем условия для максимизации recall и precision >= 0.13\n",
    "        if recall_val > max_recall and precision_val >= 0.13:\n",
    "            max_recall = recall_val\n",
    "            thr = threshold\n",
    "            prec = precision_val\n",
    "\n",
    "    # Сохраняем результаты для текущего значения C\n",
    "    regs.append(reg)\n",
    "    recalls.append(max_recall)\n",
    "    thresholds.append(thr)\n",
    "    precisions.append(prec)"
   ]
  },
  {
   "cell_type": "code",
   "execution_count": 15,
   "metadata": {
    "id": "DZtXAIxi0Ksr"
   },
   "outputs": [
    {
     "name": "stdout",
     "output_type": "stream",
     "text": [
      "Best C: 0.05\n",
      "Best Threshold: 0.07300000000000002\n",
      "Best Precision: 0.1310285958173282\n",
      "Best Recall: 0.8696883852691218\n"
     ]
    }
   ],
   "source": [
    "# выведите значения C, precision, recall, threshold для наилучшей по заданным условиям модели\n",
    "\n",
    "# Находим индекс лучшей модели (максимизация recall при precision >= 0.13)\n",
    "best_model_index = recalls.index(max(recalls))\n",
    "\n",
    "# Выводим результаты для лучшей модели\n",
    "best_C = regs[best_model_index]\n",
    "best_recall = recalls[best_model_index]\n",
    "best_threshold = thresholds[best_model_index]\n",
    "best_precision = precisions[best_model_index]\n",
    "\n",
    "print(f\"Best C: {best_C}\")\n",
    "print(f\"Best Threshold: {best_threshold}\")\n",
    "print(f\"Best Precision: {best_precision}\")\n",
    "print(f\"Best Recall: {best_recall}\")"
   ]
  },
  {
   "cell_type": "code",
   "execution_count": 16,
   "metadata": {
    "id": "rQLQZ1bg4BGy"
   },
   "outputs": [
    {
     "name": "stdout",
     "output_type": "stream",
     "text": [
      "\n",
      "Confusion Matrix:\n",
      "[[ 808 2036]\n",
      " [  46  307]]\n",
      "Precision: 0.1310285958173282\n",
      "Recall: 0.8696883852691218\n"
     ]
    }
   ],
   "source": [
    "# с помощью найденных C и threshold обучите модель на тренировочных данных, сделайте предсказание на тесте и по найденному порогу получите классы\n",
    "# напечатайте метрики\n",
    "\n",
    "# Обучаем лучшую модель на тренировочных данных\n",
    "best_model = LogisticRegression(C=best_C)\n",
    "best_model.fit(Xtrain, ytrain)\n",
    "\n",
    "# Получаем вероятности на тестовой выборке\n",
    "proba_predictions_test = best_model.predict_proba(Xval)[:, 1]\n",
    "\n",
    "# Применяем найденный порог к вероятностям на тестовой выборке\n",
    "binary_predictions_test = (proba_predictions_test >= best_threshold).astype(int)\n",
    "\n",
    "# Выводим матрицу ошибок, precision и recall на тестовых данных\n",
    "conf_matrix_test = confusion_matrix(yval, binary_predictions_test)\n",
    "precision_test = precision_score(yval, binary_predictions_test)\n",
    "recall_test = recall_score(yval, binary_predictions_test)\n",
    "\n",
    "print(\"\\nConfusion Matrix:\")\n",
    "print(conf_matrix_test)\n",
    "print(f\"Precision: {precision_test}\")\n",
    "print(f\"Recall: {recall_test}\")"
   ]
  },
  {
   "cell_type": "markdown",
   "metadata": {
    "id": "fwpx_UVS2DK_"
   },
   "source": [
    "Влияет ли изменение гиперпараметра C на качество модели (и, соответственно, метрики) в этой задаче?"
   ]
  },
  {
   "cell_type": "code",
   "execution_count": 17,
   "metadata": {
    "id": "FzTsUr7p7Eu-"
   },
   "outputs": [],
   "source": [
    "# ваш вывод здесь\n",
    "# Да, влияет, но модель все равно не сможет стать лучше. Скорее всего логистическая регрессия не подходит для этой задачи"
   ]
  },
  {
   "cell_type": "markdown",
   "metadata": {
    "id": "BaCqlDx74pns"
   },
   "source": [
    "Ответьте развёрнуто на следующие вопросы:\n",
    "\n",
    "* Удалось ли при помощи логистической регрессии и подбора порога превзойти качество метода ближайших соседей в этой задаче? \n",
    "\n",
    "* Смогли ли мы при помощи этой модели получить высокий recall при ограничениях, поставленных заказчиком?\n"
   ]
  },
  {
   "cell_type": "markdown",
   "metadata": {
    "id": "upznWo7n4o0F"
   },
   "source": [
    "# ваш вывод здесь\n",
    "При помощи логистической регрессии и подбора порога удалось превзойти качество метода ближайших соседей в этой задаче. Но желаемого результата мы не добились. Хоть и метрики стали в разы лучше, но модель не может хорошо предсказывать"
   ]
  },
  {
   "cell_type": "markdown",
   "metadata": {},
   "source": [
    "Да, мы смогли при помощи этой модели получить высокий recall при ограничениях, поставленных заказчиком. Но это больше походит на самообман по вышеописанным причинам"
   ]
  }
 ],
 "metadata": {
  "colab": {
   "collapsed_sections": [],
   "provenance": []
  },
  "kernelspec": {
   "display_name": "Python 3 (ipykernel)",
   "language": "python",
   "name": "python3"
  },
  "language_info": {
   "codemirror_mode": {
    "name": "ipython",
    "version": 3
   },
   "file_extension": ".py",
   "mimetype": "text/x-python",
   "name": "python",
   "nbconvert_exporter": "python",
   "pygments_lexer": "ipython3",
   "version": "3.11.5"
  }
 },
 "nbformat": 4,
 "nbformat_minor": 1
}
